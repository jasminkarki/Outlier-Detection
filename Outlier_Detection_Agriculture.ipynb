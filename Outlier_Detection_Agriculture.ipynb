{
  "nbformat": 4,
  "nbformat_minor": 0,
  "metadata": {
    "colab": {
      "name": "Outlier_Detection_Agriculture.ipynb",
      "provenance": []
    },
    "kernelspec": {
      "name": "python3",
      "display_name": "Python 3"
    }
  },
  "cells": [
    {
      "cell_type": "code",
      "metadata": {
        "id": "JgIX_qtL3KFL",
        "colab_type": "code",
        "colab": {}
      },
      "source": [
        "import pandas as pd\n",
        "import numpy as np\n",
        "import matplotlib.pyplot as plt\n",
        "import time\n",
        "import seaborn as sns\n",
        "from sklearn.datasets import make_blobs\n",
        "import plotly.express as px\n",
        "\n",
        "# np.random.seed(27)"
      ],
      "execution_count": 0,
      "outputs": []
    },
    {
      "cell_type": "code",
      "metadata": {
        "id": "xizJEEiCXc1e",
        "colab_type": "code",
        "colab": {
          "base_uri": "https://localhost:8080/",
          "height": 124
        },
        "outputId": "b80dae6d-3ba3-43b3-dba4-c9ed370afc80"
      },
      "source": [
        "from google.colab import drive\n",
        "drive.mount('/content/drive/')"
      ],
      "execution_count": 2,
      "outputs": [
        {
          "output_type": "stream",
          "text": [
            "Go to this URL in a browser: https://accounts.google.com/o/oauth2/auth?client_id=947318989803-6bn6qk8qdgf4n4g3pfee6491hc0brc4i.apps.googleusercontent.com&redirect_uri=urn%3aietf%3awg%3aoauth%3a2.0%3aoob&response_type=code&scope=email%20https%3a%2f%2fwww.googleapis.com%2fauth%2fdocs.test%20https%3a%2f%2fwww.googleapis.com%2fauth%2fdrive%20https%3a%2f%2fwww.googleapis.com%2fauth%2fdrive.photos.readonly%20https%3a%2f%2fwww.googleapis.com%2fauth%2fpeopleapi.readonly\n",
            "\n",
            "Enter your authorization code:\n",
            "··········\n",
            "Mounted at /content/drive/\n"
          ],
          "name": "stdout"
        }
      ]
    },
    {
      "cell_type": "code",
      "metadata": {
        "id": "h50TwxUKadnt",
        "colab_type": "code",
        "colab": {}
      },
      "source": [
        "meat_df=pd.read_csv('/content/drive/My Drive/Colab Notebooks/net-meat-production-in-nepal-by-district-.csv')\n",
        "egg_df=pd.read_csv('/content/drive/My Drive/Colab Notebooks/production-of-egg-in-nepal-by-district.csv')"
      ],
      "execution_count": 0,
      "outputs": []
    },
    {
      "cell_type": "code",
      "metadata": {
        "id": "D-hQ_8bKaotc",
        "colab_type": "code",
        "colab": {}
      },
      "source": [
        "drop_list=['MOUNTAIN','HILLS','TERAI','REGION','NEPAL']\n",
        "\n",
        "def remove_nondistrict(df,drop_list):\n",
        "    mdf=df[~df['DISTRICT'].map(lambda x: any([l in x for l in drop_list]))]\n",
        "    return mdf\n",
        "\n",
        "mdf=remove_nondistrict(meat_df,drop_list)\n",
        "edf=remove_nondistrict(egg_df,drop_list)\n"
      ],
      "execution_count": 0,
      "outputs": []
    },
    {
      "cell_type": "code",
      "metadata": {
        "id": "_fvvWLsea9mU",
        "colab_type": "code",
        "colab": {
          "base_uri": "https://localhost:8080/",
          "height": 141
        },
        "outputId": "dce2e675-02b2-4822-8d6d-f7703e5c34f1"
      },
      "source": [
        "mdf['DISTRICT']=mdf['DISTRICT'].map(lambda x: 'SANKHUWASHAVA' if x=='SANKHUWASABHA' else x)"
      ],
      "execution_count": 7,
      "outputs": [
        {
          "output_type": "stream",
          "text": [
            "/usr/local/lib/python3.6/dist-packages/ipykernel_launcher.py:1: SettingWithCopyWarning: \n",
            "A value is trying to be set on a copy of a slice from a DataFrame.\n",
            "Try using .loc[row_indexer,col_indexer] = value instead\n",
            "\n",
            "See the caveats in the documentation: https://pandas.pydata.org/pandas-docs/stable/user_guide/indexing.html#returning-a-view-versus-a-copy\n",
            "  \"\"\"Entry point for launching an IPython kernel.\n"
          ],
          "name": "stderr"
        }
      ]
    },
    {
      "cell_type": "code",
      "metadata": {
        "id": "msVxjyX1a1V-",
        "colab_type": "code",
        "colab": {}
      },
      "source": [
        "me_df=pd.merge(mdf,edf,on='DISTRICT',how='inner')"
      ],
      "execution_count": 0,
      "outputs": []
    },
    {
      "cell_type": "code",
      "metadata": {
        "id": "Nk-WDJKQa-UZ",
        "colab_type": "code",
        "colab": {
          "base_uri": "https://localhost:8080/",
          "height": 347
        },
        "outputId": "420ece03-b779-4690-8eca-eb716085ccf8"
      },
      "source": [
        "corr=mdf.drop(columns=['TOTAL MEAT']).corr()\n",
        "sns.heatmap(corr, cmap='coolwarm',annot = True,\n",
        "        xticklabels=corr.columns,\n",
        "        yticklabels=corr.columns)\n",
        "plt.title('Correlation Heatmap Meat Dataset')"
      ],
      "execution_count": 12,
      "outputs": [
        {
          "output_type": "execute_result",
          "data": {
            "text/plain": [
              "Text(0.5, 1.0, 'Correlation Heatmap Meat Dataset')"
            ]
          },
          "metadata": {
            "tags": []
          },
          "execution_count": 12
        },
        {
          "output_type": "display_data",
          "data": {
            "image/png": "[encoded data removed]",
            "text/plain": [
              "<Figure size 432x288 with 2 Axes>"
            ]
          },
          "metadata": {
            "tags": [],
            "needs_background": "light"
          }
        }
      ]
    },
    {
      "cell_type": "code",
      "metadata": {
        "id": "FkEKj6UwbGcV",
        "colab_type": "code",
        "colab": {}
      },
      "source": [
        "columns_drop=['TOTAL MEAT','TOTAL EGG','LAYING DUCK','LAYING HEN','DUCK MEAT']\n",
        "me_df=me_df.drop(columns=columns_drop)"
      ],
      "execution_count": 0,
      "outputs": []
    },
    {
      "cell_type": "code",
      "metadata": {
        "id": "x_2cMArKbSqi",
        "colab_type": "code",
        "colab": {}
      },
      "source": [
        ""
      ],
      "execution_count": 0,
      "outputs": []
    },
    {
      "cell_type": "markdown",
      "metadata": {
        "id": "56YB8IWBbWFN",
        "colab_type": "text"
      },
      "source": [
        "## Standarization"
      ]
    },
    {
      "cell_type": "code",
      "metadata": {
        "id": "prEia2OjbZan",
        "colab_type": "code",
        "colab": {}
      },
      "source": [
        "from sklearn.preprocessing import StandardScaler"
      ],
      "execution_count": 0,
      "outputs": []
    },
    {
      "cell_type": "code",
      "metadata": {
        "id": "9KmFp59lbaZL",
        "colab_type": "code",
        "colab": {
          "base_uri": "https://localhost:8080/",
          "height": 34
        },
        "outputId": "46084e3a-704e-45d4-fbc2-95317dd62f26"
      },
      "source": [
        "scaler=StandardScaler()\n",
        "X=me_df.drop(columns=['DISTRICT'])\n",
        "scaler.fit(X)\n",
        "scaled_data=scaler.transform(X)\n",
        "scaled_data.shape"
      ],
      "execution_count": 15,
      "outputs": [
        {
          "output_type": "execute_result",
          "data": {
            "text/plain": [
              "(75, 7)"
            ]
          },
          "metadata": {
            "tags": []
          },
          "execution_count": 15
        }
      ]
    },
    {
      "cell_type": "code",
      "metadata": {
        "id": "GEFo_Vc-bbvm",
        "colab_type": "code",
        "colab": {}
      },
      "source": [
        "from sklearn.decomposition import PCA\n",
        "pca = PCA(n_components=3, random_state=1)\n",
        "pca =pca.fit(scaled_data)\n",
        "scaled_transformed=pca.transform(scaled_data)\n",
        "\n",
        "scaled_transformed_df=pd.DataFrame(scaled_transformed)\n",
        "scaled_transformed_df.columns=['Feature 1','Feature 2','Feature 3']\n",
        "\n",
        "colors = ['purple', 'maroon', 'green', 'yellow', 'skyblue', 'deeppink',  'red', 'black']\n",
        "vectorizer = np.vectorize(lambda x: colors[x % len(colors)])"
      ],
      "execution_count": 0,
      "outputs": []
    },
    {
      "cell_type": "code",
      "metadata": {
        "id": "-2MxeJmocAzS",
        "colab_type": "code",
        "colab": {}
      },
      "source": [
        "plot_data=pd.DataFrame(scaled_transformed, columns=['Feature 1','Feature 2','Feature 3'])\n",
        "plot_data['DISTRICT'] = me_df['DISTRICT'].tolist()"
      ],
      "execution_count": 0,
      "outputs": []
    },
    {
      "cell_type": "code",
      "metadata": {
        "id": "erZe1422cFZ8",
        "colab_type": "code",
        "colab": {
          "base_uri": "https://localhost:8080/",
          "height": 424
        },
        "outputId": "18e15aa7-2f31-4bcb-fa57-5a587c185054"
      },
      "source": [
        "plot_data"
      ],
      "execution_count": 40,
      "outputs": [
        {
          "output_type": "execute_result",
          "data": {
            "text/html": [
              "<div>\n",
              "<style scoped>\n",
              "    .dataframe tbody tr th:only-of-type {\n",
              "        vertical-align: middle;\n",
              "    }\n",
              "\n",
              "    .dataframe tbody tr th {\n",
              "        vertical-align: top;\n",
              "    }\n",
              "\n",
              "    .dataframe thead th {\n",
              "        text-align: right;\n",
              "    }\n",
              "</style>\n",
              "<table border=\"1\" class=\"dataframe\">\n",
              "  <thead>\n",
              "    <tr style=\"text-align: right;\">\n",
              "      <th></th>\n",
              "      <th>Feature 1</th>\n",
              "      <th>Feature 2</th>\n",
              "      <th>Feature 3</th>\n",
              "      <th>DISTRICT</th>\n",
              "    </tr>\n",
              "  </thead>\n",
              "  <tbody>\n",
              "    <tr>\n",
              "      <th>0</th>\n",
              "      <td>-1.184252</td>\n",
              "      <td>0.041872</td>\n",
              "      <td>-0.400079</td>\n",
              "      <td>TAPLEJUNG</td>\n",
              "    </tr>\n",
              "    <tr>\n",
              "      <th>1</th>\n",
              "      <td>-0.372077</td>\n",
              "      <td>-0.212818</td>\n",
              "      <td>0.105649</td>\n",
              "      <td>SANKHUWASHAVA</td>\n",
              "    </tr>\n",
              "    <tr>\n",
              "      <th>2</th>\n",
              "      <td>-1.074595</td>\n",
              "      <td>-0.006867</td>\n",
              "      <td>-0.454869</td>\n",
              "      <td>SOLUKHUMBU</td>\n",
              "    </tr>\n",
              "    <tr>\n",
              "      <th>3</th>\n",
              "      <td>-0.047821</td>\n",
              "      <td>-0.596819</td>\n",
              "      <td>-0.695661</td>\n",
              "      <td>PANCHTHAR</td>\n",
              "    </tr>\n",
              "    <tr>\n",
              "      <th>4</th>\n",
              "      <td>-0.326281</td>\n",
              "      <td>-0.434229</td>\n",
              "      <td>-0.830870</td>\n",
              "      <td>ILLAM</td>\n",
              "    </tr>\n",
              "    <tr>\n",
              "      <th>...</th>\n",
              "      <td>...</td>\n",
              "      <td>...</td>\n",
              "      <td>...</td>\n",
              "      <td>...</td>\n",
              "    </tr>\n",
              "    <tr>\n",
              "      <th>70</th>\n",
              "      <td>-0.949357</td>\n",
              "      <td>-0.055440</td>\n",
              "      <td>-0.964370</td>\n",
              "      <td>DOTI</td>\n",
              "    </tr>\n",
              "    <tr>\n",
              "      <th>71</th>\n",
              "      <td>-1.085456</td>\n",
              "      <td>-0.078738</td>\n",
              "      <td>-1.019704</td>\n",
              "      <td>BAITADI</td>\n",
              "    </tr>\n",
              "    <tr>\n",
              "      <th>72</th>\n",
              "      <td>-1.191189</td>\n",
              "      <td>-0.016251</td>\n",
              "      <td>-1.039056</td>\n",
              "      <td>DADELDHURA</td>\n",
              "    </tr>\n",
              "    <tr>\n",
              "      <th>73</th>\n",
              "      <td>1.978032</td>\n",
              "      <td>-0.550976</td>\n",
              "      <td>1.404968</td>\n",
              "      <td>KAILALI</td>\n",
              "    </tr>\n",
              "    <tr>\n",
              "      <th>74</th>\n",
              "      <td>0.623577</td>\n",
              "      <td>-0.139921</td>\n",
              "      <td>-0.095878</td>\n",
              "      <td>KANCHANPUR</td>\n",
              "    </tr>\n",
              "  </tbody>\n",
              "</table>\n",
              "<p>75 rows × 4 columns</p>\n",
              "</div>"
            ],
            "text/plain": [
              "    Feature 1  Feature 2  Feature 3       DISTRICT\n",
              "0   -1.184252   0.041872  -0.400079      TAPLEJUNG\n",
              "1   -0.372077  -0.212818   0.105649  SANKHUWASHAVA\n",
              "2   -1.074595  -0.006867  -0.454869     SOLUKHUMBU\n",
              "3   -0.047821  -0.596819  -0.695661      PANCHTHAR\n",
              "4   -0.326281  -0.434229  -0.830870          ILLAM\n",
              "..        ...        ...        ...            ...\n",
              "70  -0.949357  -0.055440  -0.964370           DOTI\n",
              "71  -1.085456  -0.078738  -1.019704        BAITADI\n",
              "72  -1.191189  -0.016251  -1.039056     DADELDHURA\n",
              "73   1.978032  -0.550976   1.404968        KAILALI\n",
              "74   0.623577  -0.139921  -0.095878     KANCHANPUR\n",
              "\n",
              "[75 rows x 4 columns]"
            ]
          },
          "metadata": {
            "tags": []
          },
          "execution_count": 40
        }
      ]
    },
    {
      "cell_type": "code",
      "metadata": {
        "id": "vZGeotuibvFz",
        "colab_type": "code",
        "colab": {
          "base_uri": "https://localhost:8080/",
          "height": 637
        },
        "outputId": "8b2d3e7f-62e5-45ee-b13d-52f0a4278c78"
      },
      "source": [
        "fig=px.scatter(plot_data, x= 'Feature 1',y='Feature 2',hover_data=['DISTRICT'],width=800, height=600)\n",
        "fig.update_layout(\n",
        "    title=\"Clusters by DBSCAN on Agriculture Dataset\",\n",
        "    xaxis_title=\"Feature 1\",\n",
        "    yaxis_title=\"Feature 2\",\n",
        "    font=dict(\n",
        "        family=\"Courier New, monospace\",\n",
        "        size=12,\n",
        "        color=\"#7f7f7f\"\n",
        "    )\n",
        ")\n",
        "fig.show()"
      ],
      "execution_count": 41,
      "outputs": [
        {
          "output_type": "display_data",
          "data": {
            "text/html": [
              "<html>\n",
              "<head><meta charset=\"utf-8\" /></head>\n",
              "<body>\n",
              "    <div>\n",
              "            <script src=\"https://cdnjs.cloudflare.com/ajax/libs/mathjax/2.7.5/MathJax.js?config=TeX-AMS-MML_SVG\"></script><script type=\"text/javascript\">if (window.MathJax) {MathJax.Hub.Config({SVG: {font: \"STIX-Web\"}});}</script>\n",
              "                <script type=\"text/javascript\">window.PlotlyConfig = {MathJaxConfig: 'local'};</script>\n",
              "        <script src=\"https://cdn.plot.ly/plotly-latest.min.js\"></script>    \n",
              "            <div id=\"700e77bd-731c-404d-b63e-6d124641c74c\" class=\"plotly-graph-div\" style=\"height:600px; width:800px;\"></div>\n",
              "            <script type=\"text/javascript\">\n",
              "                \n",
              "                    window.PLOTLYENV=window.PLOTLYENV || {};\n",
              "                    \n",
              "                if (document.getElementById(\"700e77bd-731c-404d-b63e-6d124641c74c\")) {\n",
              "                    Plotly.newPlot(\n",
              "                        '700e77bd-731c-404d-b63e-6d124641c74c',\n",
              "                        [{\"customdata\": [[\"TAPLEJUNG\"], [\"SANKHUWASHAVA\"], [\"SOLUKHUMBU\"], [\"PANCHTHAR\"], [\"ILLAM\"], [\"TERHATHUM\"], [\"DHANKUTA\"], [\"BHOJPUR\"], [\"KHOTANG\"], [\"OKHALDHUNGA\"], [\"UDAYAPUR\"], [\"JHAPA\"], [\"MORANG\"], [\"SUNSARI\"], [\"SAPTARI\"], [\"SIRAHA\"], [\"DOLAKHA\"], [\"SINDHUPALCHOK\"], [\"RASUWA\"], [\"RAMECHAP\"], [\"SINDHULI\"], [\"KAVRE\"], [\"BHAKTAPUR\"], [\"LALITPUR\"], [\"KATHMANDU\"], [\"NUWAKOT\"], [\"DHADING\"], [\"MAKWANPUR\"], [\"DHANUSHA\"], [\"MAHOTTARI\"], [\"SARLAHI\"], [\"RAUTAHAT\"], [\"BARA\"], [\"PARSA\"], [\"CHITWAN\"], [\"MANANG\"], [\"MUSTANG\"], [\"GORKHA\"], [\"LAMJUNG\"], [\"TANAHU\"], [\"KASKI\"], [\"PARBAT\"], [\"SYANGJA\"], [\"PALPA\"], [\"MYAGDI\"], [\"BAGLUNG\"], [\"GULMI\"], [\"ARGHAKHANCHI\"], [\"NAWALPARASI\"], [\"RUPANDEHI\"], [\"KAPILBASTU\"], [\"DOLPA\"], [\"MUGU\"], [\"HUMLA\"], [\"JUMLA\"], [\"KALIKOT\"], [\"RUKUM\"], [\"ROLPA\"], [\"PYUTHAN\"], [\"SALYAN\"], [\"JAJARKOT\"], [\"DAILEKH\"], [\"SURKHET\"], [\"DANG\"], [\"BANKE\"], [\"BARDIYA\"], [\"BAJURA\"], [\"BAJHANG\"], [\"DARCHULA\"], [\"ACHHAM\"], [\"DOTI\"], [\"BAITADI\"], [\"DADELDHURA\"], [\"KAILALI\"], [\"KANCHANPUR\"]], \"hoverlabel\": {\"namelength\": 0}, \"hovertemplate\": \"Feature 1=%{x}<br>Feature 2=%{y}<br>DISTRICT=%{customdata[0]}\", \"legendgroup\": \"\", \"marker\": {\"color\": \"#636efa\", \"symbol\": \"circle\"}, \"mode\": \"markers\", \"name\": \"\", \"showlegend\": false, \"type\": \"scatter\", \"x\": [-1.1842523624469143, -0.37207737029469723, -1.0745953742881336, -0.04782148005577272, -0.32628107366789033, -0.5950145671101935, -0.6030828977005644, -0.5379549735679925, -0.3942262301243105, -0.3271106352444824, 1.6284955562209598, 2.8996357936135997, 4.812445737288908, 2.7706769186900115, 2.870316404911062, 0.8445838901336908, -0.9734829830840346, -0.0735839678545651, -1.9940432650664601, -0.5486982530838417, 0.16416307512108025, 1.501566938364487, -0.7785765898968234, -0.2972310098811298, 0.7392579611041444, 0.5461167017825576, 0.9968701258820692, 1.0826663880298946, 0.4711292115817187, -0.027163809411365987, 0.3490184672773099, 0.08397113754866313, 1.5344488321912382, -0.0417394264343423, 8.62366264471198, -2.2437063079767143, -2.22495653973393, -0.48599230352740036, -1.1442141798014818, -0.17232934217967996, 1.458137008332729, -0.6591790467258464, 0.2325076776609374, 0.06287782277902276, -0.22388277486882113, -0.8202157032142702, -0.9043881598245436, -0.46818364036667204, 2.234283015469844, 2.6161878051483622, 1.0641134936673717, -2.504918634385366, -2.6888645977531325, -2.5446961156361283, -3.0772600707096744, -2.2538912216985953, -0.6278191593236547, -0.7811058502036423, -1.0825827889246848, -0.34364628383843737, -1.6706309684384257, -1.0092926645160283, 0.6781546741841393, 3.038880665409848, 1.0788298473252382, 1.169041705861473, -1.8920444229606226, -1.7280532263107469, -1.9245574677312216, -1.254298370372701, -0.9493573372988782, -1.0854558474503568, -1.1911889554078063, 1.9780318583824388, 0.623576891718201], \"xaxis\": \"x\", \"y\": [0.04187208709068749, -0.21281812556699356, -0.0068669152996674145, -0.5968188071840502, -0.43422921528963115, -0.2647367460275124, -0.22192788950665018, -0.28926616694576895, -0.26973081522017095, -0.37400536620890656, -0.5714841351557802, -1.1991515272169702, -3.3752859613999338, -1.617596252400012, -1.8718205371414545, -0.5335956646503166, 0.11128492851912555, -0.02897655402944136, 0.4327519453451943, -0.10839105108947425, -0.35032964153337576, 0.15691054900450596, 0.6250270772791401, 1.0809578090912657, 0.8760241924710946, 0.27663576611488605, 0.8891915829183537, 1.1786772587137868, -0.6762055268899119, -0.3293585482606595, -0.49053618389342074, -0.5021562520087536, -1.193275252190142, -0.42287587904377033, 7.4245458938125495, 0.5122675999810182, 0.5384422430461407, 0.4205327150705172, 0.49750836664615794, -0.181877274952684, 0.45666896879998103, -0.4258846868193712, -0.44664520556500514, -0.4475220948867664, -0.4297810944160251, -0.03307111518210254, 0.052593434147293845, -0.058337162753157715, -0.7184337331516498, -1.3962521910205257, -1.122652859205755, 1.001001041569358, 1.2629108427949138, 0.9732416787287443, 1.7570739838006944, 0.872170679501627, -0.1256934692962158, -0.007824839071100948, 0.3838364576721653, -0.09407425397009367, 0.6257789039084333, 0.2232764796499756, -0.48866638534491724, -0.32709789170359005, -0.5578062940132777, -0.7908724693150808, 0.5499043965985206, 0.5644387824952393, 0.5822640601038468, 0.06746800336917207, -0.05543953885537818, -0.07873782939834804, -0.01625094192138679, -0.5509761918170112, -0.13992119143217815], \"yaxis\": \"y\"}],\n",
              "                        {\"font\": {\"color\": \"#7f7f7f\", \"family\": \"Courier New, monospace\", \"size\": 12}, \"height\": 600, \"legend\": {\"tracegroupgap\": 0}, \"margin\": {\"t\": 60}, \"template\": {\"data\": {\"bar\": [{\"error_x\": {\"color\": \"#2a3f5f\"}, \"error_y\": {\"color\": \"#2a3f5f\"}, \"marker\": {\"line\": {\"color\": \"#E5ECF6\", \"width\": 0.5}}, \"type\": \"bar\"}], \"barpolar\": [{\"marker\": {\"line\": {\"color\": \"#E5ECF6\", \"width\": 0.5}}, \"type\": \"barpolar\"}], \"carpet\": [{\"aaxis\": {\"endlinecolor\": \"#2a3f5f\", \"gridcolor\": \"white\", \"linecolor\": \"white\", \"minorgridcolor\": \"white\", \"startlinecolor\": \"#2a3f5f\"}, \"baxis\": {\"endlinecolor\": \"#2a3f5f\", \"gridcolor\": \"white\", \"linecolor\": \"white\", \"minorgridcolor\": \"white\", \"startlinecolor\": \"#2a3f5f\"}, \"type\": \"carpet\"}], \"choropleth\": [{\"colorbar\": {\"outlinewidth\": 0, \"ticks\": \"\"}, \"type\": \"choropleth\"}], \"contour\": [{\"colorbar\": {\"outlinewidth\": 0, \"ticks\": \"\"}, \"colorscale\": [[0.0, \"#0d0887\"], [0.1111111111111111, \"#46039f\"], [0.2222222222222222, \"#7201a8\"], [0.3333333333333333, \"#9c179e\"], [0.4444444444444444, \"#bd3786\"], [0.5555555555555556, \"#d8576b\"], [0.6666666666666666, \"#ed7953\"], [0.7777777777777778, \"#fb9f3a\"], [0.8888888888888888, \"#fdca26\"], [1.0, \"#f0f921\"]], \"type\": \"contour\"}], \"contourcarpet\": [{\"colorbar\": {\"outlinewidth\": 0, \"ticks\": \"\"}, \"type\": \"contourcarpet\"}], \"heatmap\": [{\"colorbar\": {\"outlinewidth\": 0, \"ticks\": \"\"}, \"colorscale\": [[0.0, \"#0d0887\"], [0.1111111111111111, \"#46039f\"], [0.2222222222222222, \"#7201a8\"], [0.3333333333333333, \"#9c179e\"], [0.4444444444444444, \"#bd3786\"], [0.5555555555555556, \"#d8576b\"], [0.6666666666666666, \"#ed7953\"], [0.7777777777777778, \"#fb9f3a\"], [0.8888888888888888, \"#fdca26\"], [1.0, \"#f0f921\"]], \"type\": \"heatmap\"}], \"heatmapgl\": [{\"colorbar\": {\"outlinewidth\": 0, \"ticks\": \"\"}, \"colorscale\": [[0.0, \"#0d0887\"], [0.1111111111111111, \"#46039f\"], [0.2222222222222222, \"#7201a8\"], [0.3333333333333333, \"#9c179e\"], [0.4444444444444444, \"#bd3786\"], [0.5555555555555556, \"#d8576b\"], [0.6666666666666666, \"#ed7953\"], [0.7777777777777778, \"#fb9f3a\"], [0.8888888888888888, \"#fdca26\"], [1.0, \"#f0f921\"]], \"type\": \"heatmapgl\"}], \"histogram\": [{\"marker\": {\"colorbar\": {\"outlinewidth\": 0, \"ticks\": \"\"}}, \"type\": \"histogram\"}], \"histogram2d\": [{\"colorbar\": {\"outlinewidth\": 0, \"ticks\": \"\"}, \"colorscale\": [[0.0, \"#0d0887\"], [0.1111111111111111, \"#46039f\"], [0.2222222222222222, \"#7201a8\"], [0.3333333333333333, \"#9c179e\"], [0.4444444444444444, \"#bd3786\"], [0.5555555555555556, \"#d8576b\"], [0.6666666666666666, \"#ed7953\"], [0.7777777777777778, \"#fb9f3a\"], [0.8888888888888888, \"#fdca26\"], [1.0, \"#f0f921\"]], \"type\": \"histogram2d\"}], \"histogram2dcontour\": [{\"colorbar\": {\"outlinewidth\": 0, \"ticks\": \"\"}, \"colorscale\": [[0.0, \"#0d0887\"], [0.1111111111111111, \"#46039f\"], [0.2222222222222222, \"#7201a8\"], [0.3333333333333333, \"#9c179e\"], [0.4444444444444444, \"#bd3786\"], [0.5555555555555556, \"#d8576b\"], [0.6666666666666666, \"#ed7953\"], [0.7777777777777778, \"#fb9f3a\"], [0.8888888888888888, \"#fdca26\"], [1.0, \"#f0f921\"]], \"type\": \"histogram2dcontour\"}], \"mesh3d\": [{\"colorbar\": {\"outlinewidth\": 0, \"ticks\": \"\"}, \"type\": \"mesh3d\"}], \"parcoords\": [{\"line\": {\"colorbar\": {\"outlinewidth\": 0, \"ticks\": \"\"}}, \"type\": \"parcoords\"}], \"pie\": [{\"automargin\": true, \"type\": \"pie\"}], \"scatter\": [{\"marker\": {\"colorbar\": {\"outlinewidth\": 0, \"ticks\": \"\"}}, \"type\": \"scatter\"}], \"scatter3d\": [{\"line\": {\"colorbar\": {\"outlinewidth\": 0, \"ticks\": \"\"}}, \"marker\": {\"colorbar\": {\"outlinewidth\": 0, \"ticks\": \"\"}}, \"type\": \"scatter3d\"}], \"scattercarpet\": [{\"marker\": {\"colorbar\": {\"outlinewidth\": 0, \"ticks\": \"\"}}, \"type\": \"scattercarpet\"}], \"scattergeo\": [{\"marker\": {\"colorbar\": {\"outlinewidth\": 0, \"ticks\": \"\"}}, \"type\": \"scattergeo\"}], \"scattergl\": [{\"marker\": {\"colorbar\": {\"outlinewidth\": 0, \"ticks\": \"\"}}, \"type\": \"scattergl\"}], \"scattermapbox\": [{\"marker\": {\"colorbar\": {\"outlinewidth\": 0, \"ticks\": \"\"}}, \"type\": \"scattermapbox\"}], \"scatterpolar\": [{\"marker\": {\"colorbar\": {\"outlinewidth\": 0, \"ticks\": \"\"}}, \"type\": \"scatterpolar\"}], \"scatterpolargl\": [{\"marker\": {\"colorbar\": {\"outlinewidth\": 0, \"ticks\": \"\"}}, \"type\": \"scatterpolargl\"}], \"scatterternary\": [{\"marker\": {\"colorbar\": {\"outlinewidth\": 0, \"ticks\": \"\"}}, \"type\": \"scatterternary\"}], \"surface\": [{\"colorbar\": {\"outlinewidth\": 0, \"ticks\": \"\"}, \"colorscale\": [[0.0, \"#0d0887\"], [0.1111111111111111, \"#46039f\"], [0.2222222222222222, \"#7201a8\"], [0.3333333333333333, \"#9c179e\"], [0.4444444444444444, \"#bd3786\"], [0.5555555555555556, \"#d8576b\"], [0.6666666666666666, \"#ed7953\"], [0.7777777777777778, \"#fb9f3a\"], [0.8888888888888888, \"#fdca26\"], [1.0, \"#f0f921\"]], \"type\": \"surface\"}], \"table\": [{\"cells\": {\"fill\": {\"color\": \"#EBF0F8\"}, \"line\": {\"color\": \"white\"}}, \"header\": {\"fill\": {\"color\": \"#C8D4E3\"}, \"line\": {\"color\": \"white\"}}, \"type\": \"table\"}]}, \"layout\": {\"annotationdefaults\": {\"arrowcolor\": \"#2a3f5f\", \"arrowhead\": 0, \"arrowwidth\": 1}, \"coloraxis\": {\"colorbar\": {\"outlinewidth\": 0, \"ticks\": \"\"}}, \"colorscale\": {\"diverging\": [[0, \"#8e0152\"], [0.1, \"#c51b7d\"], [0.2, \"#de77ae\"], [0.3, \"#f1b6da\"], [0.4, \"#fde0ef\"], [0.5, \"#f7f7f7\"], [0.6, \"#e6f5d0\"], [0.7, \"#b8e186\"], [0.8, \"#7fbc41\"], [0.9, \"#4d9221\"], [1, \"#276419\"]], \"sequential\": [[0.0, \"#0d0887\"], [0.1111111111111111, \"#46039f\"], [0.2222222222222222, \"#7201a8\"], [0.3333333333333333, \"#9c179e\"], [0.4444444444444444, \"#bd3786\"], [0.5555555555555556, \"#d8576b\"], [0.6666666666666666, \"#ed7953\"], [0.7777777777777778, \"#fb9f3a\"], [0.8888888888888888, \"#fdca26\"], [1.0, \"#f0f921\"]], \"sequentialminus\": [[0.0, \"#0d0887\"], [0.1111111111111111, \"#46039f\"], [0.2222222222222222, \"#7201a8\"], [0.3333333333333333, \"#9c179e\"], [0.4444444444444444, \"#bd3786\"], [0.5555555555555556, \"#d8576b\"], [0.6666666666666666, \"#ed7953\"], [0.7777777777777778, \"#fb9f3a\"], [0.8888888888888888, \"#fdca26\"], [1.0, \"#f0f921\"]]}, \"colorway\": [\"#636efa\", \"#EF553B\", \"#00cc96\", \"#ab63fa\", \"#FFA15A\", \"#19d3f3\", \"#FF6692\", \"#B6E880\", \"#FF97FF\", \"#FECB52\"], \"font\": {\"color\": \"#2a3f5f\"}, \"geo\": {\"bgcolor\": \"white\", \"lakecolor\": \"white\", \"landcolor\": \"#E5ECF6\", \"showlakes\": true, \"showland\": true, \"subunitcolor\": \"white\"}, \"hoverlabel\": {\"align\": \"left\"}, \"hovermode\": \"closest\", \"mapbox\": {\"style\": \"light\"}, \"paper_bgcolor\": \"white\", \"plot_bgcolor\": \"#E5ECF6\", \"polar\": {\"angularaxis\": {\"gridcolor\": \"white\", \"linecolor\": \"white\", \"ticks\": \"\"}, \"bgcolor\": \"#E5ECF6\", \"radialaxis\": {\"gridcolor\": \"white\", \"linecolor\": \"white\", \"ticks\": \"\"}}, \"scene\": {\"xaxis\": {\"backgroundcolor\": \"#E5ECF6\", \"gridcolor\": \"white\", \"gridwidth\": 2, \"linecolor\": \"white\", \"showbackground\": true, \"ticks\": \"\", \"zerolinecolor\": \"white\"}, \"yaxis\": {\"backgroundcolor\": \"#E5ECF6\", \"gridcolor\": \"white\", \"gridwidth\": 2, \"linecolor\": \"white\", \"showbackground\": true, \"ticks\": \"\", \"zerolinecolor\": \"white\"}, \"zaxis\": {\"backgroundcolor\": \"#E5ECF6\", \"gridcolor\": \"white\", \"gridwidth\": 2, \"linecolor\": \"white\", \"showbackground\": true, \"ticks\": \"\", \"zerolinecolor\": \"white\"}}, \"shapedefaults\": {\"line\": {\"color\": \"#2a3f5f\"}}, \"ternary\": {\"aaxis\": {\"gridcolor\": \"white\", \"linecolor\": \"white\", \"ticks\": \"\"}, \"baxis\": {\"gridcolor\": \"white\", \"linecolor\": \"white\", \"ticks\": \"\"}, \"bgcolor\": \"#E5ECF6\", \"caxis\": {\"gridcolor\": \"white\", \"linecolor\": \"white\", \"ticks\": \"\"}}, \"title\": {\"x\": 0.05}, \"xaxis\": {\"automargin\": true, \"gridcolor\": \"white\", \"linecolor\": \"white\", \"ticks\": \"\", \"title\": {\"standoff\": 15}, \"zerolinecolor\": \"white\", \"zerolinewidth\": 2}, \"yaxis\": {\"automargin\": true, \"gridcolor\": \"white\", \"linecolor\": \"white\", \"ticks\": \"\", \"title\": {\"standoff\": 15}, \"zerolinecolor\": \"white\", \"zerolinewidth\": 2}}}, \"title\": {\"text\": \"Clusters by DBSCAN on Agriculture Dataset\"}, \"width\": 800, \"xaxis\": {\"anchor\": \"y\", \"domain\": [0.0, 1.0], \"title\": {\"text\": \"Feature 1\"}}, \"yaxis\": {\"anchor\": \"x\", \"domain\": [0.0, 1.0], \"title\": {\"text\": \"Feature 2\"}}},\n",
              "                        {\"responsive\": true}\n",
              "                    ).then(function(){\n",
              "                            \n",
              "var gd = document.getElementById('700e77bd-731c-404d-b63e-6d124641c74c');\n",
              "var x = new MutationObserver(function (mutations, observer) {{\n",
              "        var display = window.getComputedStyle(gd).display;\n",
              "        if (!display || display === 'none') {{\n",
              "            console.log([gd, 'removed!']);\n",
              "            Plotly.purge(gd);\n",
              "            observer.disconnect();\n",
              "        }}\n",
              "}});\n",
              "\n",
              "// Listen for the removal of the full notebook cells\n",
              "var notebookContainer = gd.closest('#notebook-container');\n",
              "if (notebookContainer) {{\n",
              "    x.observe(notebookContainer, {childList: true});\n",
              "}}\n",
              "\n",
              "// Listen for the clearing of the current output cell\n",
              "var outputEl = gd.closest('.output');\n",
              "if (outputEl) {{\n",
              "    x.observe(outputEl, {childList: true});\n",
              "}}\n",
              "\n",
              "                        })\n",
              "                };\n",
              "                \n",
              "            </script>\n",
              "        </div>\n",
              "</body>\n",
              "</html>"
            ]
          },
          "metadata": {
            "tags": []
          }
        }
      ]
    },
    {
      "cell_type": "code",
      "metadata": {
        "id": "sORTrjqQb4Ug",
        "colab_type": "code",
        "colab": {}
      },
      "source": [
        "from sklearn import svm\n",
        "from sklearn.covariance import EllipticEnvelope\n",
        "from sklearn.ensemble import IsolationForest\n",
        "from sklearn.neighbors import LocalOutlierFactor"
      ],
      "execution_count": 0,
      "outputs": []
    },
    {
      "cell_type": "markdown",
      "metadata": {
        "id": "UeNSCaGRclYz",
        "colab_type": "text"
      },
      "source": [
        "### **Elliptic Envelope**"
      ]
    },
    {
      "cell_type": "code",
      "metadata": {
        "id": "7PJvccszdQk0",
        "colab_type": "code",
        "colab": {}
      },
      "source": [
        "# plot_data=plot_data[['Feature 1','Feature 2']]\n",
        "plt_data=plot_data.iloc[:,0:2]"
      ],
      "execution_count": 0,
      "outputs": []
    },
    {
      "cell_type": "code",
      "metadata": {
        "id": "8aR4MDnFcimD",
        "colab_type": "code",
        "colab": {}
      },
      "source": [
        "elip_env = EllipticEnvelope(random_state=0)\n",
        "elip_env.fit(plt_data)\n",
        "y_pred=elip_env.predict(plt_data)\n",
        "# predict returns 1 for an inlier and -1 for an outlier"
      ],
      "execution_count": 0,
      "outputs": []
    },
    {
      "cell_type": "code",
      "metadata": {
        "id": "dgAQyofVcyt1",
        "colab_type": "code",
        "colab": {
          "base_uri": "https://localhost:8080/",
          "height": 104
        },
        "outputId": "42a9a57e-ab0d-4437-bacf-86f7df742799"
      },
      "source": [
        "y_pred"
      ],
      "execution_count": 55,
      "outputs": [
        {
          "output_type": "execute_result",
          "data": {
            "text/plain": [
              "array([ 1,  1,  1,  1,  1,  1,  1,  1,  1,  1,  1,  1, -1,  1,  1,  1,  1,\n",
              "        1,  1,  1,  1,  1,  1, -1, -1,  1, -1, -1,  1,  1,  1,  1,  1,  1,\n",
              "       -1,  1,  1,  1,  1,  1,  1,  1,  1,  1,  1,  1,  1,  1,  1,  1,  1,\n",
              "        1,  1,  1, -1,  1,  1,  1,  1,  1,  1,  1,  1, -1,  1,  1,  1,  1,\n",
              "        1,  1,  1,  1,  1,  1,  1])"
            ]
          },
          "metadata": {
            "tags": []
          },
          "execution_count": 55
        }
      ]
    },
    {
      "cell_type": "code",
      "metadata": {
        "id": "nCDKfE_meRIK",
        "colab_type": "code",
        "colab": {
          "base_uri": "https://localhost:8080/",
          "height": 637
        },
        "outputId": "836a11d7-abd9-45cb-e04d-76dd88898960"
      },
      "source": [
        "colors=np.array(['red','green'])\n",
        "fig=px.scatter(plot_data, x= 'Feature 1',y='Feature 2',color=colors[(y_pred+1)//2],hover_data=['DISTRICT'],width=800, height=600)\n",
        "fig.update_layout(\n",
        "    title=\"Outliers by Eliptic Envelope on Agriculture Dataset\",\n",
        "    xaxis_title=\"Feature 1\",\n",
        "    yaxis_title=\"Feature 2\",\n",
        "    font=dict(\n",
        "        family=\"Courier New, monospace\",\n",
        "        size=12,\n",
        "        color=\"#7f7f7f\"\n",
        "    )\n",
        ")\n",
        "fig.show()"
      ],
      "execution_count": 56,
      "outputs": [
        {
          "output_type": "display_data",
          "data": {
            "text/html": [
              "<html>\n",
              "<head><meta charset=\"utf-8\" /></head>\n",
              "<body>\n",
              "    <div>\n",
              "            <script src=\"https://cdnjs.cloudflare.com/ajax/libs/mathjax/2.7.5/MathJax.js?config=TeX-AMS-MML_SVG\"></script><script type=\"text/javascript\">if (window.MathJax) {MathJax.Hub.Config({SVG: {font: \"STIX-Web\"}});}</script>\n",
              "                <script type=\"text/javascript\">window.PlotlyConfig = {MathJaxConfig: 'local'};</script>\n",
              "        <script src=\"https://cdn.plot.ly/plotly-latest.min.js\"></script>    \n",
              "            <div id=\"cc4232d3-6898-4681-bfc4-2935c9f39f2b\" class=\"plotly-graph-div\" style=\"height:600px; width:800px;\"></div>\n",
              "            <script type=\"text/javascript\">\n",
              "                \n",
              "                    window.PLOTLYENV=window.PLOTLYENV || {};\n",
              "                    \n",
              "                if (document.getElementById(\"cc4232d3-6898-4681-bfc4-2935c9f39f2b\")) {\n",
              "                    Plotly.newPlot(\n",
              "                        'cc4232d3-6898-4681-bfc4-2935c9f39f2b',\n",
              "                        [{\"customdata\": [[\"TAPLEJUNG\"], [\"SANKHUWASHAVA\"], [\"SOLUKHUMBU\"], [\"PANCHTHAR\"], [\"ILLAM\"], [\"TERHATHUM\"], [\"DHANKUTA\"], [\"BHOJPUR\"], [\"KHOTANG\"], [\"OKHALDHUNGA\"], [\"UDAYAPUR\"], [\"JHAPA\"], [\"SUNSARI\"], [\"SAPTARI\"], [\"SIRAHA\"], [\"DOLAKHA\"], [\"SINDHUPALCHOK\"], [\"RASUWA\"], [\"RAMECHAP\"], [\"SINDHULI\"], [\"KAVRE\"], [\"BHAKTAPUR\"], [\"NUWAKOT\"], [\"DHANUSHA\"], [\"MAHOTTARI\"], [\"SARLAHI\"], [\"RAUTAHAT\"], [\"BARA\"], [\"PARSA\"], [\"MANANG\"], [\"MUSTANG\"], [\"GORKHA\"], [\"LAMJUNG\"], [\"TANAHU\"], [\"KASKI\"], [\"PARBAT\"], [\"SYANGJA\"], [\"PALPA\"], [\"MYAGDI\"], [\"BAGLUNG\"], [\"GULMI\"], [\"ARGHAKHANCHI\"], [\"NAWALPARASI\"], [\"RUPANDEHI\"], [\"KAPILBASTU\"], [\"DOLPA\"], [\"MUGU\"], [\"HUMLA\"], [\"KALIKOT\"], [\"RUKUM\"], [\"ROLPA\"], [\"PYUTHAN\"], [\"SALYAN\"], [\"JAJARKOT\"], [\"DAILEKH\"], [\"SURKHET\"], [\"BANKE\"], [\"BARDIYA\"], [\"BAJURA\"], [\"BAJHANG\"], [\"DARCHULA\"], [\"ACHHAM\"], [\"DOTI\"], [\"BAITADI\"], [\"DADELDHURA\"], [\"KAILALI\"], [\"KANCHANPUR\"]], \"hoverlabel\": {\"namelength\": 0}, \"hovertemplate\": \"color=green<br>Feature 1=%{x}<br>Feature 2=%{y}<br>DISTRICT=%{customdata[0]}\", \"legendgroup\": \"color=green\", \"marker\": {\"color\": \"#636efa\", \"symbol\": \"circle\"}, \"mode\": \"markers\", \"name\": \"color=green\", \"showlegend\": true, \"type\": \"scatter\", \"x\": [-1.1842523624469143, -0.37207737029469723, -1.0745953742881336, -0.04782148005577272, -0.32628107366789033, -0.5950145671101935, -0.6030828977005644, -0.5379549735679925, -0.3942262301243105, -0.3271106352444824, 1.6284955562209598, 2.8996357936135997, 2.7706769186900115, 2.870316404911062, 0.8445838901336908, -0.9734829830840346, -0.0735839678545651, -1.9940432650664601, -0.5486982530838417, 0.16416307512108025, 1.501566938364487, -0.7785765898968234, 0.5461167017825576, 0.4711292115817187, -0.027163809411365987, 0.3490184672773099, 0.08397113754866313, 1.5344488321912382, -0.0417394264343423, -2.2437063079767143, -2.22495653973393, -0.48599230352740036, -1.1442141798014818, -0.17232934217967996, 1.458137008332729, -0.6591790467258464, 0.2325076776609374, 0.06287782277902276, -0.22388277486882113, -0.8202157032142702, -0.9043881598245436, -0.46818364036667204, 2.234283015469844, 2.6161878051483622, 1.0641134936673717, -2.504918634385366, -2.6888645977531325, -2.5446961156361283, -2.2538912216985953, -0.6278191593236547, -0.7811058502036423, -1.0825827889246848, -0.34364628383843737, -1.6706309684384257, -1.0092926645160283, 0.6781546741841393, 1.0788298473252382, 1.169041705861473, -1.8920444229606226, -1.7280532263107469, -1.9245574677312216, -1.254298370372701, -0.9493573372988782, -1.0854558474503568, -1.1911889554078063, 1.9780318583824388, 0.623576891718201], \"xaxis\": \"x\", \"y\": [0.04187208709068749, -0.21281812556699356, -0.0068669152996674145, -0.5968188071840502, -0.43422921528963115, -0.2647367460275124, -0.22192788950665018, -0.28926616694576895, -0.26973081522017095, -0.37400536620890656, -0.5714841351557802, -1.1991515272169702, -1.617596252400012, -1.8718205371414545, -0.5335956646503166, 0.11128492851912555, -0.02897655402944136, 0.4327519453451943, -0.10839105108947425, -0.35032964153337576, 0.15691054900450596, 0.6250270772791401, 0.27663576611488605, -0.6762055268899119, -0.3293585482606595, -0.49053618389342074, -0.5021562520087536, -1.193275252190142, -0.42287587904377033, 0.5122675999810182, 0.5384422430461407, 0.4205327150705172, 0.49750836664615794, -0.181877274952684, 0.45666896879998103, -0.4258846868193712, -0.44664520556500514, -0.4475220948867664, -0.4297810944160251, -0.03307111518210254, 0.052593434147293845, -0.058337162753157715, -0.7184337331516498, -1.3962521910205257, -1.122652859205755, 1.001001041569358, 1.2629108427949138, 0.9732416787287443, 0.872170679501627, -0.1256934692962158, -0.007824839071100948, 0.3838364576721653, -0.09407425397009367, 0.6257789039084333, 0.2232764796499756, -0.48866638534491724, -0.5578062940132777, -0.7908724693150808, 0.5499043965985206, 0.5644387824952393, 0.5822640601038468, 0.06746800336917207, -0.05543953885537818, -0.07873782939834804, -0.01625094192138679, -0.5509761918170112, -0.13992119143217815], \"yaxis\": \"y\"}, {\"customdata\": [[\"MORANG\"], [\"LALITPUR\"], [\"KATHMANDU\"], [\"DHADING\"], [\"MAKWANPUR\"], [\"CHITWAN\"], [\"JUMLA\"], [\"DANG\"]], \"hoverlabel\": {\"namelength\": 0}, \"hovertemplate\": \"color=red<br>Feature 1=%{x}<br>Feature 2=%{y}<br>DISTRICT=%{customdata[0]}\", \"legendgroup\": \"color=red\", \"marker\": {\"color\": \"#EF553B\", \"symbol\": \"circle\"}, \"mode\": \"markers\", \"name\": \"color=red\", \"showlegend\": true, \"type\": \"scatter\", \"x\": [4.812445737288908, -0.2972310098811298, 0.7392579611041444, 0.9968701258820692, 1.0826663880298946, 8.62366264471198, -3.0772600707096744, 3.038880665409848], \"xaxis\": \"x\", \"y\": [-3.3752859613999338, 1.0809578090912657, 0.8760241924710946, 0.8891915829183537, 1.1786772587137868, 7.4245458938125495, 1.7570739838006944, -0.32709789170359005], \"yaxis\": \"y\"}],\n",
              "                        {\"font\": {\"color\": \"#7f7f7f\", \"family\": \"Courier New, monospace\", \"size\": 12}, \"height\": 600, \"legend\": {\"tracegroupgap\": 0}, \"margin\": {\"t\": 60}, \"template\": {\"data\": {\"bar\": [{\"error_x\": {\"color\": \"#2a3f5f\"}, \"error_y\": {\"color\": \"#2a3f5f\"}, \"marker\": {\"line\": {\"color\": \"#E5ECF6\", \"width\": 0.5}}, \"type\": \"bar\"}], \"barpolar\": [{\"marker\": {\"line\": {\"color\": \"#E5ECF6\", \"width\": 0.5}}, \"type\": \"barpolar\"}], \"carpet\": [{\"aaxis\": {\"endlinecolor\": \"#2a3f5f\", \"gridcolor\": \"white\", \"linecolor\": \"white\", \"minorgridcolor\": \"white\", \"startlinecolor\": \"#2a3f5f\"}, \"baxis\": {\"endlinecolor\": \"#2a3f5f\", \"gridcolor\": \"white\", \"linecolor\": \"white\", \"minorgridcolor\": \"white\", \"startlinecolor\": \"#2a3f5f\"}, \"type\": \"carpet\"}], \"choropleth\": [{\"colorbar\": {\"outlinewidth\": 0, \"ticks\": \"\"}, \"type\": \"choropleth\"}], \"contour\": [{\"colorbar\": {\"outlinewidth\": 0, \"ticks\": \"\"}, \"colorscale\": [[0.0, \"#0d0887\"], [0.1111111111111111, \"#46039f\"], [0.2222222222222222, \"#7201a8\"], [0.3333333333333333, \"#9c179e\"], [0.4444444444444444, \"#bd3786\"], [0.5555555555555556, \"#d8576b\"], [0.6666666666666666, \"#ed7953\"], [0.7777777777777778, \"#fb9f3a\"], [0.8888888888888888, \"#fdca26\"], [1.0, \"#f0f921\"]], \"type\": \"contour\"}], \"contourcarpet\": [{\"colorbar\": {\"outlinewidth\": 0, \"ticks\": \"\"}, \"type\": \"contourcarpet\"}], \"heatmap\": [{\"colorbar\": {\"outlinewidth\": 0, \"ticks\": \"\"}, \"colorscale\": [[0.0, \"#0d0887\"], [0.1111111111111111, \"#46039f\"], [0.2222222222222222, \"#7201a8\"], [0.3333333333333333, \"#9c179e\"], [0.4444444444444444, \"#bd3786\"], [0.5555555555555556, \"#d8576b\"], [0.6666666666666666, \"#ed7953\"], [0.7777777777777778, \"#fb9f3a\"], [0.8888888888888888, \"#fdca26\"], [1.0, \"#f0f921\"]], \"type\": \"heatmap\"}], \"heatmapgl\": [{\"colorbar\": {\"outlinewidth\": 0, \"ticks\": \"\"}, \"colorscale\": [[0.0, \"#0d0887\"], [0.1111111111111111, \"#46039f\"], [0.2222222222222222, \"#7201a8\"], [0.3333333333333333, \"#9c179e\"], [0.4444444444444444, \"#bd3786\"], [0.5555555555555556, \"#d8576b\"], [0.6666666666666666, \"#ed7953\"], [0.7777777777777778, \"#fb9f3a\"], [0.8888888888888888, \"#fdca26\"], [1.0, \"#f0f921\"]], \"type\": \"heatmapgl\"}], \"histogram\": [{\"marker\": {\"colorbar\": {\"outlinewidth\": 0, \"ticks\": \"\"}}, \"type\": \"histogram\"}], \"histogram2d\": [{\"colorbar\": {\"outlinewidth\": 0, \"ticks\": \"\"}, \"colorscale\": [[0.0, \"#0d0887\"], [0.1111111111111111, \"#46039f\"], [0.2222222222222222, \"#7201a8\"], [0.3333333333333333, \"#9c179e\"], [0.4444444444444444, \"#bd3786\"], [0.5555555555555556, \"#d8576b\"], [0.6666666666666666, \"#ed7953\"], [0.7777777777777778, \"#fb9f3a\"], [0.8888888888888888, \"#fdca26\"], [1.0, \"#f0f921\"]], \"type\": \"histogram2d\"}], \"histogram2dcontour\": [{\"colorbar\": {\"outlinewidth\": 0, \"ticks\": \"\"}, \"colorscale\": [[0.0, \"#0d0887\"], [0.1111111111111111, \"#46039f\"], [0.2222222222222222, \"#7201a8\"], [0.3333333333333333, \"#9c179e\"], [0.4444444444444444, \"#bd3786\"], [0.5555555555555556, \"#d8576b\"], [0.6666666666666666, \"#ed7953\"], [0.7777777777777778, \"#fb9f3a\"], [0.8888888888888888, \"#fdca26\"], [1.0, \"#f0f921\"]], \"type\": \"histogram2dcontour\"}], \"mesh3d\": [{\"colorbar\": {\"outlinewidth\": 0, \"ticks\": \"\"}, \"type\": \"mesh3d\"}], \"parcoords\": [{\"line\": {\"colorbar\": {\"outlinewidth\": 0, \"ticks\": \"\"}}, \"type\": \"parcoords\"}], \"pie\": [{\"automargin\": true, \"type\": \"pie\"}], \"scatter\": [{\"marker\": {\"colorbar\": {\"outlinewidth\": 0, \"ticks\": \"\"}}, \"type\": \"scatter\"}], \"scatter3d\": [{\"line\": {\"colorbar\": {\"outlinewidth\": 0, \"ticks\": \"\"}}, \"marker\": {\"colorbar\": {\"outlinewidth\": 0, \"ticks\": \"\"}}, \"type\": \"scatter3d\"}], \"scattercarpet\": [{\"marker\": {\"colorbar\": {\"outlinewidth\": 0, \"ticks\": \"\"}}, \"type\": \"scattercarpet\"}], \"scattergeo\": [{\"marker\": {\"colorbar\": {\"outlinewidth\": 0, \"ticks\": \"\"}}, \"type\": \"scattergeo\"}], \"scattergl\": [{\"marker\": {\"colorbar\": {\"outlinewidth\": 0, \"ticks\": \"\"}}, \"type\": \"scattergl\"}], \"scattermapbox\": [{\"marker\": {\"colorbar\": {\"outlinewidth\": 0, \"ticks\": \"\"}}, \"type\": \"scattermapbox\"}], \"scatterpolar\": [{\"marker\": {\"colorbar\": {\"outlinewidth\": 0, \"ticks\": \"\"}}, \"type\": \"scatterpolar\"}], \"scatterpolargl\": [{\"marker\": {\"colorbar\": {\"outlinewidth\": 0, \"ticks\": \"\"}}, \"type\": \"scatterpolargl\"}], \"scatterternary\": [{\"marker\": {\"colorbar\": {\"outlinewidth\": 0, \"ticks\": \"\"}}, \"type\": \"scatterternary\"}], \"surface\": [{\"colorbar\": {\"outlinewidth\": 0, \"ticks\": \"\"}, \"colorscale\": [[0.0, \"#0d0887\"], [0.1111111111111111, \"#46039f\"], [0.2222222222222222, \"#7201a8\"], [0.3333333333333333, \"#9c179e\"], [0.4444444444444444, \"#bd3786\"], [0.5555555555555556, \"#d8576b\"], [0.6666666666666666, \"#ed7953\"], [0.7777777777777778, \"#fb9f3a\"], [0.8888888888888888, \"#fdca26\"], [1.0, \"#f0f921\"]], \"type\": \"surface\"}], \"table\": [{\"cells\": {\"fill\": {\"color\": \"#EBF0F8\"}, \"line\": {\"color\": \"white\"}}, \"header\": {\"fill\": {\"color\": \"#C8D4E3\"}, \"line\": {\"color\": \"white\"}}, \"type\": \"table\"}]}, \"layout\": {\"annotationdefaults\": {\"arrowcolor\": \"#2a3f5f\", \"arrowhead\": 0, \"arrowwidth\": 1}, \"coloraxis\": {\"colorbar\": {\"outlinewidth\": 0, \"ticks\": \"\"}}, \"colorscale\": {\"diverging\": [[0, \"#8e0152\"], [0.1, \"#c51b7d\"], [0.2, \"#de77ae\"], [0.3, \"#f1b6da\"], [0.4, \"#fde0ef\"], [0.5, \"#f7f7f7\"], [0.6, \"#e6f5d0\"], [0.7, \"#b8e186\"], [0.8, \"#7fbc41\"], [0.9, \"#4d9221\"], [1, \"#276419\"]], \"sequential\": [[0.0, \"#0d0887\"], [0.1111111111111111, \"#46039f\"], [0.2222222222222222, \"#7201a8\"], [0.3333333333333333, \"#9c179e\"], [0.4444444444444444, \"#bd3786\"], [0.5555555555555556, \"#d8576b\"], [0.6666666666666666, \"#ed7953\"], [0.7777777777777778, \"#fb9f3a\"], [0.8888888888888888, \"#fdca26\"], [1.0, \"#f0f921\"]], \"sequentialminus\": [[0.0, \"#0d0887\"], [0.1111111111111111, \"#46039f\"], [0.2222222222222222, \"#7201a8\"], [0.3333333333333333, \"#9c179e\"], [0.4444444444444444, \"#bd3786\"], [0.5555555555555556, \"#d8576b\"], [0.6666666666666666, \"#ed7953\"], [0.7777777777777778, \"#fb9f3a\"], [0.8888888888888888, \"#fdca26\"], [1.0, \"#f0f921\"]]}, \"colorway\": [\"#636efa\", \"#EF553B\", \"#00cc96\", \"#ab63fa\", \"#FFA15A\", \"#19d3f3\", \"#FF6692\", \"#B6E880\", \"#FF97FF\", \"#FECB52\"], \"font\": {\"color\": \"#2a3f5f\"}, \"geo\": {\"bgcolor\": \"white\", \"lakecolor\": \"white\", \"landcolor\": \"#E5ECF6\", \"showlakes\": true, \"showland\": true, \"subunitcolor\": \"white\"}, \"hoverlabel\": {\"align\": \"left\"}, \"hovermode\": \"closest\", \"mapbox\": {\"style\": \"light\"}, \"paper_bgcolor\": \"white\", \"plot_bgcolor\": \"#E5ECF6\", \"polar\": {\"angularaxis\": {\"gridcolor\": \"white\", \"linecolor\": \"white\", \"ticks\": \"\"}, \"bgcolor\": \"#E5ECF6\", \"radialaxis\": {\"gridcolor\": \"white\", \"linecolor\": \"white\", \"ticks\": \"\"}}, \"scene\": {\"xaxis\": {\"backgroundcolor\": \"#E5ECF6\", \"gridcolor\": \"white\", \"gridwidth\": 2, \"linecolor\": \"white\", \"showbackground\": true, \"ticks\": \"\", \"zerolinecolor\": \"white\"}, \"yaxis\": {\"backgroundcolor\": \"#E5ECF6\", \"gridcolor\": \"white\", \"gridwidth\": 2, \"linecolor\": \"white\", \"showbackground\": true, \"ticks\": \"\", \"zerolinecolor\": \"white\"}, \"zaxis\": {\"backgroundcolor\": \"#E5ECF6\", \"gridcolor\": \"white\", \"gridwidth\": 2, \"linecolor\": \"white\", \"showbackground\": true, \"ticks\": \"\", \"zerolinecolor\": \"white\"}}, \"shapedefaults\": {\"line\": {\"color\": \"#2a3f5f\"}}, \"ternary\": {\"aaxis\": {\"gridcolor\": \"white\", \"linecolor\": \"white\", \"ticks\": \"\"}, \"baxis\": {\"gridcolor\": \"white\", \"linecolor\": \"white\", \"ticks\": \"\"}, \"bgcolor\": \"#E5ECF6\", \"caxis\": {\"gridcolor\": \"white\", \"linecolor\": \"white\", \"ticks\": \"\"}}, \"title\": {\"x\": 0.05}, \"xaxis\": {\"automargin\": true, \"gridcolor\": \"white\", \"linecolor\": \"white\", \"ticks\": \"\", \"title\": {\"standoff\": 15}, \"zerolinecolor\": \"white\", \"zerolinewidth\": 2}, \"yaxis\": {\"automargin\": true, \"gridcolor\": \"white\", \"linecolor\": \"white\", \"ticks\": \"\", \"title\": {\"standoff\": 15}, \"zerolinecolor\": \"white\", \"zerolinewidth\": 2}}}, \"title\": {\"text\": \"Outliers by Eliptic Envelope on Agriculture Dataset\"}, \"width\": 800, \"xaxis\": {\"anchor\": \"y\", \"domain\": [0.0, 1.0], \"title\": {\"text\": \"Feature 1\"}}, \"yaxis\": {\"anchor\": \"x\", \"domain\": [0.0, 1.0], \"title\": {\"text\": \"Feature 2\"}}},\n",
              "                        {\"responsive\": true}\n",
              "                    ).then(function(){\n",
              "                            \n",
              "var gd = document.getElementById('cc4232d3-6898-4681-bfc4-2935c9f39f2b');\n",
              "var x = new MutationObserver(function (mutations, observer) {{\n",
              "        var display = window.getComputedStyle(gd).display;\n",
              "        if (!display || display === 'none') {{\n",
              "            console.log([gd, 'removed!']);\n",
              "            Plotly.purge(gd);\n",
              "            observer.disconnect();\n",
              "        }}\n",
              "}});\n",
              "\n",
              "// Listen for the removal of the full notebook cells\n",
              "var notebookContainer = gd.closest('#notebook-container');\n",
              "if (notebookContainer) {{\n",
              "    x.observe(notebookContainer, {childList: true});\n",
              "}}\n",
              "\n",
              "// Listen for the clearing of the current output cell\n",
              "var outputEl = gd.closest('.output');\n",
              "if (outputEl) {{\n",
              "    x.observe(outputEl, {childList: true});\n",
              "}}\n",
              "\n",
              "                        })\n",
              "                };\n",
              "                \n",
              "            </script>\n",
              "        </div>\n",
              "</body>\n",
              "</html>"
            ]
          },
          "metadata": {
            "tags": []
          }
        }
      ]
    },
    {
      "cell_type": "code",
      "metadata": {
        "id": "LLzwaks-em5V",
        "colab_type": "code",
        "colab": {
          "base_uri": "https://localhost:8080/",
          "height": 637
        },
        "outputId": "fd2ae4bd-738e-42e2-aa9f-df100e63b5a7"
      },
      "source": [
        "plt_data=plot_data.iloc[:,0:3]\n",
        "\n",
        "elip_env = EllipticEnvelope(random_state=0)\n",
        "elip_env.fit(plt_data)\n",
        "y_pred=elip_env.predict(plt_data)\n",
        "\n",
        "fig=px.scatter_3d(plot_data, x= 'Feature 1',y='Feature 2',z='Feature 3',color=colors[(y_pred+1)//2],hover_data=['DISTRICT'],width=900, height=600,size_max=10,opacity=0.7)\n",
        "fig.update_layout(\n",
        "    title=\"Outlier detection 3D Visualization on Agriculture Dataset \",\n",
        "    xaxis_title=\"Feature 1\",\n",
        "    yaxis_title=\"Feature 2\",\n",
        "    font=dict(\n",
        "        family=\"Courier New, monospace\",\n",
        "        size=12,\n",
        "        color=\"#7f7f7f\"\n",
        "    )\n",
        ")\n",
        "fig.show()"
      ],
      "execution_count": 57,
      "outputs": [
        {
          "output_type": "display_data",
          "data": {
            "text/html": [
              "<html>\n",
              "<head><meta charset=\"utf-8\" /></head>\n",
              "<body>\n",
              "    <div>\n",
              "            <script src=\"https://cdnjs.cloudflare.com/ajax/libs/mathjax/2.7.5/MathJax.js?config=TeX-AMS-MML_SVG\"></script><script type=\"text/javascript\">if (window.MathJax) {MathJax.Hub.Config({SVG: {font: \"STIX-Web\"}});}</script>\n",
              "                <script type=\"text/javascript\">window.PlotlyConfig = {MathJaxConfig: 'local'};</script>\n",
              "        <script src=\"https://cdn.plot.ly/plotly-latest.min.js\"></script>    \n",
              "            <div id=\"727164c2-bb00-4f70-b467-478185c74ecc\" class=\"plotly-graph-div\" style=\"height:600px; width:900px;\"></div>\n",
              "            <script type=\"text/javascript\">\n",
              "                \n",
              "                    window.PLOTLYENV=window.PLOTLYENV || {};\n",
              "                    \n",
              "                if (document.getElementById(\"727164c2-bb00-4f70-b467-478185c74ecc\")) {\n",
              "                    Plotly.newPlot(\n",
              "                        '727164c2-bb00-4f70-b467-478185c74ecc',\n",
              "                        [{\"customdata\": [[\"TAPLEJUNG\"], [\"SANKHUWASHAVA\"], [\"SOLUKHUMBU\"], [\"PANCHTHAR\"], [\"ILLAM\"], [\"TERHATHUM\"], [\"DHANKUTA\"], [\"BHOJPUR\"], [\"KHOTANG\"], [\"OKHALDHUNGA\"], [\"UDAYAPUR\"], [\"JHAPA\"], [\"SUNSARI\"], [\"SAPTARI\"], [\"SIRAHA\"], [\"DOLAKHA\"], [\"SINDHUPALCHOK\"], [\"RASUWA\"], [\"RAMECHAP\"], [\"SINDHULI\"], [\"KAVRE\"], [\"BHAKTAPUR\"], [\"NUWAKOT\"], [\"DHANUSHA\"], [\"MAHOTTARI\"], [\"SARLAHI\"], [\"RAUTAHAT\"], [\"BARA\"], [\"PARSA\"], [\"MANANG\"], [\"MUSTANG\"], [\"GORKHA\"], [\"LAMJUNG\"], [\"TANAHU\"], [\"KASKI\"], [\"PARBAT\"], [\"SYANGJA\"], [\"PALPA\"], [\"MYAGDI\"], [\"BAGLUNG\"], [\"GULMI\"], [\"ARGHAKHANCHI\"], [\"NAWALPARASI\"], [\"RUPANDEHI\"], [\"KAPILBASTU\"], [\"DOLPA\"], [\"MUGU\"], [\"HUMLA\"], [\"KALIKOT\"], [\"RUKUM\"], [\"ROLPA\"], [\"PYUTHAN\"], [\"SALYAN\"], [\"JAJARKOT\"], [\"DAILEKH\"], [\"SURKHET\"], [\"BANKE\"], [\"BARDIYA\"], [\"BAJURA\"], [\"BAJHANG\"], [\"DARCHULA\"], [\"ACHHAM\"], [\"DOTI\"], [\"BAITADI\"], [\"DADELDHURA\"], [\"KAILALI\"], [\"KANCHANPUR\"]], \"hoverlabel\": {\"namelength\": 0}, \"hovertemplate\": \"color=green<br>Feature 1=%{x}<br>Feature 2=%{y}<br>Feature 3=%{z}<br>DISTRICT=%{customdata[0]}\", \"legendgroup\": \"color=green\", \"marker\": {\"color\": \"#636efa\", \"opacity\": 0.7, \"symbol\": \"circle\"}, \"mode\": \"markers\", \"name\": \"color=green\", \"scene\": \"scene\", \"showlegend\": true, \"type\": \"scatter3d\", \"x\": [-1.1842523624469143, -0.37207737029469723, -1.0745953742881336, -0.04782148005577272, -0.32628107366789033, -0.5950145671101935, -0.6030828977005644, -0.5379549735679925, -0.3942262301243105, -0.3271106352444824, 1.6284955562209598, 2.8996357936135997, 2.7706769186900115, 2.870316404911062, 0.8445838901336908, -0.9734829830840346, -0.0735839678545651, -1.9940432650664601, -0.5486982530838417, 0.16416307512108025, 1.501566938364487, -0.7785765898968234, 0.5461167017825576, 0.4711292115817187, -0.027163809411365987, 0.3490184672773099, 0.08397113754866313, 1.5344488321912382, -0.0417394264343423, -2.2437063079767143, -2.22495653973393, -0.48599230352740036, -1.1442141798014818, -0.17232934217967996, 1.458137008332729, -0.6591790467258464, 0.2325076776609374, 0.06287782277902276, -0.22388277486882113, -0.8202157032142702, -0.9043881598245436, -0.46818364036667204, 2.234283015469844, 2.6161878051483622, 1.0641134936673717, -2.504918634385366, -2.6888645977531325, -2.5446961156361283, -2.2538912216985953, -0.6278191593236547, -0.7811058502036423, -1.0825827889246848, -0.34364628383843737, -1.6706309684384257, -1.0092926645160283, 0.6781546741841393, 1.0788298473252382, 1.169041705861473, -1.8920444229606226, -1.7280532263107469, -1.9245574677312216, -1.254298370372701, -0.9493573372988782, -1.0854558474503568, -1.1911889554078063, 1.9780318583824388, 0.623576891718201], \"y\": [0.04187208709068749, -0.21281812556699356, -0.0068669152996674145, -0.5968188071840502, -0.43422921528963115, -0.2647367460275124, -0.22192788950665018, -0.28926616694576895, -0.26973081522017095, -0.37400536620890656, -0.5714841351557802, -1.1991515272169702, -1.617596252400012, -1.8718205371414545, -0.5335956646503166, 0.11128492851912555, -0.02897655402944136, 0.4327519453451943, -0.10839105108947425, -0.35032964153337576, 0.15691054900450596, 0.6250270772791401, 0.27663576611488605, -0.6762055268899119, -0.3293585482606595, -0.49053618389342074, -0.5021562520087536, -1.193275252190142, -0.42287587904377033, 0.5122675999810182, 0.5384422430461407, 0.4205327150705172, 0.49750836664615794, -0.181877274952684, 0.45666896879998103, -0.4258846868193712, -0.44664520556500514, -0.4475220948867664, -0.4297810944160251, -0.03307111518210254, 0.052593434147293845, -0.058337162753157715, -0.7184337331516498, -1.3962521910205257, -1.122652859205755, 1.001001041569358, 1.2629108427949138, 0.9732416787287443, 0.872170679501627, -0.1256934692962158, -0.007824839071100948, 0.3838364576721653, -0.09407425397009367, 0.6257789039084333, 0.2232764796499756, -0.48866638534491724, -0.5578062940132777, -0.7908724693150808, 0.5499043965985206, 0.5644387824952393, 0.5822640601038468, 0.06746800336917207, -0.05543953885537818, -0.07873782939834804, -0.01625094192138679, -0.5509761918170112, -0.13992119143217815], \"z\": [-0.400079453350322, 0.10564853949915684, -0.45486857289095195, -0.6956614345672265, -0.8308695194894468, -0.422584791189198, -0.9762884893189795, 0.20680707850943456, -0.23239861193287686, -0.16428113030975364, -0.40329348503695794, -0.12674228884324157, 0.339265422646969, 0.43006383369987, -0.4845991484736814, -0.10530252593427841, -0.19230650565408405, -0.9480826056381902, -0.6979868234023295, -0.7177406706672697, -0.20181780804234228, -1.031430543562899, 0.750809552306875, -0.4692562576856844, -0.7669270399224969, -0.5874120682022574, -0.6440919886581533, -0.2675270799270627, -0.7737945279817499, -1.1774063222608098, -0.9193689952284047, 1.4108311297538394, 0.12312220183625514, -0.830975372777169, 2.1101897922024864, -0.4979507764233502, 0.29498132340390343, -0.5736175478924308, 0.006357969320643168, -0.5703023816408594, -0.47664066541576683, -0.9167373843404824, 0.4306218684035013, 0.3886327483895878, 1.2087452522472188, 1.1811142276493294, 2.0384870181433086, 0.7616308076414239, 1.0301644310776328, 0.177698062684227, 0.2009107371158989, 0.15444001845442068, 0.5635949832538395, 0.733222524320158, 0.10272914115735882, 0.04134779101159429, 0.5429230412940766, 0.459542680264346, 0.27082696079276425, 0.8831056528407378, 0.30679687167868214, -0.860611000183464, -0.9643695134075492, -1.0197039790116473, -1.03905589934447, 1.4049684191496878, -0.09587778127202794]}, {\"customdata\": [[\"MORANG\"], [\"LALITPUR\"], [\"KATHMANDU\"], [\"DHADING\"], [\"MAKWANPUR\"], [\"CHITWAN\"], [\"JUMLA\"], [\"DANG\"]], \"hoverlabel\": {\"namelength\": 0}, \"hovertemplate\": \"color=red<br>Feature 1=%{x}<br>Feature 2=%{y}<br>Feature 3=%{z}<br>DISTRICT=%{customdata[0]}\", \"legendgroup\": \"color=red\", \"marker\": {\"color\": \"#EF553B\", \"opacity\": 0.7, \"symbol\": \"circle\"}, \"mode\": \"markers\", \"name\": \"color=red\", \"scene\": \"scene\", \"showlegend\": true, \"type\": \"scatter3d\", \"x\": [4.812445737288908, -0.2972310098811298, 0.7392579611041444, 0.9968701258820692, 1.0826663880298946, 8.62366264471198, -3.0772600707096744, 3.038880665409848], \"y\": [-3.3752859613999338, 1.0809578090912657, 0.8760241924710946, 0.8891915829183537, 1.1786772587137868, 7.4245458938125495, 1.7570739838006944, -0.32709789170359005], \"z\": [0.868425165024986, -1.0713306736531576, -0.7429353170434616, -0.6430420511493212, -0.6921864979467196, -0.8025606650575726, 4.077390521306308, 2.884620427649575]}],\n",
              "                        {\"font\": {\"color\": \"#7f7f7f\", \"family\": \"Courier New, monospace\", \"size\": 12}, \"height\": 600, \"legend\": {\"tracegroupgap\": 0}, \"margin\": {\"t\": 60}, \"scene\": {\"domain\": {\"x\": [0.0, 1.0], \"y\": [0.0, 1.0]}, \"xaxis\": {\"title\": {\"text\": \"Feature 1\"}}, \"yaxis\": {\"title\": {\"text\": \"Feature 2\"}}, \"zaxis\": {\"title\": {\"text\": \"Feature 3\"}}}, \"template\": {\"data\": {\"bar\": [{\"error_x\": {\"color\": \"#2a3f5f\"}, \"error_y\": {\"color\": \"#2a3f5f\"}, \"marker\": {\"line\": {\"color\": \"#E5ECF6\", \"width\": 0.5}}, \"type\": \"bar\"}], \"barpolar\": [{\"marker\": {\"line\": {\"color\": \"#E5ECF6\", \"width\": 0.5}}, \"type\": \"barpolar\"}], \"carpet\": [{\"aaxis\": {\"endlinecolor\": \"#2a3f5f\", \"gridcolor\": \"white\", \"linecolor\": \"white\", \"minorgridcolor\": \"white\", \"startlinecolor\": \"#2a3f5f\"}, \"baxis\": {\"endlinecolor\": \"#2a3f5f\", \"gridcolor\": \"white\", \"linecolor\": \"white\", \"minorgridcolor\": \"white\", \"startlinecolor\": \"#2a3f5f\"}, \"type\": \"carpet\"}], \"choropleth\": [{\"colorbar\": {\"outlinewidth\": 0, \"ticks\": \"\"}, \"type\": \"choropleth\"}], \"contour\": [{\"colorbar\": {\"outlinewidth\": 0, \"ticks\": \"\"}, \"colorscale\": [[0.0, \"#0d0887\"], [0.1111111111111111, \"#46039f\"], [0.2222222222222222, \"#7201a8\"], [0.3333333333333333, \"#9c179e\"], [0.4444444444444444, \"#bd3786\"], [0.5555555555555556, \"#d8576b\"], [0.6666666666666666, \"#ed7953\"], [0.7777777777777778, \"#fb9f3a\"], [0.8888888888888888, \"#fdca26\"], [1.0, \"#f0f921\"]], \"type\": \"contour\"}], \"contourcarpet\": [{\"colorbar\": {\"outlinewidth\": 0, \"ticks\": \"\"}, \"type\": \"contourcarpet\"}], \"heatmap\": [{\"colorbar\": {\"outlinewidth\": 0, \"ticks\": \"\"}, \"colorscale\": [[0.0, \"#0d0887\"], [0.1111111111111111, \"#46039f\"], [0.2222222222222222, \"#7201a8\"], [0.3333333333333333, \"#9c179e\"], [0.4444444444444444, \"#bd3786\"], [0.5555555555555556, \"#d8576b\"], [0.6666666666666666, \"#ed7953\"], [0.7777777777777778, \"#fb9f3a\"], [0.8888888888888888, \"#fdca26\"], [1.0, \"#f0f921\"]], \"type\": \"heatmap\"}], \"heatmapgl\": [{\"colorbar\": {\"outlinewidth\": 0, \"ticks\": \"\"}, \"colorscale\": [[0.0, \"#0d0887\"], [0.1111111111111111, \"#46039f\"], [0.2222222222222222, \"#7201a8\"], [0.3333333333333333, \"#9c179e\"], [0.4444444444444444, \"#bd3786\"], [0.5555555555555556, \"#d8576b\"], [0.6666666666666666, \"#ed7953\"], [0.7777777777777778, \"#fb9f3a\"], [0.8888888888888888, \"#fdca26\"], [1.0, \"#f0f921\"]], \"type\": \"heatmapgl\"}], \"histogram\": [{\"marker\": {\"colorbar\": {\"outlinewidth\": 0, \"ticks\": \"\"}}, \"type\": \"histogram\"}], \"histogram2d\": [{\"colorbar\": {\"outlinewidth\": 0, \"ticks\": \"\"}, \"colorscale\": [[0.0, \"#0d0887\"], [0.1111111111111111, \"#46039f\"], [0.2222222222222222, \"#7201a8\"], [0.3333333333333333, \"#9c179e\"], [0.4444444444444444, \"#bd3786\"], [0.5555555555555556, \"#d8576b\"], [0.6666666666666666, \"#ed7953\"], [0.7777777777777778, \"#fb9f3a\"], [0.8888888888888888, \"#fdca26\"], [1.0, \"#f0f921\"]], \"type\": \"histogram2d\"}], \"histogram2dcontour\": [{\"colorbar\": {\"outlinewidth\": 0, \"ticks\": \"\"}, \"colorscale\": [[0.0, \"#0d0887\"], [0.1111111111111111, \"#46039f\"], [0.2222222222222222, \"#7201a8\"], [0.3333333333333333, \"#9c179e\"], [0.4444444444444444, \"#bd3786\"], [0.5555555555555556, \"#d8576b\"], [0.6666666666666666, \"#ed7953\"], [0.7777777777777778, \"#fb9f3a\"], [0.8888888888888888, \"#fdca26\"], [1.0, \"#f0f921\"]], \"type\": \"histogram2dcontour\"}], \"mesh3d\": [{\"colorbar\": {\"outlinewidth\": 0, \"ticks\": \"\"}, \"type\": \"mesh3d\"}], \"parcoords\": [{\"line\": {\"colorbar\": {\"outlinewidth\": 0, \"ticks\": \"\"}}, \"type\": \"parcoords\"}], \"pie\": [{\"automargin\": true, \"type\": \"pie\"}], \"scatter\": [{\"marker\": {\"colorbar\": {\"outlinewidth\": 0, \"ticks\": \"\"}}, \"type\": \"scatter\"}], \"scatter3d\": [{\"line\": {\"colorbar\": {\"outlinewidth\": 0, \"ticks\": \"\"}}, \"marker\": {\"colorbar\": {\"outlinewidth\": 0, \"ticks\": \"\"}}, \"type\": \"scatter3d\"}], \"scattercarpet\": [{\"marker\": {\"colorbar\": {\"outlinewidth\": 0, \"ticks\": \"\"}}, \"type\": \"scattercarpet\"}], \"scattergeo\": [{\"marker\": {\"colorbar\": {\"outlinewidth\": 0, \"ticks\": \"\"}}, \"type\": \"scattergeo\"}], \"scattergl\": [{\"marker\": {\"colorbar\": {\"outlinewidth\": 0, \"ticks\": \"\"}}, \"type\": \"scattergl\"}], \"scattermapbox\": [{\"marker\": {\"colorbar\": {\"outlinewidth\": 0, \"ticks\": \"\"}}, \"type\": \"scattermapbox\"}], \"scatterpolar\": [{\"marker\": {\"colorbar\": {\"outlinewidth\": 0, \"ticks\": \"\"}}, \"type\": \"scatterpolar\"}], \"scatterpolargl\": [{\"marker\": {\"colorbar\": {\"outlinewidth\": 0, \"ticks\": \"\"}}, \"type\": \"scatterpolargl\"}], \"scatterternary\": [{\"marker\": {\"colorbar\": {\"outlinewidth\": 0, \"ticks\": \"\"}}, \"type\": \"scatterternary\"}], \"surface\": [{\"colorbar\": {\"outlinewidth\": 0, \"ticks\": \"\"}, \"colorscale\": [[0.0, \"#0d0887\"], [0.1111111111111111, \"#46039f\"], [0.2222222222222222, \"#7201a8\"], [0.3333333333333333, \"#9c179e\"], [0.4444444444444444, \"#bd3786\"], [0.5555555555555556, \"#d8576b\"], [0.6666666666666666, \"#ed7953\"], [0.7777777777777778, \"#fb9f3a\"], [0.8888888888888888, \"#fdca26\"], [1.0, \"#f0f921\"]], \"type\": \"surface\"}], \"table\": [{\"cells\": {\"fill\": {\"color\": \"#EBF0F8\"}, \"line\": {\"color\": \"white\"}}, \"header\": {\"fill\": {\"color\": \"#C8D4E3\"}, \"line\": {\"color\": \"white\"}}, \"type\": \"table\"}]}, \"layout\": {\"annotationdefaults\": {\"arrowcolor\": \"#2a3f5f\", \"arrowhead\": 0, \"arrowwidth\": 1}, \"coloraxis\": {\"colorbar\": {\"outlinewidth\": 0, \"ticks\": \"\"}}, \"colorscale\": {\"diverging\": [[0, \"#8e0152\"], [0.1, \"#c51b7d\"], [0.2, \"#de77ae\"], [0.3, \"#f1b6da\"], [0.4, \"#fde0ef\"], [0.5, \"#f7f7f7\"], [0.6, \"#e6f5d0\"], [0.7, \"#b8e186\"], [0.8, \"#7fbc41\"], [0.9, \"#4d9221\"], [1, \"#276419\"]], \"sequential\": [[0.0, \"#0d0887\"], [0.1111111111111111, \"#46039f\"], [0.2222222222222222, \"#7201a8\"], [0.3333333333333333, \"#9c179e\"], [0.4444444444444444, \"#bd3786\"], [0.5555555555555556, \"#d8576b\"], [0.6666666666666666, \"#ed7953\"], [0.7777777777777778, \"#fb9f3a\"], [0.8888888888888888, \"#fdca26\"], [1.0, \"#f0f921\"]], \"sequentialminus\": [[0.0, \"#0d0887\"], [0.1111111111111111, \"#46039f\"], [0.2222222222222222, \"#7201a8\"], [0.3333333333333333, \"#9c179e\"], [0.4444444444444444, \"#bd3786\"], [0.5555555555555556, \"#d8576b\"], [0.6666666666666666, \"#ed7953\"], [0.7777777777777778, \"#fb9f3a\"], [0.8888888888888888, \"#fdca26\"], [1.0, \"#f0f921\"]]}, \"colorway\": [\"#636efa\", \"#EF553B\", \"#00cc96\", \"#ab63fa\", \"#FFA15A\", \"#19d3f3\", \"#FF6692\", \"#B6E880\", \"#FF97FF\", \"#FECB52\"], \"font\": {\"color\": \"#2a3f5f\"}, \"geo\": {\"bgcolor\": \"white\", \"lakecolor\": \"white\", \"landcolor\": \"#E5ECF6\", \"showlakes\": true, \"showland\": true, \"subunitcolor\": \"white\"}, \"hoverlabel\": {\"align\": \"left\"}, \"hovermode\": \"closest\", \"mapbox\": {\"style\": \"light\"}, \"paper_bgcolor\": \"white\", \"plot_bgcolor\": \"#E5ECF6\", \"polar\": {\"angularaxis\": {\"gridcolor\": \"white\", \"linecolor\": \"white\", \"ticks\": \"\"}, \"bgcolor\": \"#E5ECF6\", \"radialaxis\": {\"gridcolor\": \"white\", \"linecolor\": \"white\", \"ticks\": \"\"}}, \"scene\": {\"xaxis\": {\"backgroundcolor\": \"#E5ECF6\", \"gridcolor\": \"white\", \"gridwidth\": 2, \"linecolor\": \"white\", \"showbackground\": true, \"ticks\": \"\", \"zerolinecolor\": \"white\"}, \"yaxis\": {\"backgroundcolor\": \"#E5ECF6\", \"gridcolor\": \"white\", \"gridwidth\": 2, \"linecolor\": \"white\", \"showbackground\": true, \"ticks\": \"\", \"zerolinecolor\": \"white\"}, \"zaxis\": {\"backgroundcolor\": \"#E5ECF6\", \"gridcolor\": \"white\", \"gridwidth\": 2, \"linecolor\": \"white\", \"showbackground\": true, \"ticks\": \"\", \"zerolinecolor\": \"white\"}}, \"shapedefaults\": {\"line\": {\"color\": \"#2a3f5f\"}}, \"ternary\": {\"aaxis\": {\"gridcolor\": \"white\", \"linecolor\": \"white\", \"ticks\": \"\"}, \"baxis\": {\"gridcolor\": \"white\", \"linecolor\": \"white\", \"ticks\": \"\"}, \"bgcolor\": \"#E5ECF6\", \"caxis\": {\"gridcolor\": \"white\", \"linecolor\": \"white\", \"ticks\": \"\"}}, \"title\": {\"x\": 0.05}, \"xaxis\": {\"automargin\": true, \"gridcolor\": \"white\", \"linecolor\": \"white\", \"ticks\": \"\", \"title\": {\"standoff\": 15}, \"zerolinecolor\": \"white\", \"zerolinewidth\": 2}, \"yaxis\": {\"automargin\": true, \"gridcolor\": \"white\", \"linecolor\": \"white\", \"ticks\": \"\", \"title\": {\"standoff\": 15}, \"zerolinecolor\": \"white\", \"zerolinewidth\": 2}}}, \"title\": {\"text\": \"Outlier detection 3D Visualization on Agriculture Dataset \"}, \"width\": 900, \"xaxis\": {\"title\": {\"text\": \"Feature 1\"}}, \"yaxis\": {\"title\": {\"text\": \"Feature 2\"}}},\n",
              "                        {\"responsive\": true}\n",
              "                    ).then(function(){\n",
              "                            \n",
              "var gd = document.getElementById('727164c2-bb00-4f70-b467-478185c74ecc');\n",
              "var x = new MutationObserver(function (mutations, observer) {{\n",
              "        var display = window.getComputedStyle(gd).display;\n",
              "        if (!display || display === 'none') {{\n",
              "            console.log([gd, 'removed!']);\n",
              "            Plotly.purge(gd);\n",
              "            observer.disconnect();\n",
              "        }}\n",
              "}});\n",
              "\n",
              "// Listen for the removal of the full notebook cells\n",
              "var notebookContainer = gd.closest('#notebook-container');\n",
              "if (notebookContainer) {{\n",
              "    x.observe(notebookContainer, {childList: true});\n",
              "}}\n",
              "\n",
              "// Listen for the clearing of the current output cell\n",
              "var outputEl = gd.closest('.output');\n",
              "if (outputEl) {{\n",
              "    x.observe(outputEl, {childList: true});\n",
              "}}\n",
              "\n",
              "                        })\n",
              "                };\n",
              "                \n",
              "            </script>\n",
              "        </div>\n",
              "</body>\n",
              "</html>"
            ]
          },
          "metadata": {
            "tags": []
          }
        }
      ]
    },
    {
      "cell_type": "markdown",
      "metadata": {
        "id": "RgldNkimg0Jd",
        "colab_type": "text"
      },
      "source": [
        "## **One Class SVM**"
      ]
    },
    {
      "cell_type": "code",
      "metadata": {
        "id": "I3ai2EDmfg4G",
        "colab_type": "code",
        "colab": {}
      },
      "source": [
        "one_class=svm.OneClassSVM(kernel='rbf',gamma='auto')\n",
        "plt_data2d=plot_data.iloc[:,0:2]\n",
        "one_class.fit(plt_data2d)\n",
        "y_pred2d=one_class.predict(plt_data2d)\n",
        "\n",
        "one_class=svm.OneClassSVM(kernel='rbf',gamma='auto')\n",
        "plt_data3d=plot_data.iloc[:,0:3]\n",
        "one_class.fit(plt_data3d)\n",
        "y_pred3d=one_class.predict(plt_data3d)"
      ],
      "execution_count": 0,
      "outputs": []
    },
    {
      "cell_type": "code",
      "metadata": {
        "id": "E0cl0QQ8hZS4",
        "colab_type": "code",
        "colab": {
          "base_uri": "https://localhost:8080/",
          "height": 173
        },
        "outputId": "872a5baf-9cf9-426e-a02c-a6f233ac0101"
      },
      "source": [
        "y_pred2d==y_pred3d"
      ],
      "execution_count": 62,
      "outputs": [
        {
          "output_type": "execute_result",
          "data": {
            "text/plain": [
              "array([ True,  True,  True,  True,  True,  True,  True,  True,  True,\n",
              "       False,  True,  True,  True,  True,  True,  True,  True,  True,\n",
              "        True,  True,  True,  True, False,  True,  True,  True,  True,\n",
              "        True, False,  True,  True,  True,  True,  True,  True,  True,\n",
              "        True, False,  True,  True,  True, False,  True,  True, False,\n",
              "        True,  True,  True,  True,  True,  True,  True,  True,  True,\n",
              "        True,  True,  True,  True,  True, False, False,  True,  True,\n",
              "        True,  True, False,  True, False,  True,  True,  True,  True,\n",
              "        True,  True,  True])"
            ]
          },
          "metadata": {
            "tags": []
          },
          "execution_count": 62
        }
      ]
    },
    {
      "cell_type": "code",
      "metadata": {
        "id": "Sd3yNZXqhbkU",
        "colab_type": "code",
        "colab": {
          "base_uri": "https://localhost:8080/",
          "height": 1000
        },
        "outputId": "5cb1af47-dfbe-49c2-f834-9dd94b7d5b46"
      },
      "source": [
        "colors=np.array(['red','green'])\n",
        "fig=px.scatter(plot_data, x= 'Feature 1',y='Feature 2',color=colors[(y_pred2d+1)//2],hover_data=['DISTRICT'],width=800, height=600)\n",
        "fig.update_layout(\n",
        "    title=\"Outliers by One Class SVM on Agriculture Dataset\",\n",
        "    xaxis_title=\"Feature 1\",\n",
        "    yaxis_title=\"Feature 2\",\n",
        "    font=dict(\n",
        "        family=\"Courier New, monospace\",\n",
        "        size=12,\n",
        "        color=\"#7f7f7f\"\n",
        "    )\n",
        ")\n",
        "fig.show()\n",
        "\n",
        "fig=px.scatter_3d(plot_data, x= 'Feature 1',y='Feature 2',z='Feature 3',color=colors[(y_pred3d+1)//2],hover_data=['DISTRICT'],width=900, height=600)\n",
        "fig.update_layout(\n",
        "    title=\"OneClass SVM Outlier detection 3D Visualization on Agriculture Dataset \",\n",
        "    xaxis_title=\"Feature 1\",\n",
        "    yaxis_title=\"Feature 2\",\n",
        "    font=dict(\n",
        "        family=\"Courier New, monospace\",\n",
        "        size=12,\n",
        "        color=\"#7f7f7f\"\n",
        "    )\n",
        ")\n",
        "fig.show()"
      ],
      "execution_count": 65,
      "outputs": [
        {
          "output_type": "display_data",
          "data": {
            "text/html": [
              "<html>\n",
              "<head><meta charset=\"utf-8\" /></head>\n",
              "<body>\n",
              "    <div>\n",
              "            <script src=\"https://cdnjs.cloudflare.com/ajax/libs/mathjax/2.7.5/MathJax.js?config=TeX-AMS-MML_SVG\"></script><script type=\"text/javascript\">if (window.MathJax) {MathJax.Hub.Config({SVG: {font: \"STIX-Web\"}});}</script>\n",
              "                <script type=\"text/javascript\">window.PlotlyConfig = {MathJaxConfig: 'local'};</script>\n",
              "        <script src=\"https://cdn.plot.ly/plotly-latest.min.js\"></script>    \n",
              "            <div id=\"7b25711f-88af-4cd3-aba2-5c9fa4d37a5d\" class=\"plotly-graph-div\" style=\"height:600px; width:800px;\"></div>\n",
              "            <script type=\"text/javascript\">\n",
              "                \n",
              "                    window.PLOTLYENV=window.PLOTLYENV || {};\n",
              "                    \n",
              "                if (document.getElementById(\"7b25711f-88af-4cd3-aba2-5c9fa4d37a5d\")) {\n",
              "                    Plotly.newPlot(\n",
              "                        '7b25711f-88af-4cd3-aba2-5c9fa4d37a5d',\n",
              "                        [{\"customdata\": [[\"TAPLEJUNG\"], [\"SANKHUWASHAVA\"], [\"SOLUKHUMBU\"], [\"TERHATHUM\"], [\"DHANKUTA\"], [\"BHOJPUR\"], [\"KHOTANG\"], [\"SIRAHA\"], [\"DOLAKHA\"], [\"SINDHUPALCHOK\"], [\"RAMECHAP\"], [\"SINDHULI\"], [\"MAHOTTARI\"], [\"SARLAHI\"], [\"RAUTAHAT\"], [\"PARSA\"], [\"GORKHA\"], [\"LAMJUNG\"], [\"TANAHU\"], [\"SYANGJA\"], [\"PALPA\"], [\"BAGLUNG\"], [\"GULMI\"], [\"ARGHAKHANCHI\"], [\"RUKUM\"], [\"ROLPA\"], [\"PYUTHAN\"], [\"SALYAN\"], [\"JAJARKOT\"], [\"DAILEKH\"], [\"SURKHET\"], [\"BANKE\"], [\"BAJURA\"], [\"BAJHANG\"], [\"ACHHAM\"], [\"DOTI\"], [\"KANCHANPUR\"]], \"hoverlabel\": {\"namelength\": 0}, \"hovertemplate\": \"color=green<br>Feature 1=%{x}<br>Feature 2=%{y}<br>DISTRICT=%{customdata[0]}\", \"legendgroup\": \"color=green\", \"marker\": {\"color\": \"#636efa\", \"symbol\": \"circle\"}, \"mode\": \"markers\", \"name\": \"color=green\", \"showlegend\": true, \"type\": \"scatter\", \"x\": [-1.1842523624469143, -0.37207737029469723, -1.0745953742881336, -0.5950145671101935, -0.6030828977005644, -0.5379549735679925, -0.3942262301243105, 0.8445838901336908, -0.9734829830840346, -0.0735839678545651, -0.5486982530838417, 0.16416307512108025, -0.027163809411365987, 0.3490184672773099, 0.08397113754866313, -0.0417394264343423, -0.48599230352740036, -1.1442141798014818, -0.17232934217967996, 0.2325076776609374, 0.06287782277902276, -0.8202157032142702, -0.9043881598245436, -0.46818364036667204, -0.6278191593236547, -0.7811058502036423, -1.0825827889246848, -0.34364628383843737, -1.6706309684384257, -1.0092926645160283, 0.6781546741841393, 1.0788298473252382, -1.8920444229606226, -1.7280532263107469, -1.254298370372701, -0.9493573372988782, 0.623576891718201], \"xaxis\": \"x\", \"y\": [0.04187208709068749, -0.21281812556699356, -0.0068669152996674145, -0.2647367460275124, -0.22192788950665018, -0.28926616694576895, -0.26973081522017095, -0.5335956646503166, 0.11128492851912555, -0.02897655402944136, -0.10839105108947425, -0.35032964153337576, -0.3293585482606595, -0.49053618389342074, -0.5021562520087536, -0.42287587904377033, 0.4205327150705172, 0.49750836664615794, -0.181877274952684, -0.44664520556500514, -0.4475220948867664, -0.03307111518210254, 0.052593434147293845, -0.058337162753157715, -0.1256934692962158, -0.007824839071100948, 0.3838364576721653, -0.09407425397009367, 0.6257789039084333, 0.2232764796499756, -0.48866638534491724, -0.5578062940132777, 0.5499043965985206, 0.5644387824952393, 0.06746800336917207, -0.05543953885537818, -0.13992119143217815], \"yaxis\": \"y\"}, {\"customdata\": [[\"PANCHTHAR\"], [\"ILLAM\"], [\"OKHALDHUNGA\"], [\"UDAYAPUR\"], [\"JHAPA\"], [\"MORANG\"], [\"SUNSARI\"], [\"SAPTARI\"], [\"RASUWA\"], [\"KAVRE\"], [\"BHAKTAPUR\"], [\"LALITPUR\"], [\"KATHMANDU\"], [\"NUWAKOT\"], [\"DHADING\"], [\"MAKWANPUR\"], [\"DHANUSHA\"], [\"BARA\"], [\"CHITWAN\"], [\"MANANG\"], [\"MUSTANG\"], [\"KASKI\"], [\"PARBAT\"], [\"MYAGDI\"], [\"NAWALPARASI\"], [\"RUPANDEHI\"], [\"KAPILBASTU\"], [\"DOLPA\"], [\"MUGU\"], [\"HUMLA\"], [\"JUMLA\"], [\"KALIKOT\"], [\"DANG\"], [\"BARDIYA\"], [\"DARCHULA\"], [\"BAITADI\"], [\"DADELDHURA\"], [\"KAILALI\"]], \"hoverlabel\": {\"namelength\": 0}, \"hovertemplate\": \"color=red<br>Feature 1=%{x}<br>Feature 2=%{y}<br>DISTRICT=%{customdata[0]}\", \"legendgroup\": \"color=red\", \"marker\": {\"color\": \"#EF553B\", \"symbol\": \"circle\"}, \"mode\": \"markers\", \"name\": \"color=red\", \"showlegend\": true, \"type\": \"scatter\", \"x\": [-0.04782148005577272, -0.32628107366789033, -0.3271106352444824, 1.6284955562209598, 2.8996357936135997, 4.812445737288908, 2.7706769186900115, 2.870316404911062, -1.9940432650664601, 1.501566938364487, -0.7785765898968234, -0.2972310098811298, 0.7392579611041444, 0.5461167017825576, 0.9968701258820692, 1.0826663880298946, 0.4711292115817187, 1.5344488321912382, 8.62366264471198, -2.2437063079767143, -2.22495653973393, 1.458137008332729, -0.6591790467258464, -0.22388277486882113, 2.234283015469844, 2.6161878051483622, 1.0641134936673717, -2.504918634385366, -2.6888645977531325, -2.5446961156361283, -3.0772600707096744, -2.2538912216985953, 3.038880665409848, 1.169041705861473, -1.9245574677312216, -1.0854558474503568, -1.1911889554078063, 1.9780318583824388], \"xaxis\": \"x\", \"y\": [-0.5968188071840502, -0.43422921528963115, -0.37400536620890656, -0.5714841351557802, -1.1991515272169702, -3.3752859613999338, -1.617596252400012, -1.8718205371414545, 0.4327519453451943, 0.15691054900450596, 0.6250270772791401, 1.0809578090912657, 0.8760241924710946, 0.27663576611488605, 0.8891915829183537, 1.1786772587137868, -0.6762055268899119, -1.193275252190142, 7.4245458938125495, 0.5122675999810182, 0.5384422430461407, 0.45666896879998103, -0.4258846868193712, -0.4297810944160251, -0.7184337331516498, -1.3962521910205257, -1.122652859205755, 1.001001041569358, 1.2629108427949138, 0.9732416787287443, 1.7570739838006944, 0.872170679501627, -0.32709789170359005, -0.7908724693150808, 0.5822640601038468, -0.07873782939834804, -0.01625094192138679, -0.5509761918170112], \"yaxis\": \"y\"}],\n",
              "                        {\"font\": {\"color\": \"#7f7f7f\", \"family\": \"Courier New, monospace\", \"size\": 12}, \"height\": 600, \"legend\": {\"tracegroupgap\": 0}, \"margin\": {\"t\": 60}, \"template\": {\"data\": {\"bar\": [{\"error_x\": {\"color\": \"#2a3f5f\"}, \"error_y\": {\"color\": \"#2a3f5f\"}, \"marker\": {\"line\": {\"color\": \"#E5ECF6\", \"width\": 0.5}}, \"type\": \"bar\"}], \"barpolar\": [{\"marker\": {\"line\": {\"color\": \"#E5ECF6\", \"width\": 0.5}}, \"type\": \"barpolar\"}], \"carpet\": [{\"aaxis\": {\"endlinecolor\": \"#2a3f5f\", \"gridcolor\": \"white\", \"linecolor\": \"white\", \"minorgridcolor\": \"white\", \"startlinecolor\": \"#2a3f5f\"}, \"baxis\": {\"endlinecolor\": \"#2a3f5f\", \"gridcolor\": \"white\", \"linecolor\": \"white\", \"minorgridcolor\": \"white\", \"startlinecolor\": \"#2a3f5f\"}, \"type\": \"carpet\"}], \"choropleth\": [{\"colorbar\": {\"outlinewidth\": 0, \"ticks\": \"\"}, \"type\": \"choropleth\"}], \"contour\": [{\"colorbar\": {\"outlinewidth\": 0, \"ticks\": \"\"}, \"colorscale\": [[0.0, \"#0d0887\"], [0.1111111111111111, \"#46039f\"], [0.2222222222222222, \"#7201a8\"], [0.3333333333333333, \"#9c179e\"], [0.4444444444444444, \"#bd3786\"], [0.5555555555555556, \"#d8576b\"], [0.6666666666666666, \"#ed7953\"], [0.7777777777777778, \"#fb9f3a\"], [0.8888888888888888, \"#fdca26\"], [1.0, \"#f0f921\"]], \"type\": \"contour\"}], \"contourcarpet\": [{\"colorbar\": {\"outlinewidth\": 0, \"ticks\": \"\"}, \"type\": \"contourcarpet\"}], \"heatmap\": [{\"colorbar\": {\"outlinewidth\": 0, \"ticks\": \"\"}, \"colorscale\": [[0.0, \"#0d0887\"], [0.1111111111111111, \"#46039f\"], [0.2222222222222222, \"#7201a8\"], [0.3333333333333333, \"#9c179e\"], [0.4444444444444444, \"#bd3786\"], [0.5555555555555556, \"#d8576b\"], [0.6666666666666666, \"#ed7953\"], [0.7777777777777778, \"#fb9f3a\"], [0.8888888888888888, \"#fdca26\"], [1.0, \"#f0f921\"]], \"type\": \"heatmap\"}], \"heatmapgl\": [{\"colorbar\": {\"outlinewidth\": 0, \"ticks\": \"\"}, \"colorscale\": [[0.0, \"#0d0887\"], [0.1111111111111111, \"#46039f\"], [0.2222222222222222, \"#7201a8\"], [0.3333333333333333, \"#9c179e\"], [0.4444444444444444, \"#bd3786\"], [0.5555555555555556, \"#d8576b\"], [0.6666666666666666, \"#ed7953\"], [0.7777777777777778, \"#fb9f3a\"], [0.8888888888888888, \"#fdca26\"], [1.0, \"#f0f921\"]], \"type\": \"heatmapgl\"}], \"histogram\": [{\"marker\": {\"colorbar\": {\"outlinewidth\": 0, \"ticks\": \"\"}}, \"type\": \"histogram\"}], \"histogram2d\": [{\"colorbar\": {\"outlinewidth\": 0, \"ticks\": \"\"}, \"colorscale\": [[0.0, \"#0d0887\"], [0.1111111111111111, \"#46039f\"], [0.2222222222222222, \"#7201a8\"], [0.3333333333333333, \"#9c179e\"], [0.4444444444444444, \"#bd3786\"], [0.5555555555555556, \"#d8576b\"], [0.6666666666666666, \"#ed7953\"], [0.7777777777777778, \"#fb9f3a\"], [0.8888888888888888, \"#fdca26\"], [1.0, \"#f0f921\"]], \"type\": \"histogram2d\"}], \"histogram2dcontour\": [{\"colorbar\": {\"outlinewidth\": 0, \"ticks\": \"\"}, \"colorscale\": [[0.0, \"#0d0887\"], [0.1111111111111111, \"#46039f\"], [0.2222222222222222, \"#7201a8\"], [0.3333333333333333, \"#9c179e\"], [0.4444444444444444, \"#bd3786\"], [0.5555555555555556, \"#d8576b\"], [0.6666666666666666, \"#ed7953\"], [0.7777777777777778, \"#fb9f3a\"], [0.8888888888888888, \"#fdca26\"], [1.0, \"#f0f921\"]], \"type\": \"histogram2dcontour\"}], \"mesh3d\": [{\"colorbar\": {\"outlinewidth\": 0, \"ticks\": \"\"}, \"type\": \"mesh3d\"}], \"parcoords\": [{\"line\": {\"colorbar\": {\"outlinewidth\": 0, \"ticks\": \"\"}}, \"type\": \"parcoords\"}], \"pie\": [{\"automargin\": true, \"type\": \"pie\"}], \"scatter\": [{\"marker\": {\"colorbar\": {\"outlinewidth\": 0, \"ticks\": \"\"}}, \"type\": \"scatter\"}], \"scatter3d\": [{\"line\": {\"colorbar\": {\"outlinewidth\": 0, \"ticks\": \"\"}}, \"marker\": {\"colorbar\": {\"outlinewidth\": 0, \"ticks\": \"\"}}, \"type\": \"scatter3d\"}], \"scattercarpet\": [{\"marker\": {\"colorbar\": {\"outlinewidth\": 0, \"ticks\": \"\"}}, \"type\": \"scattercarpet\"}], \"scattergeo\": [{\"marker\": {\"colorbar\": {\"outlinewidth\": 0, \"ticks\": \"\"}}, \"type\": \"scattergeo\"}], \"scattergl\": [{\"marker\": {\"colorbar\": {\"outlinewidth\": 0, \"ticks\": \"\"}}, \"type\": \"scattergl\"}], \"scattermapbox\": [{\"marker\": {\"colorbar\": {\"outlinewidth\": 0, \"ticks\": \"\"}}, \"type\": \"scattermapbox\"}], \"scatterpolar\": [{\"marker\": {\"colorbar\": {\"outlinewidth\": 0, \"ticks\": \"\"}}, \"type\": \"scatterpolar\"}], \"scatterpolargl\": [{\"marker\": {\"colorbar\": {\"outlinewidth\": 0, \"ticks\": \"\"}}, \"type\": \"scatterpolargl\"}], \"scatterternary\": [{\"marker\": {\"colorbar\": {\"outlinewidth\": 0, \"ticks\": \"\"}}, \"type\": \"scatterternary\"}], \"surface\": [{\"colorbar\": {\"outlinewidth\": 0, \"ticks\": \"\"}, \"colorscale\": [[0.0, \"#0d0887\"], [0.1111111111111111, \"#46039f\"], [0.2222222222222222, \"#7201a8\"], [0.3333333333333333, \"#9c179e\"], [0.4444444444444444, \"#bd3786\"], [0.5555555555555556, \"#d8576b\"], [0.6666666666666666, \"#ed7953\"], [0.7777777777777778, \"#fb9f3a\"], [0.8888888888888888, \"#fdca26\"], [1.0, \"#f0f921\"]], \"type\": \"surface\"}], \"table\": [{\"cells\": {\"fill\": {\"color\": \"#EBF0F8\"}, \"line\": {\"color\": \"white\"}}, \"header\": {\"fill\": {\"color\": \"#C8D4E3\"}, \"line\": {\"color\": \"white\"}}, \"type\": \"table\"}]}, \"layout\": {\"annotationdefaults\": {\"arrowcolor\": \"#2a3f5f\", \"arrowhead\": 0, \"arrowwidth\": 1}, \"coloraxis\": {\"colorbar\": {\"outlinewidth\": 0, \"ticks\": \"\"}}, \"colorscale\": {\"diverging\": [[0, \"#8e0152\"], [0.1, \"#c51b7d\"], [0.2, \"#de77ae\"], [0.3, \"#f1b6da\"], [0.4, \"#fde0ef\"], [0.5, \"#f7f7f7\"], [0.6, \"#e6f5d0\"], [0.7, \"#b8e186\"], [0.8, \"#7fbc41\"], [0.9, \"#4d9221\"], [1, \"#276419\"]], \"sequential\": [[0.0, \"#0d0887\"], [0.1111111111111111, \"#46039f\"], [0.2222222222222222, \"#7201a8\"], [0.3333333333333333, \"#9c179e\"], [0.4444444444444444, \"#bd3786\"], [0.5555555555555556, \"#d8576b\"], [0.6666666666666666, \"#ed7953\"], [0.7777777777777778, \"#fb9f3a\"], [0.8888888888888888, \"#fdca26\"], [1.0, \"#f0f921\"]], \"sequentialminus\": [[0.0, \"#0d0887\"], [0.1111111111111111, \"#46039f\"], [0.2222222222222222, \"#7201a8\"], [0.3333333333333333, \"#9c179e\"], [0.4444444444444444, \"#bd3786\"], [0.5555555555555556, \"#d8576b\"], [0.6666666666666666, \"#ed7953\"], [0.7777777777777778, \"#fb9f3a\"], [0.8888888888888888, \"#fdca26\"], [1.0, \"#f0f921\"]]}, \"colorway\": [\"#636efa\", \"#EF553B\", \"#00cc96\", \"#ab63fa\", \"#FFA15A\", \"#19d3f3\", \"#FF6692\", \"#B6E880\", \"#FF97FF\", \"#FECB52\"], \"font\": {\"color\": \"#2a3f5f\"}, \"geo\": {\"bgcolor\": \"white\", \"lakecolor\": \"white\", \"landcolor\": \"#E5ECF6\", \"showlakes\": true, \"showland\": true, \"subunitcolor\": \"white\"}, \"hoverlabel\": {\"align\": \"left\"}, \"hovermode\": \"closest\", \"mapbox\": {\"style\": \"light\"}, \"paper_bgcolor\": \"white\", \"plot_bgcolor\": \"#E5ECF6\", \"polar\": {\"angularaxis\": {\"gridcolor\": \"white\", \"linecolor\": \"white\", \"ticks\": \"\"}, \"bgcolor\": \"#E5ECF6\", \"radialaxis\": {\"gridcolor\": \"white\", \"linecolor\": \"white\", \"ticks\": \"\"}}, \"scene\": {\"xaxis\": {\"backgroundcolor\": \"#E5ECF6\", \"gridcolor\": \"white\", \"gridwidth\": 2, \"linecolor\": \"white\", \"showbackground\": true, \"ticks\": \"\", \"zerolinecolor\": \"white\"}, \"yaxis\": {\"backgroundcolor\": \"#E5ECF6\", \"gridcolor\": \"white\", \"gridwidth\": 2, \"linecolor\": \"white\", \"showbackground\": true, \"ticks\": \"\", \"zerolinecolor\": \"white\"}, \"zaxis\": {\"backgroundcolor\": \"#E5ECF6\", \"gridcolor\": \"white\", \"gridwidth\": 2, \"linecolor\": \"white\", \"showbackground\": true, \"ticks\": \"\", \"zerolinecolor\": \"white\"}}, \"shapedefaults\": {\"line\": {\"color\": \"#2a3f5f\"}}, \"ternary\": {\"aaxis\": {\"gridcolor\": \"white\", \"linecolor\": \"white\", \"ticks\": \"\"}, \"baxis\": {\"gridcolor\": \"white\", \"linecolor\": \"white\", \"ticks\": \"\"}, \"bgcolor\": \"#E5ECF6\", \"caxis\": {\"gridcolor\": \"white\", \"linecolor\": \"white\", \"ticks\": \"\"}}, \"title\": {\"x\": 0.05}, \"xaxis\": {\"automargin\": true, \"gridcolor\": \"white\", \"linecolor\": \"white\", \"ticks\": \"\", \"title\": {\"standoff\": 15}, \"zerolinecolor\": \"white\", \"zerolinewidth\": 2}, \"yaxis\": {\"automargin\": true, \"gridcolor\": \"white\", \"linecolor\": \"white\", \"ticks\": \"\", \"title\": {\"standoff\": 15}, \"zerolinecolor\": \"white\", \"zerolinewidth\": 2}}}, \"title\": {\"text\": \"Outliers by One Class SVM on Agriculture Dataset\"}, \"width\": 800, \"xaxis\": {\"anchor\": \"y\", \"domain\": [0.0, 1.0], \"title\": {\"text\": \"Feature 1\"}}, \"yaxis\": {\"anchor\": \"x\", \"domain\": [0.0, 1.0], \"title\": {\"text\": \"Feature 2\"}}},\n",
              "                        {\"responsive\": true}\n",
              "                    ).then(function(){\n",
              "                            \n",
              "var gd = document.getElementById('7b25711f-88af-4cd3-aba2-5c9fa4d37a5d');\n",
              "var x = new MutationObserver(function (mutations, observer) {{\n",
              "        var display = window.getComputedStyle(gd).display;\n",
              "        if (!display || display === 'none') {{\n",
              "            console.log([gd, 'removed!']);\n",
              "            Plotly.purge(gd);\n",
              "            observer.disconnect();\n",
              "        }}\n",
              "}});\n",
              "\n",
              "// Listen for the removal of the full notebook cells\n",
              "var notebookContainer = gd.closest('#notebook-container');\n",
              "if (notebookContainer) {{\n",
              "    x.observe(notebookContainer, {childList: true});\n",
              "}}\n",
              "\n",
              "// Listen for the clearing of the current output cell\n",
              "var outputEl = gd.closest('.output');\n",
              "if (outputEl) {{\n",
              "    x.observe(outputEl, {childList: true});\n",
              "}}\n",
              "\n",
              "                        })\n",
              "                };\n",
              "                \n",
              "            </script>\n",
              "        </div>\n",
              "</body>\n",
              "</html>"
            ]
          },
          "metadata": {
            "tags": []
          }
        },
        {
          "output_type": "display_data",
          "data": {
            "text/html": [
              "<html>\n",
              "<head><meta charset=\"utf-8\" /></head>\n",
              "<body>\n",
              "    <div>\n",
              "            <script src=\"https://cdnjs.cloudflare.com/ajax/libs/mathjax/2.7.5/MathJax.js?config=TeX-AMS-MML_SVG\"></script><script type=\"text/javascript\">if (window.MathJax) {MathJax.Hub.Config({SVG: {font: \"STIX-Web\"}});}</script>\n",
              "                <script type=\"text/javascript\">window.PlotlyConfig = {MathJaxConfig: 'local'};</script>\n",
              "        <script src=\"https://cdn.plot.ly/plotly-latest.min.js\"></script>    \n",
              "            <div id=\"0d2e01df-a1f2-4edd-9c41-f158c6bed239\" class=\"plotly-graph-div\" style=\"height:600px; width:900px;\"></div>\n",
              "            <script type=\"text/javascript\">\n",
              "                \n",
              "                    window.PLOTLYENV=window.PLOTLYENV || {};\n",
              "                    \n",
              "                if (document.getElementById(\"0d2e01df-a1f2-4edd-9c41-f158c6bed239\")) {\n",
              "                    Plotly.newPlot(\n",
              "                        '0d2e01df-a1f2-4edd-9c41-f158c6bed239',\n",
              "                        [{\"customdata\": [[\"TAPLEJUNG\"], [\"SANKHUWASHAVA\"], [\"SOLUKHUMBU\"], [\"TERHATHUM\"], [\"DHANKUTA\"], [\"BHOJPUR\"], [\"KHOTANG\"], [\"OKHALDHUNGA\"], [\"SIRAHA\"], [\"DOLAKHA\"], [\"SINDHUPALCHOK\"], [\"RAMECHAP\"], [\"SINDHULI\"], [\"BHAKTAPUR\"], [\"DHANUSHA\"], [\"MAHOTTARI\"], [\"SARLAHI\"], [\"RAUTAHAT\"], [\"PARSA\"], [\"LAMJUNG\"], [\"TANAHU\"], [\"PARBAT\"], [\"SYANGJA\"], [\"PALPA\"], [\"MYAGDI\"], [\"BAGLUNG\"], [\"GULMI\"], [\"ARGHAKHANCHI\"], [\"RUKUM\"], [\"ROLPA\"], [\"PYUTHAN\"], [\"DAILEKH\"], [\"SURKHET\"], [\"BANKE\"], [\"BARDIYA\"], [\"BAJURA\"], [\"ACHHAM\"], [\"DOTI\"], [\"KANCHANPUR\"]], \"hoverlabel\": {\"namelength\": 0}, \"hovertemplate\": \"color=green<br>Feature 1=%{x}<br>Feature 2=%{y}<br>Feature 3=%{z}<br>DISTRICT=%{customdata[0]}\", \"legendgroup\": \"color=green\", \"marker\": {\"color\": \"#636efa\", \"symbol\": \"circle\"}, \"mode\": \"markers\", \"name\": \"color=green\", \"scene\": \"scene\", \"showlegend\": true, \"type\": \"scatter3d\", \"x\": [-1.1842523624469143, -0.37207737029469723, -1.0745953742881336, -0.5950145671101935, -0.6030828977005644, -0.5379549735679925, -0.3942262301243105, -0.3271106352444824, 0.8445838901336908, -0.9734829830840346, -0.0735839678545651, -0.5486982530838417, 0.16416307512108025, -0.7785765898968234, 0.4711292115817187, -0.027163809411365987, 0.3490184672773099, 0.08397113754866313, -0.0417394264343423, -1.1442141798014818, -0.17232934217967996, -0.6591790467258464, 0.2325076776609374, 0.06287782277902276, -0.22388277486882113, -0.8202157032142702, -0.9043881598245436, -0.46818364036667204, -0.6278191593236547, -0.7811058502036423, -1.0825827889246848, -1.0092926645160283, 0.6781546741841393, 1.0788298473252382, 1.169041705861473, -1.8920444229606226, -1.254298370372701, -0.9493573372988782, 0.623576891718201], \"y\": [0.04187208709068749, -0.21281812556699356, -0.0068669152996674145, -0.2647367460275124, -0.22192788950665018, -0.28926616694576895, -0.26973081522017095, -0.37400536620890656, -0.5335956646503166, 0.11128492851912555, -0.02897655402944136, -0.10839105108947425, -0.35032964153337576, 0.6250270772791401, -0.6762055268899119, -0.3293585482606595, -0.49053618389342074, -0.5021562520087536, -0.42287587904377033, 0.49750836664615794, -0.181877274952684, -0.4258846868193712, -0.44664520556500514, -0.4475220948867664, -0.4297810944160251, -0.03307111518210254, 0.052593434147293845, -0.058337162753157715, -0.1256934692962158, -0.007824839071100948, 0.3838364576721653, 0.2232764796499756, -0.48866638534491724, -0.5578062940132777, -0.7908724693150808, 0.5499043965985206, 0.06746800336917207, -0.05543953885537818, -0.13992119143217815], \"z\": [-0.400079453350322, 0.10564853949915684, -0.45486857289095195, -0.422584791189198, -0.9762884893189795, 0.20680707850943456, -0.23239861193287686, -0.16428113030975364, -0.4845991484736814, -0.10530252593427841, -0.19230650565408405, -0.6979868234023295, -0.7177406706672697, -1.031430543562899, -0.4692562576856844, -0.7669270399224969, -0.5874120682022574, -0.6440919886581533, -0.7737945279817499, 0.12312220183625514, -0.830975372777169, -0.4979507764233502, 0.29498132340390343, -0.5736175478924308, 0.006357969320643168, -0.5703023816408594, -0.47664066541576683, -0.9167373843404824, 0.177698062684227, 0.2009107371158989, 0.15444001845442068, 0.10272914115735882, 0.04134779101159429, 0.5429230412940766, 0.459542680264346, 0.27082696079276425, -0.860611000183464, -0.9643695134075492, -0.09587778127202794]}, {\"customdata\": [[\"PANCHTHAR\"], [\"ILLAM\"], [\"UDAYAPUR\"], [\"JHAPA\"], [\"MORANG\"], [\"SUNSARI\"], [\"SAPTARI\"], [\"RASUWA\"], [\"KAVRE\"], [\"LALITPUR\"], [\"KATHMANDU\"], [\"NUWAKOT\"], [\"DHADING\"], [\"MAKWANPUR\"], [\"BARA\"], [\"CHITWAN\"], [\"MANANG\"], [\"MUSTANG\"], [\"GORKHA\"], [\"KASKI\"], [\"NAWALPARASI\"], [\"RUPANDEHI\"], [\"KAPILBASTU\"], [\"DOLPA\"], [\"MUGU\"], [\"HUMLA\"], [\"JUMLA\"], [\"KALIKOT\"], [\"SALYAN\"], [\"JAJARKOT\"], [\"DANG\"], [\"BAJHANG\"], [\"DARCHULA\"], [\"BAITADI\"], [\"DADELDHURA\"], [\"KAILALI\"]], \"hoverlabel\": {\"namelength\": 0}, \"hovertemplate\": \"color=red<br>Feature 1=%{x}<br>Feature 2=%{y}<br>Feature 3=%{z}<br>DISTRICT=%{customdata[0]}\", \"legendgroup\": \"color=red\", \"marker\": {\"color\": \"#EF553B\", \"symbol\": \"circle\"}, \"mode\": \"markers\", \"name\": \"color=red\", \"scene\": \"scene\", \"showlegend\": true, \"type\": \"scatter3d\", \"x\": [-0.04782148005577272, -0.32628107366789033, 1.6284955562209598, 2.8996357936135997, 4.812445737288908, 2.7706769186900115, 2.870316404911062, -1.9940432650664601, 1.501566938364487, -0.2972310098811298, 0.7392579611041444, 0.5461167017825576, 0.9968701258820692, 1.0826663880298946, 1.5344488321912382, 8.62366264471198, -2.2437063079767143, -2.22495653973393, -0.48599230352740036, 1.458137008332729, 2.234283015469844, 2.6161878051483622, 1.0641134936673717, -2.504918634385366, -2.6888645977531325, -2.5446961156361283, -3.0772600707096744, -2.2538912216985953, -0.34364628383843737, -1.6706309684384257, 3.038880665409848, -1.7280532263107469, -1.9245574677312216, -1.0854558474503568, -1.1911889554078063, 1.9780318583824388], \"y\": [-0.5968188071840502, -0.43422921528963115, -0.5714841351557802, -1.1991515272169702, -3.3752859613999338, -1.617596252400012, -1.8718205371414545, 0.4327519453451943, 0.15691054900450596, 1.0809578090912657, 0.8760241924710946, 0.27663576611488605, 0.8891915829183537, 1.1786772587137868, -1.193275252190142, 7.4245458938125495, 0.5122675999810182, 0.5384422430461407, 0.4205327150705172, 0.45666896879998103, -0.7184337331516498, -1.3962521910205257, -1.122652859205755, 1.001001041569358, 1.2629108427949138, 0.9732416787287443, 1.7570739838006944, 0.872170679501627, -0.09407425397009367, 0.6257789039084333, -0.32709789170359005, 0.5644387824952393, 0.5822640601038468, -0.07873782939834804, -0.01625094192138679, -0.5509761918170112], \"z\": [-0.6956614345672265, -0.8308695194894468, -0.40329348503695794, -0.12674228884324157, 0.868425165024986, 0.339265422646969, 0.43006383369987, -0.9480826056381902, -0.20181780804234228, -1.0713306736531576, -0.7429353170434616, 0.750809552306875, -0.6430420511493212, -0.6921864979467196, -0.2675270799270627, -0.8025606650575726, -1.1774063222608098, -0.9193689952284047, 1.4108311297538394, 2.1101897922024864, 0.4306218684035013, 0.3886327483895878, 1.2087452522472188, 1.1811142276493294, 2.0384870181433086, 0.7616308076414239, 4.077390521306308, 1.0301644310776328, 0.5635949832538395, 0.733222524320158, 2.884620427649575, 0.8831056528407378, 0.30679687167868214, -1.0197039790116473, -1.03905589934447, 1.4049684191496878]}],\n",
              "                        {\"font\": {\"color\": \"#7f7f7f\", \"family\": \"Courier New, monospace\", \"size\": 12}, \"height\": 600, \"legend\": {\"tracegroupgap\": 0}, \"margin\": {\"t\": 60}, \"scene\": {\"domain\": {\"x\": [0.0, 1.0], \"y\": [0.0, 1.0]}, \"xaxis\": {\"title\": {\"text\": \"Feature 1\"}}, \"yaxis\": {\"title\": {\"text\": \"Feature 2\"}}, \"zaxis\": {\"title\": {\"text\": \"Feature 3\"}}}, \"template\": {\"data\": {\"bar\": [{\"error_x\": {\"color\": \"#2a3f5f\"}, \"error_y\": {\"color\": \"#2a3f5f\"}, \"marker\": {\"line\": {\"color\": \"#E5ECF6\", \"width\": 0.5}}, \"type\": \"bar\"}], \"barpolar\": [{\"marker\": {\"line\": {\"color\": \"#E5ECF6\", \"width\": 0.5}}, \"type\": \"barpolar\"}], \"carpet\": [{\"aaxis\": {\"endlinecolor\": \"#2a3f5f\", \"gridcolor\": \"white\", \"linecolor\": \"white\", \"minorgridcolor\": \"white\", \"startlinecolor\": \"#2a3f5f\"}, \"baxis\": {\"endlinecolor\": \"#2a3f5f\", \"gridcolor\": \"white\", \"linecolor\": \"white\", \"minorgridcolor\": \"white\", \"startlinecolor\": \"#2a3f5f\"}, \"type\": \"carpet\"}], \"choropleth\": [{\"colorbar\": {\"outlinewidth\": 0, \"ticks\": \"\"}, \"type\": \"choropleth\"}], \"contour\": [{\"colorbar\": {\"outlinewidth\": 0, \"ticks\": \"\"}, \"colorscale\": [[0.0, \"#0d0887\"], [0.1111111111111111, \"#46039f\"], [0.2222222222222222, \"#7201a8\"], [0.3333333333333333, \"#9c179e\"], [0.4444444444444444, \"#bd3786\"], [0.5555555555555556, \"#d8576b\"], [0.6666666666666666, \"#ed7953\"], [0.7777777777777778, \"#fb9f3a\"], [0.8888888888888888, \"#fdca26\"], [1.0, \"#f0f921\"]], \"type\": \"contour\"}], \"contourcarpet\": [{\"colorbar\": {\"outlinewidth\": 0, \"ticks\": \"\"}, \"type\": \"contourcarpet\"}], \"heatmap\": [{\"colorbar\": {\"outlinewidth\": 0, \"ticks\": \"\"}, \"colorscale\": [[0.0, \"#0d0887\"], [0.1111111111111111, \"#46039f\"], [0.2222222222222222, \"#7201a8\"], [0.3333333333333333, \"#9c179e\"], [0.4444444444444444, \"#bd3786\"], [0.5555555555555556, \"#d8576b\"], [0.6666666666666666, \"#ed7953\"], [0.7777777777777778, \"#fb9f3a\"], [0.8888888888888888, \"#fdca26\"], [1.0, \"#f0f921\"]], \"type\": \"heatmap\"}], \"heatmapgl\": [{\"colorbar\": {\"outlinewidth\": 0, \"ticks\": \"\"}, \"colorscale\": [[0.0, \"#0d0887\"], [0.1111111111111111, \"#46039f\"], [0.2222222222222222, \"#7201a8\"], [0.3333333333333333, \"#9c179e\"], [0.4444444444444444, \"#bd3786\"], [0.5555555555555556, \"#d8576b\"], [0.6666666666666666, \"#ed7953\"], [0.7777777777777778, \"#fb9f3a\"], [0.8888888888888888, \"#fdca26\"], [1.0, \"#f0f921\"]], \"type\": \"heatmapgl\"}], \"histogram\": [{\"marker\": {\"colorbar\": {\"outlinewidth\": 0, \"ticks\": \"\"}}, \"type\": \"histogram\"}], \"histogram2d\": [{\"colorbar\": {\"outlinewidth\": 0, \"ticks\": \"\"}, \"colorscale\": [[0.0, \"#0d0887\"], [0.1111111111111111, \"#46039f\"], [0.2222222222222222, \"#7201a8\"], [0.3333333333333333, \"#9c179e\"], [0.4444444444444444, \"#bd3786\"], [0.5555555555555556, \"#d8576b\"], [0.6666666666666666, \"#ed7953\"], [0.7777777777777778, \"#fb9f3a\"], [0.8888888888888888, \"#fdca26\"], [1.0, \"#f0f921\"]], \"type\": \"histogram2d\"}], \"histogram2dcontour\": [{\"colorbar\": {\"outlinewidth\": 0, \"ticks\": \"\"}, \"colorscale\": [[0.0, \"#0d0887\"], [0.1111111111111111, \"#46039f\"], [0.2222222222222222, \"#7201a8\"], [0.3333333333333333, \"#9c179e\"], [0.4444444444444444, \"#bd3786\"], [0.5555555555555556, \"#d8576b\"], [0.6666666666666666, \"#ed7953\"], [0.7777777777777778, \"#fb9f3a\"], [0.8888888888888888, \"#fdca26\"], [1.0, \"#f0f921\"]], \"type\": \"histogram2dcontour\"}], \"mesh3d\": [{\"colorbar\": {\"outlinewidth\": 0, \"ticks\": \"\"}, \"type\": \"mesh3d\"}], \"parcoords\": [{\"line\": {\"colorbar\": {\"outlinewidth\": 0, \"ticks\": \"\"}}, \"type\": \"parcoords\"}], \"pie\": [{\"automargin\": true, \"type\": \"pie\"}], \"scatter\": [{\"marker\": {\"colorbar\": {\"outlinewidth\": 0, \"ticks\": \"\"}}, \"type\": \"scatter\"}], \"scatter3d\": [{\"line\": {\"colorbar\": {\"outlinewidth\": 0, \"ticks\": \"\"}}, \"marker\": {\"colorbar\": {\"outlinewidth\": 0, \"ticks\": \"\"}}, \"type\": \"scatter3d\"}], \"scattercarpet\": [{\"marker\": {\"colorbar\": {\"outlinewidth\": 0, \"ticks\": \"\"}}, \"type\": \"scattercarpet\"}], \"scattergeo\": [{\"marker\": {\"colorbar\": {\"outlinewidth\": 0, \"ticks\": \"\"}}, \"type\": \"scattergeo\"}], \"scattergl\": [{\"marker\": {\"colorbar\": {\"outlinewidth\": 0, \"ticks\": \"\"}}, \"type\": \"scattergl\"}], \"scattermapbox\": [{\"marker\": {\"colorbar\": {\"outlinewidth\": 0, \"ticks\": \"\"}}, \"type\": \"scattermapbox\"}], \"scatterpolar\": [{\"marker\": {\"colorbar\": {\"outlinewidth\": 0, \"ticks\": \"\"}}, \"type\": \"scatterpolar\"}], \"scatterpolargl\": [{\"marker\": {\"colorbar\": {\"outlinewidth\": 0, \"ticks\": \"\"}}, \"type\": \"scatterpolargl\"}], \"scatterternary\": [{\"marker\": {\"colorbar\": {\"outlinewidth\": 0, \"ticks\": \"\"}}, \"type\": \"scatterternary\"}], \"surface\": [{\"colorbar\": {\"outlinewidth\": 0, \"ticks\": \"\"}, \"colorscale\": [[0.0, \"#0d0887\"], [0.1111111111111111, \"#46039f\"], [0.2222222222222222, \"#7201a8\"], [0.3333333333333333, \"#9c179e\"], [0.4444444444444444, \"#bd3786\"], [0.5555555555555556, \"#d8576b\"], [0.6666666666666666, \"#ed7953\"], [0.7777777777777778, \"#fb9f3a\"], [0.8888888888888888, \"#fdca26\"], [1.0, \"#f0f921\"]], \"type\": \"surface\"}], \"table\": [{\"cells\": {\"fill\": {\"color\": \"#EBF0F8\"}, \"line\": {\"color\": \"white\"}}, \"header\": {\"fill\": {\"color\": \"#C8D4E3\"}, \"line\": {\"color\": \"white\"}}, \"type\": \"table\"}]}, \"layout\": {\"annotationdefaults\": {\"arrowcolor\": \"#2a3f5f\", \"arrowhead\": 0, \"arrowwidth\": 1}, \"coloraxis\": {\"colorbar\": {\"outlinewidth\": 0, \"ticks\": \"\"}}, \"colorscale\": {\"diverging\": [[0, \"#8e0152\"], [0.1, \"#c51b7d\"], [0.2, \"#de77ae\"], [0.3, \"#f1b6da\"], [0.4, \"#fde0ef\"], [0.5, \"#f7f7f7\"], [0.6, \"#e6f5d0\"], [0.7, \"#b8e186\"], [0.8, \"#7fbc41\"], [0.9, \"#4d9221\"], [1, \"#276419\"]], \"sequential\": [[0.0, \"#0d0887\"], [0.1111111111111111, \"#46039f\"], [0.2222222222222222, \"#7201a8\"], [0.3333333333333333, \"#9c179e\"], [0.4444444444444444, \"#bd3786\"], [0.5555555555555556, \"#d8576b\"], [0.6666666666666666, \"#ed7953\"], [0.7777777777777778, \"#fb9f3a\"], [0.8888888888888888, \"#fdca26\"], [1.0, \"#f0f921\"]], \"sequentialminus\": [[0.0, \"#0d0887\"], [0.1111111111111111, \"#46039f\"], [0.2222222222222222, \"#7201a8\"], [0.3333333333333333, \"#9c179e\"], [0.4444444444444444, \"#bd3786\"], [0.5555555555555556, \"#d8576b\"], [0.6666666666666666, \"#ed7953\"], [0.7777777777777778, \"#fb9f3a\"], [0.8888888888888888, \"#fdca26\"], [1.0, \"#f0f921\"]]}, \"colorway\": [\"#636efa\", \"#EF553B\", \"#00cc96\", \"#ab63fa\", \"#FFA15A\", \"#19d3f3\", \"#FF6692\", \"#B6E880\", \"#FF97FF\", \"#FECB52\"], \"font\": {\"color\": \"#2a3f5f\"}, \"geo\": {\"bgcolor\": \"white\", \"lakecolor\": \"white\", \"landcolor\": \"#E5ECF6\", \"showlakes\": true, \"showland\": true, \"subunitcolor\": \"white\"}, \"hoverlabel\": {\"align\": \"left\"}, \"hovermode\": \"closest\", \"mapbox\": {\"style\": \"light\"}, \"paper_bgcolor\": \"white\", \"plot_bgcolor\": \"#E5ECF6\", \"polar\": {\"angularaxis\": {\"gridcolor\": \"white\", \"linecolor\": \"white\", \"ticks\": \"\"}, \"bgcolor\": \"#E5ECF6\", \"radialaxis\": {\"gridcolor\": \"white\", \"linecolor\": \"white\", \"ticks\": \"\"}}, \"scene\": {\"xaxis\": {\"backgroundcolor\": \"#E5ECF6\", \"gridcolor\": \"white\", \"gridwidth\": 2, \"linecolor\": \"white\", \"showbackground\": true, \"ticks\": \"\", \"zerolinecolor\": \"white\"}, \"yaxis\": {\"backgroundcolor\": \"#E5ECF6\", \"gridcolor\": \"white\", \"gridwidth\": 2, \"linecolor\": \"white\", \"showbackground\": true, \"ticks\": \"\", \"zerolinecolor\": \"white\"}, \"zaxis\": {\"backgroundcolor\": \"#E5ECF6\", \"gridcolor\": \"white\", \"gridwidth\": 2, \"linecolor\": \"white\", \"showbackground\": true, \"ticks\": \"\", \"zerolinecolor\": \"white\"}}, \"shapedefaults\": {\"line\": {\"color\": \"#2a3f5f\"}}, \"ternary\": {\"aaxis\": {\"gridcolor\": \"white\", \"linecolor\": \"white\", \"ticks\": \"\"}, \"baxis\": {\"gridcolor\": \"white\", \"linecolor\": \"white\", \"ticks\": \"\"}, \"bgcolor\": \"#E5ECF6\", \"caxis\": {\"gridcolor\": \"white\", \"linecolor\": \"white\", \"ticks\": \"\"}}, \"title\": {\"x\": 0.05}, \"xaxis\": {\"automargin\": true, \"gridcolor\": \"white\", \"linecolor\": \"white\", \"ticks\": \"\", \"title\": {\"standoff\": 15}, \"zerolinecolor\": \"white\", \"zerolinewidth\": 2}, \"yaxis\": {\"automargin\": true, \"gridcolor\": \"white\", \"linecolor\": \"white\", \"ticks\": \"\", \"title\": {\"standoff\": 15}, \"zerolinecolor\": \"white\", \"zerolinewidth\": 2}}}, \"title\": {\"text\": \"OneClass SVM Outlier detection 3D Visualization on Agriculture Dataset \"}, \"width\": 900, \"xaxis\": {\"title\": {\"text\": \"Feature 1\"}}, \"yaxis\": {\"title\": {\"text\": \"Feature 2\"}}},\n",
              "                        {\"responsive\": true}\n",
              "                    ).then(function(){\n",
              "                            \n",
              "var gd = document.getElementById('0d2e01df-a1f2-4edd-9c41-f158c6bed239');\n",
              "var x = new MutationObserver(function (mutations, observer) {{\n",
              "        var display = window.getComputedStyle(gd).display;\n",
              "        if (!display || display === 'none') {{\n",
              "            console.log([gd, 'removed!']);\n",
              "            Plotly.purge(gd);\n",
              "            observer.disconnect();\n",
              "        }}\n",
              "}});\n",
              "\n",
              "// Listen for the removal of the full notebook cells\n",
              "var notebookContainer = gd.closest('#notebook-container');\n",
              "if (notebookContainer) {{\n",
              "    x.observe(notebookContainer, {childList: true});\n",
              "}}\n",
              "\n",
              "// Listen for the clearing of the current output cell\n",
              "var outputEl = gd.closest('.output');\n",
              "if (outputEl) {{\n",
              "    x.observe(outputEl, {childList: true});\n",
              "}}\n",
              "\n",
              "                        })\n",
              "                };\n",
              "                \n",
              "            </script>\n",
              "        </div>\n",
              "</body>\n",
              "</html>"
            ]
          },
          "metadata": {
            "tags": []
          }
        }
      ]
    },
    {
      "cell_type": "markdown",
      "metadata": {
        "id": "TR3Y_MsFihZE",
        "colab_type": "text"
      },
      "source": [
        "## **Isolation Forest**"
      ]
    },
    {
      "cell_type": "code",
      "metadata": {
        "id": "U12iQ45Qia_M",
        "colab_type": "code",
        "colab": {}
      },
      "source": [
        "iso_forest=IsolationForest(random_state=0)\n",
        "plt_data2d=plot_data.iloc[:,0:2]\n",
        "iso_forest.fit(plt_data2d)\n",
        "y_pred2d=iso_forest.predict(plt_data2d)\n",
        "\n",
        "iso_forest=IsolationForest(random_state=0)\n",
        "plt_data3d=plot_data.iloc[:,0:3]\n",
        "iso_forest.fit(plt_data3d)\n",
        "y_pred3d=iso_forest.predict(plt_data3d)"
      ],
      "execution_count": 0,
      "outputs": []
    },
    {
      "cell_type": "code",
      "metadata": {
        "id": "4F7W9TV5hyaa",
        "colab_type": "code",
        "colab": {
          "base_uri": "https://localhost:8080/",
          "height": 1000
        },
        "outputId": "267b34ba-c0ed-4df3-f3cf-331b6ef0bd86"
      },
      "source": [
        "colors=np.array(['red','green'])\n",
        "fig=px.scatter(plot_data, x= 'Feature 1',y='Feature 2',color=colors[(y_pred2d+1)//2],hover_data=['DISTRICT'],width=800, height=600)\n",
        "fig.update_layout(\n",
        "    title=\"Outliers by Isolation Forest on Agriculture Dataset\",\n",
        "    xaxis_title=\"Feature 1\",\n",
        "    yaxis_title=\"Feature 2\",\n",
        "    font=dict(\n",
        "        family=\"Courier New, monospace\",\n",
        "        size=12,\n",
        "        color=\"#7f7f7f\"\n",
        "    )\n",
        ")\n",
        "fig.show()\n",
        "\n",
        "fig=px.scatter_3d(plot_data, x= 'Feature 1',y='Feature 2',z='Feature 3',color=colors[(y_pred3d+1)//2],hover_data=['DISTRICT'],width=900, height=600)\n",
        "fig.update_layout(\n",
        "    title=\"Isolation Forest Outlier detection 3D Visualization on Agriculture Dataset \",\n",
        "    xaxis_title=\"Feature 1\",\n",
        "    yaxis_title=\"Feature 2\",\n",
        "    font=dict(\n",
        "        family=\"Courier New, monospace\",\n",
        "        size=12,\n",
        "        color=\"#7f7f7f\"\n",
        "    )\n",
        ")\n",
        "fig.show()\n"
      ],
      "execution_count": 69,
      "outputs": [
        {
          "output_type": "display_data",
          "data": {
            "text/html": [
              "<html>\n",
              "<head><meta charset=\"utf-8\" /></head>\n",
              "<body>\n",
              "    <div>\n",
              "            <script src=\"https://cdnjs.cloudflare.com/ajax/libs/mathjax/2.7.5/MathJax.js?config=TeX-AMS-MML_SVG\"></script><script type=\"text/javascript\">if (window.MathJax) {MathJax.Hub.Config({SVG: {font: \"STIX-Web\"}});}</script>\n",
              "                <script type=\"text/javascript\">window.PlotlyConfig = {MathJaxConfig: 'local'};</script>\n",
              "        <script src=\"https://cdn.plot.ly/plotly-latest.min.js\"></script>    \n",
              "            <div id=\"7092f098-6de6-41e1-86e6-0676f1f7af58\" class=\"plotly-graph-div\" style=\"height:600px; width:800px;\"></div>\n",
              "            <script type=\"text/javascript\">\n",
              "                \n",
              "                    window.PLOTLYENV=window.PLOTLYENV || {};\n",
              "                    \n",
              "                if (document.getElementById(\"7092f098-6de6-41e1-86e6-0676f1f7af58\")) {\n",
              "                    Plotly.newPlot(\n",
              "                        '7092f098-6de6-41e1-86e6-0676f1f7af58',\n",
              "                        [{\"customdata\": [[\"TAPLEJUNG\"], [\"SANKHUWASHAVA\"], [\"SOLUKHUMBU\"], [\"PANCHTHAR\"], [\"ILLAM\"], [\"TERHATHUM\"], [\"DHANKUTA\"], [\"BHOJPUR\"], [\"KHOTANG\"], [\"OKHALDHUNGA\"], [\"UDAYAPUR\"], [\"SIRAHA\"], [\"DOLAKHA\"], [\"SINDHUPALCHOK\"], [\"RASUWA\"], [\"RAMECHAP\"], [\"SINDHULI\"], [\"KAVRE\"], [\"BHAKTAPUR\"], [\"KATHMANDU\"], [\"NUWAKOT\"], [\"DHADING\"], [\"DHANUSHA\"], [\"MAHOTTARI\"], [\"SARLAHI\"], [\"RAUTAHAT\"], [\"BARA\"], [\"PARSA\"], [\"MANANG\"], [\"MUSTANG\"], [\"GORKHA\"], [\"LAMJUNG\"], [\"TANAHU\"], [\"KASKI\"], [\"PARBAT\"], [\"SYANGJA\"], [\"PALPA\"], [\"MYAGDI\"], [\"BAGLUNG\"], [\"GULMI\"], [\"ARGHAKHANCHI\"], [\"NAWALPARASI\"], [\"KAPILBASTU\"], [\"KALIKOT\"], [\"RUKUM\"], [\"ROLPA\"], [\"PYUTHAN\"], [\"SALYAN\"], [\"JAJARKOT\"], [\"DAILEKH\"], [\"SURKHET\"], [\"BANKE\"], [\"BARDIYA\"], [\"BAJURA\"], [\"BAJHANG\"], [\"DARCHULA\"], [\"ACHHAM\"], [\"DOTI\"], [\"BAITADI\"], [\"DADELDHURA\"], [\"KAILALI\"], [\"KANCHANPUR\"]], \"hoverlabel\": {\"namelength\": 0}, \"hovertemplate\": \"color=green<br>Feature 1=%{x}<br>Feature 2=%{y}<br>DISTRICT=%{customdata[0]}\", \"legendgroup\": \"color=green\", \"marker\": {\"color\": \"#636efa\", \"symbol\": \"circle\"}, \"mode\": \"markers\", \"name\": \"color=green\", \"showlegend\": true, \"type\": \"scatter\", \"x\": [-1.1842523624469143, -0.37207737029469723, -1.0745953742881336, -0.04782148005577272, -0.32628107366789033, -0.5950145671101935, -0.6030828977005644, -0.5379549735679925, -0.3942262301243105, -0.3271106352444824, 1.6284955562209598, 0.8445838901336908, -0.9734829830840346, -0.0735839678545651, -1.9940432650664601, -0.5486982530838417, 0.16416307512108025, 1.501566938364487, -0.7785765898968234, 0.7392579611041444, 0.5461167017825576, 0.9968701258820692, 0.4711292115817187, -0.027163809411365987, 0.3490184672773099, 0.08397113754866313, 1.5344488321912382, -0.0417394264343423, -2.2437063079767143, -2.22495653973393, -0.48599230352740036, -1.1442141798014818, -0.17232934217967996, 1.458137008332729, -0.6591790467258464, 0.2325076776609374, 0.06287782277902276, -0.22388277486882113, -0.8202157032142702, -0.9043881598245436, -0.46818364036667204, 2.234283015469844, 1.0641134936673717, -2.2538912216985953, -0.6278191593236547, -0.7811058502036423, -1.0825827889246848, -0.34364628383843737, -1.6706309684384257, -1.0092926645160283, 0.6781546741841393, 1.0788298473252382, 1.169041705861473, -1.8920444229606226, -1.7280532263107469, -1.9245574677312216, -1.254298370372701, -0.9493573372988782, -1.0854558474503568, -1.1911889554078063, 1.9780318583824388, 0.623576891718201], \"xaxis\": \"x\", \"y\": [0.04187208709068749, -0.21281812556699356, -0.0068669152996674145, -0.5968188071840502, -0.43422921528963115, -0.2647367460275124, -0.22192788950665018, -0.28926616694576895, -0.26973081522017095, -0.37400536620890656, -0.5714841351557802, -0.5335956646503166, 0.11128492851912555, -0.02897655402944136, 0.4327519453451943, -0.10839105108947425, -0.35032964153337576, 0.15691054900450596, 0.6250270772791401, 0.8760241924710946, 0.27663576611488605, 0.8891915829183537, -0.6762055268899119, -0.3293585482606595, -0.49053618389342074, -0.5021562520087536, -1.193275252190142, -0.42287587904377033, 0.5122675999810182, 0.5384422430461407, 0.4205327150705172, 0.49750836664615794, -0.181877274952684, 0.45666896879998103, -0.4258846868193712, -0.44664520556500514, -0.4475220948867664, -0.4297810944160251, -0.03307111518210254, 0.052593434147293845, -0.058337162753157715, -0.7184337331516498, -1.122652859205755, 0.872170679501627, -0.1256934692962158, -0.007824839071100948, 0.3838364576721653, -0.09407425397009367, 0.6257789039084333, 0.2232764796499756, -0.48866638534491724, -0.5578062940132777, -0.7908724693150808, 0.5499043965985206, 0.5644387824952393, 0.5822640601038468, 0.06746800336917207, -0.05543953885537818, -0.07873782939834804, -0.01625094192138679, -0.5509761918170112, -0.13992119143217815], \"yaxis\": \"y\"}, {\"customdata\": [[\"JHAPA\"], [\"MORANG\"], [\"SUNSARI\"], [\"SAPTARI\"], [\"LALITPUR\"], [\"MAKWANPUR\"], [\"CHITWAN\"], [\"RUPANDEHI\"], [\"DOLPA\"], [\"MUGU\"], [\"HUMLA\"], [\"JUMLA\"], [\"DANG\"]], \"hoverlabel\": {\"namelength\": 0}, \"hovertemplate\": \"color=red<br>Feature 1=%{x}<br>Feature 2=%{y}<br>DISTRICT=%{customdata[0]}\", \"legendgroup\": \"color=red\", \"marker\": {\"color\": \"#EF553B\", \"symbol\": \"circle\"}, \"mode\": \"markers\", \"name\": \"color=red\", \"showlegend\": true, \"type\": \"scatter\", \"x\": [2.8996357936135997, 4.812445737288908, 2.7706769186900115, 2.870316404911062, -0.2972310098811298, 1.0826663880298946, 8.62366264471198, 2.6161878051483622, -2.504918634385366, -2.6888645977531325, -2.5446961156361283, -3.0772600707096744, 3.038880665409848], \"xaxis\": \"x\", \"y\": [-1.1991515272169702, -3.3752859613999338, -1.617596252400012, -1.8718205371414545, 1.0809578090912657, 1.1786772587137868, 7.4245458938125495, -1.3962521910205257, 1.001001041569358, 1.2629108427949138, 0.9732416787287443, 1.7570739838006944, -0.32709789170359005], \"yaxis\": \"y\"}],\n",
              "                        {\"font\": {\"color\": \"#7f7f7f\", \"family\": \"Courier New, monospace\", \"size\": 12}, \"height\": 600, \"legend\": {\"tracegroupgap\": 0}, \"margin\": {\"t\": 60}, \"template\": {\"data\": {\"bar\": [{\"error_x\": {\"color\": \"#2a3f5f\"}, \"error_y\": {\"color\": \"#2a3f5f\"}, \"marker\": {\"line\": {\"color\": \"#E5ECF6\", \"width\": 0.5}}, \"type\": \"bar\"}], \"barpolar\": [{\"marker\": {\"line\": {\"color\": \"#E5ECF6\", \"width\": 0.5}}, \"type\": \"barpolar\"}], \"carpet\": [{\"aaxis\": {\"endlinecolor\": \"#2a3f5f\", \"gridcolor\": \"white\", \"linecolor\": \"white\", \"minorgridcolor\": \"white\", \"startlinecolor\": \"#2a3f5f\"}, \"baxis\": {\"endlinecolor\": \"#2a3f5f\", \"gridcolor\": \"white\", \"linecolor\": \"white\", \"minorgridcolor\": \"white\", \"startlinecolor\": \"#2a3f5f\"}, \"type\": \"carpet\"}], \"choropleth\": [{\"colorbar\": {\"outlinewidth\": 0, \"ticks\": \"\"}, \"type\": \"choropleth\"}], \"contour\": [{\"colorbar\": {\"outlinewidth\": 0, \"ticks\": \"\"}, \"colorscale\": [[0.0, \"#0d0887\"], [0.1111111111111111, \"#46039f\"], [0.2222222222222222, \"#7201a8\"], [0.3333333333333333, \"#9c179e\"], [0.4444444444444444, \"#bd3786\"], [0.5555555555555556, \"#d8576b\"], [0.6666666666666666, \"#ed7953\"], [0.7777777777777778, \"#fb9f3a\"], [0.8888888888888888, \"#fdca26\"], [1.0, \"#f0f921\"]], \"type\": \"contour\"}], \"contourcarpet\": [{\"colorbar\": {\"outlinewidth\": 0, \"ticks\": \"\"}, \"type\": \"contourcarpet\"}], \"heatmap\": [{\"colorbar\": {\"outlinewidth\": 0, \"ticks\": \"\"}, \"colorscale\": [[0.0, \"#0d0887\"], [0.1111111111111111, \"#46039f\"], [0.2222222222222222, \"#7201a8\"], [0.3333333333333333, \"#9c179e\"], [0.4444444444444444, \"#bd3786\"], [0.5555555555555556, \"#d8576b\"], [0.6666666666666666, \"#ed7953\"], [0.7777777777777778, \"#fb9f3a\"], [0.8888888888888888, \"#fdca26\"], [1.0, \"#f0f921\"]], \"type\": \"heatmap\"}], \"heatmapgl\": [{\"colorbar\": {\"outlinewidth\": 0, \"ticks\": \"\"}, \"colorscale\": [[0.0, \"#0d0887\"], [0.1111111111111111, \"#46039f\"], [0.2222222222222222, \"#7201a8\"], [0.3333333333333333, \"#9c179e\"], [0.4444444444444444, \"#bd3786\"], [0.5555555555555556, \"#d8576b\"], [0.6666666666666666, \"#ed7953\"], [0.7777777777777778, \"#fb9f3a\"], [0.8888888888888888, \"#fdca26\"], [1.0, \"#f0f921\"]], \"type\": \"heatmapgl\"}], \"histogram\": [{\"marker\": {\"colorbar\": {\"outlinewidth\": 0, \"ticks\": \"\"}}, \"type\": \"histogram\"}], \"histogram2d\": [{\"colorbar\": {\"outlinewidth\": 0, \"ticks\": \"\"}, \"colorscale\": [[0.0, \"#0d0887\"], [0.1111111111111111, \"#46039f\"], [0.2222222222222222, \"#7201a8\"], [0.3333333333333333, \"#9c179e\"], [0.4444444444444444, \"#bd3786\"], [0.5555555555555556, \"#d8576b\"], [0.6666666666666666, \"#ed7953\"], [0.7777777777777778, \"#fb9f3a\"], [0.8888888888888888, \"#fdca26\"], [1.0, \"#f0f921\"]], \"type\": \"histogram2d\"}], \"histogram2dcontour\": [{\"colorbar\": {\"outlinewidth\": 0, \"ticks\": \"\"}, \"colorscale\": [[0.0, \"#0d0887\"], [0.1111111111111111, \"#46039f\"], [0.2222222222222222, \"#7201a8\"], [0.3333333333333333, \"#9c179e\"], [0.4444444444444444, \"#bd3786\"], [0.5555555555555556, \"#d8576b\"], [0.6666666666666666, \"#ed7953\"], [0.7777777777777778, \"#fb9f3a\"], [0.8888888888888888, \"#fdca26\"], [1.0, \"#f0f921\"]], \"type\": \"histogram2dcontour\"}], \"mesh3d\": [{\"colorbar\": {\"outlinewidth\": 0, \"ticks\": \"\"}, \"type\": \"mesh3d\"}], \"parcoords\": [{\"line\": {\"colorbar\": {\"outlinewidth\": 0, \"ticks\": \"\"}}, \"type\": \"parcoords\"}], \"pie\": [{\"automargin\": true, \"type\": \"pie\"}], \"scatter\": [{\"marker\": {\"colorbar\": {\"outlinewidth\": 0, \"ticks\": \"\"}}, \"type\": \"scatter\"}], \"scatter3d\": [{\"line\": {\"colorbar\": {\"outlinewidth\": 0, \"ticks\": \"\"}}, \"marker\": {\"colorbar\": {\"outlinewidth\": 0, \"ticks\": \"\"}}, \"type\": \"scatter3d\"}], \"scattercarpet\": [{\"marker\": {\"colorbar\": {\"outlinewidth\": 0, \"ticks\": \"\"}}, \"type\": \"scattercarpet\"}], \"scattergeo\": [{\"marker\": {\"colorbar\": {\"outlinewidth\": 0, \"ticks\": \"\"}}, \"type\": \"scattergeo\"}], \"scattergl\": [{\"marker\": {\"colorbar\": {\"outlinewidth\": 0, \"ticks\": \"\"}}, \"type\": \"scattergl\"}], \"scattermapbox\": [{\"marker\": {\"colorbar\": {\"outlinewidth\": 0, \"ticks\": \"\"}}, \"type\": \"scattermapbox\"}], \"scatterpolar\": [{\"marker\": {\"colorbar\": {\"outlinewidth\": 0, \"ticks\": \"\"}}, \"type\": \"scatterpolar\"}], \"scatterpolargl\": [{\"marker\": {\"colorbar\": {\"outlinewidth\": 0, \"ticks\": \"\"}}, \"type\": \"scatterpolargl\"}], \"scatterternary\": [{\"marker\": {\"colorbar\": {\"outlinewidth\": 0, \"ticks\": \"\"}}, \"type\": \"scatterternary\"}], \"surface\": [{\"colorbar\": {\"outlinewidth\": 0, \"ticks\": \"\"}, \"colorscale\": [[0.0, \"#0d0887\"], [0.1111111111111111, \"#46039f\"], [0.2222222222222222, \"#7201a8\"], [0.3333333333333333, \"#9c179e\"], [0.4444444444444444, \"#bd3786\"], [0.5555555555555556, \"#d8576b\"], [0.6666666666666666, \"#ed7953\"], [0.7777777777777778, \"#fb9f3a\"], [0.8888888888888888, \"#fdca26\"], [1.0, \"#f0f921\"]], \"type\": \"surface\"}], \"table\": [{\"cells\": {\"fill\": {\"color\": \"#EBF0F8\"}, \"line\": {\"color\": \"white\"}}, \"header\": {\"fill\": {\"color\": \"#C8D4E3\"}, \"line\": {\"color\": \"white\"}}, \"type\": \"table\"}]}, \"layout\": {\"annotationdefaults\": {\"arrowcolor\": \"#2a3f5f\", \"arrowhead\": 0, \"arrowwidth\": 1}, \"coloraxis\": {\"colorbar\": {\"outlinewidth\": 0, \"ticks\": \"\"}}, \"colorscale\": {\"diverging\": [[0, \"#8e0152\"], [0.1, \"#c51b7d\"], [0.2, \"#de77ae\"], [0.3, \"#f1b6da\"], [0.4, \"#fde0ef\"], [0.5, \"#f7f7f7\"], [0.6, \"#e6f5d0\"], [0.7, \"#b8e186\"], [0.8, \"#7fbc41\"], [0.9, \"#4d9221\"], [1, \"#276419\"]], \"sequential\": [[0.0, \"#0d0887\"], [0.1111111111111111, \"#46039f\"], [0.2222222222222222, \"#7201a8\"], [0.3333333333333333, \"#9c179e\"], [0.4444444444444444, \"#bd3786\"], [0.5555555555555556, \"#d8576b\"], [0.6666666666666666, \"#ed7953\"], [0.7777777777777778, \"#fb9f3a\"], [0.8888888888888888, \"#fdca26\"], [1.0, \"#f0f921\"]], \"sequentialminus\": [[0.0, \"#0d0887\"], [0.1111111111111111, \"#46039f\"], [0.2222222222222222, \"#7201a8\"], [0.3333333333333333, \"#9c179e\"], [0.4444444444444444, \"#bd3786\"], [0.5555555555555556, \"#d8576b\"], [0.6666666666666666, \"#ed7953\"], [0.7777777777777778, \"#fb9f3a\"], [0.8888888888888888, \"#fdca26\"], [1.0, \"#f0f921\"]]}, \"colorway\": [\"#636efa\", \"#EF553B\", \"#00cc96\", \"#ab63fa\", \"#FFA15A\", \"#19d3f3\", \"#FF6692\", \"#B6E880\", \"#FF97FF\", \"#FECB52\"], \"font\": {\"color\": \"#2a3f5f\"}, \"geo\": {\"bgcolor\": \"white\", \"lakecolor\": \"white\", \"landcolor\": \"#E5ECF6\", \"showlakes\": true, \"showland\": true, \"subunitcolor\": \"white\"}, \"hoverlabel\": {\"align\": \"left\"}, \"hovermode\": \"closest\", \"mapbox\": {\"style\": \"light\"}, \"paper_bgcolor\": \"white\", \"plot_bgcolor\": \"#E5ECF6\", \"polar\": {\"angularaxis\": {\"gridcolor\": \"white\", \"linecolor\": \"white\", \"ticks\": \"\"}, \"bgcolor\": \"#E5ECF6\", \"radialaxis\": {\"gridcolor\": \"white\", \"linecolor\": \"white\", \"ticks\": \"\"}}, \"scene\": {\"xaxis\": {\"backgroundcolor\": \"#E5ECF6\", \"gridcolor\": \"white\", \"gridwidth\": 2, \"linecolor\": \"white\", \"showbackground\": true, \"ticks\": \"\", \"zerolinecolor\": \"white\"}, \"yaxis\": {\"backgroundcolor\": \"#E5ECF6\", \"gridcolor\": \"white\", \"gridwidth\": 2, \"linecolor\": \"white\", \"showbackground\": true, \"ticks\": \"\", \"zerolinecolor\": \"white\"}, \"zaxis\": {\"backgroundcolor\": \"#E5ECF6\", \"gridcolor\": \"white\", \"gridwidth\": 2, \"linecolor\": \"white\", \"showbackground\": true, \"ticks\": \"\", \"zerolinecolor\": \"white\"}}, \"shapedefaults\": {\"line\": {\"color\": \"#2a3f5f\"}}, \"ternary\": {\"aaxis\": {\"gridcolor\": \"white\", \"linecolor\": \"white\", \"ticks\": \"\"}, \"baxis\": {\"gridcolor\": \"white\", \"linecolor\": \"white\", \"ticks\": \"\"}, \"bgcolor\": \"#E5ECF6\", \"caxis\": {\"gridcolor\": \"white\", \"linecolor\": \"white\", \"ticks\": \"\"}}, \"title\": {\"x\": 0.05}, \"xaxis\": {\"automargin\": true, \"gridcolor\": \"white\", \"linecolor\": \"white\", \"ticks\": \"\", \"title\": {\"standoff\": 15}, \"zerolinecolor\": \"white\", \"zerolinewidth\": 2}, \"yaxis\": {\"automargin\": true, \"gridcolor\": \"white\", \"linecolor\": \"white\", \"ticks\": \"\", \"title\": {\"standoff\": 15}, \"zerolinecolor\": \"white\", \"zerolinewidth\": 2}}}, \"title\": {\"text\": \"Outliers by Isolation Forest on Agriculture Dataset\"}, \"width\": 800, \"xaxis\": {\"anchor\": \"y\", \"domain\": [0.0, 1.0], \"title\": {\"text\": \"Feature 1\"}}, \"yaxis\": {\"anchor\": \"x\", \"domain\": [0.0, 1.0], \"title\": {\"text\": \"Feature 2\"}}},\n",
              "                        {\"responsive\": true}\n",
              "                    ).then(function(){\n",
              "                            \n",
              "var gd = document.getElementById('7092f098-6de6-41e1-86e6-0676f1f7af58');\n",
              "var x = new MutationObserver(function (mutations, observer) {{\n",
              "        var display = window.getComputedStyle(gd).display;\n",
              "        if (!display || display === 'none') {{\n",
              "            console.log([gd, 'removed!']);\n",
              "            Plotly.purge(gd);\n",
              "            observer.disconnect();\n",
              "        }}\n",
              "}});\n",
              "\n",
              "// Listen for the removal of the full notebook cells\n",
              "var notebookContainer = gd.closest('#notebook-container');\n",
              "if (notebookContainer) {{\n",
              "    x.observe(notebookContainer, {childList: true});\n",
              "}}\n",
              "\n",
              "// Listen for the clearing of the current output cell\n",
              "var outputEl = gd.closest('.output');\n",
              "if (outputEl) {{\n",
              "    x.observe(outputEl, {childList: true});\n",
              "}}\n",
              "\n",
              "                        })\n",
              "                };\n",
              "                \n",
              "            </script>\n",
              "        </div>\n",
              "</body>\n",
              "</html>"
            ]
          },
          "metadata": {
            "tags": []
          }
        },
        {
          "output_type": "display_data",
          "data": {
            "text/html": [
              "<html>\n",
              "<head><meta charset=\"utf-8\" /></head>\n",
              "<body>\n",
              "    <div>\n",
              "            <script src=\"https://cdnjs.cloudflare.com/ajax/libs/mathjax/2.7.5/MathJax.js?config=TeX-AMS-MML_SVG\"></script><script type=\"text/javascript\">if (window.MathJax) {MathJax.Hub.Config({SVG: {font: \"STIX-Web\"}});}</script>\n",
              "                <script type=\"text/javascript\">window.PlotlyConfig = {MathJaxConfig: 'local'};</script>\n",
              "        <script src=\"https://cdn.plot.ly/plotly-latest.min.js\"></script>    \n",
              "            <div id=\"8484ab1f-71e3-48b2-9875-c26f4aac0807\" class=\"plotly-graph-div\" style=\"height:600px; width:900px;\"></div>\n",
              "            <script type=\"text/javascript\">\n",
              "                \n",
              "                    window.PLOTLYENV=window.PLOTLYENV || {};\n",
              "                    \n",
              "                if (document.getElementById(\"8484ab1f-71e3-48b2-9875-c26f4aac0807\")) {\n",
              "                    Plotly.newPlot(\n",
              "                        '8484ab1f-71e3-48b2-9875-c26f4aac0807',\n",
              "                        [{\"customdata\": [[\"TAPLEJUNG\"], [\"SANKHUWASHAVA\"], [\"SOLUKHUMBU\"], [\"PANCHTHAR\"], [\"ILLAM\"], [\"TERHATHUM\"], [\"DHANKUTA\"], [\"BHOJPUR\"], [\"KHOTANG\"], [\"OKHALDHUNGA\"], [\"UDAYAPUR\"], [\"JHAPA\"], [\"SUNSARI\"], [\"SAPTARI\"], [\"SIRAHA\"], [\"DOLAKHA\"], [\"SINDHUPALCHOK\"], [\"RASUWA\"], [\"RAMECHAP\"], [\"SINDHULI\"], [\"KAVRE\"], [\"BHAKTAPUR\"], [\"LALITPUR\"], [\"KATHMANDU\"], [\"NUWAKOT\"], [\"DHADING\"], [\"MAKWANPUR\"], [\"DHANUSHA\"], [\"MAHOTTARI\"], [\"SARLAHI\"], [\"RAUTAHAT\"], [\"BARA\"], [\"PARSA\"], [\"MUSTANG\"], [\"GORKHA\"], [\"LAMJUNG\"], [\"TANAHU\"], [\"PARBAT\"], [\"SYANGJA\"], [\"PALPA\"], [\"MYAGDI\"], [\"BAGLUNG\"], [\"GULMI\"], [\"ARGHAKHANCHI\"], [\"NAWALPARASI\"], [\"RUPANDEHI\"], [\"HUMLA\"], [\"KALIKOT\"], [\"RUKUM\"], [\"ROLPA\"], [\"PYUTHAN\"], [\"SALYAN\"], [\"JAJARKOT\"], [\"DAILEKH\"], [\"SURKHET\"], [\"BANKE\"], [\"BARDIYA\"], [\"BAJURA\"], [\"BAJHANG\"], [\"DARCHULA\"], [\"ACHHAM\"], [\"DOTI\"], [\"BAITADI\"], [\"DADELDHURA\"], [\"KANCHANPUR\"]], \"hoverlabel\": {\"namelength\": 0}, \"hovertemplate\": \"color=green<br>Feature 1=%{x}<br>Feature 2=%{y}<br>Feature 3=%{z}<br>DISTRICT=%{customdata[0]}\", \"legendgroup\": \"color=green\", \"marker\": {\"color\": \"#636efa\", \"symbol\": \"circle\"}, \"mode\": \"markers\", \"name\": \"color=green\", \"scene\": \"scene\", \"showlegend\": true, \"type\": \"scatter3d\", \"x\": [-1.1842523624469143, -0.37207737029469723, -1.0745953742881336, -0.04782148005577272, -0.32628107366789033, -0.5950145671101935, -0.6030828977005644, -0.5379549735679925, -0.3942262301243105, -0.3271106352444824, 1.6284955562209598, 2.8996357936135997, 2.7706769186900115, 2.870316404911062, 0.8445838901336908, -0.9734829830840346, -0.0735839678545651, -1.9940432650664601, -0.5486982530838417, 0.16416307512108025, 1.501566938364487, -0.7785765898968234, -0.2972310098811298, 0.7392579611041444, 0.5461167017825576, 0.9968701258820692, 1.0826663880298946, 0.4711292115817187, -0.027163809411365987, 0.3490184672773099, 0.08397113754866313, 1.5344488321912382, -0.0417394264343423, -2.22495653973393, -0.48599230352740036, -1.1442141798014818, -0.17232934217967996, -0.6591790467258464, 0.2325076776609374, 0.06287782277902276, -0.22388277486882113, -0.8202157032142702, -0.9043881598245436, -0.46818364036667204, 2.234283015469844, 2.6161878051483622, -2.5446961156361283, -2.2538912216985953, -0.6278191593236547, -0.7811058502036423, -1.0825827889246848, -0.34364628383843737, -1.6706309684384257, -1.0092926645160283, 0.6781546741841393, 1.0788298473252382, 1.169041705861473, -1.8920444229606226, -1.7280532263107469, -1.9245574677312216, -1.254298370372701, -0.9493573372988782, -1.0854558474503568, -1.1911889554078063, 0.623576891718201], \"y\": [0.04187208709068749, -0.21281812556699356, -0.0068669152996674145, -0.5968188071840502, -0.43422921528963115, -0.2647367460275124, -0.22192788950665018, -0.28926616694576895, -0.26973081522017095, -0.37400536620890656, -0.5714841351557802, -1.1991515272169702, -1.617596252400012, -1.8718205371414545, -0.5335956646503166, 0.11128492851912555, -0.02897655402944136, 0.4327519453451943, -0.10839105108947425, -0.35032964153337576, 0.15691054900450596, 0.6250270772791401, 1.0809578090912657, 0.8760241924710946, 0.27663576611488605, 0.8891915829183537, 1.1786772587137868, -0.6762055268899119, -0.3293585482606595, -0.49053618389342074, -0.5021562520087536, -1.193275252190142, -0.42287587904377033, 0.5384422430461407, 0.4205327150705172, 0.49750836664615794, -0.181877274952684, -0.4258846868193712, -0.44664520556500514, -0.4475220948867664, -0.4297810944160251, -0.03307111518210254, 0.052593434147293845, -0.058337162753157715, -0.7184337331516498, -1.3962521910205257, 0.9732416787287443, 0.872170679501627, -0.1256934692962158, -0.007824839071100948, 0.3838364576721653, -0.09407425397009367, 0.6257789039084333, 0.2232764796499756, -0.48866638534491724, -0.5578062940132777, -0.7908724693150808, 0.5499043965985206, 0.5644387824952393, 0.5822640601038468, 0.06746800336917207, -0.05543953885537818, -0.07873782939834804, -0.01625094192138679, -0.13992119143217815], \"z\": [-0.400079453350322, 0.10564853949915684, -0.45486857289095195, -0.6956614345672265, -0.8308695194894468, -0.422584791189198, -0.9762884893189795, 0.20680707850943456, -0.23239861193287686, -0.16428113030975364, -0.40329348503695794, -0.12674228884324157, 0.339265422646969, 0.43006383369987, -0.4845991484736814, -0.10530252593427841, -0.19230650565408405, -0.9480826056381902, -0.6979868234023295, -0.7177406706672697, -0.20181780804234228, -1.031430543562899, -1.0713306736531576, -0.7429353170434616, 0.750809552306875, -0.6430420511493212, -0.6921864979467196, -0.4692562576856844, -0.7669270399224969, -0.5874120682022574, -0.6440919886581533, -0.2675270799270627, -0.7737945279817499, -0.9193689952284047, 1.4108311297538394, 0.12312220183625514, -0.830975372777169, -0.4979507764233502, 0.29498132340390343, -0.5736175478924308, 0.006357969320643168, -0.5703023816408594, -0.47664066541576683, -0.9167373843404824, 0.4306218684035013, 0.3886327483895878, 0.7616308076414239, 1.0301644310776328, 0.177698062684227, 0.2009107371158989, 0.15444001845442068, 0.5635949832538395, 0.733222524320158, 0.10272914115735882, 0.04134779101159429, 0.5429230412940766, 0.459542680264346, 0.27082696079276425, 0.8831056528407378, 0.30679687167868214, -0.860611000183464, -0.9643695134075492, -1.0197039790116473, -1.03905589934447, -0.09587778127202794]}, {\"customdata\": [[\"MORANG\"], [\"CHITWAN\"], [\"MANANG\"], [\"KASKI\"], [\"KAPILBASTU\"], [\"DOLPA\"], [\"MUGU\"], [\"JUMLA\"], [\"DANG\"], [\"KAILALI\"]], \"hoverlabel\": {\"namelength\": 0}, \"hovertemplate\": \"color=red<br>Feature 1=%{x}<br>Feature 2=%{y}<br>Feature 3=%{z}<br>DISTRICT=%{customdata[0]}\", \"legendgroup\": \"color=red\", \"marker\": {\"color\": \"#EF553B\", \"symbol\": \"circle\"}, \"mode\": \"markers\", \"name\": \"color=red\", \"scene\": \"scene\", \"showlegend\": true, \"type\": \"scatter3d\", \"x\": [4.812445737288908, 8.62366264471198, -2.2437063079767143, 1.458137008332729, 1.0641134936673717, -2.504918634385366, -2.6888645977531325, -3.0772600707096744, 3.038880665409848, 1.9780318583824388], \"y\": [-3.3752859613999338, 7.4245458938125495, 0.5122675999810182, 0.45666896879998103, -1.122652859205755, 1.001001041569358, 1.2629108427949138, 1.7570739838006944, -0.32709789170359005, -0.5509761918170112], \"z\": [0.868425165024986, -0.8025606650575726, -1.1774063222608098, 2.1101897922024864, 1.2087452522472188, 1.1811142276493294, 2.0384870181433086, 4.077390521306308, 2.884620427649575, 1.4049684191496878]}],\n",
              "                        {\"font\": {\"color\": \"#7f7f7f\", \"family\": \"Courier New, monospace\", \"size\": 12}, \"height\": 600, \"legend\": {\"tracegroupgap\": 0}, \"margin\": {\"t\": 60}, \"scene\": {\"domain\": {\"x\": [0.0, 1.0], \"y\": [0.0, 1.0]}, \"xaxis\": {\"title\": {\"text\": \"Feature 1\"}}, \"yaxis\": {\"title\": {\"text\": \"Feature 2\"}}, \"zaxis\": {\"title\": {\"text\": \"Feature 3\"}}}, \"template\": {\"data\": {\"bar\": [{\"error_x\": {\"color\": \"#2a3f5f\"}, \"error_y\": {\"color\": \"#2a3f5f\"}, \"marker\": {\"line\": {\"color\": \"#E5ECF6\", \"width\": 0.5}}, \"type\": \"bar\"}], \"barpolar\": [{\"marker\": {\"line\": {\"color\": \"#E5ECF6\", \"width\": 0.5}}, \"type\": \"barpolar\"}], \"carpet\": [{\"aaxis\": {\"endlinecolor\": \"#2a3f5f\", \"gridcolor\": \"white\", \"linecolor\": \"white\", \"minorgridcolor\": \"white\", \"startlinecolor\": \"#2a3f5f\"}, \"baxis\": {\"endlinecolor\": \"#2a3f5f\", \"gridcolor\": \"white\", \"linecolor\": \"white\", \"minorgridcolor\": \"white\", \"startlinecolor\": \"#2a3f5f\"}, \"type\": \"carpet\"}], \"choropleth\": [{\"colorbar\": {\"outlinewidth\": 0, \"ticks\": \"\"}, \"type\": \"choropleth\"}], \"contour\": [{\"colorbar\": {\"outlinewidth\": 0, \"ticks\": \"\"}, \"colorscale\": [[0.0, \"#0d0887\"], [0.1111111111111111, \"#46039f\"], [0.2222222222222222, \"#7201a8\"], [0.3333333333333333, \"#9c179e\"], [0.4444444444444444, \"#bd3786\"], [0.5555555555555556, \"#d8576b\"], [0.6666666666666666, \"#ed7953\"], [0.7777777777777778, \"#fb9f3a\"], [0.8888888888888888, \"#fdca26\"], [1.0, \"#f0f921\"]], \"type\": \"contour\"}], \"contourcarpet\": [{\"colorbar\": {\"outlinewidth\": 0, \"ticks\": \"\"}, \"type\": \"contourcarpet\"}], \"heatmap\": [{\"colorbar\": {\"outlinewidth\": 0, \"ticks\": \"\"}, \"colorscale\": [[0.0, \"#0d0887\"], [0.1111111111111111, \"#46039f\"], [0.2222222222222222, \"#7201a8\"], [0.3333333333333333, \"#9c179e\"], [0.4444444444444444, \"#bd3786\"], [0.5555555555555556, \"#d8576b\"], [0.6666666666666666, \"#ed7953\"], [0.7777777777777778, \"#fb9f3a\"], [0.8888888888888888, \"#fdca26\"], [1.0, \"#f0f921\"]], \"type\": \"heatmap\"}], \"heatmapgl\": [{\"colorbar\": {\"outlinewidth\": 0, \"ticks\": \"\"}, \"colorscale\": [[0.0, \"#0d0887\"], [0.1111111111111111, \"#46039f\"], [0.2222222222222222, \"#7201a8\"], [0.3333333333333333, \"#9c179e\"], [0.4444444444444444, \"#bd3786\"], [0.5555555555555556, \"#d8576b\"], [0.6666666666666666, \"#ed7953\"], [0.7777777777777778, \"#fb9f3a\"], [0.8888888888888888, \"#fdca26\"], [1.0, \"#f0f921\"]], \"type\": \"heatmapgl\"}], \"histogram\": [{\"marker\": {\"colorbar\": {\"outlinewidth\": 0, \"ticks\": \"\"}}, \"type\": \"histogram\"}], \"histogram2d\": [{\"colorbar\": {\"outlinewidth\": 0, \"ticks\": \"\"}, \"colorscale\": [[0.0, \"#0d0887\"], [0.1111111111111111, \"#46039f\"], [0.2222222222222222, \"#7201a8\"], [0.3333333333333333, \"#9c179e\"], [0.4444444444444444, \"#bd3786\"], [0.5555555555555556, \"#d8576b\"], [0.6666666666666666, \"#ed7953\"], [0.7777777777777778, \"#fb9f3a\"], [0.8888888888888888, \"#fdca26\"], [1.0, \"#f0f921\"]], \"type\": \"histogram2d\"}], \"histogram2dcontour\": [{\"colorbar\": {\"outlinewidth\": 0, \"ticks\": \"\"}, \"colorscale\": [[0.0, \"#0d0887\"], [0.1111111111111111, \"#46039f\"], [0.2222222222222222, \"#7201a8\"], [0.3333333333333333, \"#9c179e\"], [0.4444444444444444, \"#bd3786\"], [0.5555555555555556, \"#d8576b\"], [0.6666666666666666, \"#ed7953\"], [0.7777777777777778, \"#fb9f3a\"], [0.8888888888888888, \"#fdca26\"], [1.0, \"#f0f921\"]], \"type\": \"histogram2dcontour\"}], \"mesh3d\": [{\"colorbar\": {\"outlinewidth\": 0, \"ticks\": \"\"}, \"type\": \"mesh3d\"}], \"parcoords\": [{\"line\": {\"colorbar\": {\"outlinewidth\": 0, \"ticks\": \"\"}}, \"type\": \"parcoords\"}], \"pie\": [{\"automargin\": true, \"type\": \"pie\"}], \"scatter\": [{\"marker\": {\"colorbar\": {\"outlinewidth\": 0, \"ticks\": \"\"}}, \"type\": \"scatter\"}], \"scatter3d\": [{\"line\": {\"colorbar\": {\"outlinewidth\": 0, \"ticks\": \"\"}}, \"marker\": {\"colorbar\": {\"outlinewidth\": 0, \"ticks\": \"\"}}, \"type\": \"scatter3d\"}], \"scattercarpet\": [{\"marker\": {\"colorbar\": {\"outlinewidth\": 0, \"ticks\": \"\"}}, \"type\": \"scattercarpet\"}], \"scattergeo\": [{\"marker\": {\"colorbar\": {\"outlinewidth\": 0, \"ticks\": \"\"}}, \"type\": \"scattergeo\"}], \"scattergl\": [{\"marker\": {\"colorbar\": {\"outlinewidth\": 0, \"ticks\": \"\"}}, \"type\": \"scattergl\"}], \"scattermapbox\": [{\"marker\": {\"colorbar\": {\"outlinewidth\": 0, \"ticks\": \"\"}}, \"type\": \"scattermapbox\"}], \"scatterpolar\": [{\"marker\": {\"colorbar\": {\"outlinewidth\": 0, \"ticks\": \"\"}}, \"type\": \"scatterpolar\"}], \"scatterpolargl\": [{\"marker\": {\"colorbar\": {\"outlinewidth\": 0, \"ticks\": \"\"}}, \"type\": \"scatterpolargl\"}], \"scatterternary\": [{\"marker\": {\"colorbar\": {\"outlinewidth\": 0, \"ticks\": \"\"}}, \"type\": \"scatterternary\"}], \"surface\": [{\"colorbar\": {\"outlinewidth\": 0, \"ticks\": \"\"}, \"colorscale\": [[0.0, \"#0d0887\"], [0.1111111111111111, \"#46039f\"], [0.2222222222222222, \"#7201a8\"], [0.3333333333333333, \"#9c179e\"], [0.4444444444444444, \"#bd3786\"], [0.5555555555555556, \"#d8576b\"], [0.6666666666666666, \"#ed7953\"], [0.7777777777777778, \"#fb9f3a\"], [0.8888888888888888, \"#fdca26\"], [1.0, \"#f0f921\"]], \"type\": \"surface\"}], \"table\": [{\"cells\": {\"fill\": {\"color\": \"#EBF0F8\"}, \"line\": {\"color\": \"white\"}}, \"header\": {\"fill\": {\"color\": \"#C8D4E3\"}, \"line\": {\"color\": \"white\"}}, \"type\": \"table\"}]}, \"layout\": {\"annotationdefaults\": {\"arrowcolor\": \"#2a3f5f\", \"arrowhead\": 0, \"arrowwidth\": 1}, \"coloraxis\": {\"colorbar\": {\"outlinewidth\": 0, \"ticks\": \"\"}}, \"colorscale\": {\"diverging\": [[0, \"#8e0152\"], [0.1, \"#c51b7d\"], [0.2, \"#de77ae\"], [0.3, \"#f1b6da\"], [0.4, \"#fde0ef\"], [0.5, \"#f7f7f7\"], [0.6, \"#e6f5d0\"], [0.7, \"#b8e186\"], [0.8, \"#7fbc41\"], [0.9, \"#4d9221\"], [1, \"#276419\"]], \"sequential\": [[0.0, \"#0d0887\"], [0.1111111111111111, \"#46039f\"], [0.2222222222222222, \"#7201a8\"], [0.3333333333333333, \"#9c179e\"], [0.4444444444444444, \"#bd3786\"], [0.5555555555555556, \"#d8576b\"], [0.6666666666666666, \"#ed7953\"], [0.7777777777777778, \"#fb9f3a\"], [0.8888888888888888, \"#fdca26\"], [1.0, \"#f0f921\"]], \"sequentialminus\": [[0.0, \"#0d0887\"], [0.1111111111111111, \"#46039f\"], [0.2222222222222222, \"#7201a8\"], [0.3333333333333333, \"#9c179e\"], [0.4444444444444444, \"#bd3786\"], [0.5555555555555556, \"#d8576b\"], [0.6666666666666666, \"#ed7953\"], [0.7777777777777778, \"#fb9f3a\"], [0.8888888888888888, \"#fdca26\"], [1.0, \"#f0f921\"]]}, \"colorway\": [\"#636efa\", \"#EF553B\", \"#00cc96\", \"#ab63fa\", \"#FFA15A\", \"#19d3f3\", \"#FF6692\", \"#B6E880\", \"#FF97FF\", \"#FECB52\"], \"font\": {\"color\": \"#2a3f5f\"}, \"geo\": {\"bgcolor\": \"white\", \"lakecolor\": \"white\", \"landcolor\": \"#E5ECF6\", \"showlakes\": true, \"showland\": true, \"subunitcolor\": \"white\"}, \"hoverlabel\": {\"align\": \"left\"}, \"hovermode\": \"closest\", \"mapbox\": {\"style\": \"light\"}, \"paper_bgcolor\": \"white\", \"plot_bgcolor\": \"#E5ECF6\", \"polar\": {\"angularaxis\": {\"gridcolor\": \"white\", \"linecolor\": \"white\", \"ticks\": \"\"}, \"bgcolor\": \"#E5ECF6\", \"radialaxis\": {\"gridcolor\": \"white\", \"linecolor\": \"white\", \"ticks\": \"\"}}, \"scene\": {\"xaxis\": {\"backgroundcolor\": \"#E5ECF6\", \"gridcolor\": \"white\", \"gridwidth\": 2, \"linecolor\": \"white\", \"showbackground\": true, \"ticks\": \"\", \"zerolinecolor\": \"white\"}, \"yaxis\": {\"backgroundcolor\": \"#E5ECF6\", \"gridcolor\": \"white\", \"gridwidth\": 2, \"linecolor\": \"white\", \"showbackground\": true, \"ticks\": \"\", \"zerolinecolor\": \"white\"}, \"zaxis\": {\"backgroundcolor\": \"#E5ECF6\", \"gridcolor\": \"white\", \"gridwidth\": 2, \"linecolor\": \"white\", \"showbackground\": true, \"ticks\": \"\", \"zerolinecolor\": \"white\"}}, \"shapedefaults\": {\"line\": {\"color\": \"#2a3f5f\"}}, \"ternary\": {\"aaxis\": {\"gridcolor\": \"white\", \"linecolor\": \"white\", \"ticks\": \"\"}, \"baxis\": {\"gridcolor\": \"white\", \"linecolor\": \"white\", \"ticks\": \"\"}, \"bgcolor\": \"#E5ECF6\", \"caxis\": {\"gridcolor\": \"white\", \"linecolor\": \"white\", \"ticks\": \"\"}}, \"title\": {\"x\": 0.05}, \"xaxis\": {\"automargin\": true, \"gridcolor\": \"white\", \"linecolor\": \"white\", \"ticks\": \"\", \"title\": {\"standoff\": 15}, \"zerolinecolor\": \"white\", \"zerolinewidth\": 2}, \"yaxis\": {\"automargin\": true, \"gridcolor\": \"white\", \"linecolor\": \"white\", \"ticks\": \"\", \"title\": {\"standoff\": 15}, \"zerolinecolor\": \"white\", \"zerolinewidth\": 2}}}, \"title\": {\"text\": \"Isolation Forest Outlier detection 3D Visualization on Agriculture Dataset \"}, \"width\": 900, \"xaxis\": {\"title\": {\"text\": \"Feature 1\"}}, \"yaxis\": {\"title\": {\"text\": \"Feature 2\"}}},\n",
              "                        {\"responsive\": true}\n",
              "                    ).then(function(){\n",
              "                            \n",
              "var gd = document.getElementById('8484ab1f-71e3-48b2-9875-c26f4aac0807');\n",
              "var x = new MutationObserver(function (mutations, observer) {{\n",
              "        var display = window.getComputedStyle(gd).display;\n",
              "        if (!display || display === 'none') {{\n",
              "            console.log([gd, 'removed!']);\n",
              "            Plotly.purge(gd);\n",
              "            observer.disconnect();\n",
              "        }}\n",
              "}});\n",
              "\n",
              "// Listen for the removal of the full notebook cells\n",
              "var notebookContainer = gd.closest('#notebook-container');\n",
              "if (notebookContainer) {{\n",
              "    x.observe(notebookContainer, {childList: true});\n",
              "}}\n",
              "\n",
              "// Listen for the clearing of the current output cell\n",
              "var outputEl = gd.closest('.output');\n",
              "if (outputEl) {{\n",
              "    x.observe(outputEl, {childList: true});\n",
              "}}\n",
              "\n",
              "                        })\n",
              "                };\n",
              "                \n",
              "            </script>\n",
              "        </div>\n",
              "</body>\n",
              "</html>"
            ]
          },
          "metadata": {
            "tags": []
          }
        }
      ]
    },
    {
      "cell_type": "markdown",
      "metadata": {
        "id": "bG_dQCWejN0o",
        "colab_type": "text"
      },
      "source": [
        "## **Local Outlier**"
      ]
    },
    {
      "cell_type": "code",
      "metadata": {
        "id": "PaZjsCdzjHQu",
        "colab_type": "code",
        "colab": {}
      },
      "source": [
        "loc_outlier=LocalOutlierFactor()\n",
        "plt_data2d=plot_data.iloc[:,0:2]\n",
        "y_pred2d=loc_outlier.fit_predict(plt_data2d)\n",
        "\n",
        "\n",
        "loc_outlier=LocalOutlierFactor()\n",
        "plt_data3d=plot_data.iloc[:,0:3]\n",
        "y_pred3d=loc_outlier.fit_predict(plt_data3d)"
      ],
      "execution_count": 0,
      "outputs": []
    },
    {
      "cell_type": "code",
      "metadata": {
        "id": "ANdKy3gxjlhM",
        "colab_type": "code",
        "colab": {
          "base_uri": "https://localhost:8080/",
          "height": 1000
        },
        "outputId": "4d303c44-4c03-4ca4-f452-ab6a65ead754"
      },
      "source": [
        "colors=np.array(['red','green'])\n",
        "fig=px.scatter(plot_data, x= 'Feature 1',y='Feature 2',color=colors[(y_pred2d+1)//2],hover_data=['DISTRICT'],width=800, height=600)\n",
        "fig.update_layout(\n",
        "    title=\"Outliers by Local Outlier on Agriculture Dataset\",\n",
        "    xaxis_title=\"Feature 1\",\n",
        "    yaxis_title=\"Feature 2\",\n",
        "    font=dict(\n",
        "        family=\"Courier New, monospace\",\n",
        "        size=12,\n",
        "        color=\"#7f7f7f\"\n",
        "    )\n",
        ")\n",
        "fig.show()\n",
        "\n",
        "fig=px.scatter_3d(plot_data, x= 'Feature 1',y='Feature 2',z='Feature 3',color=colors[(y_pred3d+1)//2],hover_data=['DISTRICT'],width=900, height=600)\n",
        "fig.update_layout(\n",
        "    title=\"Local Outlier detection 3D Visualization on Agriculture Dataset \",\n",
        "    xaxis_title=\"Feature 1\",\n",
        "    yaxis_title=\"Feature 2\",\n",
        "    font=dict(\n",
        "        family=\"Courier New, monospace\",\n",
        "        size=12,\n",
        "        color=\"#7f7f7f\"\n",
        "    )\n",
        ")\n",
        "fig.show()\n"
      ],
      "execution_count": 74,
      "outputs": [
        {
          "output_type": "display_data",
          "data": {
            "text/html": [
              "<html>\n",
              "<head><meta charset=\"utf-8\" /></head>\n",
              "<body>\n",
              "    <div>\n",
              "            <script src=\"https://cdnjs.cloudflare.com/ajax/libs/mathjax/2.7.5/MathJax.js?config=TeX-AMS-MML_SVG\"></script><script type=\"text/javascript\">if (window.MathJax) {MathJax.Hub.Config({SVG: {font: \"STIX-Web\"}});}</script>\n",
              "                <script type=\"text/javascript\">window.PlotlyConfig = {MathJaxConfig: 'local'};</script>\n",
              "        <script src=\"https://cdn.plot.ly/plotly-latest.min.js\"></script>    \n",
              "            <div id=\"496f6e46-c071-410f-b4e2-322e0a1ca935\" class=\"plotly-graph-div\" style=\"height:600px; width:800px;\"></div>\n",
              "            <script type=\"text/javascript\">\n",
              "                \n",
              "                    window.PLOTLYENV=window.PLOTLYENV || {};\n",
              "                    \n",
              "                if (document.getElementById(\"496f6e46-c071-410f-b4e2-322e0a1ca935\")) {\n",
              "                    Plotly.newPlot(\n",
              "                        '496f6e46-c071-410f-b4e2-322e0a1ca935',\n",
              "                        [{\"customdata\": [[\"TAPLEJUNG\"], [\"SANKHUWASHAVA\"], [\"SOLUKHUMBU\"], [\"PANCHTHAR\"], [\"ILLAM\"], [\"TERHATHUM\"], [\"DHANKUTA\"], [\"BHOJPUR\"], [\"KHOTANG\"], [\"OKHALDHUNGA\"], [\"UDAYAPUR\"], [\"SIRAHA\"], [\"DOLAKHA\"], [\"SINDHUPALCHOK\"], [\"RASUWA\"], [\"RAMECHAP\"], [\"SINDHULI\"], [\"KAVRE\"], [\"BHAKTAPUR\"], [\"NUWAKOT\"], [\"DHANUSHA\"], [\"MAHOTTARI\"], [\"SARLAHI\"], [\"RAUTAHAT\"], [\"PARSA\"], [\"MANANG\"], [\"MUSTANG\"], [\"GORKHA\"], [\"LAMJUNG\"], [\"TANAHU\"], [\"KASKI\"], [\"PARBAT\"], [\"SYANGJA\"], [\"PALPA\"], [\"MYAGDI\"], [\"BAGLUNG\"], [\"GULMI\"], [\"ARGHAKHANCHI\"], [\"NAWALPARASI\"], [\"KAPILBASTU\"], [\"RUKUM\"], [\"ROLPA\"], [\"PYUTHAN\"], [\"SALYAN\"], [\"JAJARKOT\"], [\"DAILEKH\"], [\"SURKHET\"], [\"BANKE\"], [\"BARDIYA\"], [\"BAJURA\"], [\"BAJHANG\"], [\"DARCHULA\"], [\"ACHHAM\"], [\"DOTI\"], [\"BAITADI\"], [\"DADELDHURA\"], [\"KAILALI\"], [\"KANCHANPUR\"]], \"hoverlabel\": {\"namelength\": 0}, \"hovertemplate\": \"color=green<br>Feature 1=%{x}<br>Feature 2=%{y}<br>DISTRICT=%{customdata[0]}\", \"legendgroup\": \"color=green\", \"marker\": {\"color\": \"#636efa\", \"symbol\": \"circle\"}, \"mode\": \"markers\", \"name\": \"color=green\", \"showlegend\": true, \"type\": \"scatter\", \"x\": [-1.1842523624469143, -0.37207737029469723, -1.0745953742881336, -0.04782148005577272, -0.32628107366789033, -0.5950145671101935, -0.6030828977005644, -0.5379549735679925, -0.3942262301243105, -0.3271106352444824, 1.6284955562209598, 0.8445838901336908, -0.9734829830840346, -0.0735839678545651, -1.9940432650664601, -0.5486982530838417, 0.16416307512108025, 1.501566938364487, -0.7785765898968234, 0.5461167017825576, 0.4711292115817187, -0.027163809411365987, 0.3490184672773099, 0.08397113754866313, -0.0417394264343423, -2.2437063079767143, -2.22495653973393, -0.48599230352740036, -1.1442141798014818, -0.17232934217967996, 1.458137008332729, -0.6591790467258464, 0.2325076776609374, 0.06287782277902276, -0.22388277486882113, -0.8202157032142702, -0.9043881598245436, -0.46818364036667204, 2.234283015469844, 1.0641134936673717, -0.6278191593236547, -0.7811058502036423, -1.0825827889246848, -0.34364628383843737, -1.6706309684384257, -1.0092926645160283, 0.6781546741841393, 1.0788298473252382, 1.169041705861473, -1.8920444229606226, -1.7280532263107469, -1.9245574677312216, -1.254298370372701, -0.9493573372988782, -1.0854558474503568, -1.1911889554078063, 1.9780318583824388, 0.623576891718201], \"xaxis\": \"x\", \"y\": [0.04187208709068749, -0.21281812556699356, -0.0068669152996674145, -0.5968188071840502, -0.43422921528963115, -0.2647367460275124, -0.22192788950665018, -0.28926616694576895, -0.26973081522017095, -0.37400536620890656, -0.5714841351557802, -0.5335956646503166, 0.11128492851912555, -0.02897655402944136, 0.4327519453451943, -0.10839105108947425, -0.35032964153337576, 0.15691054900450596, 0.6250270772791401, 0.27663576611488605, -0.6762055268899119, -0.3293585482606595, -0.49053618389342074, -0.5021562520087536, -0.42287587904377033, 0.5122675999810182, 0.5384422430461407, 0.4205327150705172, 0.49750836664615794, -0.181877274952684, 0.45666896879998103, -0.4258846868193712, -0.44664520556500514, -0.4475220948867664, -0.4297810944160251, -0.03307111518210254, 0.052593434147293845, -0.058337162753157715, -0.7184337331516498, -1.122652859205755, -0.1256934692962158, -0.007824839071100948, 0.3838364576721653, -0.09407425397009367, 0.6257789039084333, 0.2232764796499756, -0.48866638534491724, -0.5578062940132777, -0.7908724693150808, 0.5499043965985206, 0.5644387824952393, 0.5822640601038468, 0.06746800336917207, -0.05543953885537818, -0.07873782939834804, -0.01625094192138679, -0.5509761918170112, -0.13992119143217815], \"yaxis\": \"y\"}, {\"customdata\": [[\"JHAPA\"], [\"MORANG\"], [\"SUNSARI\"], [\"SAPTARI\"], [\"LALITPUR\"], [\"KATHMANDU\"], [\"DHADING\"], [\"MAKWANPUR\"], [\"BARA\"], [\"CHITWAN\"], [\"RUPANDEHI\"], [\"DOLPA\"], [\"MUGU\"], [\"HUMLA\"], [\"JUMLA\"], [\"KALIKOT\"], [\"DANG\"]], \"hoverlabel\": {\"namelength\": 0}, \"hovertemplate\": \"color=red<br>Feature 1=%{x}<br>Feature 2=%{y}<br>DISTRICT=%{customdata[0]}\", \"legendgroup\": \"color=red\", \"marker\": {\"color\": \"#EF553B\", \"symbol\": \"circle\"}, \"mode\": \"markers\", \"name\": \"color=red\", \"showlegend\": true, \"type\": \"scatter\", \"x\": [2.8996357936135997, 4.812445737288908, 2.7706769186900115, 2.870316404911062, -0.2972310098811298, 0.7392579611041444, 0.9968701258820692, 1.0826663880298946, 1.5344488321912382, 8.62366264471198, 2.6161878051483622, -2.504918634385366, -2.6888645977531325, -2.5446961156361283, -3.0772600707096744, -2.2538912216985953, 3.038880665409848], \"xaxis\": \"x\", \"y\": [-1.1991515272169702, -3.3752859613999338, -1.617596252400012, -1.8718205371414545, 1.0809578090912657, 0.8760241924710946, 0.8891915829183537, 1.1786772587137868, -1.193275252190142, 7.4245458938125495, -1.3962521910205257, 1.001001041569358, 1.2629108427949138, 0.9732416787287443, 1.7570739838006944, 0.872170679501627, -0.32709789170359005], \"yaxis\": \"y\"}],\n",
              "                        {\"font\": {\"color\": \"#7f7f7f\", \"family\": \"Courier New, monospace\", \"size\": 12}, \"height\": 600, \"legend\": {\"tracegroupgap\": 0}, \"margin\": {\"t\": 60}, \"template\": {\"data\": {\"bar\": [{\"error_x\": {\"color\": \"#2a3f5f\"}, \"error_y\": {\"color\": \"#2a3f5f\"}, \"marker\": {\"line\": {\"color\": \"#E5ECF6\", \"width\": 0.5}}, \"type\": \"bar\"}], \"barpolar\": [{\"marker\": {\"line\": {\"color\": \"#E5ECF6\", \"width\": 0.5}}, \"type\": \"barpolar\"}], \"carpet\": [{\"aaxis\": {\"endlinecolor\": \"#2a3f5f\", \"gridcolor\": \"white\", \"linecolor\": \"white\", \"minorgridcolor\": \"white\", \"startlinecolor\": \"#2a3f5f\"}, \"baxis\": {\"endlinecolor\": \"#2a3f5f\", \"gridcolor\": \"white\", \"linecolor\": \"white\", \"minorgridcolor\": \"white\", \"startlinecolor\": \"#2a3f5f\"}, \"type\": \"carpet\"}], \"choropleth\": [{\"colorbar\": {\"outlinewidth\": 0, \"ticks\": \"\"}, \"type\": \"choropleth\"}], \"contour\": [{\"colorbar\": {\"outlinewidth\": 0, \"ticks\": \"\"}, \"colorscale\": [[0.0, \"#0d0887\"], [0.1111111111111111, \"#46039f\"], [0.2222222222222222, \"#7201a8\"], [0.3333333333333333, \"#9c179e\"], [0.4444444444444444, \"#bd3786\"], [0.5555555555555556, \"#d8576b\"], [0.6666666666666666, \"#ed7953\"], [0.7777777777777778, \"#fb9f3a\"], [0.8888888888888888, \"#fdca26\"], [1.0, \"#f0f921\"]], \"type\": \"contour\"}], \"contourcarpet\": [{\"colorbar\": {\"outlinewidth\": 0, \"ticks\": \"\"}, \"type\": \"contourcarpet\"}], \"heatmap\": [{\"colorbar\": {\"outlinewidth\": 0, \"ticks\": \"\"}, \"colorscale\": [[0.0, \"#0d0887\"], [0.1111111111111111, \"#46039f\"], [0.2222222222222222, \"#7201a8\"], [0.3333333333333333, \"#9c179e\"], [0.4444444444444444, \"#bd3786\"], [0.5555555555555556, \"#d8576b\"], [0.6666666666666666, \"#ed7953\"], [0.7777777777777778, \"#fb9f3a\"], [0.8888888888888888, \"#fdca26\"], [1.0, \"#f0f921\"]], \"type\": \"heatmap\"}], \"heatmapgl\": [{\"colorbar\": {\"outlinewidth\": 0, \"ticks\": \"\"}, \"colorscale\": [[0.0, \"#0d0887\"], [0.1111111111111111, \"#46039f\"], [0.2222222222222222, \"#7201a8\"], [0.3333333333333333, \"#9c179e\"], [0.4444444444444444, \"#bd3786\"], [0.5555555555555556, \"#d8576b\"], [0.6666666666666666, \"#ed7953\"], [0.7777777777777778, \"#fb9f3a\"], [0.8888888888888888, \"#fdca26\"], [1.0, \"#f0f921\"]], \"type\": \"heatmapgl\"}], \"histogram\": [{\"marker\": {\"colorbar\": {\"outlinewidth\": 0, \"ticks\": \"\"}}, \"type\": \"histogram\"}], \"histogram2d\": [{\"colorbar\": {\"outlinewidth\": 0, \"ticks\": \"\"}, \"colorscale\": [[0.0, \"#0d0887\"], [0.1111111111111111, \"#46039f\"], [0.2222222222222222, \"#7201a8\"], [0.3333333333333333, \"#9c179e\"], [0.4444444444444444, \"#bd3786\"], [0.5555555555555556, \"#d8576b\"], [0.6666666666666666, \"#ed7953\"], [0.7777777777777778, \"#fb9f3a\"], [0.8888888888888888, \"#fdca26\"], [1.0, \"#f0f921\"]], \"type\": \"histogram2d\"}], \"histogram2dcontour\": [{\"colorbar\": {\"outlinewidth\": 0, \"ticks\": \"\"}, \"colorscale\": [[0.0, \"#0d0887\"], [0.1111111111111111, \"#46039f\"], [0.2222222222222222, \"#7201a8\"], [0.3333333333333333, \"#9c179e\"], [0.4444444444444444, \"#bd3786\"], [0.5555555555555556, \"#d8576b\"], [0.6666666666666666, \"#ed7953\"], [0.7777777777777778, \"#fb9f3a\"], [0.8888888888888888, \"#fdca26\"], [1.0, \"#f0f921\"]], \"type\": \"histogram2dcontour\"}], \"mesh3d\": [{\"colorbar\": {\"outlinewidth\": 0, \"ticks\": \"\"}, \"type\": \"mesh3d\"}], \"parcoords\": [{\"line\": {\"colorbar\": {\"outlinewidth\": 0, \"ticks\": \"\"}}, \"type\": \"parcoords\"}], \"pie\": [{\"automargin\": true, \"type\": \"pie\"}], \"scatter\": [{\"marker\": {\"colorbar\": {\"outlinewidth\": 0, \"ticks\": \"\"}}, \"type\": \"scatter\"}], \"scatter3d\": [{\"line\": {\"colorbar\": {\"outlinewidth\": 0, \"ticks\": \"\"}}, \"marker\": {\"colorbar\": {\"outlinewidth\": 0, \"ticks\": \"\"}}, \"type\": \"scatter3d\"}], \"scattercarpet\": [{\"marker\": {\"colorbar\": {\"outlinewidth\": 0, \"ticks\": \"\"}}, \"type\": \"scattercarpet\"}], \"scattergeo\": [{\"marker\": {\"colorbar\": {\"outlinewidth\": 0, \"ticks\": \"\"}}, \"type\": \"scattergeo\"}], \"scattergl\": [{\"marker\": {\"colorbar\": {\"outlinewidth\": 0, \"ticks\": \"\"}}, \"type\": \"scattergl\"}], \"scattermapbox\": [{\"marker\": {\"colorbar\": {\"outlinewidth\": 0, \"ticks\": \"\"}}, \"type\": \"scattermapbox\"}], \"scatterpolar\": [{\"marker\": {\"colorbar\": {\"outlinewidth\": 0, \"ticks\": \"\"}}, \"type\": \"scatterpolar\"}], \"scatterpolargl\": [{\"marker\": {\"colorbar\": {\"outlinewidth\": 0, \"ticks\": \"\"}}, \"type\": \"scatterpolargl\"}], \"scatterternary\": [{\"marker\": {\"colorbar\": {\"outlinewidth\": 0, \"ticks\": \"\"}}, \"type\": \"scatterternary\"}], \"surface\": [{\"colorbar\": {\"outlinewidth\": 0, \"ticks\": \"\"}, \"colorscale\": [[0.0, \"#0d0887\"], [0.1111111111111111, \"#46039f\"], [0.2222222222222222, \"#7201a8\"], [0.3333333333333333, \"#9c179e\"], [0.4444444444444444, \"#bd3786\"], [0.5555555555555556, \"#d8576b\"], [0.6666666666666666, \"#ed7953\"], [0.7777777777777778, \"#fb9f3a\"], [0.8888888888888888, \"#fdca26\"], [1.0, \"#f0f921\"]], \"type\": \"surface\"}], \"table\": [{\"cells\": {\"fill\": {\"color\": \"#EBF0F8\"}, \"line\": {\"color\": \"white\"}}, \"header\": {\"fill\": {\"color\": \"#C8D4E3\"}, \"line\": {\"color\": \"white\"}}, \"type\": \"table\"}]}, \"layout\": {\"annotationdefaults\": {\"arrowcolor\": \"#2a3f5f\", \"arrowhead\": 0, \"arrowwidth\": 1}, \"coloraxis\": {\"colorbar\": {\"outlinewidth\": 0, \"ticks\": \"\"}}, \"colorscale\": {\"diverging\": [[0, \"#8e0152\"], [0.1, \"#c51b7d\"], [0.2, \"#de77ae\"], [0.3, \"#f1b6da\"], [0.4, \"#fde0ef\"], [0.5, \"#f7f7f7\"], [0.6, \"#e6f5d0\"], [0.7, \"#b8e186\"], [0.8, \"#7fbc41\"], [0.9, \"#4d9221\"], [1, \"#276419\"]], \"sequential\": [[0.0, \"#0d0887\"], [0.1111111111111111, \"#46039f\"], [0.2222222222222222, \"#7201a8\"], [0.3333333333333333, \"#9c179e\"], [0.4444444444444444, \"#bd3786\"], [0.5555555555555556, \"#d8576b\"], [0.6666666666666666, \"#ed7953\"], [0.7777777777777778, \"#fb9f3a\"], [0.8888888888888888, \"#fdca26\"], [1.0, \"#f0f921\"]], \"sequentialminus\": [[0.0, \"#0d0887\"], [0.1111111111111111, \"#46039f\"], [0.2222222222222222, \"#7201a8\"], [0.3333333333333333, \"#9c179e\"], [0.4444444444444444, \"#bd3786\"], [0.5555555555555556, \"#d8576b\"], [0.6666666666666666, \"#ed7953\"], [0.7777777777777778, \"#fb9f3a\"], [0.8888888888888888, \"#fdca26\"], [1.0, \"#f0f921\"]]}, \"colorway\": [\"#636efa\", \"#EF553B\", \"#00cc96\", \"#ab63fa\", \"#FFA15A\", \"#19d3f3\", \"#FF6692\", \"#B6E880\", \"#FF97FF\", \"#FECB52\"], \"font\": {\"color\": \"#2a3f5f\"}, \"geo\": {\"bgcolor\": \"white\", \"lakecolor\": \"white\", \"landcolor\": \"#E5ECF6\", \"showlakes\": true, \"showland\": true, \"subunitcolor\": \"white\"}, \"hoverlabel\": {\"align\": \"left\"}, \"hovermode\": \"closest\", \"mapbox\": {\"style\": \"light\"}, \"paper_bgcolor\": \"white\", \"plot_bgcolor\": \"#E5ECF6\", \"polar\": {\"angularaxis\": {\"gridcolor\": \"white\", \"linecolor\": \"white\", \"ticks\": \"\"}, \"bgcolor\": \"#E5ECF6\", \"radialaxis\": {\"gridcolor\": \"white\", \"linecolor\": \"white\", \"ticks\": \"\"}}, \"scene\": {\"xaxis\": {\"backgroundcolor\": \"#E5ECF6\", \"gridcolor\": \"white\", \"gridwidth\": 2, \"linecolor\": \"white\", \"showbackground\": true, \"ticks\": \"\", \"zerolinecolor\": \"white\"}, \"yaxis\": {\"backgroundcolor\": \"#E5ECF6\", \"gridcolor\": \"white\", \"gridwidth\": 2, \"linecolor\": \"white\", \"showbackground\": true, \"ticks\": \"\", \"zerolinecolor\": \"white\"}, \"zaxis\": {\"backgroundcolor\": \"#E5ECF6\", \"gridcolor\": \"white\", \"gridwidth\": 2, \"linecolor\": \"white\", \"showbackground\": true, \"ticks\": \"\", \"zerolinecolor\": \"white\"}}, \"shapedefaults\": {\"line\": {\"color\": \"#2a3f5f\"}}, \"ternary\": {\"aaxis\": {\"gridcolor\": \"white\", \"linecolor\": \"white\", \"ticks\": \"\"}, \"baxis\": {\"gridcolor\": \"white\", \"linecolor\": \"white\", \"ticks\": \"\"}, \"bgcolor\": \"#E5ECF6\", \"caxis\": {\"gridcolor\": \"white\", \"linecolor\": \"white\", \"ticks\": \"\"}}, \"title\": {\"x\": 0.05}, \"xaxis\": {\"automargin\": true, \"gridcolor\": \"white\", \"linecolor\": \"white\", \"ticks\": \"\", \"title\": {\"standoff\": 15}, \"zerolinecolor\": \"white\", \"zerolinewidth\": 2}, \"yaxis\": {\"automargin\": true, \"gridcolor\": \"white\", \"linecolor\": \"white\", \"ticks\": \"\", \"title\": {\"standoff\": 15}, \"zerolinecolor\": \"white\", \"zerolinewidth\": 2}}}, \"title\": {\"text\": \"Outliers by Local Outlier on Agriculture Dataset\"}, \"width\": 800, \"xaxis\": {\"anchor\": \"y\", \"domain\": [0.0, 1.0], \"title\": {\"text\": \"Feature 1\"}}, \"yaxis\": {\"anchor\": \"x\", \"domain\": [0.0, 1.0], \"title\": {\"text\": \"Feature 2\"}}},\n",
              "                        {\"responsive\": true}\n",
              "                    ).then(function(){\n",
              "                            \n",
              "var gd = document.getElementById('496f6e46-c071-410f-b4e2-322e0a1ca935');\n",
              "var x = new MutationObserver(function (mutations, observer) {{\n",
              "        var display = window.getComputedStyle(gd).display;\n",
              "        if (!display || display === 'none') {{\n",
              "            console.log([gd, 'removed!']);\n",
              "            Plotly.purge(gd);\n",
              "            observer.disconnect();\n",
              "        }}\n",
              "}});\n",
              "\n",
              "// Listen for the removal of the full notebook cells\n",
              "var notebookContainer = gd.closest('#notebook-container');\n",
              "if (notebookContainer) {{\n",
              "    x.observe(notebookContainer, {childList: true});\n",
              "}}\n",
              "\n",
              "// Listen for the clearing of the current output cell\n",
              "var outputEl = gd.closest('.output');\n",
              "if (outputEl) {{\n",
              "    x.observe(outputEl, {childList: true});\n",
              "}}\n",
              "\n",
              "                        })\n",
              "                };\n",
              "                \n",
              "            </script>\n",
              "        </div>\n",
              "</body>\n",
              "</html>"
            ]
          },
          "metadata": {
            "tags": []
          }
        },
        {
          "output_type": "display_data",
          "data": {
            "text/html": [
              "<html>\n",
              "<head><meta charset=\"utf-8\" /></head>\n",
              "<body>\n",
              "    <div>\n",
              "            <script src=\"https://cdnjs.cloudflare.com/ajax/libs/mathjax/2.7.5/MathJax.js?config=TeX-AMS-MML_SVG\"></script><script type=\"text/javascript\">if (window.MathJax) {MathJax.Hub.Config({SVG: {font: \"STIX-Web\"}});}</script>\n",
              "                <script type=\"text/javascript\">window.PlotlyConfig = {MathJaxConfig: 'local'};</script>\n",
              "        <script src=\"https://cdn.plot.ly/plotly-latest.min.js\"></script>    \n",
              "            <div id=\"b5ceed94-95b0-4d01-905f-31f7c924e733\" class=\"plotly-graph-div\" style=\"height:600px; width:900px;\"></div>\n",
              "            <script type=\"text/javascript\">\n",
              "                \n",
              "                    window.PLOTLYENV=window.PLOTLYENV || {};\n",
              "                    \n",
              "                if (document.getElementById(\"b5ceed94-95b0-4d01-905f-31f7c924e733\")) {\n",
              "                    Plotly.newPlot(\n",
              "                        'b5ceed94-95b0-4d01-905f-31f7c924e733',\n",
              "                        [{\"customdata\": [[\"TAPLEJUNG\"], [\"SANKHUWASHAVA\"], [\"SOLUKHUMBU\"], [\"PANCHTHAR\"], [\"ILLAM\"], [\"TERHATHUM\"], [\"DHANKUTA\"], [\"BHOJPUR\"], [\"KHOTANG\"], [\"OKHALDHUNGA\"], [\"UDAYAPUR\"], [\"SIRAHA\"], [\"DOLAKHA\"], [\"SINDHUPALCHOK\"], [\"RASUWA\"], [\"RAMECHAP\"], [\"SINDHULI\"], [\"KAVRE\"], [\"BHAKTAPUR\"], [\"LALITPUR\"], [\"KATHMANDU\"], [\"NUWAKOT\"], [\"DHANUSHA\"], [\"MAHOTTARI\"], [\"SARLAHI\"], [\"RAUTAHAT\"], [\"BARA\"], [\"PARSA\"], [\"MUSTANG\"], [\"GORKHA\"], [\"LAMJUNG\"], [\"TANAHU\"], [\"PARBAT\"], [\"SYANGJA\"], [\"PALPA\"], [\"MYAGDI\"], [\"BAGLUNG\"], [\"GULMI\"], [\"ARGHAKHANCHI\"], [\"NAWALPARASI\"], [\"KAPILBASTU\"], [\"RUKUM\"], [\"ROLPA\"], [\"PYUTHAN\"], [\"SALYAN\"], [\"JAJARKOT\"], [\"DAILEKH\"], [\"SURKHET\"], [\"BANKE\"], [\"BARDIYA\"], [\"BAJURA\"], [\"BAJHANG\"], [\"DARCHULA\"], [\"ACHHAM\"], [\"DOTI\"], [\"BAITADI\"], [\"DADELDHURA\"], [\"KAILALI\"], [\"KANCHANPUR\"]], \"hoverlabel\": {\"namelength\": 0}, \"hovertemplate\": \"color=green<br>Feature 1=%{x}<br>Feature 2=%{y}<br>Feature 3=%{z}<br>DISTRICT=%{customdata[0]}\", \"legendgroup\": \"color=green\", \"marker\": {\"color\": \"#636efa\", \"symbol\": \"circle\"}, \"mode\": \"markers\", \"name\": \"color=green\", \"scene\": \"scene\", \"showlegend\": true, \"type\": \"scatter3d\", \"x\": [-1.1842523624469143, -0.37207737029469723, -1.0745953742881336, -0.04782148005577272, -0.32628107366789033, -0.5950145671101935, -0.6030828977005644, -0.5379549735679925, -0.3942262301243105, -0.3271106352444824, 1.6284955562209598, 0.8445838901336908, -0.9734829830840346, -0.0735839678545651, -1.9940432650664601, -0.5486982530838417, 0.16416307512108025, 1.501566938364487, -0.7785765898968234, -0.2972310098811298, 0.7392579611041444, 0.5461167017825576, 0.4711292115817187, -0.027163809411365987, 0.3490184672773099, 0.08397113754866313, 1.5344488321912382, -0.0417394264343423, -2.22495653973393, -0.48599230352740036, -1.1442141798014818, -0.17232934217967996, -0.6591790467258464, 0.2325076776609374, 0.06287782277902276, -0.22388277486882113, -0.8202157032142702, -0.9043881598245436, -0.46818364036667204, 2.234283015469844, 1.0641134936673717, -0.6278191593236547, -0.7811058502036423, -1.0825827889246848, -0.34364628383843737, -1.6706309684384257, -1.0092926645160283, 0.6781546741841393, 1.0788298473252382, 1.169041705861473, -1.8920444229606226, -1.7280532263107469, -1.9245574677312216, -1.254298370372701, -0.9493573372988782, -1.0854558474503568, -1.1911889554078063, 1.9780318583824388, 0.623576891718201], \"y\": [0.04187208709068749, -0.21281812556699356, -0.0068669152996674145, -0.5968188071840502, -0.43422921528963115, -0.2647367460275124, -0.22192788950665018, -0.28926616694576895, -0.26973081522017095, -0.37400536620890656, -0.5714841351557802, -0.5335956646503166, 0.11128492851912555, -0.02897655402944136, 0.4327519453451943, -0.10839105108947425, -0.35032964153337576, 0.15691054900450596, 0.6250270772791401, 1.0809578090912657, 0.8760241924710946, 0.27663576611488605, -0.6762055268899119, -0.3293585482606595, -0.49053618389342074, -0.5021562520087536, -1.193275252190142, -0.42287587904377033, 0.5384422430461407, 0.4205327150705172, 0.49750836664615794, -0.181877274952684, -0.4258846868193712, -0.44664520556500514, -0.4475220948867664, -0.4297810944160251, -0.03307111518210254, 0.052593434147293845, -0.058337162753157715, -0.7184337331516498, -1.122652859205755, -0.1256934692962158, -0.007824839071100948, 0.3838364576721653, -0.09407425397009367, 0.6257789039084333, 0.2232764796499756, -0.48866638534491724, -0.5578062940132777, -0.7908724693150808, 0.5499043965985206, 0.5644387824952393, 0.5822640601038468, 0.06746800336917207, -0.05543953885537818, -0.07873782939834804, -0.01625094192138679, -0.5509761918170112, -0.13992119143217815], \"z\": [-0.400079453350322, 0.10564853949915684, -0.45486857289095195, -0.6956614345672265, -0.8308695194894468, -0.422584791189198, -0.9762884893189795, 0.20680707850943456, -0.23239861193287686, -0.16428113030975364, -0.40329348503695794, -0.4845991484736814, -0.10530252593427841, -0.19230650565408405, -0.9480826056381902, -0.6979868234023295, -0.7177406706672697, -0.20181780804234228, -1.031430543562899, -1.0713306736531576, -0.7429353170434616, 0.750809552306875, -0.4692562576856844, -0.7669270399224969, -0.5874120682022574, -0.6440919886581533, -0.2675270799270627, -0.7737945279817499, -0.9193689952284047, 1.4108311297538394, 0.12312220183625514, -0.830975372777169, -0.4979507764233502, 0.29498132340390343, -0.5736175478924308, 0.006357969320643168, -0.5703023816408594, -0.47664066541576683, -0.9167373843404824, 0.4306218684035013, 1.2087452522472188, 0.177698062684227, 0.2009107371158989, 0.15444001845442068, 0.5635949832538395, 0.733222524320158, 0.10272914115735882, 0.04134779101159429, 0.5429230412940766, 0.459542680264346, 0.27082696079276425, 0.8831056528407378, 0.30679687167868214, -0.860611000183464, -0.9643695134075492, -1.0197039790116473, -1.03905589934447, 1.4049684191496878, -0.09587778127202794]}, {\"customdata\": [[\"JHAPA\"], [\"MORANG\"], [\"SUNSARI\"], [\"SAPTARI\"], [\"DHADING\"], [\"MAKWANPUR\"], [\"CHITWAN\"], [\"MANANG\"], [\"KASKI\"], [\"RUPANDEHI\"], [\"DOLPA\"], [\"MUGU\"], [\"HUMLA\"], [\"JUMLA\"], [\"KALIKOT\"], [\"DANG\"]], \"hoverlabel\": {\"namelength\": 0}, \"hovertemplate\": \"color=red<br>Feature 1=%{x}<br>Feature 2=%{y}<br>Feature 3=%{z}<br>DISTRICT=%{customdata[0]}\", \"legendgroup\": \"color=red\", \"marker\": {\"color\": \"#EF553B\", \"symbol\": \"circle\"}, \"mode\": \"markers\", \"name\": \"color=red\", \"scene\": \"scene\", \"showlegend\": true, \"type\": \"scatter3d\", \"x\": [2.8996357936135997, 4.812445737288908, 2.7706769186900115, 2.870316404911062, 0.9968701258820692, 1.0826663880298946, 8.62366264471198, -2.2437063079767143, 1.458137008332729, 2.6161878051483622, -2.504918634385366, -2.6888645977531325, -2.5446961156361283, -3.0772600707096744, -2.2538912216985953, 3.038880665409848], \"y\": [-1.1991515272169702, -3.3752859613999338, -1.617596252400012, -1.8718205371414545, 0.8891915829183537, 1.1786772587137868, 7.4245458938125495, 0.5122675999810182, 0.45666896879998103, -1.3962521910205257, 1.001001041569358, 1.2629108427949138, 0.9732416787287443, 1.7570739838006944, 0.872170679501627, -0.32709789170359005], \"z\": [-0.12674228884324157, 0.868425165024986, 0.339265422646969, 0.43006383369987, -0.6430420511493212, -0.6921864979467196, -0.8025606650575726, -1.1774063222608098, 2.1101897922024864, 0.3886327483895878, 1.1811142276493294, 2.0384870181433086, 0.7616308076414239, 4.077390521306308, 1.0301644310776328, 2.884620427649575]}],\n",
              "                        {\"font\": {\"color\": \"#7f7f7f\", \"family\": \"Courier New, monospace\", \"size\": 12}, \"height\": 600, \"legend\": {\"tracegroupgap\": 0}, \"margin\": {\"t\": 60}, \"scene\": {\"domain\": {\"x\": [0.0, 1.0], \"y\": [0.0, 1.0]}, \"xaxis\": {\"title\": {\"text\": \"Feature 1\"}}, \"yaxis\": {\"title\": {\"text\": \"Feature 2\"}}, \"zaxis\": {\"title\": {\"text\": \"Feature 3\"}}}, \"template\": {\"data\": {\"bar\": [{\"error_x\": {\"color\": \"#2a3f5f\"}, \"error_y\": {\"color\": \"#2a3f5f\"}, \"marker\": {\"line\": {\"color\": \"#E5ECF6\", \"width\": 0.5}}, \"type\": \"bar\"}], \"barpolar\": [{\"marker\": {\"line\": {\"color\": \"#E5ECF6\", \"width\": 0.5}}, \"type\": \"barpolar\"}], \"carpet\": [{\"aaxis\": {\"endlinecolor\": \"#2a3f5f\", \"gridcolor\": \"white\", \"linecolor\": \"white\", \"minorgridcolor\": \"white\", \"startlinecolor\": \"#2a3f5f\"}, \"baxis\": {\"endlinecolor\": \"#2a3f5f\", \"gridcolor\": \"white\", \"linecolor\": \"white\", \"minorgridcolor\": \"white\", \"startlinecolor\": \"#2a3f5f\"}, \"type\": \"carpet\"}], \"choropleth\": [{\"colorbar\": {\"outlinewidth\": 0, \"ticks\": \"\"}, \"type\": \"choropleth\"}], \"contour\": [{\"colorbar\": {\"outlinewidth\": 0, \"ticks\": \"\"}, \"colorscale\": [[0.0, \"#0d0887\"], [0.1111111111111111, \"#46039f\"], [0.2222222222222222, \"#7201a8\"], [0.3333333333333333, \"#9c179e\"], [0.4444444444444444, \"#bd3786\"], [0.5555555555555556, \"#d8576b\"], [0.6666666666666666, \"#ed7953\"], [0.7777777777777778, \"#fb9f3a\"], [0.8888888888888888, \"#fdca26\"], [1.0, \"#f0f921\"]], \"type\": \"contour\"}], \"contourcarpet\": [{\"colorbar\": {\"outlinewidth\": 0, \"ticks\": \"\"}, \"type\": \"contourcarpet\"}], \"heatmap\": [{\"colorbar\": {\"outlinewidth\": 0, \"ticks\": \"\"}, \"colorscale\": [[0.0, \"#0d0887\"], [0.1111111111111111, \"#46039f\"], [0.2222222222222222, \"#7201a8\"], [0.3333333333333333, \"#9c179e\"], [0.4444444444444444, \"#bd3786\"], [0.5555555555555556, \"#d8576b\"], [0.6666666666666666, \"#ed7953\"], [0.7777777777777778, \"#fb9f3a\"], [0.8888888888888888, \"#fdca26\"], [1.0, \"#f0f921\"]], \"type\": \"heatmap\"}], \"heatmapgl\": [{\"colorbar\": {\"outlinewidth\": 0, \"ticks\": \"\"}, \"colorscale\": [[0.0, \"#0d0887\"], [0.1111111111111111, \"#46039f\"], [0.2222222222222222, \"#7201a8\"], [0.3333333333333333, \"#9c179e\"], [0.4444444444444444, \"#bd3786\"], [0.5555555555555556, \"#d8576b\"], [0.6666666666666666, \"#ed7953\"], [0.7777777777777778, \"#fb9f3a\"], [0.8888888888888888, \"#fdca26\"], [1.0, \"#f0f921\"]], \"type\": \"heatmapgl\"}], \"histogram\": [{\"marker\": {\"colorbar\": {\"outlinewidth\": 0, \"ticks\": \"\"}}, \"type\": \"histogram\"}], \"histogram2d\": [{\"colorbar\": {\"outlinewidth\": 0, \"ticks\": \"\"}, \"colorscale\": [[0.0, \"#0d0887\"], [0.1111111111111111, \"#46039f\"], [0.2222222222222222, \"#7201a8\"], [0.3333333333333333, \"#9c179e\"], [0.4444444444444444, \"#bd3786\"], [0.5555555555555556, \"#d8576b\"], [0.6666666666666666, \"#ed7953\"], [0.7777777777777778, \"#fb9f3a\"], [0.8888888888888888, \"#fdca26\"], [1.0, \"#f0f921\"]], \"type\": \"histogram2d\"}], \"histogram2dcontour\": [{\"colorbar\": {\"outlinewidth\": 0, \"ticks\": \"\"}, \"colorscale\": [[0.0, \"#0d0887\"], [0.1111111111111111, \"#46039f\"], [0.2222222222222222, \"#7201a8\"], [0.3333333333333333, \"#9c179e\"], [0.4444444444444444, \"#bd3786\"], [0.5555555555555556, \"#d8576b\"], [0.6666666666666666, \"#ed7953\"], [0.7777777777777778, \"#fb9f3a\"], [0.8888888888888888, \"#fdca26\"], [1.0, \"#f0f921\"]], \"type\": \"histogram2dcontour\"}], \"mesh3d\": [{\"colorbar\": {\"outlinewidth\": 0, \"ticks\": \"\"}, \"type\": \"mesh3d\"}], \"parcoords\": [{\"line\": {\"colorbar\": {\"outlinewidth\": 0, \"ticks\": \"\"}}, \"type\": \"parcoords\"}], \"pie\": [{\"automargin\": true, \"type\": \"pie\"}], \"scatter\": [{\"marker\": {\"colorbar\": {\"outlinewidth\": 0, \"ticks\": \"\"}}, \"type\": \"scatter\"}], \"scatter3d\": [{\"line\": {\"colorbar\": {\"outlinewidth\": 0, \"ticks\": \"\"}}, \"marker\": {\"colorbar\": {\"outlinewidth\": 0, \"ticks\": \"\"}}, \"type\": \"scatter3d\"}], \"scattercarpet\": [{\"marker\": {\"colorbar\": {\"outlinewidth\": 0, \"ticks\": \"\"}}, \"type\": \"scattercarpet\"}], \"scattergeo\": [{\"marker\": {\"colorbar\": {\"outlinewidth\": 0, \"ticks\": \"\"}}, \"type\": \"scattergeo\"}], \"scattergl\": [{\"marker\": {\"colorbar\": {\"outlinewidth\": 0, \"ticks\": \"\"}}, \"type\": \"scattergl\"}], \"scattermapbox\": [{\"marker\": {\"colorbar\": {\"outlinewidth\": 0, \"ticks\": \"\"}}, \"type\": \"scattermapbox\"}], \"scatterpolar\": [{\"marker\": {\"colorbar\": {\"outlinewidth\": 0, \"ticks\": \"\"}}, \"type\": \"scatterpolar\"}], \"scatterpolargl\": [{\"marker\": {\"colorbar\": {\"outlinewidth\": 0, \"ticks\": \"\"}}, \"type\": \"scatterpolargl\"}], \"scatterternary\": [{\"marker\": {\"colorbar\": {\"outlinewidth\": 0, \"ticks\": \"\"}}, \"type\": \"scatterternary\"}], \"surface\": [{\"colorbar\": {\"outlinewidth\": 0, \"ticks\": \"\"}, \"colorscale\": [[0.0, \"#0d0887\"], [0.1111111111111111, \"#46039f\"], [0.2222222222222222, \"#7201a8\"], [0.3333333333333333, \"#9c179e\"], [0.4444444444444444, \"#bd3786\"], [0.5555555555555556, \"#d8576b\"], [0.6666666666666666, \"#ed7953\"], [0.7777777777777778, \"#fb9f3a\"], [0.8888888888888888, \"#fdca26\"], [1.0, \"#f0f921\"]], \"type\": \"surface\"}], \"table\": [{\"cells\": {\"fill\": {\"color\": \"#EBF0F8\"}, \"line\": {\"color\": \"white\"}}, \"header\": {\"fill\": {\"color\": \"#C8D4E3\"}, \"line\": {\"color\": \"white\"}}, \"type\": \"table\"}]}, \"layout\": {\"annotationdefaults\": {\"arrowcolor\": \"#2a3f5f\", \"arrowhead\": 0, \"arrowwidth\": 1}, \"coloraxis\": {\"colorbar\": {\"outlinewidth\": 0, \"ticks\": \"\"}}, \"colorscale\": {\"diverging\": [[0, \"#8e0152\"], [0.1, \"#c51b7d\"], [0.2, \"#de77ae\"], [0.3, \"#f1b6da\"], [0.4, \"#fde0ef\"], [0.5, \"#f7f7f7\"], [0.6, \"#e6f5d0\"], [0.7, \"#b8e186\"], [0.8, \"#7fbc41\"], [0.9, \"#4d9221\"], [1, \"#276419\"]], \"sequential\": [[0.0, \"#0d0887\"], [0.1111111111111111, \"#46039f\"], [0.2222222222222222, \"#7201a8\"], [0.3333333333333333, \"#9c179e\"], [0.4444444444444444, \"#bd3786\"], [0.5555555555555556, \"#d8576b\"], [0.6666666666666666, \"#ed7953\"], [0.7777777777777778, \"#fb9f3a\"], [0.8888888888888888, \"#fdca26\"], [1.0, \"#f0f921\"]], \"sequentialminus\": [[0.0, \"#0d0887\"], [0.1111111111111111, \"#46039f\"], [0.2222222222222222, \"#7201a8\"], [0.3333333333333333, \"#9c179e\"], [0.4444444444444444, \"#bd3786\"], [0.5555555555555556, \"#d8576b\"], [0.6666666666666666, \"#ed7953\"], [0.7777777777777778, \"#fb9f3a\"], [0.8888888888888888, \"#fdca26\"], [1.0, \"#f0f921\"]]}, \"colorway\": [\"#636efa\", \"#EF553B\", \"#00cc96\", \"#ab63fa\", \"#FFA15A\", \"#19d3f3\", \"#FF6692\", \"#B6E880\", \"#FF97FF\", \"#FECB52\"], \"font\": {\"color\": \"#2a3f5f\"}, \"geo\": {\"bgcolor\": \"white\", \"lakecolor\": \"white\", \"landcolor\": \"#E5ECF6\", \"showlakes\": true, \"showland\": true, \"subunitcolor\": \"white\"}, \"hoverlabel\": {\"align\": \"left\"}, \"hovermode\": \"closest\", \"mapbox\": {\"style\": \"light\"}, \"paper_bgcolor\": \"white\", \"plot_bgcolor\": \"#E5ECF6\", \"polar\": {\"angularaxis\": {\"gridcolor\": \"white\", \"linecolor\": \"white\", \"ticks\": \"\"}, \"bgcolor\": \"#E5ECF6\", \"radialaxis\": {\"gridcolor\": \"white\", \"linecolor\": \"white\", \"ticks\": \"\"}}, \"scene\": {\"xaxis\": {\"backgroundcolor\": \"#E5ECF6\", \"gridcolor\": \"white\", \"gridwidth\": 2, \"linecolor\": \"white\", \"showbackground\": true, \"ticks\": \"\", \"zerolinecolor\": \"white\"}, \"yaxis\": {\"backgroundcolor\": \"#E5ECF6\", \"gridcolor\": \"white\", \"gridwidth\": 2, \"linecolor\": \"white\", \"showbackground\": true, \"ticks\": \"\", \"zerolinecolor\": \"white\"}, \"zaxis\": {\"backgroundcolor\": \"#E5ECF6\", \"gridcolor\": \"white\", \"gridwidth\": 2, \"linecolor\": \"white\", \"showbackground\": true, \"ticks\": \"\", \"zerolinecolor\": \"white\"}}, \"shapedefaults\": {\"line\": {\"color\": \"#2a3f5f\"}}, \"ternary\": {\"aaxis\": {\"gridcolor\": \"white\", \"linecolor\": \"white\", \"ticks\": \"\"}, \"baxis\": {\"gridcolor\": \"white\", \"linecolor\": \"white\", \"ticks\": \"\"}, \"bgcolor\": \"#E5ECF6\", \"caxis\": {\"gridcolor\": \"white\", \"linecolor\": \"white\", \"ticks\": \"\"}}, \"title\": {\"x\": 0.05}, \"xaxis\": {\"automargin\": true, \"gridcolor\": \"white\", \"linecolor\": \"white\", \"ticks\": \"\", \"title\": {\"standoff\": 15}, \"zerolinecolor\": \"white\", \"zerolinewidth\": 2}, \"yaxis\": {\"automargin\": true, \"gridcolor\": \"white\", \"linecolor\": \"white\", \"ticks\": \"\", \"title\": {\"standoff\": 15}, \"zerolinecolor\": \"white\", \"zerolinewidth\": 2}}}, \"title\": {\"text\": \"Local Outlier detection 3D Visualization on Agriculture Dataset \"}, \"width\": 900, \"xaxis\": {\"title\": {\"text\": \"Feature 1\"}}, \"yaxis\": {\"title\": {\"text\": \"Feature 2\"}}},\n",
              "                        {\"responsive\": true}\n",
              "                    ).then(function(){\n",
              "                            \n",
              "var gd = document.getElementById('b5ceed94-95b0-4d01-905f-31f7c924e733');\n",
              "var x = new MutationObserver(function (mutations, observer) {{\n",
              "        var display = window.getComputedStyle(gd).display;\n",
              "        if (!display || display === 'none') {{\n",
              "            console.log([gd, 'removed!']);\n",
              "            Plotly.purge(gd);\n",
              "            observer.disconnect();\n",
              "        }}\n",
              "}});\n",
              "\n",
              "// Listen for the removal of the full notebook cells\n",
              "var notebookContainer = gd.closest('#notebook-container');\n",
              "if (notebookContainer) {{\n",
              "    x.observe(notebookContainer, {childList: true});\n",
              "}}\n",
              "\n",
              "// Listen for the clearing of the current output cell\n",
              "var outputEl = gd.closest('.output');\n",
              "if (outputEl) {{\n",
              "    x.observe(outputEl, {childList: true});\n",
              "}}\n",
              "\n",
              "                        })\n",
              "                };\n",
              "                \n",
              "            </script>\n",
              "        </div>\n",
              "</body>\n",
              "</html>"
            ]
          },
          "metadata": {
            "tags": []
          }
        }
      ]
    },
    {
      "cell_type": "code",
      "metadata": {
        "id": "cdgpK0uPjuDm",
        "colab_type": "code",
        "colab": {}
      },
      "source": [
        ""
      ],
      "execution_count": 0,
      "outputs": []
    }
  ]
}
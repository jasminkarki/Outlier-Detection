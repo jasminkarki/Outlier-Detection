{
  "nbformat": 4,
  "nbformat_minor": 0,
  "metadata": {
    "colab": {
      "name": "Outlier_Detection_HDI_Dataset.ipynb",
      "provenance": []
    },
    "kernelspec": {
      "name": "python3",
      "display_name": "Python 3"
    }
  },
  "cells": [
    {
      "cell_type": "code",
      "metadata": {
        "id": "w00flBwvmO_C",
        "colab_type": "code",
        "colab": {
          "base_uri": "https://localhost:8080/",
          "height": 72
        },
        "outputId": "502fa700-514e-465c-bccc-146514fd8684"
      },
      "source": [
        "import pandas as pd\n",
        "import numpy as np\n",
        "import matplotlib.pyplot as plt\n",
        "import time\n",
        "import seaborn as sns\n",
        "from pandas_profiling import ProfileReport\n",
        "import plotly.express as px"
      ],
      "execution_count": 1,
      "outputs": [
        {
          "output_type": "stream",
          "text": [
            "/usr/local/lib/python3.6/dist-packages/statsmodels/tools/_testing.py:19: FutureWarning: pandas.util.testing is deprecated. Use the functions in the public API at pandas.testing instead.\n",
            "  import pandas.util.testing as tm\n"
          ],
          "name": "stderr"
        }
      ]
    },
    {
      "cell_type": "code",
      "metadata": {
        "id": "ovfnP4Efmsy0",
        "colab_type": "code",
        "colab": {
          "base_uri": "https://localhost:8080/",
          "height": 124
        },
        "outputId": "fd294cd9-4623-4c24-a61f-9dee28c0cc32"
      },
      "source": [
        "from google.colab import drive\n",
        "drive.mount('/content/drive/')"
      ],
      "execution_count": 2,
      "outputs": [
        {
          "output_type": "stream",
          "text": [
            "Go to this URL in a browser: https://accounts.google.com/o/oauth2/auth?client_id=947318989803-6bn6qk8qdgf4n4g3pfee6491hc0brc4i.apps.googleusercontent.com&redirect_uri=urn%3aietf%3awg%3aoauth%3a2.0%3aoob&response_type=code&scope=email%20https%3a%2f%2fwww.googleapis.com%2fauth%2fdocs.test%20https%3a%2f%2fwww.googleapis.com%2fauth%2fdrive%20https%3a%2f%2fwww.googleapis.com%2fauth%2fdrive.photos.readonly%20https%3a%2f%2fwww.googleapis.com%2fauth%2fpeopleapi.readonly\n",
            "\n",
            "Enter your authorization code:\n",
            "··········\n",
            "Mounted at /content/drive/\n"
          ],
          "name": "stdout"
        }
      ]
    },
    {
      "cell_type": "code",
      "metadata": {
        "id": "RMv3d2ammueb",
        "colab_type": "code",
        "colab": {}
      },
      "source": [
        "life_df=pd.read_csv('/content/drive/My Drive/Colab Notebooks/life-expectancy-income.csv')\n",
        "lite_df=pd.read_csv('/content/drive/My Drive/Colab Notebooks/literacy-rates.csv')"
      ],
      "execution_count": 0,
      "outputs": []
    },
    {
      "cell_type": "code",
      "metadata": {
        "id": "ouyvBAFZm2Hd",
        "colab_type": "code",
        "colab": {}
      },
      "source": [
        "lite_df['District']=lite_df['District'].str.rstrip()"
      ],
      "execution_count": 0,
      "outputs": []
    },
    {
      "cell_type": "code",
      "metadata": {
        "id": "2b5m9ee5nSZU",
        "colab_type": "code",
        "colab": {
          "base_uri": "https://localhost:8080/",
          "height": 34
        },
        "outputId": "928de2e1-037e-4b55-f517-80601a6923be"
      },
      "source": [
        "set(life_df['District'].unique()).difference(lite_df['District'].unique())"
      ],
      "execution_count": 5,
      "outputs": [
        {
          "output_type": "execute_result",
          "data": {
            "text/plain": [
              "{'Chitwan', 'Tehrathum'}"
            ]
          },
          "metadata": {
            "tags": []
          },
          "execution_count": 5
        }
      ]
    },
    {
      "cell_type": "code",
      "metadata": {
        "id": "gyrcxZS9nWwj",
        "colab_type": "code",
        "colab": {}
      },
      "source": [
        "lite_df['District']=lite_df['District'].map(lambda x: 'Chitwan' if x=='Chitawan' else x)\n",
        "lite_df['District']=lite_df['District'].map(lambda x: 'Tehrathum' if x=='Terhathum' else x)"
      ],
      "execution_count": 0,
      "outputs": []
    },
    {
      "cell_type": "code",
      "metadata": {
        "id": "8cD_CJ8jnY3Z",
        "colab_type": "code",
        "colab": {}
      },
      "source": [
        "lite_df.drop([' Year'],axis=1,inplace=True)"
      ],
      "execution_count": 0,
      "outputs": []
    },
    {
      "cell_type": "code",
      "metadata": {
        "id": "idGY0wJJnbVk",
        "colab_type": "code",
        "colab": {}
      },
      "source": [
        "mixed_df = pd.merge(lite_df,life_df,on='District',how='inner')\n",
        "mixed_df.columns=mixed_df.columns.str.strip()"
      ],
      "execution_count": 0,
      "outputs": []
    },
    {
      "cell_type": "code",
      "metadata": {
        "id": "SWZYOTKEndz6",
        "colab_type": "code",
        "colab": {
          "base_uri": "https://localhost:8080/",
          "height": 69
        },
        "outputId": "50046447-baaa-44f7-ff51-94ae9ef69dc2"
      },
      "source": [
        "mixed_df.columns"
      ],
      "execution_count": 9,
      "outputs": [
        {
          "output_type": "execute_result",
          "data": {
            "text/plain": [
              "Index(['District', 'Total', 'Female', 'Male', 'Life expectancy(In Years)',\n",
              "       'Per Capita Income(In USD)'],\n",
              "      dtype='object')"
            ]
          },
          "metadata": {
            "tags": []
          },
          "execution_count": 9
        }
      ]
    },
    {
      "cell_type": "markdown",
      "metadata": {
        "id": "NxRhFORhnnuD",
        "colab_type": "text"
      },
      "source": [
        "## **Standarization**"
      ]
    },
    {
      "cell_type": "code",
      "metadata": {
        "id": "zuXmqo-_ng-B",
        "colab_type": "code",
        "colab": {}
      },
      "source": [
        "from sklearn.preprocessing import StandardScaler\n",
        "\n",
        "def scaling(data,column):\n",
        "  scaler=StandardScaler()\n",
        "  X=data.drop(columns=[column])\n",
        "  scaler.fit(X)\n",
        "  scaled_data=scaler.transform(X)\n",
        "  return scaled_data,X\n",
        "\n",
        "scaled_merged,X_merged=scaling(mixed_df.drop(columns=['Total']),'District')\n",
        "scaled_life,X_life=scaling(life_df,'District')\n",
        "scaled_lite,X_lite=scaling(lite_df.drop(columns=['Total']),'District')"
      ],
      "execution_count": 0,
      "outputs": []
    },
    {
      "cell_type": "code",
      "metadata": {
        "id": "adh9nV1pntoR",
        "colab_type": "code",
        "colab": {
          "base_uri": "https://localhost:8080/",
          "height": 69
        },
        "outputId": "6c561efd-5ea3-4eb1-e7f3-5ae79713b7d4"
      },
      "source": [
        "print('Scaled Merged Dataset: ',scaled_merged.shape)\n",
        "print('Scaled Life E Dataset: ',scaled_life.shape)\n",
        "print('Scaled Litera Dataset: ',scaled_lite.shape)"
      ],
      "execution_count": 11,
      "outputs": [
        {
          "output_type": "stream",
          "text": [
            "Scaled Merged Dataset:  (75, 4)\n",
            "Scaled Life E Dataset:  (75, 2)\n",
            "Scaled Litera Dataset:  (75, 2)\n"
          ],
          "name": "stdout"
        }
      ]
    },
    {
      "cell_type": "markdown",
      "metadata": {
        "id": "B6vPI2ZVn35g",
        "colab_type": "text"
      },
      "source": [
        "## **PCA**"
      ]
    },
    {
      "cell_type": "code",
      "metadata": {
        "id": "l0vr5es_nwDZ",
        "colab_type": "code",
        "colab": {}
      },
      "source": [
        "from sklearn.decomposition import PCA\n",
        "pca = PCA(n_components=3, random_state=1)\n",
        "pca =pca.fit(scaled_merged)\n",
        "scaled_transformed=pca.transform(scaled_merged)\n",
        "\n",
        "scaled_transformed_df=pd.DataFrame(scaled_transformed)\n",
        "scaled_transformed_df.columns=['Feature 1','Feature 2','Feature 3']\n",
        "\n",
        "colors = ['deeppink', 'maroon', 'green', 'yellow', 'skyblue', 'purple',  'red', 'black']\n",
        "vectorizer = np.vectorize(lambda x: colors[x % len(colors)])"
      ],
      "execution_count": 0,
      "outputs": []
    },
    {
      "cell_type": "code",
      "metadata": {
        "id": "A1Bls4jbn6ry",
        "colab_type": "code",
        "colab": {}
      },
      "source": [
        "plot_data=pd.DataFrame(scaled_transformed, columns=['Feature 1','Feature 2','Feature 3'])\n",
        "plot_data['District'] = mixed_df['District'].tolist()"
      ],
      "execution_count": 0,
      "outputs": []
    },
    {
      "cell_type": "code",
      "metadata": {
        "id": "C3L24k37oEX_",
        "colab_type": "code",
        "colab": {
          "base_uri": "https://localhost:8080/",
          "height": 424
        },
        "outputId": "2cb5b0c9-0ba4-4618-d9f0-1ae76f044324"
      },
      "source": [
        "plot_data"
      ],
      "execution_count": 21,
      "outputs": [
        {
          "output_type": "execute_result",
          "data": {
            "text/html": [
              "<div>\n",
              "<style scoped>\n",
              "    .dataframe tbody tr th:only-of-type {\n",
              "        vertical-align: middle;\n",
              "    }\n",
              "\n",
              "    .dataframe tbody tr th {\n",
              "        vertical-align: top;\n",
              "    }\n",
              "\n",
              "    .dataframe thead th {\n",
              "        text-align: right;\n",
              "    }\n",
              "</style>\n",
              "<table border=\"1\" class=\"dataframe\">\n",
              "  <thead>\n",
              "    <tr style=\"text-align: right;\">\n",
              "      <th></th>\n",
              "      <th>Feature 1</th>\n",
              "      <th>Feature 2</th>\n",
              "      <th>Feature 3</th>\n",
              "      <th>District</th>\n",
              "    </tr>\n",
              "  </thead>\n",
              "  <tbody>\n",
              "    <tr>\n",
              "      <th>0</th>\n",
              "      <td>4.337676</td>\n",
              "      <td>0.680265</td>\n",
              "      <td>2.022282</td>\n",
              "      <td>Kathmandu</td>\n",
              "    </tr>\n",
              "    <tr>\n",
              "      <th>1</th>\n",
              "      <td>3.118809</td>\n",
              "      <td>-0.340032</td>\n",
              "      <td>0.521001</td>\n",
              "      <td>Lalitpur</td>\n",
              "    </tr>\n",
              "    <tr>\n",
              "      <th>2</th>\n",
              "      <td>2.830949</td>\n",
              "      <td>-0.513740</td>\n",
              "      <td>-0.160116</td>\n",
              "      <td>Kaski</td>\n",
              "    </tr>\n",
              "    <tr>\n",
              "      <th>3</th>\n",
              "      <td>2.516811</td>\n",
              "      <td>-0.536817</td>\n",
              "      <td>-0.480155</td>\n",
              "      <td>Bhaktapur</td>\n",
              "    </tr>\n",
              "    <tr>\n",
              "      <th>4</th>\n",
              "      <td>1.729114</td>\n",
              "      <td>0.420275</td>\n",
              "      <td>-0.447127</td>\n",
              "      <td>Ilam</td>\n",
              "    </tr>\n",
              "    <tr>\n",
              "      <th>...</th>\n",
              "      <td>...</td>\n",
              "      <td>...</td>\n",
              "      <td>...</td>\n",
              "      <td>...</td>\n",
              "    </tr>\n",
              "    <tr>\n",
              "      <th>70</th>\n",
              "      <td>-2.118363</td>\n",
              "      <td>-1.613603</td>\n",
              "      <td>0.263249</td>\n",
              "      <td>Siraha</td>\n",
              "    </tr>\n",
              "    <tr>\n",
              "      <th>71</th>\n",
              "      <td>-2.829681</td>\n",
              "      <td>1.547524</td>\n",
              "      <td>0.507954</td>\n",
              "      <td>Humla</td>\n",
              "    </tr>\n",
              "    <tr>\n",
              "      <th>72</th>\n",
              "      <td>-2.780561</td>\n",
              "      <td>-0.920728</td>\n",
              "      <td>0.527663</td>\n",
              "      <td>Mahottari</td>\n",
              "    </tr>\n",
              "    <tr>\n",
              "      <th>73</th>\n",
              "      <td>-2.667351</td>\n",
              "      <td>-1.163705</td>\n",
              "      <td>0.829819</td>\n",
              "      <td>Sarlahi</td>\n",
              "    </tr>\n",
              "    <tr>\n",
              "      <th>74</th>\n",
              "      <td>-3.275285</td>\n",
              "      <td>-1.679087</td>\n",
              "      <td>1.074435</td>\n",
              "      <td>Rautahat</td>\n",
              "    </tr>\n",
              "  </tbody>\n",
              "</table>\n",
              "<p>75 rows × 4 columns</p>\n",
              "</div>"
            ],
            "text/plain": [
              "    Feature 1  Feature 2  Feature 3   District\n",
              "0    4.337676   0.680265   2.022282  Kathmandu\n",
              "1    3.118809  -0.340032   0.521001   Lalitpur\n",
              "2    2.830949  -0.513740  -0.160116      Kaski\n",
              "3    2.516811  -0.536817  -0.480155  Bhaktapur\n",
              "4    1.729114   0.420275  -0.447127       Ilam\n",
              "..        ...        ...        ...        ...\n",
              "70  -2.118363  -1.613603   0.263249     Siraha\n",
              "71  -2.829681   1.547524   0.507954      Humla\n",
              "72  -2.780561  -0.920728   0.527663  Mahottari\n",
              "73  -2.667351  -1.163705   0.829819    Sarlahi\n",
              "74  -3.275285  -1.679087   1.074435   Rautahat\n",
              "\n",
              "[75 rows x 4 columns]"
            ]
          },
          "metadata": {
            "tags": []
          },
          "execution_count": 21
        }
      ]
    },
    {
      "cell_type": "code",
      "metadata": {
        "id": "_1h5RJeOoFm4",
        "colab_type": "code",
        "colab": {
          "base_uri": "https://localhost:8080/",
          "height": 637
        },
        "outputId": "d63a40e8-d122-48ea-bb5e-f9eb466b1395"
      },
      "source": [
        "fig=px.scatter(plot_data, x= 'Feature 1',y='Feature 2',hover_data=['District'],width=800, height=600)\n",
        "fig.update_layout(\n",
        "    title=\"Plot of HDI Dataset\",\n",
        "    xaxis_title=\"Feature 1\",\n",
        "    yaxis_title=\"Feature 2\",\n",
        "    font=dict(\n",
        "        family=\"Courier New, monospace\",\n",
        "        size=12,\n",
        "        color=\"#7f7f7f\"\n",
        "    )\n",
        ")\n",
        "fig.show()"
      ],
      "execution_count": 23,
      "outputs": [
        {
          "output_type": "display_data",
          "data": {
            "text/html": [
              "<html>\n",
              "<head><meta charset=\"utf-8\" /></head>\n",
              "<body>\n",
              "    <div>\n",
              "            <script src=\"https://cdnjs.cloudflare.com/ajax/libs/mathjax/2.7.5/MathJax.js?config=TeX-AMS-MML_SVG\"></script><script type=\"text/javascript\">if (window.MathJax) {MathJax.Hub.Config({SVG: {font: \"STIX-Web\"}});}</script>\n",
              "                <script type=\"text/javascript\">window.PlotlyConfig = {MathJaxConfig: 'local'};</script>\n",
              "        <script src=\"https://cdn.plot.ly/plotly-latest.min.js\"></script>    \n",
              "            <div id=\"9b521c49-a6fd-43e7-a4e8-12eee543014b\" class=\"plotly-graph-div\" style=\"height:600px; width:800px;\"></div>\n",
              "            <script type=\"text/javascript\">\n",
              "                \n",
              "                    window.PLOTLYENV=window.PLOTLYENV || {};\n",
              "                    \n",
              "                if (document.getElementById(\"9b521c49-a6fd-43e7-a4e8-12eee543014b\")) {\n",
              "                    Plotly.newPlot(\n",
              "                        '9b521c49-a6fd-43e7-a4e8-12eee543014b',\n",
              "                        [{\"customdata\": [[\"Kathmandu\"], [\"Lalitpur\"], [\"Kaski\"], [\"Bhaktapur\"], [\"Ilam\"], [\"Chitwan\"], [\"Syangja\"], [\"Palpa\"], [\"Jhapa\"], [\"Manang\"], [\"Tanahu\"], [\"Tehrathum\"], [\"Dhankuta\"], [\"Parbat\"], [\"Surkhet\"], [\"Arghakhanchi\"], [\"Gulmi\"], [\"Panchthar\"], [\"Baglung\"], [\"Myagdi\"], [\"Taplejung\"], [\"Lamjung\"], [\"Nawalparasi\"], [\"Kanchanpur\"], [\"Morang\"], [\"Dang\"], [\"Kavrepalanchok\"], [\"Rupandehi\"], [\"Sankhuwasabha\"], [\"Bhojpur\"], [\"Khotang\"], [\"Udayapur\"], [\"Sunsari\"], [\"Makwanpur\"], [\"Pyuthan\"], [\"Gorkha\"], [\"Kailali\"], [\"Mustang\"], [\"Bardiya\"], [\"Darchula\"], [\"Dadeldhura\"], [\"Okhaldhunga\"], [\"Solukhumbu\"], [\"Salyan\"], [\"Baitadi\"], [\"Dhading\"], [\"Dolakha\"], [\"Dailekh\"], [\"Banke\"], [\"Ramechhap\"], [\"Rukum\"], [\"Sindhuli\"], [\"Rolpa\"], [\"Nuwakot\"], [\"Sindhupalchok\"], [\"Jajarkot\"], [\"Kalikot\"], [\"Doti\"], [\"Parsa\"], [\"Achham\"], [\"Bajura\"], [\"Bajhang\"], [\"Kapilbastu\"], [\"Jumla\"], [\"Saptari\"], [\"Dolpa\"], [\"Rasuwa\"], [\"Bara\"], [\"Mugu\"], [\"Dhanusa\"], [\"Siraha\"], [\"Humla\"], [\"Mahottari\"], [\"Sarlahi\"], [\"Rautahat\"]], \"hoverlabel\": {\"namelength\": 0}, \"hovertemplate\": \"Feature 1=%{x}<br>Feature 2=%{y}<br>District=%{customdata[0]}\", \"legendgroup\": \"\", \"marker\": {\"color\": \"#636efa\", \"symbol\": \"circle\"}, \"mode\": \"markers\", \"name\": \"\", \"showlegend\": false, \"type\": \"scatter\", \"x\": [4.337676161009879, 3.1188093937368926, 2.830948630962913, 2.5168105584441234, 1.7291140911730674, 2.040543049794674, 1.7994747111064104, 1.3761045616799337, 1.31833283311004, 2.958645766747861, 1.4129072867475991, 1.5629826216477913, 1.4064240263584398, 1.2725205480927837, 0.761248973450328, 0.8820971656443796, 0.6805614111792186, 0.9217094645482207, 0.7428031246444279, 0.9795222878170533, 0.8357059863368657, 1.1040973276057724, 0.7776769501723727, 0.5022332929202458, 0.8878382697494428, 0.6423138866765653, 1.100853962493588, 0.6101868162321225, 0.6477964067183314, 0.4619519650061602, 0.6590623778089529, 0.36424414459038096, 0.4171370176884071, 0.6045583761553454, -0.3075968511296998, 0.37654235414387555, -0.12680490990566468, 0.6520292930851708, -0.0747824204261186, -0.2919208573771572, -0.19956253130035978, -0.03621948100838211, 0.6730832491070953, -0.4046311999318163, -0.5917484386471994, -0.23894155552680788, -0.2563232304950418, -0.7719637229464518, -0.37771181937557285, -0.15088988184664182, -0.7057616609044269, -0.757880382486588, -1.1626584477667041, -0.5481171327040923, -0.6353121808783192, -1.6918504081961632, -1.9411431711329896, -1.3280519157712571, -1.0099423872152289, -1.7065669030174735, -2.050763028948897, -1.879393665841731, -1.5117047415048723, -1.7923045383673568, -1.4370479121349218, -1.9218419823528863, -0.9460864516443463, -1.2084688483586674, -2.2135021245879876, -2.0178127151413556, -2.1183630033478975, -2.829681142815764, -2.780561379034425, -2.6673505102708344, -3.27528481004463], \"xaxis\": \"x\", \"y\": [0.6802648121035058, -0.34003192706874236, -0.5137397644906472, -0.5368174330652651, 0.4202751418208489, -0.3198677890131691, -0.31163964494553775, 0.2268106326615443, 0.6648099569945886, 2.140621332831868, -0.5949102087984339, 0.40259560053342575, -0.09267303907885331, -0.7946923848289559, 0.586913334109037, 0.021161502513488466, 0.1848659139377951, 0.22709803616228175, -0.1306101767874836, -0.6164076917027408, 1.2684084825818736, -0.9755297314213847, 0.3741059318301075, 0.6682485760510523, -0.17004421868956107, 0.5576634002719846, -0.9093739892309276, 0.14202791267278791, 0.06868150772852093, 0.07839264424849657, -0.7400743307476855, -0.3853061397426866, 0.07689793902572122, 0.23011480705864348, 1.7508738467067895, -1.453442420596049, 0.8420979047499804, 1.6891445378263479, 0.47368495555077134, -0.30916558753400286, 0.23637695522118865, -0.9887126488328746, -0.031391158134826534, -0.26660624144688044, -0.2530288080543514, -1.1766082415430823, -1.1435420672667838, 0.024943063181731534, -0.06054653961596625, -2.0488634747918777, -0.14035950716657852, -0.8810024395894686, 0.7571915926224295, -1.1892075439614962, -0.6395908065694585, 0.5657106724083465, 1.8292579421414603, 0.6262328059312774, -0.9300798282745119, 0.3397254809931466, 1.7110703679891026, 1.2149825640455487, 0.15296513534562917, 2.160248621352118, -1.509063350689425, 3.013048413351719, -1.2644931050745796, -1.05632038523152, 1.0024467918020137, -0.8066167894727868, -1.613603438588704, 1.547524205231109, -0.9207283726043063, -1.1637053526071637, -1.679086744329513], \"yaxis\": \"y\"}],\n",
              "                        {\"font\": {\"color\": \"#7f7f7f\", \"family\": \"Courier New, monospace\", \"size\": 12}, \"height\": 600, \"legend\": {\"tracegroupgap\": 0}, \"margin\": {\"t\": 60}, \"template\": {\"data\": {\"bar\": [{\"error_x\": {\"color\": \"#2a3f5f\"}, \"error_y\": {\"color\": \"#2a3f5f\"}, \"marker\": {\"line\": {\"color\": \"#E5ECF6\", \"width\": 0.5}}, \"type\": \"bar\"}], \"barpolar\": [{\"marker\": {\"line\": {\"color\": \"#E5ECF6\", \"width\": 0.5}}, \"type\": \"barpolar\"}], \"carpet\": [{\"aaxis\": {\"endlinecolor\": \"#2a3f5f\", \"gridcolor\": \"white\", \"linecolor\": \"white\", \"minorgridcolor\": \"white\", \"startlinecolor\": \"#2a3f5f\"}, \"baxis\": {\"endlinecolor\": \"#2a3f5f\", \"gridcolor\": \"white\", \"linecolor\": \"white\", \"minorgridcolor\": \"white\", \"startlinecolor\": \"#2a3f5f\"}, \"type\": \"carpet\"}], \"choropleth\": [{\"colorbar\": {\"outlinewidth\": 0, \"ticks\": \"\"}, \"type\": \"choropleth\"}], \"contour\": [{\"colorbar\": {\"outlinewidth\": 0, \"ticks\": \"\"}, \"colorscale\": [[0.0, \"#0d0887\"], [0.1111111111111111, \"#46039f\"], [0.2222222222222222, \"#7201a8\"], [0.3333333333333333, \"#9c179e\"], [0.4444444444444444, \"#bd3786\"], [0.5555555555555556, \"#d8576b\"], [0.6666666666666666, \"#ed7953\"], [0.7777777777777778, \"#fb9f3a\"], [0.8888888888888888, \"#fdca26\"], [1.0, \"#f0f921\"]], \"type\": \"contour\"}], \"contourcarpet\": [{\"colorbar\": {\"outlinewidth\": 0, \"ticks\": \"\"}, \"type\": \"contourcarpet\"}], \"heatmap\": [{\"colorbar\": {\"outlinewidth\": 0, \"ticks\": \"\"}, \"colorscale\": [[0.0, \"#0d0887\"], [0.1111111111111111, \"#46039f\"], [0.2222222222222222, \"#7201a8\"], [0.3333333333333333, \"#9c179e\"], [0.4444444444444444, \"#bd3786\"], [0.5555555555555556, \"#d8576b\"], [0.6666666666666666, \"#ed7953\"], [0.7777777777777778, \"#fb9f3a\"], [0.8888888888888888, \"#fdca26\"], [1.0, \"#f0f921\"]], \"type\": \"heatmap\"}], \"heatmapgl\": [{\"colorbar\": {\"outlinewidth\": 0, \"ticks\": \"\"}, \"colorscale\": [[0.0, \"#0d0887\"], [0.1111111111111111, \"#46039f\"], [0.2222222222222222, \"#7201a8\"], [0.3333333333333333, \"#9c179e\"], [0.4444444444444444, \"#bd3786\"], [0.5555555555555556, \"#d8576b\"], [0.6666666666666666, \"#ed7953\"], [0.7777777777777778, \"#fb9f3a\"], [0.8888888888888888, \"#fdca26\"], [1.0, \"#f0f921\"]], \"type\": \"heatmapgl\"}], \"histogram\": [{\"marker\": {\"colorbar\": {\"outlinewidth\": 0, \"ticks\": \"\"}}, \"type\": \"histogram\"}], \"histogram2d\": [{\"colorbar\": {\"outlinewidth\": 0, \"ticks\": \"\"}, \"colorscale\": [[0.0, \"#0d0887\"], [0.1111111111111111, \"#46039f\"], [0.2222222222222222, \"#7201a8\"], [0.3333333333333333, \"#9c179e\"], [0.4444444444444444, \"#bd3786\"], [0.5555555555555556, \"#d8576b\"], [0.6666666666666666, \"#ed7953\"], [0.7777777777777778, \"#fb9f3a\"], [0.8888888888888888, \"#fdca26\"], [1.0, \"#f0f921\"]], \"type\": \"histogram2d\"}], \"histogram2dcontour\": [{\"colorbar\": {\"outlinewidth\": 0, \"ticks\": \"\"}, \"colorscale\": [[0.0, \"#0d0887\"], [0.1111111111111111, \"#46039f\"], [0.2222222222222222, \"#7201a8\"], [0.3333333333333333, \"#9c179e\"], [0.4444444444444444, \"#bd3786\"], [0.5555555555555556, \"#d8576b\"], [0.6666666666666666, \"#ed7953\"], [0.7777777777777778, \"#fb9f3a\"], [0.8888888888888888, \"#fdca26\"], [1.0, \"#f0f921\"]], \"type\": \"histogram2dcontour\"}], \"mesh3d\": [{\"colorbar\": {\"outlinewidth\": 0, \"ticks\": \"\"}, \"type\": \"mesh3d\"}], \"parcoords\": [{\"line\": {\"colorbar\": {\"outlinewidth\": 0, \"ticks\": \"\"}}, \"type\": \"parcoords\"}], \"pie\": [{\"automargin\": true, \"type\": \"pie\"}], \"scatter\": [{\"marker\": {\"colorbar\": {\"outlinewidth\": 0, \"ticks\": \"\"}}, \"type\": \"scatter\"}], \"scatter3d\": [{\"line\": {\"colorbar\": {\"outlinewidth\": 0, \"ticks\": \"\"}}, \"marker\": {\"colorbar\": {\"outlinewidth\": 0, \"ticks\": \"\"}}, \"type\": \"scatter3d\"}], \"scattercarpet\": [{\"marker\": {\"colorbar\": {\"outlinewidth\": 0, \"ticks\": \"\"}}, \"type\": \"scattercarpet\"}], \"scattergeo\": [{\"marker\": {\"colorbar\": {\"outlinewidth\": 0, \"ticks\": \"\"}}, \"type\": \"scattergeo\"}], \"scattergl\": [{\"marker\": {\"colorbar\": {\"outlinewidth\": 0, \"ticks\": \"\"}}, \"type\": \"scattergl\"}], \"scattermapbox\": [{\"marker\": {\"colorbar\": {\"outlinewidth\": 0, \"ticks\": \"\"}}, \"type\": \"scattermapbox\"}], \"scatterpolar\": [{\"marker\": {\"colorbar\": {\"outlinewidth\": 0, \"ticks\": \"\"}}, \"type\": \"scatterpolar\"}], \"scatterpolargl\": [{\"marker\": {\"colorbar\": {\"outlinewidth\": 0, \"ticks\": \"\"}}, \"type\": \"scatterpolargl\"}], \"scatterternary\": [{\"marker\": {\"colorbar\": {\"outlinewidth\": 0, \"ticks\": \"\"}}, \"type\": \"scatterternary\"}], \"surface\": [{\"colorbar\": {\"outlinewidth\": 0, \"ticks\": \"\"}, \"colorscale\": [[0.0, \"#0d0887\"], [0.1111111111111111, \"#46039f\"], [0.2222222222222222, \"#7201a8\"], [0.3333333333333333, \"#9c179e\"], [0.4444444444444444, \"#bd3786\"], [0.5555555555555556, \"#d8576b\"], [0.6666666666666666, \"#ed7953\"], [0.7777777777777778, \"#fb9f3a\"], [0.8888888888888888, \"#fdca26\"], [1.0, \"#f0f921\"]], \"type\": \"surface\"}], \"table\": [{\"cells\": {\"fill\": {\"color\": \"#EBF0F8\"}, \"line\": {\"color\": \"white\"}}, \"header\": {\"fill\": {\"color\": \"#C8D4E3\"}, \"line\": {\"color\": \"white\"}}, \"type\": \"table\"}]}, \"layout\": {\"annotationdefaults\": {\"arrowcolor\": \"#2a3f5f\", \"arrowhead\": 0, \"arrowwidth\": 1}, \"coloraxis\": {\"colorbar\": {\"outlinewidth\": 0, \"ticks\": \"\"}}, \"colorscale\": {\"diverging\": [[0, \"#8e0152\"], [0.1, \"#c51b7d\"], [0.2, \"#de77ae\"], [0.3, \"#f1b6da\"], [0.4, \"#fde0ef\"], [0.5, \"#f7f7f7\"], [0.6, \"#e6f5d0\"], [0.7, \"#b8e186\"], [0.8, \"#7fbc41\"], [0.9, \"#4d9221\"], [1, \"#276419\"]], \"sequential\": [[0.0, \"#0d0887\"], [0.1111111111111111, \"#46039f\"], [0.2222222222222222, \"#7201a8\"], [0.3333333333333333, \"#9c179e\"], [0.4444444444444444, \"#bd3786\"], [0.5555555555555556, \"#d8576b\"], [0.6666666666666666, \"#ed7953\"], [0.7777777777777778, \"#fb9f3a\"], [0.8888888888888888, \"#fdca26\"], [1.0, \"#f0f921\"]], \"sequentialminus\": [[0.0, \"#0d0887\"], [0.1111111111111111, \"#46039f\"], [0.2222222222222222, \"#7201a8\"], [0.3333333333333333, \"#9c179e\"], [0.4444444444444444, \"#bd3786\"], [0.5555555555555556, \"#d8576b\"], [0.6666666666666666, \"#ed7953\"], [0.7777777777777778, \"#fb9f3a\"], [0.8888888888888888, \"#fdca26\"], [1.0, \"#f0f921\"]]}, \"colorway\": [\"#636efa\", \"#EF553B\", \"#00cc96\", \"#ab63fa\", \"#FFA15A\", \"#19d3f3\", \"#FF6692\", \"#B6E880\", \"#FF97FF\", \"#FECB52\"], \"font\": {\"color\": \"#2a3f5f\"}, \"geo\": {\"bgcolor\": \"white\", \"lakecolor\": \"white\", \"landcolor\": \"#E5ECF6\", \"showlakes\": true, \"showland\": true, \"subunitcolor\": \"white\"}, \"hoverlabel\": {\"align\": \"left\"}, \"hovermode\": \"closest\", \"mapbox\": {\"style\": \"light\"}, \"paper_bgcolor\": \"white\", \"plot_bgcolor\": \"#E5ECF6\", \"polar\": {\"angularaxis\": {\"gridcolor\": \"white\", \"linecolor\": \"white\", \"ticks\": \"\"}, \"bgcolor\": \"#E5ECF6\", \"radialaxis\": {\"gridcolor\": \"white\", \"linecolor\": \"white\", \"ticks\": \"\"}}, \"scene\": {\"xaxis\": {\"backgroundcolor\": \"#E5ECF6\", \"gridcolor\": \"white\", \"gridwidth\": 2, \"linecolor\": \"white\", \"showbackground\": true, \"ticks\": \"\", \"zerolinecolor\": \"white\"}, \"yaxis\": {\"backgroundcolor\": \"#E5ECF6\", \"gridcolor\": \"white\", \"gridwidth\": 2, \"linecolor\": \"white\", \"showbackground\": true, \"ticks\": \"\", \"zerolinecolor\": \"white\"}, \"zaxis\": {\"backgroundcolor\": \"#E5ECF6\", \"gridcolor\": \"white\", \"gridwidth\": 2, \"linecolor\": \"white\", \"showbackground\": true, \"ticks\": \"\", \"zerolinecolor\": \"white\"}}, \"shapedefaults\": {\"line\": {\"color\": \"#2a3f5f\"}}, \"ternary\": {\"aaxis\": {\"gridcolor\": \"white\", \"linecolor\": \"white\", \"ticks\": \"\"}, \"baxis\": {\"gridcolor\": \"white\", \"linecolor\": \"white\", \"ticks\": \"\"}, \"bgcolor\": \"#E5ECF6\", \"caxis\": {\"gridcolor\": \"white\", \"linecolor\": \"white\", \"ticks\": \"\"}}, \"title\": {\"x\": 0.05}, \"xaxis\": {\"automargin\": true, \"gridcolor\": \"white\", \"linecolor\": \"white\", \"ticks\": \"\", \"title\": {\"standoff\": 15}, \"zerolinecolor\": \"white\", \"zerolinewidth\": 2}, \"yaxis\": {\"automargin\": true, \"gridcolor\": \"white\", \"linecolor\": \"white\", \"ticks\": \"\", \"title\": {\"standoff\": 15}, \"zerolinecolor\": \"white\", \"zerolinewidth\": 2}}}, \"title\": {\"text\": \"Plot of HDI Dataset\"}, \"width\": 800, \"xaxis\": {\"anchor\": \"y\", \"domain\": [0.0, 1.0], \"title\": {\"text\": \"Feature 1\"}}, \"yaxis\": {\"anchor\": \"x\", \"domain\": [0.0, 1.0], \"title\": {\"text\": \"Feature 2\"}}},\n",
              "                        {\"responsive\": true}\n",
              "                    ).then(function(){\n",
              "                            \n",
              "var gd = document.getElementById('9b521c49-a6fd-43e7-a4e8-12eee543014b');\n",
              "var x = new MutationObserver(function (mutations, observer) {{\n",
              "        var display = window.getComputedStyle(gd).display;\n",
              "        if (!display || display === 'none') {{\n",
              "            console.log([gd, 'removed!']);\n",
              "            Plotly.purge(gd);\n",
              "            observer.disconnect();\n",
              "        }}\n",
              "}});\n",
              "\n",
              "// Listen for the removal of the full notebook cells\n",
              "var notebookContainer = gd.closest('#notebook-container');\n",
              "if (notebookContainer) {{\n",
              "    x.observe(notebookContainer, {childList: true});\n",
              "}}\n",
              "\n",
              "// Listen for the clearing of the current output cell\n",
              "var outputEl = gd.closest('.output');\n",
              "if (outputEl) {{\n",
              "    x.observe(outputEl, {childList: true});\n",
              "}}\n",
              "\n",
              "                        })\n",
              "                };\n",
              "                \n",
              "            </script>\n",
              "        </div>\n",
              "</body>\n",
              "</html>"
            ]
          },
          "metadata": {
            "tags": []
          }
        }
      ]
    },
    {
      "cell_type": "code",
      "metadata": {
        "id": "PxKESbfpoQ9b",
        "colab_type": "code",
        "colab": {}
      },
      "source": [
        "from sklearn import svm\n",
        "from sklearn.covariance import EllipticEnvelope\n",
        "from sklearn.ensemble import IsolationForest\n",
        "from sklearn.neighbors import LocalOutlierFactor"
      ],
      "execution_count": 0,
      "outputs": []
    },
    {
      "cell_type": "markdown",
      "metadata": {
        "id": "rkiXgVH_p-tX",
        "colab_type": "text"
      },
      "source": [
        "## **Elliptic Envelope**"
      ]
    },
    {
      "cell_type": "code",
      "metadata": {
        "id": "sLlPzajEp2bj",
        "colab_type": "code",
        "colab": {}
      },
      "source": [
        "plt_data=plot_data.iloc[:,0:2]\n",
        "\n",
        "elip_env = EllipticEnvelope(random_state=0)\n",
        "elip_env.fit(plt_data)\n",
        "y_pred=elip_env.predict(plt_data)\n",
        "# predict returns 1 for an inlier and -1 for an outlier"
      ],
      "execution_count": 0,
      "outputs": []
    },
    {
      "cell_type": "code",
      "metadata": {
        "id": "wQ-HcpWXqeKB",
        "colab_type": "code",
        "colab": {
          "base_uri": "https://localhost:8080/",
          "height": 104
        },
        "outputId": "1b76a08b-fa78-437e-882b-27d47023d111"
      },
      "source": [
        "y_pred"
      ],
      "execution_count": 60,
      "outputs": [
        {
          "output_type": "execute_result",
          "data": {
            "text/plain": [
              "array([-1,  1,  1,  1,  1,  1,  1,  1,  1, -1,  1,  1,  1,  1,  1,  1,  1,\n",
              "        1,  1,  1,  1,  1,  1,  1,  1,  1,  1,  1,  1,  1,  1,  1,  1,  1,\n",
              "        1,  1,  1,  1,  1,  1,  1,  1,  1,  1,  1,  1,  1,  1,  1,  1,  1,\n",
              "        1,  1,  1,  1,  1, -1,  1,  1,  1, -1,  1,  1, -1,  1, -1,  1,  1,\n",
              "        1,  1,  1, -1,  1,  1, -1])"
            ]
          },
          "metadata": {
            "tags": []
          },
          "execution_count": 60
        }
      ]
    },
    {
      "cell_type": "code",
      "metadata": {
        "id": "exzPJ6z8vE20",
        "colab_type": "code",
        "colab": {
          "base_uri": "https://localhost:8080/",
          "height": 424
        },
        "outputId": "9057cb09-c447-4488-d1f2-ccd348beb760"
      },
      "source": [
        "plot_data"
      ],
      "execution_count": 61,
      "outputs": [
        {
          "output_type": "execute_result",
          "data": {
            "text/html": [
              "<div>\n",
              "<style scoped>\n",
              "    .dataframe tbody tr th:only-of-type {\n",
              "        vertical-align: middle;\n",
              "    }\n",
              "\n",
              "    .dataframe tbody tr th {\n",
              "        vertical-align: top;\n",
              "    }\n",
              "\n",
              "    .dataframe thead th {\n",
              "        text-align: right;\n",
              "    }\n",
              "</style>\n",
              "<table border=\"1\" class=\"dataframe\">\n",
              "  <thead>\n",
              "    <tr style=\"text-align: right;\">\n",
              "      <th></th>\n",
              "      <th>Feature 1</th>\n",
              "      <th>Feature 2</th>\n",
              "      <th>Feature 3</th>\n",
              "      <th>District</th>\n",
              "      <th>Elliptic</th>\n",
              "      <th>Elliptic3D</th>\n",
              "    </tr>\n",
              "  </thead>\n",
              "  <tbody>\n",
              "    <tr>\n",
              "      <th>0</th>\n",
              "      <td>4.337676</td>\n",
              "      <td>0.680265</td>\n",
              "      <td>2.022282</td>\n",
              "      <td>Kathmandu</td>\n",
              "      <td>red</td>\n",
              "      <td>-1</td>\n",
              "    </tr>\n",
              "    <tr>\n",
              "      <th>1</th>\n",
              "      <td>3.118809</td>\n",
              "      <td>-0.340032</td>\n",
              "      <td>0.521001</td>\n",
              "      <td>Lalitpur</td>\n",
              "      <td>green</td>\n",
              "      <td>1</td>\n",
              "    </tr>\n",
              "    <tr>\n",
              "      <th>2</th>\n",
              "      <td>2.830949</td>\n",
              "      <td>-0.513740</td>\n",
              "      <td>-0.160116</td>\n",
              "      <td>Kaski</td>\n",
              "      <td>green</td>\n",
              "      <td>1</td>\n",
              "    </tr>\n",
              "    <tr>\n",
              "      <th>3</th>\n",
              "      <td>2.516811</td>\n",
              "      <td>-0.536817</td>\n",
              "      <td>-0.480155</td>\n",
              "      <td>Bhaktapur</td>\n",
              "      <td>green</td>\n",
              "      <td>1</td>\n",
              "    </tr>\n",
              "    <tr>\n",
              "      <th>4</th>\n",
              "      <td>1.729114</td>\n",
              "      <td>0.420275</td>\n",
              "      <td>-0.447127</td>\n",
              "      <td>Ilam</td>\n",
              "      <td>green</td>\n",
              "      <td>1</td>\n",
              "    </tr>\n",
              "    <tr>\n",
              "      <th>...</th>\n",
              "      <td>...</td>\n",
              "      <td>...</td>\n",
              "      <td>...</td>\n",
              "      <td>...</td>\n",
              "      <td>...</td>\n",
              "      <td>...</td>\n",
              "    </tr>\n",
              "    <tr>\n",
              "      <th>70</th>\n",
              "      <td>-2.118363</td>\n",
              "      <td>-1.613603</td>\n",
              "      <td>0.263249</td>\n",
              "      <td>Siraha</td>\n",
              "      <td>green</td>\n",
              "      <td>1</td>\n",
              "    </tr>\n",
              "    <tr>\n",
              "      <th>71</th>\n",
              "      <td>-2.829681</td>\n",
              "      <td>1.547524</td>\n",
              "      <td>0.507954</td>\n",
              "      <td>Humla</td>\n",
              "      <td>green</td>\n",
              "      <td>1</td>\n",
              "    </tr>\n",
              "    <tr>\n",
              "      <th>72</th>\n",
              "      <td>-2.780561</td>\n",
              "      <td>-0.920728</td>\n",
              "      <td>0.527663</td>\n",
              "      <td>Mahottari</td>\n",
              "      <td>green</td>\n",
              "      <td>1</td>\n",
              "    </tr>\n",
              "    <tr>\n",
              "      <th>73</th>\n",
              "      <td>-2.667351</td>\n",
              "      <td>-1.163705</td>\n",
              "      <td>0.829819</td>\n",
              "      <td>Sarlahi</td>\n",
              "      <td>green</td>\n",
              "      <td>1</td>\n",
              "    </tr>\n",
              "    <tr>\n",
              "      <th>74</th>\n",
              "      <td>-3.275285</td>\n",
              "      <td>-1.679087</td>\n",
              "      <td>1.074435</td>\n",
              "      <td>Rautahat</td>\n",
              "      <td>green</td>\n",
              "      <td>1</td>\n",
              "    </tr>\n",
              "  </tbody>\n",
              "</table>\n",
              "<p>75 rows × 6 columns</p>\n",
              "</div>"
            ],
            "text/plain": [
              "    Feature 1  Feature 2  Feature 3   District Elliptic  Elliptic3D\n",
              "0    4.337676   0.680265   2.022282  Kathmandu      red          -1\n",
              "1    3.118809  -0.340032   0.521001   Lalitpur    green           1\n",
              "2    2.830949  -0.513740  -0.160116      Kaski    green           1\n",
              "3    2.516811  -0.536817  -0.480155  Bhaktapur    green           1\n",
              "4    1.729114   0.420275  -0.447127       Ilam    green           1\n",
              "..        ...        ...        ...        ...      ...         ...\n",
              "70  -2.118363  -1.613603   0.263249     Siraha    green           1\n",
              "71  -2.829681   1.547524   0.507954      Humla    green           1\n",
              "72  -2.780561  -0.920728   0.527663  Mahottari    green           1\n",
              "73  -2.667351  -1.163705   0.829819    Sarlahi    green           1\n",
              "74  -3.275285  -1.679087   1.074435   Rautahat    green           1\n",
              "\n",
              "[75 rows x 6 columns]"
            ]
          },
          "metadata": {
            "tags": []
          },
          "execution_count": 61
        }
      ]
    },
    {
      "cell_type": "code",
      "metadata": {
        "id": "0w4YKi9xqJh1",
        "colab_type": "code",
        "colab": {
          "base_uri": "https://localhost:8080/",
          "height": 637
        },
        "outputId": "61e259aa-2ebf-4bf9-9e8d-b594fbe80adb"
      },
      "source": [
        "fig=px.scatter(plot_data, x= 'Feature 1',y='Feature 2',color=y_pred,hover_data=['District'],width=800, height=600)\n",
        "fig.update_layout(\n",
        "    title=\"Outliers by Eliptic Envelope on Agriculture Dataset\",\n",
        "    xaxis_title=\"Feature 1\",\n",
        "    yaxis_title=\"Feature 2\",\n",
        "    font=dict(\n",
        "        family=\"Courier New, monospace\",\n",
        "        size=12,\n",
        "        color=\"#7f7f7f\"\n",
        "    )\n",
        ")\n",
        "fig.show()"
      ],
      "execution_count": 62,
      "outputs": [
        {
          "output_type": "display_data",
          "data": {
            "text/html": [
              "<html>\n",
              "<head><meta charset=\"utf-8\" /></head>\n",
              "<body>\n",
              "    <div>\n",
              "            <script src=\"https://cdnjs.cloudflare.com/ajax/libs/mathjax/2.7.5/MathJax.js?config=TeX-AMS-MML_SVG\"></script><script type=\"text/javascript\">if (window.MathJax) {MathJax.Hub.Config({SVG: {font: \"STIX-Web\"}});}</script>\n",
              "                <script type=\"text/javascript\">window.PlotlyConfig = {MathJaxConfig: 'local'};</script>\n",
              "        <script src=\"https://cdn.plot.ly/plotly-latest.min.js\"></script>    \n",
              "            <div id=\"ee03b9f5-8980-4607-8c51-9108706b8818\" class=\"plotly-graph-div\" style=\"height:600px; width:800px;\"></div>\n",
              "            <script type=\"text/javascript\">\n",
              "                \n",
              "                    window.PLOTLYENV=window.PLOTLYENV || {};\n",
              "                    \n",
              "                if (document.getElementById(\"ee03b9f5-8980-4607-8c51-9108706b8818\")) {\n",
              "                    Plotly.newPlot(\n",
              "                        'ee03b9f5-8980-4607-8c51-9108706b8818',\n",
              "                        [{\"customdata\": [[\"Kathmandu\"], [\"Lalitpur\"], [\"Kaski\"], [\"Bhaktapur\"], [\"Ilam\"], [\"Chitwan\"], [\"Syangja\"], [\"Palpa\"], [\"Jhapa\"], [\"Manang\"], [\"Tanahu\"], [\"Tehrathum\"], [\"Dhankuta\"], [\"Parbat\"], [\"Surkhet\"], [\"Arghakhanchi\"], [\"Gulmi\"], [\"Panchthar\"], [\"Baglung\"], [\"Myagdi\"], [\"Taplejung\"], [\"Lamjung\"], [\"Nawalparasi\"], [\"Kanchanpur\"], [\"Morang\"], [\"Dang\"], [\"Kavrepalanchok\"], [\"Rupandehi\"], [\"Sankhuwasabha\"], [\"Bhojpur\"], [\"Khotang\"], [\"Udayapur\"], [\"Sunsari\"], [\"Makwanpur\"], [\"Pyuthan\"], [\"Gorkha\"], [\"Kailali\"], [\"Mustang\"], [\"Bardiya\"], [\"Darchula\"], [\"Dadeldhura\"], [\"Okhaldhunga\"], [\"Solukhumbu\"], [\"Salyan\"], [\"Baitadi\"], [\"Dhading\"], [\"Dolakha\"], [\"Dailekh\"], [\"Banke\"], [\"Ramechhap\"], [\"Rukum\"], [\"Sindhuli\"], [\"Rolpa\"], [\"Nuwakot\"], [\"Sindhupalchok\"], [\"Jajarkot\"], [\"Kalikot\"], [\"Doti\"], [\"Parsa\"], [\"Achham\"], [\"Bajura\"], [\"Bajhang\"], [\"Kapilbastu\"], [\"Jumla\"], [\"Saptari\"], [\"Dolpa\"], [\"Rasuwa\"], [\"Bara\"], [\"Mugu\"], [\"Dhanusa\"], [\"Siraha\"], [\"Humla\"], [\"Mahottari\"], [\"Sarlahi\"], [\"Rautahat\"]], \"hoverlabel\": {\"namelength\": 0}, \"hovertemplate\": \"Feature 1=%{x}<br>Feature 2=%{y}<br>District=%{customdata[0]}<br>color=%{marker.color}\", \"legendgroup\": \"\", \"marker\": {\"color\": [-1, 1, 1, 1, 1, 1, 1, 1, 1, -1, 1, 1, 1, 1, 1, 1, 1, 1, 1, 1, 1, 1, 1, 1, 1, 1, 1, 1, 1, 1, 1, 1, 1, 1, 1, 1, 1, 1, 1, 1, 1, 1, 1, 1, 1, 1, 1, 1, 1, 1, 1, 1, 1, 1, 1, 1, -1, 1, 1, 1, -1, 1, 1, -1, 1, -1, 1, 1, 1, 1, 1, -1, 1, 1, -1], \"coloraxis\": \"coloraxis\", \"symbol\": \"circle\"}, \"mode\": \"markers\", \"name\": \"\", \"showlegend\": false, \"type\": \"scatter\", \"x\": [4.337676161009879, 3.1188093937368926, 2.830948630962913, 2.5168105584441234, 1.7291140911730674, 2.040543049794674, 1.7994747111064104, 1.3761045616799337, 1.31833283311004, 2.958645766747861, 1.4129072867475991, 1.5629826216477913, 1.4064240263584398, 1.2725205480927837, 0.761248973450328, 0.8820971656443796, 0.6805614111792186, 0.9217094645482207, 0.7428031246444279, 0.9795222878170533, 0.8357059863368657, 1.1040973276057724, 0.7776769501723727, 0.5022332929202458, 0.8878382697494428, 0.6423138866765653, 1.100853962493588, 0.6101868162321225, 0.6477964067183314, 0.4619519650061602, 0.6590623778089529, 0.36424414459038096, 0.4171370176884071, 0.6045583761553454, -0.3075968511296998, 0.37654235414387555, -0.12680490990566468, 0.6520292930851708, -0.0747824204261186, -0.2919208573771572, -0.19956253130035978, -0.03621948100838211, 0.6730832491070953, -0.4046311999318163, -0.5917484386471994, -0.23894155552680788, -0.2563232304950418, -0.7719637229464518, -0.37771181937557285, -0.15088988184664182, -0.7057616609044269, -0.757880382486588, -1.1626584477667041, -0.5481171327040923, -0.6353121808783192, -1.6918504081961632, -1.9411431711329896, -1.3280519157712571, -1.0099423872152289, -1.7065669030174735, -2.050763028948897, -1.879393665841731, -1.5117047415048723, -1.7923045383673568, -1.4370479121349218, -1.9218419823528863, -0.9460864516443463, -1.2084688483586674, -2.2135021245879876, -2.0178127151413556, -2.1183630033478975, -2.829681142815764, -2.780561379034425, -2.6673505102708344, -3.27528481004463], \"xaxis\": \"x\", \"y\": [0.6802648121035058, -0.34003192706874236, -0.5137397644906472, -0.5368174330652651, 0.4202751418208489, -0.3198677890131691, -0.31163964494553775, 0.2268106326615443, 0.6648099569945886, 2.140621332831868, -0.5949102087984339, 0.40259560053342575, -0.09267303907885331, -0.7946923848289559, 0.586913334109037, 0.021161502513488466, 0.1848659139377951, 0.22709803616228175, -0.1306101767874836, -0.6164076917027408, 1.2684084825818736, -0.9755297314213847, 0.3741059318301075, 0.6682485760510523, -0.17004421868956107, 0.5576634002719846, -0.9093739892309276, 0.14202791267278791, 0.06868150772852093, 0.07839264424849657, -0.7400743307476855, -0.3853061397426866, 0.07689793902572122, 0.23011480705864348, 1.7508738467067895, -1.453442420596049, 0.8420979047499804, 1.6891445378263479, 0.47368495555077134, -0.30916558753400286, 0.23637695522118865, -0.9887126488328746, -0.031391158134826534, -0.26660624144688044, -0.2530288080543514, -1.1766082415430823, -1.1435420672667838, 0.024943063181731534, -0.06054653961596625, -2.0488634747918777, -0.14035950716657852, -0.8810024395894686, 0.7571915926224295, -1.1892075439614962, -0.6395908065694585, 0.5657106724083465, 1.8292579421414603, 0.6262328059312774, -0.9300798282745119, 0.3397254809931466, 1.7110703679891026, 1.2149825640455487, 0.15296513534562917, 2.160248621352118, -1.509063350689425, 3.013048413351719, -1.2644931050745796, -1.05632038523152, 1.0024467918020137, -0.8066167894727868, -1.613603438588704, 1.547524205231109, -0.9207283726043063, -1.1637053526071637, -1.679086744329513], \"yaxis\": \"y\"}],\n",
              "                        {\"coloraxis\": {\"colorbar\": {\"title\": {\"text\": \"color\"}}, \"colorscale\": [[0.0, \"#0d0887\"], [0.1111111111111111, \"#46039f\"], [0.2222222222222222, \"#7201a8\"], [0.3333333333333333, \"#9c179e\"], [0.4444444444444444, \"#bd3786\"], [0.5555555555555556, \"#d8576b\"], [0.6666666666666666, \"#ed7953\"], [0.7777777777777778, \"#fb9f3a\"], [0.8888888888888888, \"#fdca26\"], [1.0, \"#f0f921\"]]}, \"font\": {\"color\": \"#7f7f7f\", \"family\": \"Courier New, monospace\", \"size\": 12}, \"height\": 600, \"legend\": {\"tracegroupgap\": 0}, \"margin\": {\"t\": 60}, \"template\": {\"data\": {\"bar\": [{\"error_x\": {\"color\": \"#2a3f5f\"}, \"error_y\": {\"color\": \"#2a3f5f\"}, \"marker\": {\"line\": {\"color\": \"#E5ECF6\", \"width\": 0.5}}, \"type\": \"bar\"}], \"barpolar\": [{\"marker\": {\"line\": {\"color\": \"#E5ECF6\", \"width\": 0.5}}, \"type\": \"barpolar\"}], \"carpet\": [{\"aaxis\": {\"endlinecolor\": \"#2a3f5f\", \"gridcolor\": \"white\", \"linecolor\": \"white\", \"minorgridcolor\": \"white\", \"startlinecolor\": \"#2a3f5f\"}, \"baxis\": {\"endlinecolor\": \"#2a3f5f\", \"gridcolor\": \"white\", \"linecolor\": \"white\", \"minorgridcolor\": \"white\", \"startlinecolor\": \"#2a3f5f\"}, \"type\": \"carpet\"}], \"choropleth\": [{\"colorbar\": {\"outlinewidth\": 0, \"ticks\": \"\"}, \"type\": \"choropleth\"}], \"contour\": [{\"colorbar\": {\"outlinewidth\": 0, \"ticks\": \"\"}, \"colorscale\": [[0.0, \"#0d0887\"], [0.1111111111111111, \"#46039f\"], [0.2222222222222222, \"#7201a8\"], [0.3333333333333333, \"#9c179e\"], [0.4444444444444444, \"#bd3786\"], [0.5555555555555556, \"#d8576b\"], [0.6666666666666666, \"#ed7953\"], [0.7777777777777778, \"#fb9f3a\"], [0.8888888888888888, \"#fdca26\"], [1.0, \"#f0f921\"]], \"type\": \"contour\"}], \"contourcarpet\": [{\"colorbar\": {\"outlinewidth\": 0, \"ticks\": \"\"}, \"type\": \"contourcarpet\"}], \"heatmap\": [{\"colorbar\": {\"outlinewidth\": 0, \"ticks\": \"\"}, \"colorscale\": [[0.0, \"#0d0887\"], [0.1111111111111111, \"#46039f\"], [0.2222222222222222, \"#7201a8\"], [0.3333333333333333, \"#9c179e\"], [0.4444444444444444, \"#bd3786\"], [0.5555555555555556, \"#d8576b\"], [0.6666666666666666, \"#ed7953\"], [0.7777777777777778, \"#fb9f3a\"], [0.8888888888888888, \"#fdca26\"], [1.0, \"#f0f921\"]], \"type\": \"heatmap\"}], \"heatmapgl\": [{\"colorbar\": {\"outlinewidth\": 0, \"ticks\": \"\"}, \"colorscale\": [[0.0, \"#0d0887\"], [0.1111111111111111, \"#46039f\"], [0.2222222222222222, \"#7201a8\"], [0.3333333333333333, \"#9c179e\"], [0.4444444444444444, \"#bd3786\"], [0.5555555555555556, \"#d8576b\"], [0.6666666666666666, \"#ed7953\"], [0.7777777777777778, \"#fb9f3a\"], [0.8888888888888888, \"#fdca26\"], [1.0, \"#f0f921\"]], \"type\": \"heatmapgl\"}], \"histogram\": [{\"marker\": {\"colorbar\": {\"outlinewidth\": 0, \"ticks\": \"\"}}, \"type\": \"histogram\"}], \"histogram2d\": [{\"colorbar\": {\"outlinewidth\": 0, \"ticks\": \"\"}, \"colorscale\": [[0.0, \"#0d0887\"], [0.1111111111111111, \"#46039f\"], [0.2222222222222222, \"#7201a8\"], [0.3333333333333333, \"#9c179e\"], [0.4444444444444444, \"#bd3786\"], [0.5555555555555556, \"#d8576b\"], [0.6666666666666666, \"#ed7953\"], [0.7777777777777778, \"#fb9f3a\"], [0.8888888888888888, \"#fdca26\"], [1.0, \"#f0f921\"]], \"type\": \"histogram2d\"}], \"histogram2dcontour\": [{\"colorbar\": {\"outlinewidth\": 0, \"ticks\": \"\"}, \"colorscale\": [[0.0, \"#0d0887\"], [0.1111111111111111, \"#46039f\"], [0.2222222222222222, \"#7201a8\"], [0.3333333333333333, \"#9c179e\"], [0.4444444444444444, \"#bd3786\"], [0.5555555555555556, \"#d8576b\"], [0.6666666666666666, \"#ed7953\"], [0.7777777777777778, \"#fb9f3a\"], [0.8888888888888888, \"#fdca26\"], [1.0, \"#f0f921\"]], \"type\": \"histogram2dcontour\"}], \"mesh3d\": [{\"colorbar\": {\"outlinewidth\": 0, \"ticks\": \"\"}, \"type\": \"mesh3d\"}], \"parcoords\": [{\"line\": {\"colorbar\": {\"outlinewidth\": 0, \"ticks\": \"\"}}, \"type\": \"parcoords\"}], \"pie\": [{\"automargin\": true, \"type\": \"pie\"}], \"scatter\": [{\"marker\": {\"colorbar\": {\"outlinewidth\": 0, \"ticks\": \"\"}}, \"type\": \"scatter\"}], \"scatter3d\": [{\"line\": {\"colorbar\": {\"outlinewidth\": 0, \"ticks\": \"\"}}, \"marker\": {\"colorbar\": {\"outlinewidth\": 0, \"ticks\": \"\"}}, \"type\": \"scatter3d\"}], \"scattercarpet\": [{\"marker\": {\"colorbar\": {\"outlinewidth\": 0, \"ticks\": \"\"}}, \"type\": \"scattercarpet\"}], \"scattergeo\": [{\"marker\": {\"colorbar\": {\"outlinewidth\": 0, \"ticks\": \"\"}}, \"type\": \"scattergeo\"}], \"scattergl\": [{\"marker\": {\"colorbar\": {\"outlinewidth\": 0, \"ticks\": \"\"}}, \"type\": \"scattergl\"}], \"scattermapbox\": [{\"marker\": {\"colorbar\": {\"outlinewidth\": 0, \"ticks\": \"\"}}, \"type\": \"scattermapbox\"}], \"scatterpolar\": [{\"marker\": {\"colorbar\": {\"outlinewidth\": 0, \"ticks\": \"\"}}, \"type\": \"scatterpolar\"}], \"scatterpolargl\": [{\"marker\": {\"colorbar\": {\"outlinewidth\": 0, \"ticks\": \"\"}}, \"type\": \"scatterpolargl\"}], \"scatterternary\": [{\"marker\": {\"colorbar\": {\"outlinewidth\": 0, \"ticks\": \"\"}}, \"type\": \"scatterternary\"}], \"surface\": [{\"colorbar\": {\"outlinewidth\": 0, \"ticks\": \"\"}, \"colorscale\": [[0.0, \"#0d0887\"], [0.1111111111111111, \"#46039f\"], [0.2222222222222222, \"#7201a8\"], [0.3333333333333333, \"#9c179e\"], [0.4444444444444444, \"#bd3786\"], [0.5555555555555556, \"#d8576b\"], [0.6666666666666666, \"#ed7953\"], [0.7777777777777778, \"#fb9f3a\"], [0.8888888888888888, \"#fdca26\"], [1.0, \"#f0f921\"]], \"type\": \"surface\"}], \"table\": [{\"cells\": {\"fill\": {\"color\": \"#EBF0F8\"}, \"line\": {\"color\": \"white\"}}, \"header\": {\"fill\": {\"color\": \"#C8D4E3\"}, \"line\": {\"color\": \"white\"}}, \"type\": \"table\"}]}, \"layout\": {\"annotationdefaults\": {\"arrowcolor\": \"#2a3f5f\", \"arrowhead\": 0, \"arrowwidth\": 1}, \"coloraxis\": {\"colorbar\": {\"outlinewidth\": 0, \"ticks\": \"\"}}, \"colorscale\": {\"diverging\": [[0, \"#8e0152\"], [0.1, \"#c51b7d\"], [0.2, \"#de77ae\"], [0.3, \"#f1b6da\"], [0.4, \"#fde0ef\"], [0.5, \"#f7f7f7\"], [0.6, \"#e6f5d0\"], [0.7, \"#b8e186\"], [0.8, \"#7fbc41\"], [0.9, \"#4d9221\"], [1, \"#276419\"]], \"sequential\": [[0.0, \"#0d0887\"], [0.1111111111111111, \"#46039f\"], [0.2222222222222222, \"#7201a8\"], [0.3333333333333333, \"#9c179e\"], [0.4444444444444444, \"#bd3786\"], [0.5555555555555556, \"#d8576b\"], [0.6666666666666666, \"#ed7953\"], [0.7777777777777778, \"#fb9f3a\"], [0.8888888888888888, \"#fdca26\"], [1.0, \"#f0f921\"]], \"sequentialminus\": [[0.0, \"#0d0887\"], [0.1111111111111111, \"#46039f\"], [0.2222222222222222, \"#7201a8\"], [0.3333333333333333, \"#9c179e\"], [0.4444444444444444, \"#bd3786\"], [0.5555555555555556, \"#d8576b\"], [0.6666666666666666, \"#ed7953\"], [0.7777777777777778, \"#fb9f3a\"], [0.8888888888888888, \"#fdca26\"], [1.0, \"#f0f921\"]]}, \"colorway\": [\"#636efa\", \"#EF553B\", \"#00cc96\", \"#ab63fa\", \"#FFA15A\", \"#19d3f3\", \"#FF6692\", \"#B6E880\", \"#FF97FF\", \"#FECB52\"], \"font\": {\"color\": \"#2a3f5f\"}, \"geo\": {\"bgcolor\": \"white\", \"lakecolor\": \"white\", \"landcolor\": \"#E5ECF6\", \"showlakes\": true, \"showland\": true, \"subunitcolor\": \"white\"}, \"hoverlabel\": {\"align\": \"left\"}, \"hovermode\": \"closest\", \"mapbox\": {\"style\": \"light\"}, \"paper_bgcolor\": \"white\", \"plot_bgcolor\": \"#E5ECF6\", \"polar\": {\"angularaxis\": {\"gridcolor\": \"white\", \"linecolor\": \"white\", \"ticks\": \"\"}, \"bgcolor\": \"#E5ECF6\", \"radialaxis\": {\"gridcolor\": \"white\", \"linecolor\": \"white\", \"ticks\": \"\"}}, \"scene\": {\"xaxis\": {\"backgroundcolor\": \"#E5ECF6\", \"gridcolor\": \"white\", \"gridwidth\": 2, \"linecolor\": \"white\", \"showbackground\": true, \"ticks\": \"\", \"zerolinecolor\": \"white\"}, \"yaxis\": {\"backgroundcolor\": \"#E5ECF6\", \"gridcolor\": \"white\", \"gridwidth\": 2, \"linecolor\": \"white\", \"showbackground\": true, \"ticks\": \"\", \"zerolinecolor\": \"white\"}, \"zaxis\": {\"backgroundcolor\": \"#E5ECF6\", \"gridcolor\": \"white\", \"gridwidth\": 2, \"linecolor\": \"white\", \"showbackground\": true, \"ticks\": \"\", \"zerolinecolor\": \"white\"}}, \"shapedefaults\": {\"line\": {\"color\": \"#2a3f5f\"}}, \"ternary\": {\"aaxis\": {\"gridcolor\": \"white\", \"linecolor\": \"white\", \"ticks\": \"\"}, \"baxis\": {\"gridcolor\": \"white\", \"linecolor\": \"white\", \"ticks\": \"\"}, \"bgcolor\": \"#E5ECF6\", \"caxis\": {\"gridcolor\": \"white\", \"linecolor\": \"white\", \"ticks\": \"\"}}, \"title\": {\"x\": 0.05}, \"xaxis\": {\"automargin\": true, \"gridcolor\": \"white\", \"linecolor\": \"white\", \"ticks\": \"\", \"title\": {\"standoff\": 15}, \"zerolinecolor\": \"white\", \"zerolinewidth\": 2}, \"yaxis\": {\"automargin\": true, \"gridcolor\": \"white\", \"linecolor\": \"white\", \"ticks\": \"\", \"title\": {\"standoff\": 15}, \"zerolinecolor\": \"white\", \"zerolinewidth\": 2}}}, \"title\": {\"text\": \"Outliers by Eliptic Envelope on Agriculture Dataset\"}, \"width\": 800, \"xaxis\": {\"anchor\": \"y\", \"domain\": [0.0, 1.0], \"title\": {\"text\": \"Feature 1\"}}, \"yaxis\": {\"anchor\": \"x\", \"domain\": [0.0, 1.0], \"title\": {\"text\": \"Feature 2\"}}},\n",
              "                        {\"responsive\": true}\n",
              "                    ).then(function(){\n",
              "                            \n",
              "var gd = document.getElementById('ee03b9f5-8980-4607-8c51-9108706b8818');\n",
              "var x = new MutationObserver(function (mutations, observer) {{\n",
              "        var display = window.getComputedStyle(gd).display;\n",
              "        if (!display || display === 'none') {{\n",
              "            console.log([gd, 'removed!']);\n",
              "            Plotly.purge(gd);\n",
              "            observer.disconnect();\n",
              "        }}\n",
              "}});\n",
              "\n",
              "// Listen for the removal of the full notebook cells\n",
              "var notebookContainer = gd.closest('#notebook-container');\n",
              "if (notebookContainer) {{\n",
              "    x.observe(notebookContainer, {childList: true});\n",
              "}}\n",
              "\n",
              "// Listen for the clearing of the current output cell\n",
              "var outputEl = gd.closest('.output');\n",
              "if (outputEl) {{\n",
              "    x.observe(outputEl, {childList: true});\n",
              "}}\n",
              "\n",
              "                        })\n",
              "                };\n",
              "                \n",
              "            </script>\n",
              "        </div>\n",
              "</body>\n",
              "</html>"
            ]
          },
          "metadata": {
            "tags": []
          }
        }
      ]
    },
    {
      "cell_type": "code",
      "metadata": {
        "id": "2QbwgzTqqKsb",
        "colab_type": "code",
        "colab": {
          "base_uri": "https://localhost:8080/",
          "height": 637
        },
        "outputId": "cc492eb6-10ff-43c0-f819-a4e56288c28d"
      },
      "source": [
        "plt_data=plot_data.iloc[:,0:3]\n",
        "\n",
        "elip_env = EllipticEnvelope(random_state=0)\n",
        "elip_env.fit(plt_data)\n",
        "y_pred=elip_env.predict(plt_data)\n",
        "# plot_data['Elliptic3D']=y_pred\n",
        "\n",
        "\n",
        "fig=px.scatter_3d(plot_data, x= 'Feature 1',y='Feature 2',z='Feature 3',color=y_pred,hover_data=['District'],width=900, height=600,size_max=10,opacity=0.7)\n",
        "fig.update_layout(\n",
        "    title=\"Outlier detection 3D Visualization on Agriculture Dataset \",\n",
        "    xaxis_title=\"Feature 1\",\n",
        "    yaxis_title=\"Feature 2\",\n",
        "    font=dict(\n",
        "        family=\"Courier New, monospace\",\n",
        "        size=12,\n",
        "        color=\"#7f7f7f\"\n",
        "    )\n",
        ")\n",
        "fig.show()"
      ],
      "execution_count": 63,
      "outputs": [
        {
          "output_type": "display_data",
          "data": {
            "text/html": [
              "<html>\n",
              "<head><meta charset=\"utf-8\" /></head>\n",
              "<body>\n",
              "    <div>\n",
              "            <script src=\"https://cdnjs.cloudflare.com/ajax/libs/mathjax/2.7.5/MathJax.js?config=TeX-AMS-MML_SVG\"></script><script type=\"text/javascript\">if (window.MathJax) {MathJax.Hub.Config({SVG: {font: \"STIX-Web\"}});}</script>\n",
              "                <script type=\"text/javascript\">window.PlotlyConfig = {MathJaxConfig: 'local'};</script>\n",
              "        <script src=\"https://cdn.plot.ly/plotly-latest.min.js\"></script>    \n",
              "            <div id=\"ddaf5b7e-564b-48a9-8f32-fd7e3fa19746\" class=\"plotly-graph-div\" style=\"height:600px; width:900px;\"></div>\n",
              "            <script type=\"text/javascript\">\n",
              "                \n",
              "                    window.PLOTLYENV=window.PLOTLYENV || {};\n",
              "                    \n",
              "                if (document.getElementById(\"ddaf5b7e-564b-48a9-8f32-fd7e3fa19746\")) {\n",
              "                    Plotly.newPlot(\n",
              "                        'ddaf5b7e-564b-48a9-8f32-fd7e3fa19746',\n",
              "                        [{\"customdata\": [[\"Kathmandu\"], [\"Lalitpur\"], [\"Kaski\"], [\"Bhaktapur\"], [\"Ilam\"], [\"Chitwan\"], [\"Syangja\"], [\"Palpa\"], [\"Jhapa\"], [\"Manang\"], [\"Tanahu\"], [\"Tehrathum\"], [\"Dhankuta\"], [\"Parbat\"], [\"Surkhet\"], [\"Arghakhanchi\"], [\"Gulmi\"], [\"Panchthar\"], [\"Baglung\"], [\"Myagdi\"], [\"Taplejung\"], [\"Lamjung\"], [\"Nawalparasi\"], [\"Kanchanpur\"], [\"Morang\"], [\"Dang\"], [\"Kavrepalanchok\"], [\"Rupandehi\"], [\"Sankhuwasabha\"], [\"Bhojpur\"], [\"Khotang\"], [\"Udayapur\"], [\"Sunsari\"], [\"Makwanpur\"], [\"Pyuthan\"], [\"Gorkha\"], [\"Kailali\"], [\"Mustang\"], [\"Bardiya\"], [\"Darchula\"], [\"Dadeldhura\"], [\"Okhaldhunga\"], [\"Solukhumbu\"], [\"Salyan\"], [\"Baitadi\"], [\"Dhading\"], [\"Dolakha\"], [\"Dailekh\"], [\"Banke\"], [\"Ramechhap\"], [\"Rukum\"], [\"Sindhuli\"], [\"Rolpa\"], [\"Nuwakot\"], [\"Sindhupalchok\"], [\"Jajarkot\"], [\"Kalikot\"], [\"Doti\"], [\"Parsa\"], [\"Achham\"], [\"Bajura\"], [\"Bajhang\"], [\"Kapilbastu\"], [\"Jumla\"], [\"Saptari\"], [\"Dolpa\"], [\"Rasuwa\"], [\"Bara\"], [\"Mugu\"], [\"Dhanusa\"], [\"Siraha\"], [\"Humla\"], [\"Mahottari\"], [\"Sarlahi\"], [\"Rautahat\"]], \"hoverlabel\": {\"namelength\": 0}, \"hovertemplate\": \"Feature 1=%{x}<br>Feature 2=%{y}<br>Feature 3=%{z}<br>District=%{customdata[0]}<br>color=%{marker.color}\", \"legendgroup\": \"\", \"marker\": {\"color\": [-1, 1, 1, 1, 1, 1, 1, 1, 1, -1, 1, 1, 1, 1, 1, 1, 1, 1, 1, 1, 1, 1, 1, 1, 1, 1, 1, 1, 1, 1, 1, 1, 1, 1, 1, 1, 1, -1, 1, 1, 1, 1, -1, 1, 1, 1, 1, 1, 1, 1, 1, 1, 1, 1, 1, 1, 1, 1, 1, 1, 1, 1, 1, -1, 1, -1, -1, -1, 1, 1, 1, 1, 1, 1, 1], \"coloraxis\": \"coloraxis\", \"opacity\": 0.7, \"symbol\": \"circle\"}, \"mode\": \"markers\", \"name\": \"\", \"scene\": \"scene\", \"showlegend\": false, \"type\": \"scatter3d\", \"x\": [4.337676161009879, 3.1188093937368926, 2.830948630962913, 2.5168105584441234, 1.7291140911730674, 2.040543049794674, 1.7994747111064104, 1.3761045616799337, 1.31833283311004, 2.958645766747861, 1.4129072867475991, 1.5629826216477913, 1.4064240263584398, 1.2725205480927837, 0.761248973450328, 0.8820971656443796, 0.6805614111792186, 0.9217094645482207, 0.7428031246444279, 0.9795222878170533, 0.8357059863368657, 1.1040973276057724, 0.7776769501723727, 0.5022332929202458, 0.8878382697494428, 0.6423138866765653, 1.100853962493588, 0.6101868162321225, 0.6477964067183314, 0.4619519650061602, 0.6590623778089529, 0.36424414459038096, 0.4171370176884071, 0.6045583761553454, -0.3075968511296998, 0.37654235414387555, -0.12680490990566468, 0.6520292930851708, -0.0747824204261186, -0.2919208573771572, -0.19956253130035978, -0.03621948100838211, 0.6730832491070953, -0.4046311999318163, -0.5917484386471994, -0.23894155552680788, -0.2563232304950418, -0.7719637229464518, -0.37771181937557285, -0.15088988184664182, -0.7057616609044269, -0.757880382486588, -1.1626584477667041, -0.5481171327040923, -0.6353121808783192, -1.6918504081961632, -1.9411431711329896, -1.3280519157712571, -1.0099423872152289, -1.7065669030174735, -2.050763028948897, -1.879393665841731, -1.5117047415048723, -1.7923045383673568, -1.4370479121349218, -1.9218419823528863, -0.9460864516443463, -1.2084688483586674, -2.2135021245879876, -2.0178127151413556, -2.1183630033478975, -2.829681142815764, -2.780561379034425, -2.6673505102708344, -3.27528481004463], \"y\": [0.6802648121035058, -0.34003192706874236, -0.5137397644906472, -0.5368174330652651, 0.4202751418208489, -0.3198677890131691, -0.31163964494553775, 0.2268106326615443, 0.6648099569945886, 2.140621332831868, -0.5949102087984339, 0.40259560053342575, -0.09267303907885331, -0.7946923848289559, 0.586913334109037, 0.021161502513488466, 0.1848659139377951, 0.22709803616228175, -0.1306101767874836, -0.6164076917027408, 1.2684084825818736, -0.9755297314213847, 0.3741059318301075, 0.6682485760510523, -0.17004421868956107, 0.5576634002719846, -0.9093739892309276, 0.14202791267278791, 0.06868150772852093, 0.07839264424849657, -0.7400743307476855, -0.3853061397426866, 0.07689793902572122, 0.23011480705864348, 1.7508738467067895, -1.453442420596049, 0.8420979047499804, 1.6891445378263479, 0.47368495555077134, -0.30916558753400286, 0.23637695522118865, -0.9887126488328746, -0.031391158134826534, -0.26660624144688044, -0.2530288080543514, -1.1766082415430823, -1.1435420672667838, 0.024943063181731534, -0.06054653961596625, -2.0488634747918777, -0.14035950716657852, -0.8810024395894686, 0.7571915926224295, -1.1892075439614962, -0.6395908065694585, 0.5657106724083465, 1.8292579421414603, 0.6262328059312774, -0.9300798282745119, 0.3397254809931466, 1.7110703679891026, 1.2149825640455487, 0.15296513534562917, 2.160248621352118, -1.509063350689425, 3.013048413351719, -1.2644931050745796, -1.05632038523152, 1.0024467918020137, -0.8066167894727868, -1.613603438588704, 1.547524205231109, -0.9207283726043063, -1.1637053526071637, -1.679086744329513], \"z\": [2.0222821765855676, 0.5210007167699616, -0.16011608948428932, -0.48015500455669996, -0.4471268365768852, 0.17921168567584614, -0.5436186105798498, -0.9671745751748135, -0.356556984373432, 3.571907886007269, -0.6724371969629509, 0.023603383918261844, -0.2454365924656885, -0.7354858983507098, -0.8869291507998966, -0.8844765859515278, -1.1991229802176933, -0.47456744040832544, -0.8954298821907934, -0.5612950089805885, 0.04195106207832734, -0.18482853015019693, -0.23929195568449177, -0.7111523169117008, 0.015503060479370624, -0.260081609324938, 0.34865442560670923, -0.22088526858838667, -0.033067983109327716, -0.44605748140353807, -0.1123728485901261, -0.5374136870433012, -0.14949471477170487, 0.5320643032976154, -1.0659026420753994, -0.1172654051146439, -0.38391062442319823, 1.6280748444141382, 0.022386773343455846, -1.022312308573744, -0.782754845176918, -0.18076205695597722, 1.6152902879193733, -0.5115702850221152, -1.0317313968798172, 0.02887338077626582, -0.1461299583498017, -0.621927815277977, 0.3651970780080005, -0.02129052704231724, -0.3698350168467213, -0.15851795322486567, -0.6125114795420649, 0.45808607186183, 0.5001233711506352, -0.37251644378622406, -0.5009075303131433, -0.23745451228485906, 0.9763852757153659, -0.5980499519941781, -0.5920876107481032, -0.7642864577367177, 0.5370221169925684, 0.45382755288113624, 0.17215587099418117, 0.510605564630845, 1.797605173032055, 1.7605844018748429, 0.4371844420176695, 0.7735993876258229, 0.26324869272119505, 0.507954482685774, 0.527662970093744, 0.829819002337994, 1.074434612524817]}],\n",
              "                        {\"coloraxis\": {\"colorbar\": {\"title\": {\"text\": \"color\"}}, \"colorscale\": [[0.0, \"#0d0887\"], [0.1111111111111111, \"#46039f\"], [0.2222222222222222, \"#7201a8\"], [0.3333333333333333, \"#9c179e\"], [0.4444444444444444, \"#bd3786\"], [0.5555555555555556, \"#d8576b\"], [0.6666666666666666, \"#ed7953\"], [0.7777777777777778, \"#fb9f3a\"], [0.8888888888888888, \"#fdca26\"], [1.0, \"#f0f921\"]]}, \"font\": {\"color\": \"#7f7f7f\", \"family\": \"Courier New, monospace\", \"size\": 12}, \"height\": 600, \"legend\": {\"tracegroupgap\": 0}, \"margin\": {\"t\": 60}, \"scene\": {\"domain\": {\"x\": [0.0, 1.0], \"y\": [0.0, 1.0]}, \"xaxis\": {\"title\": {\"text\": \"Feature 1\"}}, \"yaxis\": {\"title\": {\"text\": \"Feature 2\"}}, \"zaxis\": {\"title\": {\"text\": \"Feature 3\"}}}, \"template\": {\"data\": {\"bar\": [{\"error_x\": {\"color\": \"#2a3f5f\"}, \"error_y\": {\"color\": \"#2a3f5f\"}, \"marker\": {\"line\": {\"color\": \"#E5ECF6\", \"width\": 0.5}}, \"type\": \"bar\"}], \"barpolar\": [{\"marker\": {\"line\": {\"color\": \"#E5ECF6\", \"width\": 0.5}}, \"type\": \"barpolar\"}], \"carpet\": [{\"aaxis\": {\"endlinecolor\": \"#2a3f5f\", \"gridcolor\": \"white\", \"linecolor\": \"white\", \"minorgridcolor\": \"white\", \"startlinecolor\": \"#2a3f5f\"}, \"baxis\": {\"endlinecolor\": \"#2a3f5f\", \"gridcolor\": \"white\", \"linecolor\": \"white\", \"minorgridcolor\": \"white\", \"startlinecolor\": \"#2a3f5f\"}, \"type\": \"carpet\"}], \"choropleth\": [{\"colorbar\": {\"outlinewidth\": 0, \"ticks\": \"\"}, \"type\": \"choropleth\"}], \"contour\": [{\"colorbar\": {\"outlinewidth\": 0, \"ticks\": \"\"}, \"colorscale\": [[0.0, \"#0d0887\"], [0.1111111111111111, \"#46039f\"], [0.2222222222222222, \"#7201a8\"], [0.3333333333333333, \"#9c179e\"], [0.4444444444444444, \"#bd3786\"], [0.5555555555555556, \"#d8576b\"], [0.6666666666666666, \"#ed7953\"], [0.7777777777777778, \"#fb9f3a\"], [0.8888888888888888, \"#fdca26\"], [1.0, \"#f0f921\"]], \"type\": \"contour\"}], \"contourcarpet\": [{\"colorbar\": {\"outlinewidth\": 0, \"ticks\": \"\"}, \"type\": \"contourcarpet\"}], \"heatmap\": [{\"colorbar\": {\"outlinewidth\": 0, \"ticks\": \"\"}, \"colorscale\": [[0.0, \"#0d0887\"], [0.1111111111111111, \"#46039f\"], [0.2222222222222222, \"#7201a8\"], [0.3333333333333333, \"#9c179e\"], [0.4444444444444444, \"#bd3786\"], [0.5555555555555556, \"#d8576b\"], [0.6666666666666666, \"#ed7953\"], [0.7777777777777778, \"#fb9f3a\"], [0.8888888888888888, \"#fdca26\"], [1.0, \"#f0f921\"]], \"type\": \"heatmap\"}], \"heatmapgl\": [{\"colorbar\": {\"outlinewidth\": 0, \"ticks\": \"\"}, \"colorscale\": [[0.0, \"#0d0887\"], [0.1111111111111111, \"#46039f\"], [0.2222222222222222, \"#7201a8\"], [0.3333333333333333, \"#9c179e\"], [0.4444444444444444, \"#bd3786\"], [0.5555555555555556, \"#d8576b\"], [0.6666666666666666, \"#ed7953\"], [0.7777777777777778, \"#fb9f3a\"], [0.8888888888888888, \"#fdca26\"], [1.0, \"#f0f921\"]], \"type\": \"heatmapgl\"}], \"histogram\": [{\"marker\": {\"colorbar\": {\"outlinewidth\": 0, \"ticks\": \"\"}}, \"type\": \"histogram\"}], \"histogram2d\": [{\"colorbar\": {\"outlinewidth\": 0, \"ticks\": \"\"}, \"colorscale\": [[0.0, \"#0d0887\"], [0.1111111111111111, \"#46039f\"], [0.2222222222222222, \"#7201a8\"], [0.3333333333333333, \"#9c179e\"], [0.4444444444444444, \"#bd3786\"], [0.5555555555555556, \"#d8576b\"], [0.6666666666666666, \"#ed7953\"], [0.7777777777777778, \"#fb9f3a\"], [0.8888888888888888, \"#fdca26\"], [1.0, \"#f0f921\"]], \"type\": \"histogram2d\"}], \"histogram2dcontour\": [{\"colorbar\": {\"outlinewidth\": 0, \"ticks\": \"\"}, \"colorscale\": [[0.0, \"#0d0887\"], [0.1111111111111111, \"#46039f\"], [0.2222222222222222, \"#7201a8\"], [0.3333333333333333, \"#9c179e\"], [0.4444444444444444, \"#bd3786\"], [0.5555555555555556, \"#d8576b\"], [0.6666666666666666, \"#ed7953\"], [0.7777777777777778, \"#fb9f3a\"], [0.8888888888888888, \"#fdca26\"], [1.0, \"#f0f921\"]], \"type\": \"histogram2dcontour\"}], \"mesh3d\": [{\"colorbar\": {\"outlinewidth\": 0, \"ticks\": \"\"}, \"type\": \"mesh3d\"}], \"parcoords\": [{\"line\": {\"colorbar\": {\"outlinewidth\": 0, \"ticks\": \"\"}}, \"type\": \"parcoords\"}], \"pie\": [{\"automargin\": true, \"type\": \"pie\"}], \"scatter\": [{\"marker\": {\"colorbar\": {\"outlinewidth\": 0, \"ticks\": \"\"}}, \"type\": \"scatter\"}], \"scatter3d\": [{\"line\": {\"colorbar\": {\"outlinewidth\": 0, \"ticks\": \"\"}}, \"marker\": {\"colorbar\": {\"outlinewidth\": 0, \"ticks\": \"\"}}, \"type\": \"scatter3d\"}], \"scattercarpet\": [{\"marker\": {\"colorbar\": {\"outlinewidth\": 0, \"ticks\": \"\"}}, \"type\": \"scattercarpet\"}], \"scattergeo\": [{\"marker\": {\"colorbar\": {\"outlinewidth\": 0, \"ticks\": \"\"}}, \"type\": \"scattergeo\"}], \"scattergl\": [{\"marker\": {\"colorbar\": {\"outlinewidth\": 0, \"ticks\": \"\"}}, \"type\": \"scattergl\"}], \"scattermapbox\": [{\"marker\": {\"colorbar\": {\"outlinewidth\": 0, \"ticks\": \"\"}}, \"type\": \"scattermapbox\"}], \"scatterpolar\": [{\"marker\": {\"colorbar\": {\"outlinewidth\": 0, \"ticks\": \"\"}}, \"type\": \"scatterpolar\"}], \"scatterpolargl\": [{\"marker\": {\"colorbar\": {\"outlinewidth\": 0, \"ticks\": \"\"}}, \"type\": \"scatterpolargl\"}], \"scatterternary\": [{\"marker\": {\"colorbar\": {\"outlinewidth\": 0, \"ticks\": \"\"}}, \"type\": \"scatterternary\"}], \"surface\": [{\"colorbar\": {\"outlinewidth\": 0, \"ticks\": \"\"}, \"colorscale\": [[0.0, \"#0d0887\"], [0.1111111111111111, \"#46039f\"], [0.2222222222222222, \"#7201a8\"], [0.3333333333333333, \"#9c179e\"], [0.4444444444444444, \"#bd3786\"], [0.5555555555555556, \"#d8576b\"], [0.6666666666666666, \"#ed7953\"], [0.7777777777777778, \"#fb9f3a\"], [0.8888888888888888, \"#fdca26\"], [1.0, \"#f0f921\"]], \"type\": \"surface\"}], \"table\": [{\"cells\": {\"fill\": {\"color\": \"#EBF0F8\"}, \"line\": {\"color\": \"white\"}}, \"header\": {\"fill\": {\"color\": \"#C8D4E3\"}, \"line\": {\"color\": \"white\"}}, \"type\": \"table\"}]}, \"layout\": {\"annotationdefaults\": {\"arrowcolor\": \"#2a3f5f\", \"arrowhead\": 0, \"arrowwidth\": 1}, \"coloraxis\": {\"colorbar\": {\"outlinewidth\": 0, \"ticks\": \"\"}}, \"colorscale\": {\"diverging\": [[0, \"#8e0152\"], [0.1, \"#c51b7d\"], [0.2, \"#de77ae\"], [0.3, \"#f1b6da\"], [0.4, \"#fde0ef\"], [0.5, \"#f7f7f7\"], [0.6, \"#e6f5d0\"], [0.7, \"#b8e186\"], [0.8, \"#7fbc41\"], [0.9, \"#4d9221\"], [1, \"#276419\"]], \"sequential\": [[0.0, \"#0d0887\"], [0.1111111111111111, \"#46039f\"], [0.2222222222222222, \"#7201a8\"], [0.3333333333333333, \"#9c179e\"], [0.4444444444444444, \"#bd3786\"], [0.5555555555555556, \"#d8576b\"], [0.6666666666666666, \"#ed7953\"], [0.7777777777777778, \"#fb9f3a\"], [0.8888888888888888, \"#fdca26\"], [1.0, \"#f0f921\"]], \"sequentialminus\": [[0.0, \"#0d0887\"], [0.1111111111111111, \"#46039f\"], [0.2222222222222222, \"#7201a8\"], [0.3333333333333333, \"#9c179e\"], [0.4444444444444444, \"#bd3786\"], [0.5555555555555556, \"#d8576b\"], [0.6666666666666666, \"#ed7953\"], [0.7777777777777778, \"#fb9f3a\"], [0.8888888888888888, \"#fdca26\"], [1.0, \"#f0f921\"]]}, \"colorway\": [\"#636efa\", \"#EF553B\", \"#00cc96\", \"#ab63fa\", \"#FFA15A\", \"#19d3f3\", \"#FF6692\", \"#B6E880\", \"#FF97FF\", \"#FECB52\"], \"font\": {\"color\": \"#2a3f5f\"}, \"geo\": {\"bgcolor\": \"white\", \"lakecolor\": \"white\", \"landcolor\": \"#E5ECF6\", \"showlakes\": true, \"showland\": true, \"subunitcolor\": \"white\"}, \"hoverlabel\": {\"align\": \"left\"}, \"hovermode\": \"closest\", \"mapbox\": {\"style\": \"light\"}, \"paper_bgcolor\": \"white\", \"plot_bgcolor\": \"#E5ECF6\", \"polar\": {\"angularaxis\": {\"gridcolor\": \"white\", \"linecolor\": \"white\", \"ticks\": \"\"}, \"bgcolor\": \"#E5ECF6\", \"radialaxis\": {\"gridcolor\": \"white\", \"linecolor\": \"white\", \"ticks\": \"\"}}, \"scene\": {\"xaxis\": {\"backgroundcolor\": \"#E5ECF6\", \"gridcolor\": \"white\", \"gridwidth\": 2, \"linecolor\": \"white\", \"showbackground\": true, \"ticks\": \"\", \"zerolinecolor\": \"white\"}, \"yaxis\": {\"backgroundcolor\": \"#E5ECF6\", \"gridcolor\": \"white\", \"gridwidth\": 2, \"linecolor\": \"white\", \"showbackground\": true, \"ticks\": \"\", \"zerolinecolor\": \"white\"}, \"zaxis\": {\"backgroundcolor\": \"#E5ECF6\", \"gridcolor\": \"white\", \"gridwidth\": 2, \"linecolor\": \"white\", \"showbackground\": true, \"ticks\": \"\", \"zerolinecolor\": \"white\"}}, \"shapedefaults\": {\"line\": {\"color\": \"#2a3f5f\"}}, \"ternary\": {\"aaxis\": {\"gridcolor\": \"white\", \"linecolor\": \"white\", \"ticks\": \"\"}, \"baxis\": {\"gridcolor\": \"white\", \"linecolor\": \"white\", \"ticks\": \"\"}, \"bgcolor\": \"#E5ECF6\", \"caxis\": {\"gridcolor\": \"white\", \"linecolor\": \"white\", \"ticks\": \"\"}}, \"title\": {\"x\": 0.05}, \"xaxis\": {\"automargin\": true, \"gridcolor\": \"white\", \"linecolor\": \"white\", \"ticks\": \"\", \"title\": {\"standoff\": 15}, \"zerolinecolor\": \"white\", \"zerolinewidth\": 2}, \"yaxis\": {\"automargin\": true, \"gridcolor\": \"white\", \"linecolor\": \"white\", \"ticks\": \"\", \"title\": {\"standoff\": 15}, \"zerolinecolor\": \"white\", \"zerolinewidth\": 2}}}, \"title\": {\"text\": \"Outlier detection 3D Visualization on Agriculture Dataset \"}, \"width\": 900, \"xaxis\": {\"title\": {\"text\": \"Feature 1\"}}, \"yaxis\": {\"title\": {\"text\": \"Feature 2\"}}},\n",
              "                        {\"responsive\": true}\n",
              "                    ).then(function(){\n",
              "                            \n",
              "var gd = document.getElementById('ddaf5b7e-564b-48a9-8f32-fd7e3fa19746');\n",
              "var x = new MutationObserver(function (mutations, observer) {{\n",
              "        var display = window.getComputedStyle(gd).display;\n",
              "        if (!display || display === 'none') {{\n",
              "            console.log([gd, 'removed!']);\n",
              "            Plotly.purge(gd);\n",
              "            observer.disconnect();\n",
              "        }}\n",
              "}});\n",
              "\n",
              "// Listen for the removal of the full notebook cells\n",
              "var notebookContainer = gd.closest('#notebook-container');\n",
              "if (notebookContainer) {{\n",
              "    x.observe(notebookContainer, {childList: true});\n",
              "}}\n",
              "\n",
              "// Listen for the clearing of the current output cell\n",
              "var outputEl = gd.closest('.output');\n",
              "if (outputEl) {{\n",
              "    x.observe(outputEl, {childList: true});\n",
              "}}\n",
              "\n",
              "                        })\n",
              "                };\n",
              "                \n",
              "            </script>\n",
              "        </div>\n",
              "</body>\n",
              "</html>"
            ]
          },
          "metadata": {
            "tags": []
          }
        }
      ]
    },
    {
      "cell_type": "markdown",
      "metadata": {
        "id": "W3q0qzq8tZWK",
        "colab_type": "text"
      },
      "source": [
        "## **One Class SVM**"
      ]
    },
    {
      "cell_type": "code",
      "metadata": {
        "id": "CFxD79ZvtGxo",
        "colab_type": "code",
        "colab": {}
      },
      "source": [
        "one_class=svm.OneClassSVM(kernel='rbf',gamma='auto')\n",
        "plt_data2d=plot_data.iloc[:,0:2]\n",
        "one_class.fit(plt_data2d)\n",
        "y_pred2d=one_class.predict(plt_data2d)\n",
        "\n",
        "one_class=svm.OneClassSVM(kernel='rbf',gamma='auto')\n",
        "plt_data3d=plot_data.iloc[:,0:3]\n",
        "one_class.fit(plt_data3d)\n",
        "y_pred3d=one_class.predict(plt_data3d)"
      ],
      "execution_count": 0,
      "outputs": []
    },
    {
      "cell_type": "code",
      "metadata": {
        "id": "0Thup2p-tbZA",
        "colab_type": "code",
        "colab": {
          "base_uri": "https://localhost:8080/",
          "height": 1000
        },
        "outputId": "d127b3c3-8613-43c6-f095-ee1cb450a200"
      },
      "source": [
        "# colors=np.array(['red','green'])\n",
        "fig=px.scatter(plot_data, x= 'Feature 1',y='Feature 2',color=y_pred2d,hover_data=['District'],width=800, height=600)\n",
        "fig.update_layout(\n",
        "    title=\"Outliers by One Class SVM on HDI Dataset\",\n",
        "    xaxis_title=\"Feature 1\",\n",
        "    yaxis_title=\"Feature 2\",\n",
        "    font=dict(\n",
        "        family=\"Courier New, monospace\",\n",
        "        size=12,\n",
        "        color=\"#7f7f7f\"\n",
        "    )\n",
        ")\n",
        "fig.show()\n",
        "\n",
        "fig=px.scatter_3d(plot_data, x= 'Feature 1',y='Feature 2',z='Feature 3',color=y_pred3d,hover_data=['District'],width=900, height=600)\n",
        "fig.update_layout(\n",
        "    title=\"OneClass SVM Outlier detection 3D Visualization on HDI Dataset \",\n",
        "    xaxis_title=\"Feature 1\",\n",
        "    yaxis_title=\"Feature 2\",\n",
        "    font=dict(\n",
        "        family=\"Courier New, monospace\",\n",
        "        size=12,\n",
        "        color=\"#7f7f7f\"\n",
        "    )\n",
        ")\n",
        "fig.show()"
      ],
      "execution_count": 69,
      "outputs": [
        {
          "output_type": "display_data",
          "data": {
            "text/html": [
              "<html>\n",
              "<head><meta charset=\"utf-8\" /></head>\n",
              "<body>\n",
              "    <div>\n",
              "            <script src=\"https://cdnjs.cloudflare.com/ajax/libs/mathjax/2.7.5/MathJax.js?config=TeX-AMS-MML_SVG\"></script><script type=\"text/javascript\">if (window.MathJax) {MathJax.Hub.Config({SVG: {font: \"STIX-Web\"}});}</script>\n",
              "                <script type=\"text/javascript\">window.PlotlyConfig = {MathJaxConfig: 'local'};</script>\n",
              "        <script src=\"https://cdn.plot.ly/plotly-latest.min.js\"></script>    \n",
              "            <div id=\"9830cb19-1d72-4cce-9f9c-0ce3ca7fa9f4\" class=\"plotly-graph-div\" style=\"height:600px; width:800px;\"></div>\n",
              "            <script type=\"text/javascript\">\n",
              "                \n",
              "                    window.PLOTLYENV=window.PLOTLYENV || {};\n",
              "                    \n",
              "                if (document.getElementById(\"9830cb19-1d72-4cce-9f9c-0ce3ca7fa9f4\")) {\n",
              "                    Plotly.newPlot(\n",
              "                        '9830cb19-1d72-4cce-9f9c-0ce3ca7fa9f4',\n",
              "                        [{\"customdata\": [[\"Kathmandu\"], [\"Lalitpur\"], [\"Kaski\"], [\"Bhaktapur\"], [\"Ilam\"], [\"Chitwan\"], [\"Syangja\"], [\"Palpa\"], [\"Jhapa\"], [\"Manang\"], [\"Tanahu\"], [\"Tehrathum\"], [\"Dhankuta\"], [\"Parbat\"], [\"Surkhet\"], [\"Arghakhanchi\"], [\"Gulmi\"], [\"Panchthar\"], [\"Baglung\"], [\"Myagdi\"], [\"Taplejung\"], [\"Lamjung\"], [\"Nawalparasi\"], [\"Kanchanpur\"], [\"Morang\"], [\"Dang\"], [\"Kavrepalanchok\"], [\"Rupandehi\"], [\"Sankhuwasabha\"], [\"Bhojpur\"], [\"Khotang\"], [\"Udayapur\"], [\"Sunsari\"], [\"Makwanpur\"], [\"Pyuthan\"], [\"Gorkha\"], [\"Kailali\"], [\"Mustang\"], [\"Bardiya\"], [\"Darchula\"], [\"Dadeldhura\"], [\"Okhaldhunga\"], [\"Solukhumbu\"], [\"Salyan\"], [\"Baitadi\"], [\"Dhading\"], [\"Dolakha\"], [\"Dailekh\"], [\"Banke\"], [\"Ramechhap\"], [\"Rukum\"], [\"Sindhuli\"], [\"Rolpa\"], [\"Nuwakot\"], [\"Sindhupalchok\"], [\"Jajarkot\"], [\"Kalikot\"], [\"Doti\"], [\"Parsa\"], [\"Achham\"], [\"Bajura\"], [\"Bajhang\"], [\"Kapilbastu\"], [\"Jumla\"], [\"Saptari\"], [\"Dolpa\"], [\"Rasuwa\"], [\"Bara\"], [\"Mugu\"], [\"Dhanusa\"], [\"Siraha\"], [\"Humla\"], [\"Mahottari\"], [\"Sarlahi\"], [\"Rautahat\"]], \"hoverlabel\": {\"namelength\": 0}, \"hovertemplate\": \"Feature 1=%{x}<br>Feature 2=%{y}<br>District=%{customdata[0]}<br>color=%{marker.color}\", \"legendgroup\": \"\", \"marker\": {\"color\": [-1, -1, -1, -1, 1, 1, 1, 1, 1, -1, 1, 1, 1, 1, 1, 1, 1, 1, 1, 1, 1, 1, 1, 1, 1, 1, 1, 1, 1, 1, 1, 1, 1, 1, -1, 1, 1, -1, 1, 1, 1, 1, 1, 1, 1, 1, 1, 1, 1, -1, 1, 1, 1, 1, 1, 1, -1, 1, 1, 1, -1, 1, 1, -1, -1, -1, 1, 1, -1, 1, -1, -1, -1, -1, -1], \"coloraxis\": \"coloraxis\", \"symbol\": \"circle\"}, \"mode\": \"markers\", \"name\": \"\", \"showlegend\": false, \"type\": \"scatter\", \"x\": [4.337676161009879, 3.1188093937368926, 2.830948630962913, 2.5168105584441234, 1.7291140911730674, 2.040543049794674, 1.7994747111064104, 1.3761045616799337, 1.31833283311004, 2.958645766747861, 1.4129072867475991, 1.5629826216477913, 1.4064240263584398, 1.2725205480927837, 0.761248973450328, 0.8820971656443796, 0.6805614111792186, 0.9217094645482207, 0.7428031246444279, 0.9795222878170533, 0.8357059863368657, 1.1040973276057724, 0.7776769501723727, 0.5022332929202458, 0.8878382697494428, 0.6423138866765653, 1.100853962493588, 0.6101868162321225, 0.6477964067183314, 0.4619519650061602, 0.6590623778089529, 0.36424414459038096, 0.4171370176884071, 0.6045583761553454, -0.3075968511296998, 0.37654235414387555, -0.12680490990566468, 0.6520292930851708, -0.0747824204261186, -0.2919208573771572, -0.19956253130035978, -0.03621948100838211, 0.6730832491070953, -0.4046311999318163, -0.5917484386471994, -0.23894155552680788, -0.2563232304950418, -0.7719637229464518, -0.37771181937557285, -0.15088988184664182, -0.7057616609044269, -0.757880382486588, -1.1626584477667041, -0.5481171327040923, -0.6353121808783192, -1.6918504081961632, -1.9411431711329896, -1.3280519157712571, -1.0099423872152289, -1.7065669030174735, -2.050763028948897, -1.879393665841731, -1.5117047415048723, -1.7923045383673568, -1.4370479121349218, -1.9218419823528863, -0.9460864516443463, -1.2084688483586674, -2.2135021245879876, -2.0178127151413556, -2.1183630033478975, -2.829681142815764, -2.780561379034425, -2.6673505102708344, -3.27528481004463], \"xaxis\": \"x\", \"y\": [0.6802648121035058, -0.34003192706874236, -0.5137397644906472, -0.5368174330652651, 0.4202751418208489, -0.3198677890131691, -0.31163964494553775, 0.2268106326615443, 0.6648099569945886, 2.140621332831868, -0.5949102087984339, 0.40259560053342575, -0.09267303907885331, -0.7946923848289559, 0.586913334109037, 0.021161502513488466, 0.1848659139377951, 0.22709803616228175, -0.1306101767874836, -0.6164076917027408, 1.2684084825818736, -0.9755297314213847, 0.3741059318301075, 0.6682485760510523, -0.17004421868956107, 0.5576634002719846, -0.9093739892309276, 0.14202791267278791, 0.06868150772852093, 0.07839264424849657, -0.7400743307476855, -0.3853061397426866, 0.07689793902572122, 0.23011480705864348, 1.7508738467067895, -1.453442420596049, 0.8420979047499804, 1.6891445378263479, 0.47368495555077134, -0.30916558753400286, 0.23637695522118865, -0.9887126488328746, -0.031391158134826534, -0.26660624144688044, -0.2530288080543514, -1.1766082415430823, -1.1435420672667838, 0.024943063181731534, -0.06054653961596625, -2.0488634747918777, -0.14035950716657852, -0.8810024395894686, 0.7571915926224295, -1.1892075439614962, -0.6395908065694585, 0.5657106724083465, 1.8292579421414603, 0.6262328059312774, -0.9300798282745119, 0.3397254809931466, 1.7110703679891026, 1.2149825640455487, 0.15296513534562917, 2.160248621352118, -1.509063350689425, 3.013048413351719, -1.2644931050745796, -1.05632038523152, 1.0024467918020137, -0.8066167894727868, -1.613603438588704, 1.547524205231109, -0.9207283726043063, -1.1637053526071637, -1.679086744329513], \"yaxis\": \"y\"}],\n",
              "                        {\"coloraxis\": {\"colorbar\": {\"title\": {\"text\": \"color\"}}, \"colorscale\": [[0.0, \"#0d0887\"], [0.1111111111111111, \"#46039f\"], [0.2222222222222222, \"#7201a8\"], [0.3333333333333333, \"#9c179e\"], [0.4444444444444444, \"#bd3786\"], [0.5555555555555556, \"#d8576b\"], [0.6666666666666666, \"#ed7953\"], [0.7777777777777778, \"#fb9f3a\"], [0.8888888888888888, \"#fdca26\"], [1.0, \"#f0f921\"]]}, \"font\": {\"color\": \"#7f7f7f\", \"family\": \"Courier New, monospace\", \"size\": 12}, \"height\": 600, \"legend\": {\"tracegroupgap\": 0}, \"margin\": {\"t\": 60}, \"template\": {\"data\": {\"bar\": [{\"error_x\": {\"color\": \"#2a3f5f\"}, \"error_y\": {\"color\": \"#2a3f5f\"}, \"marker\": {\"line\": {\"color\": \"#E5ECF6\", \"width\": 0.5}}, \"type\": \"bar\"}], \"barpolar\": [{\"marker\": {\"line\": {\"color\": \"#E5ECF6\", \"width\": 0.5}}, \"type\": \"barpolar\"}], \"carpet\": [{\"aaxis\": {\"endlinecolor\": \"#2a3f5f\", \"gridcolor\": \"white\", \"linecolor\": \"white\", \"minorgridcolor\": \"white\", \"startlinecolor\": \"#2a3f5f\"}, \"baxis\": {\"endlinecolor\": \"#2a3f5f\", \"gridcolor\": \"white\", \"linecolor\": \"white\", \"minorgridcolor\": \"white\", \"startlinecolor\": \"#2a3f5f\"}, \"type\": \"carpet\"}], \"choropleth\": [{\"colorbar\": {\"outlinewidth\": 0, \"ticks\": \"\"}, \"type\": \"choropleth\"}], \"contour\": [{\"colorbar\": {\"outlinewidth\": 0, \"ticks\": \"\"}, \"colorscale\": [[0.0, \"#0d0887\"], [0.1111111111111111, \"#46039f\"], [0.2222222222222222, \"#7201a8\"], [0.3333333333333333, \"#9c179e\"], [0.4444444444444444, \"#bd3786\"], [0.5555555555555556, \"#d8576b\"], [0.6666666666666666, \"#ed7953\"], [0.7777777777777778, \"#fb9f3a\"], [0.8888888888888888, \"#fdca26\"], [1.0, \"#f0f921\"]], \"type\": \"contour\"}], \"contourcarpet\": [{\"colorbar\": {\"outlinewidth\": 0, \"ticks\": \"\"}, \"type\": \"contourcarpet\"}], \"heatmap\": [{\"colorbar\": {\"outlinewidth\": 0, \"ticks\": \"\"}, \"colorscale\": [[0.0, \"#0d0887\"], [0.1111111111111111, \"#46039f\"], [0.2222222222222222, \"#7201a8\"], [0.3333333333333333, \"#9c179e\"], [0.4444444444444444, \"#bd3786\"], [0.5555555555555556, \"#d8576b\"], [0.6666666666666666, \"#ed7953\"], [0.7777777777777778, \"#fb9f3a\"], [0.8888888888888888, \"#fdca26\"], [1.0, \"#f0f921\"]], \"type\": \"heatmap\"}], \"heatmapgl\": [{\"colorbar\": {\"outlinewidth\": 0, \"ticks\": \"\"}, \"colorscale\": [[0.0, \"#0d0887\"], [0.1111111111111111, \"#46039f\"], [0.2222222222222222, \"#7201a8\"], [0.3333333333333333, \"#9c179e\"], [0.4444444444444444, \"#bd3786\"], [0.5555555555555556, \"#d8576b\"], [0.6666666666666666, \"#ed7953\"], [0.7777777777777778, \"#fb9f3a\"], [0.8888888888888888, \"#fdca26\"], [1.0, \"#f0f921\"]], \"type\": \"heatmapgl\"}], \"histogram\": [{\"marker\": {\"colorbar\": {\"outlinewidth\": 0, \"ticks\": \"\"}}, \"type\": \"histogram\"}], \"histogram2d\": [{\"colorbar\": {\"outlinewidth\": 0, \"ticks\": \"\"}, \"colorscale\": [[0.0, \"#0d0887\"], [0.1111111111111111, \"#46039f\"], [0.2222222222222222, \"#7201a8\"], [0.3333333333333333, \"#9c179e\"], [0.4444444444444444, \"#bd3786\"], [0.5555555555555556, \"#d8576b\"], [0.6666666666666666, \"#ed7953\"], [0.7777777777777778, \"#fb9f3a\"], [0.8888888888888888, \"#fdca26\"], [1.0, \"#f0f921\"]], \"type\": \"histogram2d\"}], \"histogram2dcontour\": [{\"colorbar\": {\"outlinewidth\": 0, \"ticks\": \"\"}, \"colorscale\": [[0.0, \"#0d0887\"], [0.1111111111111111, \"#46039f\"], [0.2222222222222222, \"#7201a8\"], [0.3333333333333333, \"#9c179e\"], [0.4444444444444444, \"#bd3786\"], [0.5555555555555556, \"#d8576b\"], [0.6666666666666666, \"#ed7953\"], [0.7777777777777778, \"#fb9f3a\"], [0.8888888888888888, \"#fdca26\"], [1.0, \"#f0f921\"]], \"type\": \"histogram2dcontour\"}], \"mesh3d\": [{\"colorbar\": {\"outlinewidth\": 0, \"ticks\": \"\"}, \"type\": \"mesh3d\"}], \"parcoords\": [{\"line\": {\"colorbar\": {\"outlinewidth\": 0, \"ticks\": \"\"}}, \"type\": \"parcoords\"}], \"pie\": [{\"automargin\": true, \"type\": \"pie\"}], \"scatter\": [{\"marker\": {\"colorbar\": {\"outlinewidth\": 0, \"ticks\": \"\"}}, \"type\": \"scatter\"}], \"scatter3d\": [{\"line\": {\"colorbar\": {\"outlinewidth\": 0, \"ticks\": \"\"}}, \"marker\": {\"colorbar\": {\"outlinewidth\": 0, \"ticks\": \"\"}}, \"type\": \"scatter3d\"}], \"scattercarpet\": [{\"marker\": {\"colorbar\": {\"outlinewidth\": 0, \"ticks\": \"\"}}, \"type\": \"scattercarpet\"}], \"scattergeo\": [{\"marker\": {\"colorbar\": {\"outlinewidth\": 0, \"ticks\": \"\"}}, \"type\": \"scattergeo\"}], \"scattergl\": [{\"marker\": {\"colorbar\": {\"outlinewidth\": 0, \"ticks\": \"\"}}, \"type\": \"scattergl\"}], \"scattermapbox\": [{\"marker\": {\"colorbar\": {\"outlinewidth\": 0, \"ticks\": \"\"}}, \"type\": \"scattermapbox\"}], \"scatterpolar\": [{\"marker\": {\"colorbar\": {\"outlinewidth\": 0, \"ticks\": \"\"}}, \"type\": \"scatterpolar\"}], \"scatterpolargl\": [{\"marker\": {\"colorbar\": {\"outlinewidth\": 0, \"ticks\": \"\"}}, \"type\": \"scatterpolargl\"}], \"scatterternary\": [{\"marker\": {\"colorbar\": {\"outlinewidth\": 0, \"ticks\": \"\"}}, \"type\": \"scatterternary\"}], \"surface\": [{\"colorbar\": {\"outlinewidth\": 0, \"ticks\": \"\"}, \"colorscale\": [[0.0, \"#0d0887\"], [0.1111111111111111, \"#46039f\"], [0.2222222222222222, \"#7201a8\"], [0.3333333333333333, \"#9c179e\"], [0.4444444444444444, \"#bd3786\"], [0.5555555555555556, \"#d8576b\"], [0.6666666666666666, \"#ed7953\"], [0.7777777777777778, \"#fb9f3a\"], [0.8888888888888888, \"#fdca26\"], [1.0, \"#f0f921\"]], \"type\": \"surface\"}], \"table\": [{\"cells\": {\"fill\": {\"color\": \"#EBF0F8\"}, \"line\": {\"color\": \"white\"}}, \"header\": {\"fill\": {\"color\": \"#C8D4E3\"}, \"line\": {\"color\": \"white\"}}, \"type\": \"table\"}]}, \"layout\": {\"annotationdefaults\": {\"arrowcolor\": \"#2a3f5f\", \"arrowhead\": 0, \"arrowwidth\": 1}, \"coloraxis\": {\"colorbar\": {\"outlinewidth\": 0, \"ticks\": \"\"}}, \"colorscale\": {\"diverging\": [[0, \"#8e0152\"], [0.1, \"#c51b7d\"], [0.2, \"#de77ae\"], [0.3, \"#f1b6da\"], [0.4, \"#fde0ef\"], [0.5, \"#f7f7f7\"], [0.6, \"#e6f5d0\"], [0.7, \"#b8e186\"], [0.8, \"#7fbc41\"], [0.9, \"#4d9221\"], [1, \"#276419\"]], \"sequential\": [[0.0, \"#0d0887\"], [0.1111111111111111, \"#46039f\"], [0.2222222222222222, \"#7201a8\"], [0.3333333333333333, \"#9c179e\"], [0.4444444444444444, \"#bd3786\"], [0.5555555555555556, \"#d8576b\"], [0.6666666666666666, \"#ed7953\"], [0.7777777777777778, \"#fb9f3a\"], [0.8888888888888888, \"#fdca26\"], [1.0, \"#f0f921\"]], \"sequentialminus\": [[0.0, \"#0d0887\"], [0.1111111111111111, \"#46039f\"], [0.2222222222222222, \"#7201a8\"], [0.3333333333333333, \"#9c179e\"], [0.4444444444444444, \"#bd3786\"], [0.5555555555555556, \"#d8576b\"], [0.6666666666666666, \"#ed7953\"], [0.7777777777777778, \"#fb9f3a\"], [0.8888888888888888, \"#fdca26\"], [1.0, \"#f0f921\"]]}, \"colorway\": [\"#636efa\", \"#EF553B\", \"#00cc96\", \"#ab63fa\", \"#FFA15A\", \"#19d3f3\", \"#FF6692\", \"#B6E880\", \"#FF97FF\", \"#FECB52\"], \"font\": {\"color\": \"#2a3f5f\"}, \"geo\": {\"bgcolor\": \"white\", \"lakecolor\": \"white\", \"landcolor\": \"#E5ECF6\", \"showlakes\": true, \"showland\": true, \"subunitcolor\": \"white\"}, \"hoverlabel\": {\"align\": \"left\"}, \"hovermode\": \"closest\", \"mapbox\": {\"style\": \"light\"}, \"paper_bgcolor\": \"white\", \"plot_bgcolor\": \"#E5ECF6\", \"polar\": {\"angularaxis\": {\"gridcolor\": \"white\", \"linecolor\": \"white\", \"ticks\": \"\"}, \"bgcolor\": \"#E5ECF6\", \"radialaxis\": {\"gridcolor\": \"white\", \"linecolor\": \"white\", \"ticks\": \"\"}}, \"scene\": {\"xaxis\": {\"backgroundcolor\": \"#E5ECF6\", \"gridcolor\": \"white\", \"gridwidth\": 2, \"linecolor\": \"white\", \"showbackground\": true, \"ticks\": \"\", \"zerolinecolor\": \"white\"}, \"yaxis\": {\"backgroundcolor\": \"#E5ECF6\", \"gridcolor\": \"white\", \"gridwidth\": 2, \"linecolor\": \"white\", \"showbackground\": true, \"ticks\": \"\", \"zerolinecolor\": \"white\"}, \"zaxis\": {\"backgroundcolor\": \"#E5ECF6\", \"gridcolor\": \"white\", \"gridwidth\": 2, \"linecolor\": \"white\", \"showbackground\": true, \"ticks\": \"\", \"zerolinecolor\": \"white\"}}, \"shapedefaults\": {\"line\": {\"color\": \"#2a3f5f\"}}, \"ternary\": {\"aaxis\": {\"gridcolor\": \"white\", \"linecolor\": \"white\", \"ticks\": \"\"}, \"baxis\": {\"gridcolor\": \"white\", \"linecolor\": \"white\", \"ticks\": \"\"}, \"bgcolor\": \"#E5ECF6\", \"caxis\": {\"gridcolor\": \"white\", \"linecolor\": \"white\", \"ticks\": \"\"}}, \"title\": {\"x\": 0.05}, \"xaxis\": {\"automargin\": true, \"gridcolor\": \"white\", \"linecolor\": \"white\", \"ticks\": \"\", \"title\": {\"standoff\": 15}, \"zerolinecolor\": \"white\", \"zerolinewidth\": 2}, \"yaxis\": {\"automargin\": true, \"gridcolor\": \"white\", \"linecolor\": \"white\", \"ticks\": \"\", \"title\": {\"standoff\": 15}, \"zerolinecolor\": \"white\", \"zerolinewidth\": 2}}}, \"title\": {\"text\": \"Outliers by One Class SVM on HDI Dataset\"}, \"width\": 800, \"xaxis\": {\"anchor\": \"y\", \"domain\": [0.0, 1.0], \"title\": {\"text\": \"Feature 1\"}}, \"yaxis\": {\"anchor\": \"x\", \"domain\": [0.0, 1.0], \"title\": {\"text\": \"Feature 2\"}}},\n",
              "                        {\"responsive\": true}\n",
              "                    ).then(function(){\n",
              "                            \n",
              "var gd = document.getElementById('9830cb19-1d72-4cce-9f9c-0ce3ca7fa9f4');\n",
              "var x = new MutationObserver(function (mutations, observer) {{\n",
              "        var display = window.getComputedStyle(gd).display;\n",
              "        if (!display || display === 'none') {{\n",
              "            console.log([gd, 'removed!']);\n",
              "            Plotly.purge(gd);\n",
              "            observer.disconnect();\n",
              "        }}\n",
              "}});\n",
              "\n",
              "// Listen for the removal of the full notebook cells\n",
              "var notebookContainer = gd.closest('#notebook-container');\n",
              "if (notebookContainer) {{\n",
              "    x.observe(notebookContainer, {childList: true});\n",
              "}}\n",
              "\n",
              "// Listen for the clearing of the current output cell\n",
              "var outputEl = gd.closest('.output');\n",
              "if (outputEl) {{\n",
              "    x.observe(outputEl, {childList: true});\n",
              "}}\n",
              "\n",
              "                        })\n",
              "                };\n",
              "                \n",
              "            </script>\n",
              "        </div>\n",
              "</body>\n",
              "</html>"
            ]
          },
          "metadata": {
            "tags": []
          }
        },
        {
          "output_type": "display_data",
          "data": {
            "text/html": [
              "<html>\n",
              "<head><meta charset=\"utf-8\" /></head>\n",
              "<body>\n",
              "    <div>\n",
              "            <script src=\"https://cdnjs.cloudflare.com/ajax/libs/mathjax/2.7.5/MathJax.js?config=TeX-AMS-MML_SVG\"></script><script type=\"text/javascript\">if (window.MathJax) {MathJax.Hub.Config({SVG: {font: \"STIX-Web\"}});}</script>\n",
              "                <script type=\"text/javascript\">window.PlotlyConfig = {MathJaxConfig: 'local'};</script>\n",
              "        <script src=\"https://cdn.plot.ly/plotly-latest.min.js\"></script>    \n",
              "            <div id=\"ce3bd9b0-5680-411b-814a-269efd6a057d\" class=\"plotly-graph-div\" style=\"height:600px; width:900px;\"></div>\n",
              "            <script type=\"text/javascript\">\n",
              "                \n",
              "                    window.PLOTLYENV=window.PLOTLYENV || {};\n",
              "                    \n",
              "                if (document.getElementById(\"ce3bd9b0-5680-411b-814a-269efd6a057d\")) {\n",
              "                    Plotly.newPlot(\n",
              "                        'ce3bd9b0-5680-411b-814a-269efd6a057d',\n",
              "                        [{\"customdata\": [[\"Kathmandu\"], [\"Lalitpur\"], [\"Kaski\"], [\"Bhaktapur\"], [\"Ilam\"], [\"Chitwan\"], [\"Syangja\"], [\"Palpa\"], [\"Jhapa\"], [\"Manang\"], [\"Tanahu\"], [\"Tehrathum\"], [\"Dhankuta\"], [\"Parbat\"], [\"Surkhet\"], [\"Arghakhanchi\"], [\"Gulmi\"], [\"Panchthar\"], [\"Baglung\"], [\"Myagdi\"], [\"Taplejung\"], [\"Lamjung\"], [\"Nawalparasi\"], [\"Kanchanpur\"], [\"Morang\"], [\"Dang\"], [\"Kavrepalanchok\"], [\"Rupandehi\"], [\"Sankhuwasabha\"], [\"Bhojpur\"], [\"Khotang\"], [\"Udayapur\"], [\"Sunsari\"], [\"Makwanpur\"], [\"Pyuthan\"], [\"Gorkha\"], [\"Kailali\"], [\"Mustang\"], [\"Bardiya\"], [\"Darchula\"], [\"Dadeldhura\"], [\"Okhaldhunga\"], [\"Solukhumbu\"], [\"Salyan\"], [\"Baitadi\"], [\"Dhading\"], [\"Dolakha\"], [\"Dailekh\"], [\"Banke\"], [\"Ramechhap\"], [\"Rukum\"], [\"Sindhuli\"], [\"Rolpa\"], [\"Nuwakot\"], [\"Sindhupalchok\"], [\"Jajarkot\"], [\"Kalikot\"], [\"Doti\"], [\"Parsa\"], [\"Achham\"], [\"Bajura\"], [\"Bajhang\"], [\"Kapilbastu\"], [\"Jumla\"], [\"Saptari\"], [\"Dolpa\"], [\"Rasuwa\"], [\"Bara\"], [\"Mugu\"], [\"Dhanusa\"], [\"Siraha\"], [\"Humla\"], [\"Mahottari\"], [\"Sarlahi\"], [\"Rautahat\"]], \"hoverlabel\": {\"namelength\": 0}, \"hovertemplate\": \"Feature 1=%{x}<br>Feature 2=%{y}<br>Feature 3=%{z}<br>District=%{customdata[0]}<br>color=%{marker.color}\", \"legendgroup\": \"\", \"marker\": {\"color\": [-1, -1, 1, 1, 1, 1, 1, 1, 1, -1, 1, 1, 1, 1, 1, 1, 1, 1, 1, 1, 1, 1, 1, 1, 1, 1, 1, 1, 1, 1, 1, 1, 1, 1, -1, 1, 1, -1, 1, 1, 1, 1, -1, 1, 1, 1, 1, 1, 1, -1, 1, 1, 1, 1, 1, 1, 1, 1, 1, 1, 1, 1, 1, -1, 1, -1, -1, -1, 1, 1, 1, -1, 1, -1, -1], \"coloraxis\": \"coloraxis\", \"symbol\": \"circle\"}, \"mode\": \"markers\", \"name\": \"\", \"scene\": \"scene\", \"showlegend\": false, \"type\": \"scatter3d\", \"x\": [4.337676161009879, 3.1188093937368926, 2.830948630962913, 2.5168105584441234, 1.7291140911730674, 2.040543049794674, 1.7994747111064104, 1.3761045616799337, 1.31833283311004, 2.958645766747861, 1.4129072867475991, 1.5629826216477913, 1.4064240263584398, 1.2725205480927837, 0.761248973450328, 0.8820971656443796, 0.6805614111792186, 0.9217094645482207, 0.7428031246444279, 0.9795222878170533, 0.8357059863368657, 1.1040973276057724, 0.7776769501723727, 0.5022332929202458, 0.8878382697494428, 0.6423138866765653, 1.100853962493588, 0.6101868162321225, 0.6477964067183314, 0.4619519650061602, 0.6590623778089529, 0.36424414459038096, 0.4171370176884071, 0.6045583761553454, -0.3075968511296998, 0.37654235414387555, -0.12680490990566468, 0.6520292930851708, -0.0747824204261186, -0.2919208573771572, -0.19956253130035978, -0.03621948100838211, 0.6730832491070953, -0.4046311999318163, -0.5917484386471994, -0.23894155552680788, -0.2563232304950418, -0.7719637229464518, -0.37771181937557285, -0.15088988184664182, -0.7057616609044269, -0.757880382486588, -1.1626584477667041, -0.5481171327040923, -0.6353121808783192, -1.6918504081961632, -1.9411431711329896, -1.3280519157712571, -1.0099423872152289, -1.7065669030174735, -2.050763028948897, -1.879393665841731, -1.5117047415048723, -1.7923045383673568, -1.4370479121349218, -1.9218419823528863, -0.9460864516443463, -1.2084688483586674, -2.2135021245879876, -2.0178127151413556, -2.1183630033478975, -2.829681142815764, -2.780561379034425, -2.6673505102708344, -3.27528481004463], \"y\": [0.6802648121035058, -0.34003192706874236, -0.5137397644906472, -0.5368174330652651, 0.4202751418208489, -0.3198677890131691, -0.31163964494553775, 0.2268106326615443, 0.6648099569945886, 2.140621332831868, -0.5949102087984339, 0.40259560053342575, -0.09267303907885331, -0.7946923848289559, 0.586913334109037, 0.021161502513488466, 0.1848659139377951, 0.22709803616228175, -0.1306101767874836, -0.6164076917027408, 1.2684084825818736, -0.9755297314213847, 0.3741059318301075, 0.6682485760510523, -0.17004421868956107, 0.5576634002719846, -0.9093739892309276, 0.14202791267278791, 0.06868150772852093, 0.07839264424849657, -0.7400743307476855, -0.3853061397426866, 0.07689793902572122, 0.23011480705864348, 1.7508738467067895, -1.453442420596049, 0.8420979047499804, 1.6891445378263479, 0.47368495555077134, -0.30916558753400286, 0.23637695522118865, -0.9887126488328746, -0.031391158134826534, -0.26660624144688044, -0.2530288080543514, -1.1766082415430823, -1.1435420672667838, 0.024943063181731534, -0.06054653961596625, -2.0488634747918777, -0.14035950716657852, -0.8810024395894686, 0.7571915926224295, -1.1892075439614962, -0.6395908065694585, 0.5657106724083465, 1.8292579421414603, 0.6262328059312774, -0.9300798282745119, 0.3397254809931466, 1.7110703679891026, 1.2149825640455487, 0.15296513534562917, 2.160248621352118, -1.509063350689425, 3.013048413351719, -1.2644931050745796, -1.05632038523152, 1.0024467918020137, -0.8066167894727868, -1.613603438588704, 1.547524205231109, -0.9207283726043063, -1.1637053526071637, -1.679086744329513], \"z\": [2.0222821765855676, 0.5210007167699616, -0.16011608948428932, -0.48015500455669996, -0.4471268365768852, 0.17921168567584614, -0.5436186105798498, -0.9671745751748135, -0.356556984373432, 3.571907886007269, -0.6724371969629509, 0.023603383918261844, -0.2454365924656885, -0.7354858983507098, -0.8869291507998966, -0.8844765859515278, -1.1991229802176933, -0.47456744040832544, -0.8954298821907934, -0.5612950089805885, 0.04195106207832734, -0.18482853015019693, -0.23929195568449177, -0.7111523169117008, 0.015503060479370624, -0.260081609324938, 0.34865442560670923, -0.22088526858838667, -0.033067983109327716, -0.44605748140353807, -0.1123728485901261, -0.5374136870433012, -0.14949471477170487, 0.5320643032976154, -1.0659026420753994, -0.1172654051146439, -0.38391062442319823, 1.6280748444141382, 0.022386773343455846, -1.022312308573744, -0.782754845176918, -0.18076205695597722, 1.6152902879193733, -0.5115702850221152, -1.0317313968798172, 0.02887338077626582, -0.1461299583498017, -0.621927815277977, 0.3651970780080005, -0.02129052704231724, -0.3698350168467213, -0.15851795322486567, -0.6125114795420649, 0.45808607186183, 0.5001233711506352, -0.37251644378622406, -0.5009075303131433, -0.23745451228485906, 0.9763852757153659, -0.5980499519941781, -0.5920876107481032, -0.7642864577367177, 0.5370221169925684, 0.45382755288113624, 0.17215587099418117, 0.510605564630845, 1.797605173032055, 1.7605844018748429, 0.4371844420176695, 0.7735993876258229, 0.26324869272119505, 0.507954482685774, 0.527662970093744, 0.829819002337994, 1.074434612524817]}],\n",
              "                        {\"coloraxis\": {\"colorbar\": {\"title\": {\"text\": \"color\"}}, \"colorscale\": [[0.0, \"#0d0887\"], [0.1111111111111111, \"#46039f\"], [0.2222222222222222, \"#7201a8\"], [0.3333333333333333, \"#9c179e\"], [0.4444444444444444, \"#bd3786\"], [0.5555555555555556, \"#d8576b\"], [0.6666666666666666, \"#ed7953\"], [0.7777777777777778, \"#fb9f3a\"], [0.8888888888888888, \"#fdca26\"], [1.0, \"#f0f921\"]]}, \"font\": {\"color\": \"#7f7f7f\", \"family\": \"Courier New, monospace\", \"size\": 12}, \"height\": 600, \"legend\": {\"tracegroupgap\": 0}, \"margin\": {\"t\": 60}, \"scene\": {\"domain\": {\"x\": [0.0, 1.0], \"y\": [0.0, 1.0]}, \"xaxis\": {\"title\": {\"text\": \"Feature 1\"}}, \"yaxis\": {\"title\": {\"text\": \"Feature 2\"}}, \"zaxis\": {\"title\": {\"text\": \"Feature 3\"}}}, \"template\": {\"data\": {\"bar\": [{\"error_x\": {\"color\": \"#2a3f5f\"}, \"error_y\": {\"color\": \"#2a3f5f\"}, \"marker\": {\"line\": {\"color\": \"#E5ECF6\", \"width\": 0.5}}, \"type\": \"bar\"}], \"barpolar\": [{\"marker\": {\"line\": {\"color\": \"#E5ECF6\", \"width\": 0.5}}, \"type\": \"barpolar\"}], \"carpet\": [{\"aaxis\": {\"endlinecolor\": \"#2a3f5f\", \"gridcolor\": \"white\", \"linecolor\": \"white\", \"minorgridcolor\": \"white\", \"startlinecolor\": \"#2a3f5f\"}, \"baxis\": {\"endlinecolor\": \"#2a3f5f\", \"gridcolor\": \"white\", \"linecolor\": \"white\", \"minorgridcolor\": \"white\", \"startlinecolor\": \"#2a3f5f\"}, \"type\": \"carpet\"}], \"choropleth\": [{\"colorbar\": {\"outlinewidth\": 0, \"ticks\": \"\"}, \"type\": \"choropleth\"}], \"contour\": [{\"colorbar\": {\"outlinewidth\": 0, \"ticks\": \"\"}, \"colorscale\": [[0.0, \"#0d0887\"], [0.1111111111111111, \"#46039f\"], [0.2222222222222222, \"#7201a8\"], [0.3333333333333333, \"#9c179e\"], [0.4444444444444444, \"#bd3786\"], [0.5555555555555556, \"#d8576b\"], [0.6666666666666666, \"#ed7953\"], [0.7777777777777778, \"#fb9f3a\"], [0.8888888888888888, \"#fdca26\"], [1.0, \"#f0f921\"]], \"type\": \"contour\"}], \"contourcarpet\": [{\"colorbar\": {\"outlinewidth\": 0, \"ticks\": \"\"}, \"type\": \"contourcarpet\"}], \"heatmap\": [{\"colorbar\": {\"outlinewidth\": 0, \"ticks\": \"\"}, \"colorscale\": [[0.0, \"#0d0887\"], [0.1111111111111111, \"#46039f\"], [0.2222222222222222, \"#7201a8\"], [0.3333333333333333, \"#9c179e\"], [0.4444444444444444, \"#bd3786\"], [0.5555555555555556, \"#d8576b\"], [0.6666666666666666, \"#ed7953\"], [0.7777777777777778, \"#fb9f3a\"], [0.8888888888888888, \"#fdca26\"], [1.0, \"#f0f921\"]], \"type\": \"heatmap\"}], \"heatmapgl\": [{\"colorbar\": {\"outlinewidth\": 0, \"ticks\": \"\"}, \"colorscale\": [[0.0, \"#0d0887\"], [0.1111111111111111, \"#46039f\"], [0.2222222222222222, \"#7201a8\"], [0.3333333333333333, \"#9c179e\"], [0.4444444444444444, \"#bd3786\"], [0.5555555555555556, \"#d8576b\"], [0.6666666666666666, \"#ed7953\"], [0.7777777777777778, \"#fb9f3a\"], [0.8888888888888888, \"#fdca26\"], [1.0, \"#f0f921\"]], \"type\": \"heatmapgl\"}], \"histogram\": [{\"marker\": {\"colorbar\": {\"outlinewidth\": 0, \"ticks\": \"\"}}, \"type\": \"histogram\"}], \"histogram2d\": [{\"colorbar\": {\"outlinewidth\": 0, \"ticks\": \"\"}, \"colorscale\": [[0.0, \"#0d0887\"], [0.1111111111111111, \"#46039f\"], [0.2222222222222222, \"#7201a8\"], [0.3333333333333333, \"#9c179e\"], [0.4444444444444444, \"#bd3786\"], [0.5555555555555556, \"#d8576b\"], [0.6666666666666666, \"#ed7953\"], [0.7777777777777778, \"#fb9f3a\"], [0.8888888888888888, \"#fdca26\"], [1.0, \"#f0f921\"]], \"type\": \"histogram2d\"}], \"histogram2dcontour\": [{\"colorbar\": {\"outlinewidth\": 0, \"ticks\": \"\"}, \"colorscale\": [[0.0, \"#0d0887\"], [0.1111111111111111, \"#46039f\"], [0.2222222222222222, \"#7201a8\"], [0.3333333333333333, \"#9c179e\"], [0.4444444444444444, \"#bd3786\"], [0.5555555555555556, \"#d8576b\"], [0.6666666666666666, \"#ed7953\"], [0.7777777777777778, \"#fb9f3a\"], [0.8888888888888888, \"#fdca26\"], [1.0, \"#f0f921\"]], \"type\": \"histogram2dcontour\"}], \"mesh3d\": [{\"colorbar\": {\"outlinewidth\": 0, \"ticks\": \"\"}, \"type\": \"mesh3d\"}], \"parcoords\": [{\"line\": {\"colorbar\": {\"outlinewidth\": 0, \"ticks\": \"\"}}, \"type\": \"parcoords\"}], \"pie\": [{\"automargin\": true, \"type\": \"pie\"}], \"scatter\": [{\"marker\": {\"colorbar\": {\"outlinewidth\": 0, \"ticks\": \"\"}}, \"type\": \"scatter\"}], \"scatter3d\": [{\"line\": {\"colorbar\": {\"outlinewidth\": 0, \"ticks\": \"\"}}, \"marker\": {\"colorbar\": {\"outlinewidth\": 0, \"ticks\": \"\"}}, \"type\": \"scatter3d\"}], \"scattercarpet\": [{\"marker\": {\"colorbar\": {\"outlinewidth\": 0, \"ticks\": \"\"}}, \"type\": \"scattercarpet\"}], \"scattergeo\": [{\"marker\": {\"colorbar\": {\"outlinewidth\": 0, \"ticks\": \"\"}}, \"type\": \"scattergeo\"}], \"scattergl\": [{\"marker\": {\"colorbar\": {\"outlinewidth\": 0, \"ticks\": \"\"}}, \"type\": \"scattergl\"}], \"scattermapbox\": [{\"marker\": {\"colorbar\": {\"outlinewidth\": 0, \"ticks\": \"\"}}, \"type\": \"scattermapbox\"}], \"scatterpolar\": [{\"marker\": {\"colorbar\": {\"outlinewidth\": 0, \"ticks\": \"\"}}, \"type\": \"scatterpolar\"}], \"scatterpolargl\": [{\"marker\": {\"colorbar\": {\"outlinewidth\": 0, \"ticks\": \"\"}}, \"type\": \"scatterpolargl\"}], \"scatterternary\": [{\"marker\": {\"colorbar\": {\"outlinewidth\": 0, \"ticks\": \"\"}}, \"type\": \"scatterternary\"}], \"surface\": [{\"colorbar\": {\"outlinewidth\": 0, \"ticks\": \"\"}, \"colorscale\": [[0.0, \"#0d0887\"], [0.1111111111111111, \"#46039f\"], [0.2222222222222222, \"#7201a8\"], [0.3333333333333333, \"#9c179e\"], [0.4444444444444444, \"#bd3786\"], [0.5555555555555556, \"#d8576b\"], [0.6666666666666666, \"#ed7953\"], [0.7777777777777778, \"#fb9f3a\"], [0.8888888888888888, \"#fdca26\"], [1.0, \"#f0f921\"]], \"type\": \"surface\"}], \"table\": [{\"cells\": {\"fill\": {\"color\": \"#EBF0F8\"}, \"line\": {\"color\": \"white\"}}, \"header\": {\"fill\": {\"color\": \"#C8D4E3\"}, \"line\": {\"color\": \"white\"}}, \"type\": \"table\"}]}, \"layout\": {\"annotationdefaults\": {\"arrowcolor\": \"#2a3f5f\", \"arrowhead\": 0, \"arrowwidth\": 1}, \"coloraxis\": {\"colorbar\": {\"outlinewidth\": 0, \"ticks\": \"\"}}, \"colorscale\": {\"diverging\": [[0, \"#8e0152\"], [0.1, \"#c51b7d\"], [0.2, \"#de77ae\"], [0.3, \"#f1b6da\"], [0.4, \"#fde0ef\"], [0.5, \"#f7f7f7\"], [0.6, \"#e6f5d0\"], [0.7, \"#b8e186\"], [0.8, \"#7fbc41\"], [0.9, \"#4d9221\"], [1, \"#276419\"]], \"sequential\": [[0.0, \"#0d0887\"], [0.1111111111111111, \"#46039f\"], [0.2222222222222222, \"#7201a8\"], [0.3333333333333333, \"#9c179e\"], [0.4444444444444444, \"#bd3786\"], [0.5555555555555556, \"#d8576b\"], [0.6666666666666666, \"#ed7953\"], [0.7777777777777778, \"#fb9f3a\"], [0.8888888888888888, \"#fdca26\"], [1.0, \"#f0f921\"]], \"sequentialminus\": [[0.0, \"#0d0887\"], [0.1111111111111111, \"#46039f\"], [0.2222222222222222, \"#7201a8\"], [0.3333333333333333, \"#9c179e\"], [0.4444444444444444, \"#bd3786\"], [0.5555555555555556, \"#d8576b\"], [0.6666666666666666, \"#ed7953\"], [0.7777777777777778, \"#fb9f3a\"], [0.8888888888888888, \"#fdca26\"], [1.0, \"#f0f921\"]]}, \"colorway\": [\"#636efa\", \"#EF553B\", \"#00cc96\", \"#ab63fa\", \"#FFA15A\", \"#19d3f3\", \"#FF6692\", \"#B6E880\", \"#FF97FF\", \"#FECB52\"], \"font\": {\"color\": \"#2a3f5f\"}, \"geo\": {\"bgcolor\": \"white\", \"lakecolor\": \"white\", \"landcolor\": \"#E5ECF6\", \"showlakes\": true, \"showland\": true, \"subunitcolor\": \"white\"}, \"hoverlabel\": {\"align\": \"left\"}, \"hovermode\": \"closest\", \"mapbox\": {\"style\": \"light\"}, \"paper_bgcolor\": \"white\", \"plot_bgcolor\": \"#E5ECF6\", \"polar\": {\"angularaxis\": {\"gridcolor\": \"white\", \"linecolor\": \"white\", \"ticks\": \"\"}, \"bgcolor\": \"#E5ECF6\", \"radialaxis\": {\"gridcolor\": \"white\", \"linecolor\": \"white\", \"ticks\": \"\"}}, \"scene\": {\"xaxis\": {\"backgroundcolor\": \"#E5ECF6\", \"gridcolor\": \"white\", \"gridwidth\": 2, \"linecolor\": \"white\", \"showbackground\": true, \"ticks\": \"\", \"zerolinecolor\": \"white\"}, \"yaxis\": {\"backgroundcolor\": \"#E5ECF6\", \"gridcolor\": \"white\", \"gridwidth\": 2, \"linecolor\": \"white\", \"showbackground\": true, \"ticks\": \"\", \"zerolinecolor\": \"white\"}, \"zaxis\": {\"backgroundcolor\": \"#E5ECF6\", \"gridcolor\": \"white\", \"gridwidth\": 2, \"linecolor\": \"white\", \"showbackground\": true, \"ticks\": \"\", \"zerolinecolor\": \"white\"}}, \"shapedefaults\": {\"line\": {\"color\": \"#2a3f5f\"}}, \"ternary\": {\"aaxis\": {\"gridcolor\": \"white\", \"linecolor\": \"white\", \"ticks\": \"\"}, \"baxis\": {\"gridcolor\": \"white\", \"linecolor\": \"white\", \"ticks\": \"\"}, \"bgcolor\": \"#E5ECF6\", \"caxis\": {\"gridcolor\": \"white\", \"linecolor\": \"white\", \"ticks\": \"\"}}, \"title\": {\"x\": 0.05}, \"xaxis\": {\"automargin\": true, \"gridcolor\": \"white\", \"linecolor\": \"white\", \"ticks\": \"\", \"title\": {\"standoff\": 15}, \"zerolinecolor\": \"white\", \"zerolinewidth\": 2}, \"yaxis\": {\"automargin\": true, \"gridcolor\": \"white\", \"linecolor\": \"white\", \"ticks\": \"\", \"title\": {\"standoff\": 15}, \"zerolinecolor\": \"white\", \"zerolinewidth\": 2}}}, \"title\": {\"text\": \"OneClass SVM Outlier detection 3D Visualization on HDI Dataset \"}, \"width\": 900, \"xaxis\": {\"title\": {\"text\": \"Feature 1\"}}, \"yaxis\": {\"title\": {\"text\": \"Feature 2\"}}},\n",
              "                        {\"responsive\": true}\n",
              "                    ).then(function(){\n",
              "                            \n",
              "var gd = document.getElementById('ce3bd9b0-5680-411b-814a-269efd6a057d');\n",
              "var x = new MutationObserver(function (mutations, observer) {{\n",
              "        var display = window.getComputedStyle(gd).display;\n",
              "        if (!display || display === 'none') {{\n",
              "            console.log([gd, 'removed!']);\n",
              "            Plotly.purge(gd);\n",
              "            observer.disconnect();\n",
              "        }}\n",
              "}});\n",
              "\n",
              "// Listen for the removal of the full notebook cells\n",
              "var notebookContainer = gd.closest('#notebook-container');\n",
              "if (notebookContainer) {{\n",
              "    x.observe(notebookContainer, {childList: true});\n",
              "}}\n",
              "\n",
              "// Listen for the clearing of the current output cell\n",
              "var outputEl = gd.closest('.output');\n",
              "if (outputEl) {{\n",
              "    x.observe(outputEl, {childList: true});\n",
              "}}\n",
              "\n",
              "                        })\n",
              "                };\n",
              "                \n",
              "            </script>\n",
              "        </div>\n",
              "</body>\n",
              "</html>"
            ]
          },
          "metadata": {
            "tags": []
          }
        }
      ]
    },
    {
      "cell_type": "markdown",
      "metadata": {
        "id": "rF-8A-thxLKj",
        "colab_type": "text"
      },
      "source": [
        "## **Isolation Forest**"
      ]
    },
    {
      "cell_type": "code",
      "metadata": {
        "id": "mVWH1jH3tehq",
        "colab_type": "code",
        "colab": {}
      },
      "source": [
        "iso_forest=IsolationForest(random_state=0)\n",
        "plt_data2d=plot_data.iloc[:,0:2]\n",
        "iso_forest.fit(plt_data2d)\n",
        "y_pred2d=iso_forest.predict(plt_data2d)\n",
        "\n",
        "iso_forest=IsolationForest(random_state=0)\n",
        "plt_data3d=plot_data.iloc[:,0:3]\n",
        "iso_forest.fit(plt_data3d)\n",
        "y_pred3d=iso_forest.predict(plt_data3d)"
      ],
      "execution_count": 0,
      "outputs": []
    },
    {
      "cell_type": "code",
      "metadata": {
        "id": "m7eko3PCxUF0",
        "colab_type": "code",
        "colab": {
          "base_uri": "https://localhost:8080/",
          "height": 1000
        },
        "outputId": "85a76b8e-58a3-4216-9ca9-22560fb75b9b"
      },
      "source": [
        "colors=np.array(['red','green'])\n",
        "fig=px.scatter(plot_data, x= 'Feature 1',y='Feature 2',color=y_pred2d,hover_data=['District'],width=800, height=600)\n",
        "fig.update_layout(\n",
        "    title=\"Outliers by Isolation Forest on HDI Dataset\",\n",
        "    xaxis_title=\"Feature 1\",\n",
        "    yaxis_title=\"Feature 2\",\n",
        "    font=dict(\n",
        "        family=\"Courier New, monospace\",\n",
        "        size=12,\n",
        "        color=\"#7f7f7f\"\n",
        "    )\n",
        ")\n",
        "fig.show()\n",
        "\n",
        "fig=px.scatter_3d(plot_data, x= 'Feature 1',y='Feature 2',z='Feature 3',color=y_pred3d,hover_data=['District'],width=900, height=600)\n",
        "fig.update_layout(\n",
        "    title=\"Isolation Forest Outlier detection 3D Visualization on Agriculture Dataset \",\n",
        "    xaxis_title=\"Feature 1\",\n",
        "    yaxis_title=\"Feature 2\",\n",
        "    font=dict(\n",
        "        family=\"Courier New, monospace\",\n",
        "        size=12,\n",
        "        color=\"#7f7f7f\"\n",
        "    )\n",
        ")\n",
        "fig.show()\n"
      ],
      "execution_count": 68,
      "outputs": [
        {
          "output_type": "display_data",
          "data": {
            "text/html": [
              "<html>\n",
              "<head><meta charset=\"utf-8\" /></head>\n",
              "<body>\n",
              "    <div>\n",
              "            <script src=\"https://cdnjs.cloudflare.com/ajax/libs/mathjax/2.7.5/MathJax.js?config=TeX-AMS-MML_SVG\"></script><script type=\"text/javascript\">if (window.MathJax) {MathJax.Hub.Config({SVG: {font: \"STIX-Web\"}});}</script>\n",
              "                <script type=\"text/javascript\">window.PlotlyConfig = {MathJaxConfig: 'local'};</script>\n",
              "        <script src=\"https://cdn.plot.ly/plotly-latest.min.js\"></script>    \n",
              "            <div id=\"1953420f-7dfd-40ae-9b41-b277300a354a\" class=\"plotly-graph-div\" style=\"height:600px; width:800px;\"></div>\n",
              "            <script type=\"text/javascript\">\n",
              "                \n",
              "                    window.PLOTLYENV=window.PLOTLYENV || {};\n",
              "                    \n",
              "                if (document.getElementById(\"1953420f-7dfd-40ae-9b41-b277300a354a\")) {\n",
              "                    Plotly.newPlot(\n",
              "                        '1953420f-7dfd-40ae-9b41-b277300a354a',\n",
              "                        [{\"customdata\": [[\"Kathmandu\"], [\"Lalitpur\"], [\"Kaski\"], [\"Bhaktapur\"], [\"Ilam\"], [\"Chitwan\"], [\"Syangja\"], [\"Palpa\"], [\"Jhapa\"], [\"Manang\"], [\"Tanahu\"], [\"Tehrathum\"], [\"Dhankuta\"], [\"Parbat\"], [\"Surkhet\"], [\"Arghakhanchi\"], [\"Gulmi\"], [\"Panchthar\"], [\"Baglung\"], [\"Myagdi\"], [\"Taplejung\"], [\"Lamjung\"], [\"Nawalparasi\"], [\"Kanchanpur\"], [\"Morang\"], [\"Dang\"], [\"Kavrepalanchok\"], [\"Rupandehi\"], [\"Sankhuwasabha\"], [\"Bhojpur\"], [\"Khotang\"], [\"Udayapur\"], [\"Sunsari\"], [\"Makwanpur\"], [\"Pyuthan\"], [\"Gorkha\"], [\"Kailali\"], [\"Mustang\"], [\"Bardiya\"], [\"Darchula\"], [\"Dadeldhura\"], [\"Okhaldhunga\"], [\"Solukhumbu\"], [\"Salyan\"], [\"Baitadi\"], [\"Dhading\"], [\"Dolakha\"], [\"Dailekh\"], [\"Banke\"], [\"Ramechhap\"], [\"Rukum\"], [\"Sindhuli\"], [\"Rolpa\"], [\"Nuwakot\"], [\"Sindhupalchok\"], [\"Jajarkot\"], [\"Kalikot\"], [\"Doti\"], [\"Parsa\"], [\"Achham\"], [\"Bajura\"], [\"Bajhang\"], [\"Kapilbastu\"], [\"Jumla\"], [\"Saptari\"], [\"Dolpa\"], [\"Rasuwa\"], [\"Bara\"], [\"Mugu\"], [\"Dhanusa\"], [\"Siraha\"], [\"Humla\"], [\"Mahottari\"], [\"Sarlahi\"], [\"Rautahat\"]], \"hoverlabel\": {\"namelength\": 0}, \"hovertemplate\": \"Feature 1=%{x}<br>Feature 2=%{y}<br>District=%{customdata[0]}<br>color=%{marker.color}\", \"legendgroup\": \"\", \"marker\": {\"color\": [-1, -1, -1, -1, 1, 1, 1, 1, 1, -1, 1, 1, 1, 1, 1, 1, 1, 1, 1, 1, 1, 1, 1, 1, 1, 1, 1, 1, 1, 1, 1, 1, 1, 1, -1, 1, 1, -1, 1, 1, 1, 1, 1, 1, 1, 1, 1, 1, 1, -1, 1, 1, 1, 1, 1, 1, -1, 1, 1, 1, -1, 1, 1, -1, -1, -1, 1, 1, -1, 1, -1, -1, -1, -1, -1], \"coloraxis\": \"coloraxis\", \"symbol\": \"circle\"}, \"mode\": \"markers\", \"name\": \"\", \"showlegend\": false, \"type\": \"scatter\", \"x\": [4.337676161009879, 3.1188093937368926, 2.830948630962913, 2.5168105584441234, 1.7291140911730674, 2.040543049794674, 1.7994747111064104, 1.3761045616799337, 1.31833283311004, 2.958645766747861, 1.4129072867475991, 1.5629826216477913, 1.4064240263584398, 1.2725205480927837, 0.761248973450328, 0.8820971656443796, 0.6805614111792186, 0.9217094645482207, 0.7428031246444279, 0.9795222878170533, 0.8357059863368657, 1.1040973276057724, 0.7776769501723727, 0.5022332929202458, 0.8878382697494428, 0.6423138866765653, 1.100853962493588, 0.6101868162321225, 0.6477964067183314, 0.4619519650061602, 0.6590623778089529, 0.36424414459038096, 0.4171370176884071, 0.6045583761553454, -0.3075968511296998, 0.37654235414387555, -0.12680490990566468, 0.6520292930851708, -0.0747824204261186, -0.2919208573771572, -0.19956253130035978, -0.03621948100838211, 0.6730832491070953, -0.4046311999318163, -0.5917484386471994, -0.23894155552680788, -0.2563232304950418, -0.7719637229464518, -0.37771181937557285, -0.15088988184664182, -0.7057616609044269, -0.757880382486588, -1.1626584477667041, -0.5481171327040923, -0.6353121808783192, -1.6918504081961632, -1.9411431711329896, -1.3280519157712571, -1.0099423872152289, -1.7065669030174735, -2.050763028948897, -1.879393665841731, -1.5117047415048723, -1.7923045383673568, -1.4370479121349218, -1.9218419823528863, -0.9460864516443463, -1.2084688483586674, -2.2135021245879876, -2.0178127151413556, -2.1183630033478975, -2.829681142815764, -2.780561379034425, -2.6673505102708344, -3.27528481004463], \"xaxis\": \"x\", \"y\": [0.6802648121035058, -0.34003192706874236, -0.5137397644906472, -0.5368174330652651, 0.4202751418208489, -0.3198677890131691, -0.31163964494553775, 0.2268106326615443, 0.6648099569945886, 2.140621332831868, -0.5949102087984339, 0.40259560053342575, -0.09267303907885331, -0.7946923848289559, 0.586913334109037, 0.021161502513488466, 0.1848659139377951, 0.22709803616228175, -0.1306101767874836, -0.6164076917027408, 1.2684084825818736, -0.9755297314213847, 0.3741059318301075, 0.6682485760510523, -0.17004421868956107, 0.5576634002719846, -0.9093739892309276, 0.14202791267278791, 0.06868150772852093, 0.07839264424849657, -0.7400743307476855, -0.3853061397426866, 0.07689793902572122, 0.23011480705864348, 1.7508738467067895, -1.453442420596049, 0.8420979047499804, 1.6891445378263479, 0.47368495555077134, -0.30916558753400286, 0.23637695522118865, -0.9887126488328746, -0.031391158134826534, -0.26660624144688044, -0.2530288080543514, -1.1766082415430823, -1.1435420672667838, 0.024943063181731534, -0.06054653961596625, -2.0488634747918777, -0.14035950716657852, -0.8810024395894686, 0.7571915926224295, -1.1892075439614962, -0.6395908065694585, 0.5657106724083465, 1.8292579421414603, 0.6262328059312774, -0.9300798282745119, 0.3397254809931466, 1.7110703679891026, 1.2149825640455487, 0.15296513534562917, 2.160248621352118, -1.509063350689425, 3.013048413351719, -1.2644931050745796, -1.05632038523152, 1.0024467918020137, -0.8066167894727868, -1.613603438588704, 1.547524205231109, -0.9207283726043063, -1.1637053526071637, -1.679086744329513], \"yaxis\": \"y\"}],\n",
              "                        {\"coloraxis\": {\"colorbar\": {\"title\": {\"text\": \"color\"}}, \"colorscale\": [[0.0, \"#0d0887\"], [0.1111111111111111, \"#46039f\"], [0.2222222222222222, \"#7201a8\"], [0.3333333333333333, \"#9c179e\"], [0.4444444444444444, \"#bd3786\"], [0.5555555555555556, \"#d8576b\"], [0.6666666666666666, \"#ed7953\"], [0.7777777777777778, \"#fb9f3a\"], [0.8888888888888888, \"#fdca26\"], [1.0, \"#f0f921\"]]}, \"font\": {\"color\": \"#7f7f7f\", \"family\": \"Courier New, monospace\", \"size\": 12}, \"height\": 600, \"legend\": {\"tracegroupgap\": 0}, \"margin\": {\"t\": 60}, \"template\": {\"data\": {\"bar\": [{\"error_x\": {\"color\": \"#2a3f5f\"}, \"error_y\": {\"color\": \"#2a3f5f\"}, \"marker\": {\"line\": {\"color\": \"#E5ECF6\", \"width\": 0.5}}, \"type\": \"bar\"}], \"barpolar\": [{\"marker\": {\"line\": {\"color\": \"#E5ECF6\", \"width\": 0.5}}, \"type\": \"barpolar\"}], \"carpet\": [{\"aaxis\": {\"endlinecolor\": \"#2a3f5f\", \"gridcolor\": \"white\", \"linecolor\": \"white\", \"minorgridcolor\": \"white\", \"startlinecolor\": \"#2a3f5f\"}, \"baxis\": {\"endlinecolor\": \"#2a3f5f\", \"gridcolor\": \"white\", \"linecolor\": \"white\", \"minorgridcolor\": \"white\", \"startlinecolor\": \"#2a3f5f\"}, \"type\": \"carpet\"}], \"choropleth\": [{\"colorbar\": {\"outlinewidth\": 0, \"ticks\": \"\"}, \"type\": \"choropleth\"}], \"contour\": [{\"colorbar\": {\"outlinewidth\": 0, \"ticks\": \"\"}, \"colorscale\": [[0.0, \"#0d0887\"], [0.1111111111111111, \"#46039f\"], [0.2222222222222222, \"#7201a8\"], [0.3333333333333333, \"#9c179e\"], [0.4444444444444444, \"#bd3786\"], [0.5555555555555556, \"#d8576b\"], [0.6666666666666666, \"#ed7953\"], [0.7777777777777778, \"#fb9f3a\"], [0.8888888888888888, \"#fdca26\"], [1.0, \"#f0f921\"]], \"type\": \"contour\"}], \"contourcarpet\": [{\"colorbar\": {\"outlinewidth\": 0, \"ticks\": \"\"}, \"type\": \"contourcarpet\"}], \"heatmap\": [{\"colorbar\": {\"outlinewidth\": 0, \"ticks\": \"\"}, \"colorscale\": [[0.0, \"#0d0887\"], [0.1111111111111111, \"#46039f\"], [0.2222222222222222, \"#7201a8\"], [0.3333333333333333, \"#9c179e\"], [0.4444444444444444, \"#bd3786\"], [0.5555555555555556, \"#d8576b\"], [0.6666666666666666, \"#ed7953\"], [0.7777777777777778, \"#fb9f3a\"], [0.8888888888888888, \"#fdca26\"], [1.0, \"#f0f921\"]], \"type\": \"heatmap\"}], \"heatmapgl\": [{\"colorbar\": {\"outlinewidth\": 0, \"ticks\": \"\"}, \"colorscale\": [[0.0, \"#0d0887\"], [0.1111111111111111, \"#46039f\"], [0.2222222222222222, \"#7201a8\"], [0.3333333333333333, \"#9c179e\"], [0.4444444444444444, \"#bd3786\"], [0.5555555555555556, \"#d8576b\"], [0.6666666666666666, \"#ed7953\"], [0.7777777777777778, \"#fb9f3a\"], [0.8888888888888888, \"#fdca26\"], [1.0, \"#f0f921\"]], \"type\": \"heatmapgl\"}], \"histogram\": [{\"marker\": {\"colorbar\": {\"outlinewidth\": 0, \"ticks\": \"\"}}, \"type\": \"histogram\"}], \"histogram2d\": [{\"colorbar\": {\"outlinewidth\": 0, \"ticks\": \"\"}, \"colorscale\": [[0.0, \"#0d0887\"], [0.1111111111111111, \"#46039f\"], [0.2222222222222222, \"#7201a8\"], [0.3333333333333333, \"#9c179e\"], [0.4444444444444444, \"#bd3786\"], [0.5555555555555556, \"#d8576b\"], [0.6666666666666666, \"#ed7953\"], [0.7777777777777778, \"#fb9f3a\"], [0.8888888888888888, \"#fdca26\"], [1.0, \"#f0f921\"]], \"type\": \"histogram2d\"}], \"histogram2dcontour\": [{\"colorbar\": {\"outlinewidth\": 0, \"ticks\": \"\"}, \"colorscale\": [[0.0, \"#0d0887\"], [0.1111111111111111, \"#46039f\"], [0.2222222222222222, \"#7201a8\"], [0.3333333333333333, \"#9c179e\"], [0.4444444444444444, \"#bd3786\"], [0.5555555555555556, \"#d8576b\"], [0.6666666666666666, \"#ed7953\"], [0.7777777777777778, \"#fb9f3a\"], [0.8888888888888888, \"#fdca26\"], [1.0, \"#f0f921\"]], \"type\": \"histogram2dcontour\"}], \"mesh3d\": [{\"colorbar\": {\"outlinewidth\": 0, \"ticks\": \"\"}, \"type\": \"mesh3d\"}], \"parcoords\": [{\"line\": {\"colorbar\": {\"outlinewidth\": 0, \"ticks\": \"\"}}, \"type\": \"parcoords\"}], \"pie\": [{\"automargin\": true, \"type\": \"pie\"}], \"scatter\": [{\"marker\": {\"colorbar\": {\"outlinewidth\": 0, \"ticks\": \"\"}}, \"type\": \"scatter\"}], \"scatter3d\": [{\"line\": {\"colorbar\": {\"outlinewidth\": 0, \"ticks\": \"\"}}, \"marker\": {\"colorbar\": {\"outlinewidth\": 0, \"ticks\": \"\"}}, \"type\": \"scatter3d\"}], \"scattercarpet\": [{\"marker\": {\"colorbar\": {\"outlinewidth\": 0, \"ticks\": \"\"}}, \"type\": \"scattercarpet\"}], \"scattergeo\": [{\"marker\": {\"colorbar\": {\"outlinewidth\": 0, \"ticks\": \"\"}}, \"type\": \"scattergeo\"}], \"scattergl\": [{\"marker\": {\"colorbar\": {\"outlinewidth\": 0, \"ticks\": \"\"}}, \"type\": \"scattergl\"}], \"scattermapbox\": [{\"marker\": {\"colorbar\": {\"outlinewidth\": 0, \"ticks\": \"\"}}, \"type\": \"scattermapbox\"}], \"scatterpolar\": [{\"marker\": {\"colorbar\": {\"outlinewidth\": 0, \"ticks\": \"\"}}, \"type\": \"scatterpolar\"}], \"scatterpolargl\": [{\"marker\": {\"colorbar\": {\"outlinewidth\": 0, \"ticks\": \"\"}}, \"type\": \"scatterpolargl\"}], \"scatterternary\": [{\"marker\": {\"colorbar\": {\"outlinewidth\": 0, \"ticks\": \"\"}}, \"type\": \"scatterternary\"}], \"surface\": [{\"colorbar\": {\"outlinewidth\": 0, \"ticks\": \"\"}, \"colorscale\": [[0.0, \"#0d0887\"], [0.1111111111111111, \"#46039f\"], [0.2222222222222222, \"#7201a8\"], [0.3333333333333333, \"#9c179e\"], [0.4444444444444444, \"#bd3786\"], [0.5555555555555556, \"#d8576b\"], [0.6666666666666666, \"#ed7953\"], [0.7777777777777778, \"#fb9f3a\"], [0.8888888888888888, \"#fdca26\"], [1.0, \"#f0f921\"]], \"type\": \"surface\"}], \"table\": [{\"cells\": {\"fill\": {\"color\": \"#EBF0F8\"}, \"line\": {\"color\": \"white\"}}, \"header\": {\"fill\": {\"color\": \"#C8D4E3\"}, \"line\": {\"color\": \"white\"}}, \"type\": \"table\"}]}, \"layout\": {\"annotationdefaults\": {\"arrowcolor\": \"#2a3f5f\", \"arrowhead\": 0, \"arrowwidth\": 1}, \"coloraxis\": {\"colorbar\": {\"outlinewidth\": 0, \"ticks\": \"\"}}, \"colorscale\": {\"diverging\": [[0, \"#8e0152\"], [0.1, \"#c51b7d\"], [0.2, \"#de77ae\"], [0.3, \"#f1b6da\"], [0.4, \"#fde0ef\"], [0.5, \"#f7f7f7\"], [0.6, \"#e6f5d0\"], [0.7, \"#b8e186\"], [0.8, \"#7fbc41\"], [0.9, \"#4d9221\"], [1, \"#276419\"]], \"sequential\": [[0.0, \"#0d0887\"], [0.1111111111111111, \"#46039f\"], [0.2222222222222222, \"#7201a8\"], [0.3333333333333333, \"#9c179e\"], [0.4444444444444444, \"#bd3786\"], [0.5555555555555556, \"#d8576b\"], [0.6666666666666666, \"#ed7953\"], [0.7777777777777778, \"#fb9f3a\"], [0.8888888888888888, \"#fdca26\"], [1.0, \"#f0f921\"]], \"sequentialminus\": [[0.0, \"#0d0887\"], [0.1111111111111111, \"#46039f\"], [0.2222222222222222, \"#7201a8\"], [0.3333333333333333, \"#9c179e\"], [0.4444444444444444, \"#bd3786\"], [0.5555555555555556, \"#d8576b\"], [0.6666666666666666, \"#ed7953\"], [0.7777777777777778, \"#fb9f3a\"], [0.8888888888888888, \"#fdca26\"], [1.0, \"#f0f921\"]]}, \"colorway\": [\"#636efa\", \"#EF553B\", \"#00cc96\", \"#ab63fa\", \"#FFA15A\", \"#19d3f3\", \"#FF6692\", \"#B6E880\", \"#FF97FF\", \"#FECB52\"], \"font\": {\"color\": \"#2a3f5f\"}, \"geo\": {\"bgcolor\": \"white\", \"lakecolor\": \"white\", \"landcolor\": \"#E5ECF6\", \"showlakes\": true, \"showland\": true, \"subunitcolor\": \"white\"}, \"hoverlabel\": {\"align\": \"left\"}, \"hovermode\": \"closest\", \"mapbox\": {\"style\": \"light\"}, \"paper_bgcolor\": \"white\", \"plot_bgcolor\": \"#E5ECF6\", \"polar\": {\"angularaxis\": {\"gridcolor\": \"white\", \"linecolor\": \"white\", \"ticks\": \"\"}, \"bgcolor\": \"#E5ECF6\", \"radialaxis\": {\"gridcolor\": \"white\", \"linecolor\": \"white\", \"ticks\": \"\"}}, \"scene\": {\"xaxis\": {\"backgroundcolor\": \"#E5ECF6\", \"gridcolor\": \"white\", \"gridwidth\": 2, \"linecolor\": \"white\", \"showbackground\": true, \"ticks\": \"\", \"zerolinecolor\": \"white\"}, \"yaxis\": {\"backgroundcolor\": \"#E5ECF6\", \"gridcolor\": \"white\", \"gridwidth\": 2, \"linecolor\": \"white\", \"showbackground\": true, \"ticks\": \"\", \"zerolinecolor\": \"white\"}, \"zaxis\": {\"backgroundcolor\": \"#E5ECF6\", \"gridcolor\": \"white\", \"gridwidth\": 2, \"linecolor\": \"white\", \"showbackground\": true, \"ticks\": \"\", \"zerolinecolor\": \"white\"}}, \"shapedefaults\": {\"line\": {\"color\": \"#2a3f5f\"}}, \"ternary\": {\"aaxis\": {\"gridcolor\": \"white\", \"linecolor\": \"white\", \"ticks\": \"\"}, \"baxis\": {\"gridcolor\": \"white\", \"linecolor\": \"white\", \"ticks\": \"\"}, \"bgcolor\": \"#E5ECF6\", \"caxis\": {\"gridcolor\": \"white\", \"linecolor\": \"white\", \"ticks\": \"\"}}, \"title\": {\"x\": 0.05}, \"xaxis\": {\"automargin\": true, \"gridcolor\": \"white\", \"linecolor\": \"white\", \"ticks\": \"\", \"title\": {\"standoff\": 15}, \"zerolinecolor\": \"white\", \"zerolinewidth\": 2}, \"yaxis\": {\"automargin\": true, \"gridcolor\": \"white\", \"linecolor\": \"white\", \"ticks\": \"\", \"title\": {\"standoff\": 15}, \"zerolinecolor\": \"white\", \"zerolinewidth\": 2}}}, \"title\": {\"text\": \"Outliers by Isolation Forest on Agriculture Dataset\"}, \"width\": 800, \"xaxis\": {\"anchor\": \"y\", \"domain\": [0.0, 1.0], \"title\": {\"text\": \"Feature 1\"}}, \"yaxis\": {\"anchor\": \"x\", \"domain\": [0.0, 1.0], \"title\": {\"text\": \"Feature 2\"}}},\n",
              "                        {\"responsive\": true}\n",
              "                    ).then(function(){\n",
              "                            \n",
              "var gd = document.getElementById('1953420f-7dfd-40ae-9b41-b277300a354a');\n",
              "var x = new MutationObserver(function (mutations, observer) {{\n",
              "        var display = window.getComputedStyle(gd).display;\n",
              "        if (!display || display === 'none') {{\n",
              "            console.log([gd, 'removed!']);\n",
              "            Plotly.purge(gd);\n",
              "            observer.disconnect();\n",
              "        }}\n",
              "}});\n",
              "\n",
              "// Listen for the removal of the full notebook cells\n",
              "var notebookContainer = gd.closest('#notebook-container');\n",
              "if (notebookContainer) {{\n",
              "    x.observe(notebookContainer, {childList: true});\n",
              "}}\n",
              "\n",
              "// Listen for the clearing of the current output cell\n",
              "var outputEl = gd.closest('.output');\n",
              "if (outputEl) {{\n",
              "    x.observe(outputEl, {childList: true});\n",
              "}}\n",
              "\n",
              "                        })\n",
              "                };\n",
              "                \n",
              "            </script>\n",
              "        </div>\n",
              "</body>\n",
              "</html>"
            ]
          },
          "metadata": {
            "tags": []
          }
        },
        {
          "output_type": "display_data",
          "data": {
            "text/html": [
              "<html>\n",
              "<head><meta charset=\"utf-8\" /></head>\n",
              "<body>\n",
              "    <div>\n",
              "            <script src=\"https://cdnjs.cloudflare.com/ajax/libs/mathjax/2.7.5/MathJax.js?config=TeX-AMS-MML_SVG\"></script><script type=\"text/javascript\">if (window.MathJax) {MathJax.Hub.Config({SVG: {font: \"STIX-Web\"}});}</script>\n",
              "                <script type=\"text/javascript\">window.PlotlyConfig = {MathJaxConfig: 'local'};</script>\n",
              "        <script src=\"https://cdn.plot.ly/plotly-latest.min.js\"></script>    \n",
              "            <div id=\"e7d28e1c-2bcb-49c7-a319-11d8a2e03bdf\" class=\"plotly-graph-div\" style=\"height:600px; width:900px;\"></div>\n",
              "            <script type=\"text/javascript\">\n",
              "                \n",
              "                    window.PLOTLYENV=window.PLOTLYENV || {};\n",
              "                    \n",
              "                if (document.getElementById(\"e7d28e1c-2bcb-49c7-a319-11d8a2e03bdf\")) {\n",
              "                    Plotly.newPlot(\n",
              "                        'e7d28e1c-2bcb-49c7-a319-11d8a2e03bdf',\n",
              "                        [{\"customdata\": [[\"Kathmandu\"], [\"Lalitpur\"], [\"Kaski\"], [\"Bhaktapur\"], [\"Ilam\"], [\"Chitwan\"], [\"Syangja\"], [\"Palpa\"], [\"Jhapa\"], [\"Manang\"], [\"Tanahu\"], [\"Tehrathum\"], [\"Dhankuta\"], [\"Parbat\"], [\"Surkhet\"], [\"Arghakhanchi\"], [\"Gulmi\"], [\"Panchthar\"], [\"Baglung\"], [\"Myagdi\"], [\"Taplejung\"], [\"Lamjung\"], [\"Nawalparasi\"], [\"Kanchanpur\"], [\"Morang\"], [\"Dang\"], [\"Kavrepalanchok\"], [\"Rupandehi\"], [\"Sankhuwasabha\"], [\"Bhojpur\"], [\"Khotang\"], [\"Udayapur\"], [\"Sunsari\"], [\"Makwanpur\"], [\"Pyuthan\"], [\"Gorkha\"], [\"Kailali\"], [\"Mustang\"], [\"Bardiya\"], [\"Darchula\"], [\"Dadeldhura\"], [\"Okhaldhunga\"], [\"Solukhumbu\"], [\"Salyan\"], [\"Baitadi\"], [\"Dhading\"], [\"Dolakha\"], [\"Dailekh\"], [\"Banke\"], [\"Ramechhap\"], [\"Rukum\"], [\"Sindhuli\"], [\"Rolpa\"], [\"Nuwakot\"], [\"Sindhupalchok\"], [\"Jajarkot\"], [\"Kalikot\"], [\"Doti\"], [\"Parsa\"], [\"Achham\"], [\"Bajura\"], [\"Bajhang\"], [\"Kapilbastu\"], [\"Jumla\"], [\"Saptari\"], [\"Dolpa\"], [\"Rasuwa\"], [\"Bara\"], [\"Mugu\"], [\"Dhanusa\"], [\"Siraha\"], [\"Humla\"], [\"Mahottari\"], [\"Sarlahi\"], [\"Rautahat\"]], \"hoverlabel\": {\"namelength\": 0}, \"hovertemplate\": \"Feature 1=%{x}<br>Feature 2=%{y}<br>Feature 3=%{z}<br>District=%{customdata[0]}<br>color=%{marker.color}\", \"legendgroup\": \"\", \"marker\": {\"color\": [-1, -1, 1, 1, 1, 1, 1, 1, 1, -1, 1, 1, 1, 1, 1, 1, 1, 1, 1, 1, 1, 1, 1, 1, 1, 1, 1, 1, 1, 1, 1, 1, 1, 1, -1, 1, 1, -1, 1, 1, 1, 1, -1, 1, 1, 1, 1, 1, 1, -1, 1, 1, 1, 1, 1, 1, 1, 1, 1, 1, 1, 1, 1, -1, 1, -1, -1, -1, 1, 1, 1, -1, 1, -1, -1], \"coloraxis\": \"coloraxis\", \"symbol\": \"circle\"}, \"mode\": \"markers\", \"name\": \"\", \"scene\": \"scene\", \"showlegend\": false, \"type\": \"scatter3d\", \"x\": [4.337676161009879, 3.1188093937368926, 2.830948630962913, 2.5168105584441234, 1.7291140911730674, 2.040543049794674, 1.7994747111064104, 1.3761045616799337, 1.31833283311004, 2.958645766747861, 1.4129072867475991, 1.5629826216477913, 1.4064240263584398, 1.2725205480927837, 0.761248973450328, 0.8820971656443796, 0.6805614111792186, 0.9217094645482207, 0.7428031246444279, 0.9795222878170533, 0.8357059863368657, 1.1040973276057724, 0.7776769501723727, 0.5022332929202458, 0.8878382697494428, 0.6423138866765653, 1.100853962493588, 0.6101868162321225, 0.6477964067183314, 0.4619519650061602, 0.6590623778089529, 0.36424414459038096, 0.4171370176884071, 0.6045583761553454, -0.3075968511296998, 0.37654235414387555, -0.12680490990566468, 0.6520292930851708, -0.0747824204261186, -0.2919208573771572, -0.19956253130035978, -0.03621948100838211, 0.6730832491070953, -0.4046311999318163, -0.5917484386471994, -0.23894155552680788, -0.2563232304950418, -0.7719637229464518, -0.37771181937557285, -0.15088988184664182, -0.7057616609044269, -0.757880382486588, -1.1626584477667041, -0.5481171327040923, -0.6353121808783192, -1.6918504081961632, -1.9411431711329896, -1.3280519157712571, -1.0099423872152289, -1.7065669030174735, -2.050763028948897, -1.879393665841731, -1.5117047415048723, -1.7923045383673568, -1.4370479121349218, -1.9218419823528863, -0.9460864516443463, -1.2084688483586674, -2.2135021245879876, -2.0178127151413556, -2.1183630033478975, -2.829681142815764, -2.780561379034425, -2.6673505102708344, -3.27528481004463], \"y\": [0.6802648121035058, -0.34003192706874236, -0.5137397644906472, -0.5368174330652651, 0.4202751418208489, -0.3198677890131691, -0.31163964494553775, 0.2268106326615443, 0.6648099569945886, 2.140621332831868, -0.5949102087984339, 0.40259560053342575, -0.09267303907885331, -0.7946923848289559, 0.586913334109037, 0.021161502513488466, 0.1848659139377951, 0.22709803616228175, -0.1306101767874836, -0.6164076917027408, 1.2684084825818736, -0.9755297314213847, 0.3741059318301075, 0.6682485760510523, -0.17004421868956107, 0.5576634002719846, -0.9093739892309276, 0.14202791267278791, 0.06868150772852093, 0.07839264424849657, -0.7400743307476855, -0.3853061397426866, 0.07689793902572122, 0.23011480705864348, 1.7508738467067895, -1.453442420596049, 0.8420979047499804, 1.6891445378263479, 0.47368495555077134, -0.30916558753400286, 0.23637695522118865, -0.9887126488328746, -0.031391158134826534, -0.26660624144688044, -0.2530288080543514, -1.1766082415430823, -1.1435420672667838, 0.024943063181731534, -0.06054653961596625, -2.0488634747918777, -0.14035950716657852, -0.8810024395894686, 0.7571915926224295, -1.1892075439614962, -0.6395908065694585, 0.5657106724083465, 1.8292579421414603, 0.6262328059312774, -0.9300798282745119, 0.3397254809931466, 1.7110703679891026, 1.2149825640455487, 0.15296513534562917, 2.160248621352118, -1.509063350689425, 3.013048413351719, -1.2644931050745796, -1.05632038523152, 1.0024467918020137, -0.8066167894727868, -1.613603438588704, 1.547524205231109, -0.9207283726043063, -1.1637053526071637, -1.679086744329513], \"z\": [2.0222821765855676, 0.5210007167699616, -0.16011608948428932, -0.48015500455669996, -0.4471268365768852, 0.17921168567584614, -0.5436186105798498, -0.9671745751748135, -0.356556984373432, 3.571907886007269, -0.6724371969629509, 0.023603383918261844, -0.2454365924656885, -0.7354858983507098, -0.8869291507998966, -0.8844765859515278, -1.1991229802176933, -0.47456744040832544, -0.8954298821907934, -0.5612950089805885, 0.04195106207832734, -0.18482853015019693, -0.23929195568449177, -0.7111523169117008, 0.015503060479370624, -0.260081609324938, 0.34865442560670923, -0.22088526858838667, -0.033067983109327716, -0.44605748140353807, -0.1123728485901261, -0.5374136870433012, -0.14949471477170487, 0.5320643032976154, -1.0659026420753994, -0.1172654051146439, -0.38391062442319823, 1.6280748444141382, 0.022386773343455846, -1.022312308573744, -0.782754845176918, -0.18076205695597722, 1.6152902879193733, -0.5115702850221152, -1.0317313968798172, 0.02887338077626582, -0.1461299583498017, -0.621927815277977, 0.3651970780080005, -0.02129052704231724, -0.3698350168467213, -0.15851795322486567, -0.6125114795420649, 0.45808607186183, 0.5001233711506352, -0.37251644378622406, -0.5009075303131433, -0.23745451228485906, 0.9763852757153659, -0.5980499519941781, -0.5920876107481032, -0.7642864577367177, 0.5370221169925684, 0.45382755288113624, 0.17215587099418117, 0.510605564630845, 1.797605173032055, 1.7605844018748429, 0.4371844420176695, 0.7735993876258229, 0.26324869272119505, 0.507954482685774, 0.527662970093744, 0.829819002337994, 1.074434612524817]}],\n",
              "                        {\"coloraxis\": {\"colorbar\": {\"title\": {\"text\": \"color\"}}, \"colorscale\": [[0.0, \"#0d0887\"], [0.1111111111111111, \"#46039f\"], [0.2222222222222222, \"#7201a8\"], [0.3333333333333333, \"#9c179e\"], [0.4444444444444444, \"#bd3786\"], [0.5555555555555556, \"#d8576b\"], [0.6666666666666666, \"#ed7953\"], [0.7777777777777778, \"#fb9f3a\"], [0.8888888888888888, \"#fdca26\"], [1.0, \"#f0f921\"]]}, \"font\": {\"color\": \"#7f7f7f\", \"family\": \"Courier New, monospace\", \"size\": 12}, \"height\": 600, \"legend\": {\"tracegroupgap\": 0}, \"margin\": {\"t\": 60}, \"scene\": {\"domain\": {\"x\": [0.0, 1.0], \"y\": [0.0, 1.0]}, \"xaxis\": {\"title\": {\"text\": \"Feature 1\"}}, \"yaxis\": {\"title\": {\"text\": \"Feature 2\"}}, \"zaxis\": {\"title\": {\"text\": \"Feature 3\"}}}, \"template\": {\"data\": {\"bar\": [{\"error_x\": {\"color\": \"#2a3f5f\"}, \"error_y\": {\"color\": \"#2a3f5f\"}, \"marker\": {\"line\": {\"color\": \"#E5ECF6\", \"width\": 0.5}}, \"type\": \"bar\"}], \"barpolar\": [{\"marker\": {\"line\": {\"color\": \"#E5ECF6\", \"width\": 0.5}}, \"type\": \"barpolar\"}], \"carpet\": [{\"aaxis\": {\"endlinecolor\": \"#2a3f5f\", \"gridcolor\": \"white\", \"linecolor\": \"white\", \"minorgridcolor\": \"white\", \"startlinecolor\": \"#2a3f5f\"}, \"baxis\": {\"endlinecolor\": \"#2a3f5f\", \"gridcolor\": \"white\", \"linecolor\": \"white\", \"minorgridcolor\": \"white\", \"startlinecolor\": \"#2a3f5f\"}, \"type\": \"carpet\"}], \"choropleth\": [{\"colorbar\": {\"outlinewidth\": 0, \"ticks\": \"\"}, \"type\": \"choropleth\"}], \"contour\": [{\"colorbar\": {\"outlinewidth\": 0, \"ticks\": \"\"}, \"colorscale\": [[0.0, \"#0d0887\"], [0.1111111111111111, \"#46039f\"], [0.2222222222222222, \"#7201a8\"], [0.3333333333333333, \"#9c179e\"], [0.4444444444444444, \"#bd3786\"], [0.5555555555555556, \"#d8576b\"], [0.6666666666666666, \"#ed7953\"], [0.7777777777777778, \"#fb9f3a\"], [0.8888888888888888, \"#fdca26\"], [1.0, \"#f0f921\"]], \"type\": \"contour\"}], \"contourcarpet\": [{\"colorbar\": {\"outlinewidth\": 0, \"ticks\": \"\"}, \"type\": \"contourcarpet\"}], \"heatmap\": [{\"colorbar\": {\"outlinewidth\": 0, \"ticks\": \"\"}, \"colorscale\": [[0.0, \"#0d0887\"], [0.1111111111111111, \"#46039f\"], [0.2222222222222222, \"#7201a8\"], [0.3333333333333333, \"#9c179e\"], [0.4444444444444444, \"#bd3786\"], [0.5555555555555556, \"#d8576b\"], [0.6666666666666666, \"#ed7953\"], [0.7777777777777778, \"#fb9f3a\"], [0.8888888888888888, \"#fdca26\"], [1.0, \"#f0f921\"]], \"type\": \"heatmap\"}], \"heatmapgl\": [{\"colorbar\": {\"outlinewidth\": 0, \"ticks\": \"\"}, \"colorscale\": [[0.0, \"#0d0887\"], [0.1111111111111111, \"#46039f\"], [0.2222222222222222, \"#7201a8\"], [0.3333333333333333, \"#9c179e\"], [0.4444444444444444, \"#bd3786\"], [0.5555555555555556, \"#d8576b\"], [0.6666666666666666, \"#ed7953\"], [0.7777777777777778, \"#fb9f3a\"], [0.8888888888888888, \"#fdca26\"], [1.0, \"#f0f921\"]], \"type\": \"heatmapgl\"}], \"histogram\": [{\"marker\": {\"colorbar\": {\"outlinewidth\": 0, \"ticks\": \"\"}}, \"type\": \"histogram\"}], \"histogram2d\": [{\"colorbar\": {\"outlinewidth\": 0, \"ticks\": \"\"}, \"colorscale\": [[0.0, \"#0d0887\"], [0.1111111111111111, \"#46039f\"], [0.2222222222222222, \"#7201a8\"], [0.3333333333333333, \"#9c179e\"], [0.4444444444444444, \"#bd3786\"], [0.5555555555555556, \"#d8576b\"], [0.6666666666666666, \"#ed7953\"], [0.7777777777777778, \"#fb9f3a\"], [0.8888888888888888, \"#fdca26\"], [1.0, \"#f0f921\"]], \"type\": \"histogram2d\"}], \"histogram2dcontour\": [{\"colorbar\": {\"outlinewidth\": 0, \"ticks\": \"\"}, \"colorscale\": [[0.0, \"#0d0887\"], [0.1111111111111111, \"#46039f\"], [0.2222222222222222, \"#7201a8\"], [0.3333333333333333, \"#9c179e\"], [0.4444444444444444, \"#bd3786\"], [0.5555555555555556, \"#d8576b\"], [0.6666666666666666, \"#ed7953\"], [0.7777777777777778, \"#fb9f3a\"], [0.8888888888888888, \"#fdca26\"], [1.0, \"#f0f921\"]], \"type\": \"histogram2dcontour\"}], \"mesh3d\": [{\"colorbar\": {\"outlinewidth\": 0, \"ticks\": \"\"}, \"type\": \"mesh3d\"}], \"parcoords\": [{\"line\": {\"colorbar\": {\"outlinewidth\": 0, \"ticks\": \"\"}}, \"type\": \"parcoords\"}], \"pie\": [{\"automargin\": true, \"type\": \"pie\"}], \"scatter\": [{\"marker\": {\"colorbar\": {\"outlinewidth\": 0, \"ticks\": \"\"}}, \"type\": \"scatter\"}], \"scatter3d\": [{\"line\": {\"colorbar\": {\"outlinewidth\": 0, \"ticks\": \"\"}}, \"marker\": {\"colorbar\": {\"outlinewidth\": 0, \"ticks\": \"\"}}, \"type\": \"scatter3d\"}], \"scattercarpet\": [{\"marker\": {\"colorbar\": {\"outlinewidth\": 0, \"ticks\": \"\"}}, \"type\": \"scattercarpet\"}], \"scattergeo\": [{\"marker\": {\"colorbar\": {\"outlinewidth\": 0, \"ticks\": \"\"}}, \"type\": \"scattergeo\"}], \"scattergl\": [{\"marker\": {\"colorbar\": {\"outlinewidth\": 0, \"ticks\": \"\"}}, \"type\": \"scattergl\"}], \"scattermapbox\": [{\"marker\": {\"colorbar\": {\"outlinewidth\": 0, \"ticks\": \"\"}}, \"type\": \"scattermapbox\"}], \"scatterpolar\": [{\"marker\": {\"colorbar\": {\"outlinewidth\": 0, \"ticks\": \"\"}}, \"type\": \"scatterpolar\"}], \"scatterpolargl\": [{\"marker\": {\"colorbar\": {\"outlinewidth\": 0, \"ticks\": \"\"}}, \"type\": \"scatterpolargl\"}], \"scatterternary\": [{\"marker\": {\"colorbar\": {\"outlinewidth\": 0, \"ticks\": \"\"}}, \"type\": \"scatterternary\"}], \"surface\": [{\"colorbar\": {\"outlinewidth\": 0, \"ticks\": \"\"}, \"colorscale\": [[0.0, \"#0d0887\"], [0.1111111111111111, \"#46039f\"], [0.2222222222222222, \"#7201a8\"], [0.3333333333333333, \"#9c179e\"], [0.4444444444444444, \"#bd3786\"], [0.5555555555555556, \"#d8576b\"], [0.6666666666666666, \"#ed7953\"], [0.7777777777777778, \"#fb9f3a\"], [0.8888888888888888, \"#fdca26\"], [1.0, \"#f0f921\"]], \"type\": \"surface\"}], \"table\": [{\"cells\": {\"fill\": {\"color\": \"#EBF0F8\"}, \"line\": {\"color\": \"white\"}}, \"header\": {\"fill\": {\"color\": \"#C8D4E3\"}, \"line\": {\"color\": \"white\"}}, \"type\": \"table\"}]}, \"layout\": {\"annotationdefaults\": {\"arrowcolor\": \"#2a3f5f\", \"arrowhead\": 0, \"arrowwidth\": 1}, \"coloraxis\": {\"colorbar\": {\"outlinewidth\": 0, \"ticks\": \"\"}}, \"colorscale\": {\"diverging\": [[0, \"#8e0152\"], [0.1, \"#c51b7d\"], [0.2, \"#de77ae\"], [0.3, \"#f1b6da\"], [0.4, \"#fde0ef\"], [0.5, \"#f7f7f7\"], [0.6, \"#e6f5d0\"], [0.7, \"#b8e186\"], [0.8, \"#7fbc41\"], [0.9, \"#4d9221\"], [1, \"#276419\"]], \"sequential\": [[0.0, \"#0d0887\"], [0.1111111111111111, \"#46039f\"], [0.2222222222222222, \"#7201a8\"], [0.3333333333333333, \"#9c179e\"], [0.4444444444444444, \"#bd3786\"], [0.5555555555555556, \"#d8576b\"], [0.6666666666666666, \"#ed7953\"], [0.7777777777777778, \"#fb9f3a\"], [0.8888888888888888, \"#fdca26\"], [1.0, \"#f0f921\"]], \"sequentialminus\": [[0.0, \"#0d0887\"], [0.1111111111111111, \"#46039f\"], [0.2222222222222222, \"#7201a8\"], [0.3333333333333333, \"#9c179e\"], [0.4444444444444444, \"#bd3786\"], [0.5555555555555556, \"#d8576b\"], [0.6666666666666666, \"#ed7953\"], [0.7777777777777778, \"#fb9f3a\"], [0.8888888888888888, \"#fdca26\"], [1.0, \"#f0f921\"]]}, \"colorway\": [\"#636efa\", \"#EF553B\", \"#00cc96\", \"#ab63fa\", \"#FFA15A\", \"#19d3f3\", \"#FF6692\", \"#B6E880\", \"#FF97FF\", \"#FECB52\"], \"font\": {\"color\": \"#2a3f5f\"}, \"geo\": {\"bgcolor\": \"white\", \"lakecolor\": \"white\", \"landcolor\": \"#E5ECF6\", \"showlakes\": true, \"showland\": true, \"subunitcolor\": \"white\"}, \"hoverlabel\": {\"align\": \"left\"}, \"hovermode\": \"closest\", \"mapbox\": {\"style\": \"light\"}, \"paper_bgcolor\": \"white\", \"plot_bgcolor\": \"#E5ECF6\", \"polar\": {\"angularaxis\": {\"gridcolor\": \"white\", \"linecolor\": \"white\", \"ticks\": \"\"}, \"bgcolor\": \"#E5ECF6\", \"radialaxis\": {\"gridcolor\": \"white\", \"linecolor\": \"white\", \"ticks\": \"\"}}, \"scene\": {\"xaxis\": {\"backgroundcolor\": \"#E5ECF6\", \"gridcolor\": \"white\", \"gridwidth\": 2, \"linecolor\": \"white\", \"showbackground\": true, \"ticks\": \"\", \"zerolinecolor\": \"white\"}, \"yaxis\": {\"backgroundcolor\": \"#E5ECF6\", \"gridcolor\": \"white\", \"gridwidth\": 2, \"linecolor\": \"white\", \"showbackground\": true, \"ticks\": \"\", \"zerolinecolor\": \"white\"}, \"zaxis\": {\"backgroundcolor\": \"#E5ECF6\", \"gridcolor\": \"white\", \"gridwidth\": 2, \"linecolor\": \"white\", \"showbackground\": true, \"ticks\": \"\", \"zerolinecolor\": \"white\"}}, \"shapedefaults\": {\"line\": {\"color\": \"#2a3f5f\"}}, \"ternary\": {\"aaxis\": {\"gridcolor\": \"white\", \"linecolor\": \"white\", \"ticks\": \"\"}, \"baxis\": {\"gridcolor\": \"white\", \"linecolor\": \"white\", \"ticks\": \"\"}, \"bgcolor\": \"#E5ECF6\", \"caxis\": {\"gridcolor\": \"white\", \"linecolor\": \"white\", \"ticks\": \"\"}}, \"title\": {\"x\": 0.05}, \"xaxis\": {\"automargin\": true, \"gridcolor\": \"white\", \"linecolor\": \"white\", \"ticks\": \"\", \"title\": {\"standoff\": 15}, \"zerolinecolor\": \"white\", \"zerolinewidth\": 2}, \"yaxis\": {\"automargin\": true, \"gridcolor\": \"white\", \"linecolor\": \"white\", \"ticks\": \"\", \"title\": {\"standoff\": 15}, \"zerolinecolor\": \"white\", \"zerolinewidth\": 2}}}, \"title\": {\"text\": \"Isolation Forest Outlier detection 3D Visualization on Agriculture Dataset \"}, \"width\": 900, \"xaxis\": {\"title\": {\"text\": \"Feature 1\"}}, \"yaxis\": {\"title\": {\"text\": \"Feature 2\"}}},\n",
              "                        {\"responsive\": true}\n",
              "                    ).then(function(){\n",
              "                            \n",
              "var gd = document.getElementById('e7d28e1c-2bcb-49c7-a319-11d8a2e03bdf');\n",
              "var x = new MutationObserver(function (mutations, observer) {{\n",
              "        var display = window.getComputedStyle(gd).display;\n",
              "        if (!display || display === 'none') {{\n",
              "            console.log([gd, 'removed!']);\n",
              "            Plotly.purge(gd);\n",
              "            observer.disconnect();\n",
              "        }}\n",
              "}});\n",
              "\n",
              "// Listen for the removal of the full notebook cells\n",
              "var notebookContainer = gd.closest('#notebook-container');\n",
              "if (notebookContainer) {{\n",
              "    x.observe(notebookContainer, {childList: true});\n",
              "}}\n",
              "\n",
              "// Listen for the clearing of the current output cell\n",
              "var outputEl = gd.closest('.output');\n",
              "if (outputEl) {{\n",
              "    x.observe(outputEl, {childList: true});\n",
              "}}\n",
              "\n",
              "                        })\n",
              "                };\n",
              "                \n",
              "            </script>\n",
              "        </div>\n",
              "</body>\n",
              "</html>"
            ]
          },
          "metadata": {
            "tags": []
          }
        }
      ]
    },
    {
      "cell_type": "markdown",
      "metadata": {
        "id": "gNKuRCtCx_2A",
        "colab_type": "text"
      },
      "source": [
        "## **Local Outlier**"
      ]
    },
    {
      "cell_type": "code",
      "metadata": {
        "id": "IBMgh3IBxaDV",
        "colab_type": "code",
        "colab": {}
      },
      "source": [
        "loc_outlier=LocalOutlierFactor()\n",
        "plt_data2d=plot_data.iloc[:,0:2]\n",
        "y_pred2d=loc_outlier.fit_predict(plt_data2d)\n",
        "\n",
        "\n",
        "loc_outlier=LocalOutlierFactor()\n",
        "plt_data3d=plot_data.iloc[:,0:3]\n",
        "y_pred3d=loc_outlier.fit_predict(plt_data3d)"
      ],
      "execution_count": 0,
      "outputs": []
    },
    {
      "cell_type": "code",
      "metadata": {
        "id": "Wq0V680myF3O",
        "colab_type": "code",
        "colab": {
          "base_uri": "https://localhost:8080/",
          "height": 1000
        },
        "outputId": "94c2b838-056a-467f-98fc-562e27e30cd9"
      },
      "source": [
        "colors=np.array(['red','green'])\n",
        "fig=px.scatter(plot_data, x= 'Feature 1',y='Feature 2',color=y_pred2d,hover_data=['District'],width=800, height=600)\n",
        "fig.update_layout(\n",
        "    title=\"Outliers by Local Outlier on HDI Dataset\",\n",
        "    xaxis_title=\"Feature 1\",\n",
        "    yaxis_title=\"Feature 2\",\n",
        "    font=dict(\n",
        "        family=\"Courier New, monospace\",\n",
        "        size=12,\n",
        "        color=\"#7f7f7f\"\n",
        "    )\n",
        ")\n",
        "fig.show()\n",
        "\n",
        "fig=px.scatter_3d(plot_data, x= 'Feature 1',y='Feature 2',z='Feature 3',color=y_pred3d,hover_data=['District'],width=900, height=600)\n",
        "fig.update_layout(\n",
        "    title=\"Local Outlier detection 3D Visualization on HDI Dataset \",\n",
        "    xaxis_title=\"Feature 1\",\n",
        "    yaxis_title=\"Feature 2\",\n",
        "    font=dict(\n",
        "        family=\"Courier New, monospace\",\n",
        "        size=12,\n",
        "        color=\"#7f7f7f\"\n",
        "    )\n",
        ")\n",
        "fig.show()\n"
      ],
      "execution_count": 74,
      "outputs": [
        {
          "output_type": "display_data",
          "data": {
            "text/html": [
              "<html>\n",
              "<head><meta charset=\"utf-8\" /></head>\n",
              "<body>\n",
              "    <div>\n",
              "            <script src=\"https://cdnjs.cloudflare.com/ajax/libs/mathjax/2.7.5/MathJax.js?config=TeX-AMS-MML_SVG\"></script><script type=\"text/javascript\">if (window.MathJax) {MathJax.Hub.Config({SVG: {font: \"STIX-Web\"}});}</script>\n",
              "                <script type=\"text/javascript\">window.PlotlyConfig = {MathJaxConfig: 'local'};</script>\n",
              "        <script src=\"https://cdn.plot.ly/plotly-latest.min.js\"></script>    \n",
              "            <div id=\"91518a5e-218a-403c-9bfd-d6b78da50eb1\" class=\"plotly-graph-div\" style=\"height:600px; width:800px;\"></div>\n",
              "            <script type=\"text/javascript\">\n",
              "                \n",
              "                    window.PLOTLYENV=window.PLOTLYENV || {};\n",
              "                    \n",
              "                if (document.getElementById(\"91518a5e-218a-403c-9bfd-d6b78da50eb1\")) {\n",
              "                    Plotly.newPlot(\n",
              "                        '91518a5e-218a-403c-9bfd-d6b78da50eb1',\n",
              "                        [{\"customdata\": [[\"Kathmandu\"], [\"Lalitpur\"], [\"Kaski\"], [\"Bhaktapur\"], [\"Ilam\"], [\"Chitwan\"], [\"Syangja\"], [\"Palpa\"], [\"Jhapa\"], [\"Manang\"], [\"Tanahu\"], [\"Tehrathum\"], [\"Dhankuta\"], [\"Parbat\"], [\"Surkhet\"], [\"Arghakhanchi\"], [\"Gulmi\"], [\"Panchthar\"], [\"Baglung\"], [\"Myagdi\"], [\"Taplejung\"], [\"Lamjung\"], [\"Nawalparasi\"], [\"Kanchanpur\"], [\"Morang\"], [\"Dang\"], [\"Kavrepalanchok\"], [\"Rupandehi\"], [\"Sankhuwasabha\"], [\"Bhojpur\"], [\"Khotang\"], [\"Udayapur\"], [\"Sunsari\"], [\"Makwanpur\"], [\"Pyuthan\"], [\"Gorkha\"], [\"Kailali\"], [\"Mustang\"], [\"Bardiya\"], [\"Darchula\"], [\"Dadeldhura\"], [\"Okhaldhunga\"], [\"Solukhumbu\"], [\"Salyan\"], [\"Baitadi\"], [\"Dhading\"], [\"Dolakha\"], [\"Dailekh\"], [\"Banke\"], [\"Ramechhap\"], [\"Rukum\"], [\"Sindhuli\"], [\"Rolpa\"], [\"Nuwakot\"], [\"Sindhupalchok\"], [\"Jajarkot\"], [\"Kalikot\"], [\"Doti\"], [\"Parsa\"], [\"Achham\"], [\"Bajura\"], [\"Bajhang\"], [\"Kapilbastu\"], [\"Jumla\"], [\"Saptari\"], [\"Dolpa\"], [\"Rasuwa\"], [\"Bara\"], [\"Mugu\"], [\"Dhanusa\"], [\"Siraha\"], [\"Humla\"], [\"Mahottari\"], [\"Sarlahi\"], [\"Rautahat\"]], \"hoverlabel\": {\"namelength\": 0}, \"hovertemplate\": \"Feature 1=%{x}<br>Feature 2=%{y}<br>District=%{customdata[0]}<br>color=%{marker.color}\", \"legendgroup\": \"\", \"marker\": {\"color\": [-1, -1, -1, -1, 1, 1, 1, 1, 1, -1, 1, 1, 1, 1, 1, 1, 1, 1, 1, 1, 1, 1, 1, 1, 1, 1, 1, 1, 1, 1, 1, 1, 1, 1, 1, 1, 1, 1, 1, 1, 1, 1, 1, 1, 1, 1, 1, 1, 1, 1, 1, 1, 1, 1, 1, 1, 1, 1, 1, 1, 1, 1, 1, -1, 1, -1, 1, 1, 1, 1, 1, 1, 1, 1, -1], \"coloraxis\": \"coloraxis\", \"symbol\": \"circle\"}, \"mode\": \"markers\", \"name\": \"\", \"showlegend\": false, \"type\": \"scatter\", \"x\": [4.337676161009879, 3.1188093937368926, 2.830948630962913, 2.5168105584441234, 1.7291140911730674, 2.040543049794674, 1.7994747111064104, 1.3761045616799337, 1.31833283311004, 2.958645766747861, 1.4129072867475991, 1.5629826216477913, 1.4064240263584398, 1.2725205480927837, 0.761248973450328, 0.8820971656443796, 0.6805614111792186, 0.9217094645482207, 0.7428031246444279, 0.9795222878170533, 0.8357059863368657, 1.1040973276057724, 0.7776769501723727, 0.5022332929202458, 0.8878382697494428, 0.6423138866765653, 1.100853962493588, 0.6101868162321225, 0.6477964067183314, 0.4619519650061602, 0.6590623778089529, 0.36424414459038096, 0.4171370176884071, 0.6045583761553454, -0.3075968511296998, 0.37654235414387555, -0.12680490990566468, 0.6520292930851708, -0.0747824204261186, -0.2919208573771572, -0.19956253130035978, -0.03621948100838211, 0.6730832491070953, -0.4046311999318163, -0.5917484386471994, -0.23894155552680788, -0.2563232304950418, -0.7719637229464518, -0.37771181937557285, -0.15088988184664182, -0.7057616609044269, -0.757880382486588, -1.1626584477667041, -0.5481171327040923, -0.6353121808783192, -1.6918504081961632, -1.9411431711329896, -1.3280519157712571, -1.0099423872152289, -1.7065669030174735, -2.050763028948897, -1.879393665841731, -1.5117047415048723, -1.7923045383673568, -1.4370479121349218, -1.9218419823528863, -0.9460864516443463, -1.2084688483586674, -2.2135021245879876, -2.0178127151413556, -2.1183630033478975, -2.829681142815764, -2.780561379034425, -2.6673505102708344, -3.27528481004463], \"xaxis\": \"x\", \"y\": [0.6802648121035058, -0.34003192706874236, -0.5137397644906472, -0.5368174330652651, 0.4202751418208489, -0.3198677890131691, -0.31163964494553775, 0.2268106326615443, 0.6648099569945886, 2.140621332831868, -0.5949102087984339, 0.40259560053342575, -0.09267303907885331, -0.7946923848289559, 0.586913334109037, 0.021161502513488466, 0.1848659139377951, 0.22709803616228175, -0.1306101767874836, -0.6164076917027408, 1.2684084825818736, -0.9755297314213847, 0.3741059318301075, 0.6682485760510523, -0.17004421868956107, 0.5576634002719846, -0.9093739892309276, 0.14202791267278791, 0.06868150772852093, 0.07839264424849657, -0.7400743307476855, -0.3853061397426866, 0.07689793902572122, 0.23011480705864348, 1.7508738467067895, -1.453442420596049, 0.8420979047499804, 1.6891445378263479, 0.47368495555077134, -0.30916558753400286, 0.23637695522118865, -0.9887126488328746, -0.031391158134826534, -0.26660624144688044, -0.2530288080543514, -1.1766082415430823, -1.1435420672667838, 0.024943063181731534, -0.06054653961596625, -2.0488634747918777, -0.14035950716657852, -0.8810024395894686, 0.7571915926224295, -1.1892075439614962, -0.6395908065694585, 0.5657106724083465, 1.8292579421414603, 0.6262328059312774, -0.9300798282745119, 0.3397254809931466, 1.7110703679891026, 1.2149825640455487, 0.15296513534562917, 2.160248621352118, -1.509063350689425, 3.013048413351719, -1.2644931050745796, -1.05632038523152, 1.0024467918020137, -0.8066167894727868, -1.613603438588704, 1.547524205231109, -0.9207283726043063, -1.1637053526071637, -1.679086744329513], \"yaxis\": \"y\"}],\n",
              "                        {\"coloraxis\": {\"colorbar\": {\"title\": {\"text\": \"color\"}}, \"colorscale\": [[0.0, \"#0d0887\"], [0.1111111111111111, \"#46039f\"], [0.2222222222222222, \"#7201a8\"], [0.3333333333333333, \"#9c179e\"], [0.4444444444444444, \"#bd3786\"], [0.5555555555555556, \"#d8576b\"], [0.6666666666666666, \"#ed7953\"], [0.7777777777777778, \"#fb9f3a\"], [0.8888888888888888, \"#fdca26\"], [1.0, \"#f0f921\"]]}, \"font\": {\"color\": \"#7f7f7f\", \"family\": \"Courier New, monospace\", \"size\": 12}, \"height\": 600, \"legend\": {\"tracegroupgap\": 0}, \"margin\": {\"t\": 60}, \"template\": {\"data\": {\"bar\": [{\"error_x\": {\"color\": \"#2a3f5f\"}, \"error_y\": {\"color\": \"#2a3f5f\"}, \"marker\": {\"line\": {\"color\": \"#E5ECF6\", \"width\": 0.5}}, \"type\": \"bar\"}], \"barpolar\": [{\"marker\": {\"line\": {\"color\": \"#E5ECF6\", \"width\": 0.5}}, \"type\": \"barpolar\"}], \"carpet\": [{\"aaxis\": {\"endlinecolor\": \"#2a3f5f\", \"gridcolor\": \"white\", \"linecolor\": \"white\", \"minorgridcolor\": \"white\", \"startlinecolor\": \"#2a3f5f\"}, \"baxis\": {\"endlinecolor\": \"#2a3f5f\", \"gridcolor\": \"white\", \"linecolor\": \"white\", \"minorgridcolor\": \"white\", \"startlinecolor\": \"#2a3f5f\"}, \"type\": \"carpet\"}], \"choropleth\": [{\"colorbar\": {\"outlinewidth\": 0, \"ticks\": \"\"}, \"type\": \"choropleth\"}], \"contour\": [{\"colorbar\": {\"outlinewidth\": 0, \"ticks\": \"\"}, \"colorscale\": [[0.0, \"#0d0887\"], [0.1111111111111111, \"#46039f\"], [0.2222222222222222, \"#7201a8\"], [0.3333333333333333, \"#9c179e\"], [0.4444444444444444, \"#bd3786\"], [0.5555555555555556, \"#d8576b\"], [0.6666666666666666, \"#ed7953\"], [0.7777777777777778, \"#fb9f3a\"], [0.8888888888888888, \"#fdca26\"], [1.0, \"#f0f921\"]], \"type\": \"contour\"}], \"contourcarpet\": [{\"colorbar\": {\"outlinewidth\": 0, \"ticks\": \"\"}, \"type\": \"contourcarpet\"}], \"heatmap\": [{\"colorbar\": {\"outlinewidth\": 0, \"ticks\": \"\"}, \"colorscale\": [[0.0, \"#0d0887\"], [0.1111111111111111, \"#46039f\"], [0.2222222222222222, \"#7201a8\"], [0.3333333333333333, \"#9c179e\"], [0.4444444444444444, \"#bd3786\"], [0.5555555555555556, \"#d8576b\"], [0.6666666666666666, \"#ed7953\"], [0.7777777777777778, \"#fb9f3a\"], [0.8888888888888888, \"#fdca26\"], [1.0, \"#f0f921\"]], \"type\": \"heatmap\"}], \"heatmapgl\": [{\"colorbar\": {\"outlinewidth\": 0, \"ticks\": \"\"}, \"colorscale\": [[0.0, \"#0d0887\"], [0.1111111111111111, \"#46039f\"], [0.2222222222222222, \"#7201a8\"], [0.3333333333333333, \"#9c179e\"], [0.4444444444444444, \"#bd3786\"], [0.5555555555555556, \"#d8576b\"], [0.6666666666666666, \"#ed7953\"], [0.7777777777777778, \"#fb9f3a\"], [0.8888888888888888, \"#fdca26\"], [1.0, \"#f0f921\"]], \"type\": \"heatmapgl\"}], \"histogram\": [{\"marker\": {\"colorbar\": {\"outlinewidth\": 0, \"ticks\": \"\"}}, \"type\": \"histogram\"}], \"histogram2d\": [{\"colorbar\": {\"outlinewidth\": 0, \"ticks\": \"\"}, \"colorscale\": [[0.0, \"#0d0887\"], [0.1111111111111111, \"#46039f\"], [0.2222222222222222, \"#7201a8\"], [0.3333333333333333, \"#9c179e\"], [0.4444444444444444, \"#bd3786\"], [0.5555555555555556, \"#d8576b\"], [0.6666666666666666, \"#ed7953\"], [0.7777777777777778, \"#fb9f3a\"], [0.8888888888888888, \"#fdca26\"], [1.0, \"#f0f921\"]], \"type\": \"histogram2d\"}], \"histogram2dcontour\": [{\"colorbar\": {\"outlinewidth\": 0, \"ticks\": \"\"}, \"colorscale\": [[0.0, \"#0d0887\"], [0.1111111111111111, \"#46039f\"], [0.2222222222222222, \"#7201a8\"], [0.3333333333333333, \"#9c179e\"], [0.4444444444444444, \"#bd3786\"], [0.5555555555555556, \"#d8576b\"], [0.6666666666666666, \"#ed7953\"], [0.7777777777777778, \"#fb9f3a\"], [0.8888888888888888, \"#fdca26\"], [1.0, \"#f0f921\"]], \"type\": \"histogram2dcontour\"}], \"mesh3d\": [{\"colorbar\": {\"outlinewidth\": 0, \"ticks\": \"\"}, \"type\": \"mesh3d\"}], \"parcoords\": [{\"line\": {\"colorbar\": {\"outlinewidth\": 0, \"ticks\": \"\"}}, \"type\": \"parcoords\"}], \"pie\": [{\"automargin\": true, \"type\": \"pie\"}], \"scatter\": [{\"marker\": {\"colorbar\": {\"outlinewidth\": 0, \"ticks\": \"\"}}, \"type\": \"scatter\"}], \"scatter3d\": [{\"line\": {\"colorbar\": {\"outlinewidth\": 0, \"ticks\": \"\"}}, \"marker\": {\"colorbar\": {\"outlinewidth\": 0, \"ticks\": \"\"}}, \"type\": \"scatter3d\"}], \"scattercarpet\": [{\"marker\": {\"colorbar\": {\"outlinewidth\": 0, \"ticks\": \"\"}}, \"type\": \"scattercarpet\"}], \"scattergeo\": [{\"marker\": {\"colorbar\": {\"outlinewidth\": 0, \"ticks\": \"\"}}, \"type\": \"scattergeo\"}], \"scattergl\": [{\"marker\": {\"colorbar\": {\"outlinewidth\": 0, \"ticks\": \"\"}}, \"type\": \"scattergl\"}], \"scattermapbox\": [{\"marker\": {\"colorbar\": {\"outlinewidth\": 0, \"ticks\": \"\"}}, \"type\": \"scattermapbox\"}], \"scatterpolar\": [{\"marker\": {\"colorbar\": {\"outlinewidth\": 0, \"ticks\": \"\"}}, \"type\": \"scatterpolar\"}], \"scatterpolargl\": [{\"marker\": {\"colorbar\": {\"outlinewidth\": 0, \"ticks\": \"\"}}, \"type\": \"scatterpolargl\"}], \"scatterternary\": [{\"marker\": {\"colorbar\": {\"outlinewidth\": 0, \"ticks\": \"\"}}, \"type\": \"scatterternary\"}], \"surface\": [{\"colorbar\": {\"outlinewidth\": 0, \"ticks\": \"\"}, \"colorscale\": [[0.0, \"#0d0887\"], [0.1111111111111111, \"#46039f\"], [0.2222222222222222, \"#7201a8\"], [0.3333333333333333, \"#9c179e\"], [0.4444444444444444, \"#bd3786\"], [0.5555555555555556, \"#d8576b\"], [0.6666666666666666, \"#ed7953\"], [0.7777777777777778, \"#fb9f3a\"], [0.8888888888888888, \"#fdca26\"], [1.0, \"#f0f921\"]], \"type\": \"surface\"}], \"table\": [{\"cells\": {\"fill\": {\"color\": \"#EBF0F8\"}, \"line\": {\"color\": \"white\"}}, \"header\": {\"fill\": {\"color\": \"#C8D4E3\"}, \"line\": {\"color\": \"white\"}}, \"type\": \"table\"}]}, \"layout\": {\"annotationdefaults\": {\"arrowcolor\": \"#2a3f5f\", \"arrowhead\": 0, \"arrowwidth\": 1}, \"coloraxis\": {\"colorbar\": {\"outlinewidth\": 0, \"ticks\": \"\"}}, \"colorscale\": {\"diverging\": [[0, \"#8e0152\"], [0.1, \"#c51b7d\"], [0.2, \"#de77ae\"], [0.3, \"#f1b6da\"], [0.4, \"#fde0ef\"], [0.5, \"#f7f7f7\"], [0.6, \"#e6f5d0\"], [0.7, \"#b8e186\"], [0.8, \"#7fbc41\"], [0.9, \"#4d9221\"], [1, \"#276419\"]], \"sequential\": [[0.0, \"#0d0887\"], [0.1111111111111111, \"#46039f\"], [0.2222222222222222, \"#7201a8\"], [0.3333333333333333, \"#9c179e\"], [0.4444444444444444, \"#bd3786\"], [0.5555555555555556, \"#d8576b\"], [0.6666666666666666, \"#ed7953\"], [0.7777777777777778, \"#fb9f3a\"], [0.8888888888888888, \"#fdca26\"], [1.0, \"#f0f921\"]], \"sequentialminus\": [[0.0, \"#0d0887\"], [0.1111111111111111, \"#46039f\"], [0.2222222222222222, \"#7201a8\"], [0.3333333333333333, \"#9c179e\"], [0.4444444444444444, \"#bd3786\"], [0.5555555555555556, \"#d8576b\"], [0.6666666666666666, \"#ed7953\"], [0.7777777777777778, \"#fb9f3a\"], [0.8888888888888888, \"#fdca26\"], [1.0, \"#f0f921\"]]}, \"colorway\": [\"#636efa\", \"#EF553B\", \"#00cc96\", \"#ab63fa\", \"#FFA15A\", \"#19d3f3\", \"#FF6692\", \"#B6E880\", \"#FF97FF\", \"#FECB52\"], \"font\": {\"color\": \"#2a3f5f\"}, \"geo\": {\"bgcolor\": \"white\", \"lakecolor\": \"white\", \"landcolor\": \"#E5ECF6\", \"showlakes\": true, \"showland\": true, \"subunitcolor\": \"white\"}, \"hoverlabel\": {\"align\": \"left\"}, \"hovermode\": \"closest\", \"mapbox\": {\"style\": \"light\"}, \"paper_bgcolor\": \"white\", \"plot_bgcolor\": \"#E5ECF6\", \"polar\": {\"angularaxis\": {\"gridcolor\": \"white\", \"linecolor\": \"white\", \"ticks\": \"\"}, \"bgcolor\": \"#E5ECF6\", \"radialaxis\": {\"gridcolor\": \"white\", \"linecolor\": \"white\", \"ticks\": \"\"}}, \"scene\": {\"xaxis\": {\"backgroundcolor\": \"#E5ECF6\", \"gridcolor\": \"white\", \"gridwidth\": 2, \"linecolor\": \"white\", \"showbackground\": true, \"ticks\": \"\", \"zerolinecolor\": \"white\"}, \"yaxis\": {\"backgroundcolor\": \"#E5ECF6\", \"gridcolor\": \"white\", \"gridwidth\": 2, \"linecolor\": \"white\", \"showbackground\": true, \"ticks\": \"\", \"zerolinecolor\": \"white\"}, \"zaxis\": {\"backgroundcolor\": \"#E5ECF6\", \"gridcolor\": \"white\", \"gridwidth\": 2, \"linecolor\": \"white\", \"showbackground\": true, \"ticks\": \"\", \"zerolinecolor\": \"white\"}}, \"shapedefaults\": {\"line\": {\"color\": \"#2a3f5f\"}}, \"ternary\": {\"aaxis\": {\"gridcolor\": \"white\", \"linecolor\": \"white\", \"ticks\": \"\"}, \"baxis\": {\"gridcolor\": \"white\", \"linecolor\": \"white\", \"ticks\": \"\"}, \"bgcolor\": \"#E5ECF6\", \"caxis\": {\"gridcolor\": \"white\", \"linecolor\": \"white\", \"ticks\": \"\"}}, \"title\": {\"x\": 0.05}, \"xaxis\": {\"automargin\": true, \"gridcolor\": \"white\", \"linecolor\": \"white\", \"ticks\": \"\", \"title\": {\"standoff\": 15}, \"zerolinecolor\": \"white\", \"zerolinewidth\": 2}, \"yaxis\": {\"automargin\": true, \"gridcolor\": \"white\", \"linecolor\": \"white\", \"ticks\": \"\", \"title\": {\"standoff\": 15}, \"zerolinecolor\": \"white\", \"zerolinewidth\": 2}}}, \"title\": {\"text\": \"Outliers by Local Outlier on HDI Dataset\"}, \"width\": 800, \"xaxis\": {\"anchor\": \"y\", \"domain\": [0.0, 1.0], \"title\": {\"text\": \"Feature 1\"}}, \"yaxis\": {\"anchor\": \"x\", \"domain\": [0.0, 1.0], \"title\": {\"text\": \"Feature 2\"}}},\n",
              "                        {\"responsive\": true}\n",
              "                    ).then(function(){\n",
              "                            \n",
              "var gd = document.getElementById('91518a5e-218a-403c-9bfd-d6b78da50eb1');\n",
              "var x = new MutationObserver(function (mutations, observer) {{\n",
              "        var display = window.getComputedStyle(gd).display;\n",
              "        if (!display || display === 'none') {{\n",
              "            console.log([gd, 'removed!']);\n",
              "            Plotly.purge(gd);\n",
              "            observer.disconnect();\n",
              "        }}\n",
              "}});\n",
              "\n",
              "// Listen for the removal of the full notebook cells\n",
              "var notebookContainer = gd.closest('#notebook-container');\n",
              "if (notebookContainer) {{\n",
              "    x.observe(notebookContainer, {childList: true});\n",
              "}}\n",
              "\n",
              "// Listen for the clearing of the current output cell\n",
              "var outputEl = gd.closest('.output');\n",
              "if (outputEl) {{\n",
              "    x.observe(outputEl, {childList: true});\n",
              "}}\n",
              "\n",
              "                        })\n",
              "                };\n",
              "                \n",
              "            </script>\n",
              "        </div>\n",
              "</body>\n",
              "</html>"
            ]
          },
          "metadata": {
            "tags": []
          }
        },
        {
          "output_type": "display_data",
          "data": {
            "text/html": [
              "<html>\n",
              "<head><meta charset=\"utf-8\" /></head>\n",
              "<body>\n",
              "    <div>\n",
              "            <script src=\"https://cdnjs.cloudflare.com/ajax/libs/mathjax/2.7.5/MathJax.js?config=TeX-AMS-MML_SVG\"></script><script type=\"text/javascript\">if (window.MathJax) {MathJax.Hub.Config({SVG: {font: \"STIX-Web\"}});}</script>\n",
              "                <script type=\"text/javascript\">window.PlotlyConfig = {MathJaxConfig: 'local'};</script>\n",
              "        <script src=\"https://cdn.plot.ly/plotly-latest.min.js\"></script>    \n",
              "            <div id=\"228c6c18-d758-4bc6-a9b5-10afd1a2e927\" class=\"plotly-graph-div\" style=\"height:600px; width:900px;\"></div>\n",
              "            <script type=\"text/javascript\">\n",
              "                \n",
              "                    window.PLOTLYENV=window.PLOTLYENV || {};\n",
              "                    \n",
              "                if (document.getElementById(\"228c6c18-d758-4bc6-a9b5-10afd1a2e927\")) {\n",
              "                    Plotly.newPlot(\n",
              "                        '228c6c18-d758-4bc6-a9b5-10afd1a2e927',\n",
              "                        [{\"customdata\": [[\"Kathmandu\"], [\"Lalitpur\"], [\"Kaski\"], [\"Bhaktapur\"], [\"Ilam\"], [\"Chitwan\"], [\"Syangja\"], [\"Palpa\"], [\"Jhapa\"], [\"Manang\"], [\"Tanahu\"], [\"Tehrathum\"], [\"Dhankuta\"], [\"Parbat\"], [\"Surkhet\"], [\"Arghakhanchi\"], [\"Gulmi\"], [\"Panchthar\"], [\"Baglung\"], [\"Myagdi\"], [\"Taplejung\"], [\"Lamjung\"], [\"Nawalparasi\"], [\"Kanchanpur\"], [\"Morang\"], [\"Dang\"], [\"Kavrepalanchok\"], [\"Rupandehi\"], [\"Sankhuwasabha\"], [\"Bhojpur\"], [\"Khotang\"], [\"Udayapur\"], [\"Sunsari\"], [\"Makwanpur\"], [\"Pyuthan\"], [\"Gorkha\"], [\"Kailali\"], [\"Mustang\"], [\"Bardiya\"], [\"Darchula\"], [\"Dadeldhura\"], [\"Okhaldhunga\"], [\"Solukhumbu\"], [\"Salyan\"], [\"Baitadi\"], [\"Dhading\"], [\"Dolakha\"], [\"Dailekh\"], [\"Banke\"], [\"Ramechhap\"], [\"Rukum\"], [\"Sindhuli\"], [\"Rolpa\"], [\"Nuwakot\"], [\"Sindhupalchok\"], [\"Jajarkot\"], [\"Kalikot\"], [\"Doti\"], [\"Parsa\"], [\"Achham\"], [\"Bajura\"], [\"Bajhang\"], [\"Kapilbastu\"], [\"Jumla\"], [\"Saptari\"], [\"Dolpa\"], [\"Rasuwa\"], [\"Bara\"], [\"Mugu\"], [\"Dhanusa\"], [\"Siraha\"], [\"Humla\"], [\"Mahottari\"], [\"Sarlahi\"], [\"Rautahat\"]], \"hoverlabel\": {\"namelength\": 0}, \"hovertemplate\": \"Feature 1=%{x}<br>Feature 2=%{y}<br>Feature 3=%{z}<br>District=%{customdata[0]}<br>color=%{marker.color}\", \"legendgroup\": \"\", \"marker\": {\"color\": [-1, -1, 1, 1, 1, 1, 1, 1, 1, -1, 1, 1, 1, 1, 1, 1, 1, 1, 1, 1, 1, 1, 1, 1, 1, 1, 1, 1, 1, 1, 1, 1, 1, 1, 1, 1, 1, -1, 1, 1, 1, 1, 1, 1, 1, 1, 1, 1, 1, 1, 1, 1, 1, 1, 1, 1, 1, 1, 1, 1, 1, 1, 1, 1, 1, -1, 1, 1, 1, 1, 1, 1, 1, 1, -1], \"coloraxis\": \"coloraxis\", \"symbol\": \"circle\"}, \"mode\": \"markers\", \"name\": \"\", \"scene\": \"scene\", \"showlegend\": false, \"type\": \"scatter3d\", \"x\": [4.337676161009879, 3.1188093937368926, 2.830948630962913, 2.5168105584441234, 1.7291140911730674, 2.040543049794674, 1.7994747111064104, 1.3761045616799337, 1.31833283311004, 2.958645766747861, 1.4129072867475991, 1.5629826216477913, 1.4064240263584398, 1.2725205480927837, 0.761248973450328, 0.8820971656443796, 0.6805614111792186, 0.9217094645482207, 0.7428031246444279, 0.9795222878170533, 0.8357059863368657, 1.1040973276057724, 0.7776769501723727, 0.5022332929202458, 0.8878382697494428, 0.6423138866765653, 1.100853962493588, 0.6101868162321225, 0.6477964067183314, 0.4619519650061602, 0.6590623778089529, 0.36424414459038096, 0.4171370176884071, 0.6045583761553454, -0.3075968511296998, 0.37654235414387555, -0.12680490990566468, 0.6520292930851708, -0.0747824204261186, -0.2919208573771572, -0.19956253130035978, -0.03621948100838211, 0.6730832491070953, -0.4046311999318163, -0.5917484386471994, -0.23894155552680788, -0.2563232304950418, -0.7719637229464518, -0.37771181937557285, -0.15088988184664182, -0.7057616609044269, -0.757880382486588, -1.1626584477667041, -0.5481171327040923, -0.6353121808783192, -1.6918504081961632, -1.9411431711329896, -1.3280519157712571, -1.0099423872152289, -1.7065669030174735, -2.050763028948897, -1.879393665841731, -1.5117047415048723, -1.7923045383673568, -1.4370479121349218, -1.9218419823528863, -0.9460864516443463, -1.2084688483586674, -2.2135021245879876, -2.0178127151413556, -2.1183630033478975, -2.829681142815764, -2.780561379034425, -2.6673505102708344, -3.27528481004463], \"y\": [0.6802648121035058, -0.34003192706874236, -0.5137397644906472, -0.5368174330652651, 0.4202751418208489, -0.3198677890131691, -0.31163964494553775, 0.2268106326615443, 0.6648099569945886, 2.140621332831868, -0.5949102087984339, 0.40259560053342575, -0.09267303907885331, -0.7946923848289559, 0.586913334109037, 0.021161502513488466, 0.1848659139377951, 0.22709803616228175, -0.1306101767874836, -0.6164076917027408, 1.2684084825818736, -0.9755297314213847, 0.3741059318301075, 0.6682485760510523, -0.17004421868956107, 0.5576634002719846, -0.9093739892309276, 0.14202791267278791, 0.06868150772852093, 0.07839264424849657, -0.7400743307476855, -0.3853061397426866, 0.07689793902572122, 0.23011480705864348, 1.7508738467067895, -1.453442420596049, 0.8420979047499804, 1.6891445378263479, 0.47368495555077134, -0.30916558753400286, 0.23637695522118865, -0.9887126488328746, -0.031391158134826534, -0.26660624144688044, -0.2530288080543514, -1.1766082415430823, -1.1435420672667838, 0.024943063181731534, -0.06054653961596625, -2.0488634747918777, -0.14035950716657852, -0.8810024395894686, 0.7571915926224295, -1.1892075439614962, -0.6395908065694585, 0.5657106724083465, 1.8292579421414603, 0.6262328059312774, -0.9300798282745119, 0.3397254809931466, 1.7110703679891026, 1.2149825640455487, 0.15296513534562917, 2.160248621352118, -1.509063350689425, 3.013048413351719, -1.2644931050745796, -1.05632038523152, 1.0024467918020137, -0.8066167894727868, -1.613603438588704, 1.547524205231109, -0.9207283726043063, -1.1637053526071637, -1.679086744329513], \"z\": [2.0222821765855676, 0.5210007167699616, -0.16011608948428932, -0.48015500455669996, -0.4471268365768852, 0.17921168567584614, -0.5436186105798498, -0.9671745751748135, -0.356556984373432, 3.571907886007269, -0.6724371969629509, 0.023603383918261844, -0.2454365924656885, -0.7354858983507098, -0.8869291507998966, -0.8844765859515278, -1.1991229802176933, -0.47456744040832544, -0.8954298821907934, -0.5612950089805885, 0.04195106207832734, -0.18482853015019693, -0.23929195568449177, -0.7111523169117008, 0.015503060479370624, -0.260081609324938, 0.34865442560670923, -0.22088526858838667, -0.033067983109327716, -0.44605748140353807, -0.1123728485901261, -0.5374136870433012, -0.14949471477170487, 0.5320643032976154, -1.0659026420753994, -0.1172654051146439, -0.38391062442319823, 1.6280748444141382, 0.022386773343455846, -1.022312308573744, -0.782754845176918, -0.18076205695597722, 1.6152902879193733, -0.5115702850221152, -1.0317313968798172, 0.02887338077626582, -0.1461299583498017, -0.621927815277977, 0.3651970780080005, -0.02129052704231724, -0.3698350168467213, -0.15851795322486567, -0.6125114795420649, 0.45808607186183, 0.5001233711506352, -0.37251644378622406, -0.5009075303131433, -0.23745451228485906, 0.9763852757153659, -0.5980499519941781, -0.5920876107481032, -0.7642864577367177, 0.5370221169925684, 0.45382755288113624, 0.17215587099418117, 0.510605564630845, 1.797605173032055, 1.7605844018748429, 0.4371844420176695, 0.7735993876258229, 0.26324869272119505, 0.507954482685774, 0.527662970093744, 0.829819002337994, 1.074434612524817]}],\n",
              "                        {\"coloraxis\": {\"colorbar\": {\"title\": {\"text\": \"color\"}}, \"colorscale\": [[0.0, \"#0d0887\"], [0.1111111111111111, \"#46039f\"], [0.2222222222222222, \"#7201a8\"], [0.3333333333333333, \"#9c179e\"], [0.4444444444444444, \"#bd3786\"], [0.5555555555555556, \"#d8576b\"], [0.6666666666666666, \"#ed7953\"], [0.7777777777777778, \"#fb9f3a\"], [0.8888888888888888, \"#fdca26\"], [1.0, \"#f0f921\"]]}, \"font\": {\"color\": \"#7f7f7f\", \"family\": \"Courier New, monospace\", \"size\": 12}, \"height\": 600, \"legend\": {\"tracegroupgap\": 0}, \"margin\": {\"t\": 60}, \"scene\": {\"domain\": {\"x\": [0.0, 1.0], \"y\": [0.0, 1.0]}, \"xaxis\": {\"title\": {\"text\": \"Feature 1\"}}, \"yaxis\": {\"title\": {\"text\": \"Feature 2\"}}, \"zaxis\": {\"title\": {\"text\": \"Feature 3\"}}}, \"template\": {\"data\": {\"bar\": [{\"error_x\": {\"color\": \"#2a3f5f\"}, \"error_y\": {\"color\": \"#2a3f5f\"}, \"marker\": {\"line\": {\"color\": \"#E5ECF6\", \"width\": 0.5}}, \"type\": \"bar\"}], \"barpolar\": [{\"marker\": {\"line\": {\"color\": \"#E5ECF6\", \"width\": 0.5}}, \"type\": \"barpolar\"}], \"carpet\": [{\"aaxis\": {\"endlinecolor\": \"#2a3f5f\", \"gridcolor\": \"white\", \"linecolor\": \"white\", \"minorgridcolor\": \"white\", \"startlinecolor\": \"#2a3f5f\"}, \"baxis\": {\"endlinecolor\": \"#2a3f5f\", \"gridcolor\": \"white\", \"linecolor\": \"white\", \"minorgridcolor\": \"white\", \"startlinecolor\": \"#2a3f5f\"}, \"type\": \"carpet\"}], \"choropleth\": [{\"colorbar\": {\"outlinewidth\": 0, \"ticks\": \"\"}, \"type\": \"choropleth\"}], \"contour\": [{\"colorbar\": {\"outlinewidth\": 0, \"ticks\": \"\"}, \"colorscale\": [[0.0, \"#0d0887\"], [0.1111111111111111, \"#46039f\"], [0.2222222222222222, \"#7201a8\"], [0.3333333333333333, \"#9c179e\"], [0.4444444444444444, \"#bd3786\"], [0.5555555555555556, \"#d8576b\"], [0.6666666666666666, \"#ed7953\"], [0.7777777777777778, \"#fb9f3a\"], [0.8888888888888888, \"#fdca26\"], [1.0, \"#f0f921\"]], \"type\": \"contour\"}], \"contourcarpet\": [{\"colorbar\": {\"outlinewidth\": 0, \"ticks\": \"\"}, \"type\": \"contourcarpet\"}], \"heatmap\": [{\"colorbar\": {\"outlinewidth\": 0, \"ticks\": \"\"}, \"colorscale\": [[0.0, \"#0d0887\"], [0.1111111111111111, \"#46039f\"], [0.2222222222222222, \"#7201a8\"], [0.3333333333333333, \"#9c179e\"], [0.4444444444444444, \"#bd3786\"], [0.5555555555555556, \"#d8576b\"], [0.6666666666666666, \"#ed7953\"], [0.7777777777777778, \"#fb9f3a\"], [0.8888888888888888, \"#fdca26\"], [1.0, \"#f0f921\"]], \"type\": \"heatmap\"}], \"heatmapgl\": [{\"colorbar\": {\"outlinewidth\": 0, \"ticks\": \"\"}, \"colorscale\": [[0.0, \"#0d0887\"], [0.1111111111111111, \"#46039f\"], [0.2222222222222222, \"#7201a8\"], [0.3333333333333333, \"#9c179e\"], [0.4444444444444444, \"#bd3786\"], [0.5555555555555556, \"#d8576b\"], [0.6666666666666666, \"#ed7953\"], [0.7777777777777778, \"#fb9f3a\"], [0.8888888888888888, \"#fdca26\"], [1.0, \"#f0f921\"]], \"type\": \"heatmapgl\"}], \"histogram\": [{\"marker\": {\"colorbar\": {\"outlinewidth\": 0, \"ticks\": \"\"}}, \"type\": \"histogram\"}], \"histogram2d\": [{\"colorbar\": {\"outlinewidth\": 0, \"ticks\": \"\"}, \"colorscale\": [[0.0, \"#0d0887\"], [0.1111111111111111, \"#46039f\"], [0.2222222222222222, \"#7201a8\"], [0.3333333333333333, \"#9c179e\"], [0.4444444444444444, \"#bd3786\"], [0.5555555555555556, \"#d8576b\"], [0.6666666666666666, \"#ed7953\"], [0.7777777777777778, \"#fb9f3a\"], [0.8888888888888888, \"#fdca26\"], [1.0, \"#f0f921\"]], \"type\": \"histogram2d\"}], \"histogram2dcontour\": [{\"colorbar\": {\"outlinewidth\": 0, \"ticks\": \"\"}, \"colorscale\": [[0.0, \"#0d0887\"], [0.1111111111111111, \"#46039f\"], [0.2222222222222222, \"#7201a8\"], [0.3333333333333333, \"#9c179e\"], [0.4444444444444444, \"#bd3786\"], [0.5555555555555556, \"#d8576b\"], [0.6666666666666666, \"#ed7953\"], [0.7777777777777778, \"#fb9f3a\"], [0.8888888888888888, \"#fdca26\"], [1.0, \"#f0f921\"]], \"type\": \"histogram2dcontour\"}], \"mesh3d\": [{\"colorbar\": {\"outlinewidth\": 0, \"ticks\": \"\"}, \"type\": \"mesh3d\"}], \"parcoords\": [{\"line\": {\"colorbar\": {\"outlinewidth\": 0, \"ticks\": \"\"}}, \"type\": \"parcoords\"}], \"pie\": [{\"automargin\": true, \"type\": \"pie\"}], \"scatter\": [{\"marker\": {\"colorbar\": {\"outlinewidth\": 0, \"ticks\": \"\"}}, \"type\": \"scatter\"}], \"scatter3d\": [{\"line\": {\"colorbar\": {\"outlinewidth\": 0, \"ticks\": \"\"}}, \"marker\": {\"colorbar\": {\"outlinewidth\": 0, \"ticks\": \"\"}}, \"type\": \"scatter3d\"}], \"scattercarpet\": [{\"marker\": {\"colorbar\": {\"outlinewidth\": 0, \"ticks\": \"\"}}, \"type\": \"scattercarpet\"}], \"scattergeo\": [{\"marker\": {\"colorbar\": {\"outlinewidth\": 0, \"ticks\": \"\"}}, \"type\": \"scattergeo\"}], \"scattergl\": [{\"marker\": {\"colorbar\": {\"outlinewidth\": 0, \"ticks\": \"\"}}, \"type\": \"scattergl\"}], \"scattermapbox\": [{\"marker\": {\"colorbar\": {\"outlinewidth\": 0, \"ticks\": \"\"}}, \"type\": \"scattermapbox\"}], \"scatterpolar\": [{\"marker\": {\"colorbar\": {\"outlinewidth\": 0, \"ticks\": \"\"}}, \"type\": \"scatterpolar\"}], \"scatterpolargl\": [{\"marker\": {\"colorbar\": {\"outlinewidth\": 0, \"ticks\": \"\"}}, \"type\": \"scatterpolargl\"}], \"scatterternary\": [{\"marker\": {\"colorbar\": {\"outlinewidth\": 0, \"ticks\": \"\"}}, \"type\": \"scatterternary\"}], \"surface\": [{\"colorbar\": {\"outlinewidth\": 0, \"ticks\": \"\"}, \"colorscale\": [[0.0, \"#0d0887\"], [0.1111111111111111, \"#46039f\"], [0.2222222222222222, \"#7201a8\"], [0.3333333333333333, \"#9c179e\"], [0.4444444444444444, \"#bd3786\"], [0.5555555555555556, \"#d8576b\"], [0.6666666666666666, \"#ed7953\"], [0.7777777777777778, \"#fb9f3a\"], [0.8888888888888888, \"#fdca26\"], [1.0, \"#f0f921\"]], \"type\": \"surface\"}], \"table\": [{\"cells\": {\"fill\": {\"color\": \"#EBF0F8\"}, \"line\": {\"color\": \"white\"}}, \"header\": {\"fill\": {\"color\": \"#C8D4E3\"}, \"line\": {\"color\": \"white\"}}, \"type\": \"table\"}]}, \"layout\": {\"annotationdefaults\": {\"arrowcolor\": \"#2a3f5f\", \"arrowhead\": 0, \"arrowwidth\": 1}, \"coloraxis\": {\"colorbar\": {\"outlinewidth\": 0, \"ticks\": \"\"}}, \"colorscale\": {\"diverging\": [[0, \"#8e0152\"], [0.1, \"#c51b7d\"], [0.2, \"#de77ae\"], [0.3, \"#f1b6da\"], [0.4, \"#fde0ef\"], [0.5, \"#f7f7f7\"], [0.6, \"#e6f5d0\"], [0.7, \"#b8e186\"], [0.8, \"#7fbc41\"], [0.9, \"#4d9221\"], [1, \"#276419\"]], \"sequential\": [[0.0, \"#0d0887\"], [0.1111111111111111, \"#46039f\"], [0.2222222222222222, \"#7201a8\"], [0.3333333333333333, \"#9c179e\"], [0.4444444444444444, \"#bd3786\"], [0.5555555555555556, \"#d8576b\"], [0.6666666666666666, \"#ed7953\"], [0.7777777777777778, \"#fb9f3a\"], [0.8888888888888888, \"#fdca26\"], [1.0, \"#f0f921\"]], \"sequentialminus\": [[0.0, \"#0d0887\"], [0.1111111111111111, \"#46039f\"], [0.2222222222222222, \"#7201a8\"], [0.3333333333333333, \"#9c179e\"], [0.4444444444444444, \"#bd3786\"], [0.5555555555555556, \"#d8576b\"], [0.6666666666666666, \"#ed7953\"], [0.7777777777777778, \"#fb9f3a\"], [0.8888888888888888, \"#fdca26\"], [1.0, \"#f0f921\"]]}, \"colorway\": [\"#636efa\", \"#EF553B\", \"#00cc96\", \"#ab63fa\", \"#FFA15A\", \"#19d3f3\", \"#FF6692\", \"#B6E880\", \"#FF97FF\", \"#FECB52\"], \"font\": {\"color\": \"#2a3f5f\"}, \"geo\": {\"bgcolor\": \"white\", \"lakecolor\": \"white\", \"landcolor\": \"#E5ECF6\", \"showlakes\": true, \"showland\": true, \"subunitcolor\": \"white\"}, \"hoverlabel\": {\"align\": \"left\"}, \"hovermode\": \"closest\", \"mapbox\": {\"style\": \"light\"}, \"paper_bgcolor\": \"white\", \"plot_bgcolor\": \"#E5ECF6\", \"polar\": {\"angularaxis\": {\"gridcolor\": \"white\", \"linecolor\": \"white\", \"ticks\": \"\"}, \"bgcolor\": \"#E5ECF6\", \"radialaxis\": {\"gridcolor\": \"white\", \"linecolor\": \"white\", \"ticks\": \"\"}}, \"scene\": {\"xaxis\": {\"backgroundcolor\": \"#E5ECF6\", \"gridcolor\": \"white\", \"gridwidth\": 2, \"linecolor\": \"white\", \"showbackground\": true, \"ticks\": \"\", \"zerolinecolor\": \"white\"}, \"yaxis\": {\"backgroundcolor\": \"#E5ECF6\", \"gridcolor\": \"white\", \"gridwidth\": 2, \"linecolor\": \"white\", \"showbackground\": true, \"ticks\": \"\", \"zerolinecolor\": \"white\"}, \"zaxis\": {\"backgroundcolor\": \"#E5ECF6\", \"gridcolor\": \"white\", \"gridwidth\": 2, \"linecolor\": \"white\", \"showbackground\": true, \"ticks\": \"\", \"zerolinecolor\": \"white\"}}, \"shapedefaults\": {\"line\": {\"color\": \"#2a3f5f\"}}, \"ternary\": {\"aaxis\": {\"gridcolor\": \"white\", \"linecolor\": \"white\", \"ticks\": \"\"}, \"baxis\": {\"gridcolor\": \"white\", \"linecolor\": \"white\", \"ticks\": \"\"}, \"bgcolor\": \"#E5ECF6\", \"caxis\": {\"gridcolor\": \"white\", \"linecolor\": \"white\", \"ticks\": \"\"}}, \"title\": {\"x\": 0.05}, \"xaxis\": {\"automargin\": true, \"gridcolor\": \"white\", \"linecolor\": \"white\", \"ticks\": \"\", \"title\": {\"standoff\": 15}, \"zerolinecolor\": \"white\", \"zerolinewidth\": 2}, \"yaxis\": {\"automargin\": true, \"gridcolor\": \"white\", \"linecolor\": \"white\", \"ticks\": \"\", \"title\": {\"standoff\": 15}, \"zerolinecolor\": \"white\", \"zerolinewidth\": 2}}}, \"title\": {\"text\": \"Local Outlier detection 3D Visualization on HDI Dataset \"}, \"width\": 900, \"xaxis\": {\"title\": {\"text\": \"Feature 1\"}}, \"yaxis\": {\"title\": {\"text\": \"Feature 2\"}}},\n",
              "                        {\"responsive\": true}\n",
              "                    ).then(function(){\n",
              "                            \n",
              "var gd = document.getElementById('228c6c18-d758-4bc6-a9b5-10afd1a2e927');\n",
              "var x = new MutationObserver(function (mutations, observer) {{\n",
              "        var display = window.getComputedStyle(gd).display;\n",
              "        if (!display || display === 'none') {{\n",
              "            console.log([gd, 'removed!']);\n",
              "            Plotly.purge(gd);\n",
              "            observer.disconnect();\n",
              "        }}\n",
              "}});\n",
              "\n",
              "// Listen for the removal of the full notebook cells\n",
              "var notebookContainer = gd.closest('#notebook-container');\n",
              "if (notebookContainer) {{\n",
              "    x.observe(notebookContainer, {childList: true});\n",
              "}}\n",
              "\n",
              "// Listen for the clearing of the current output cell\n",
              "var outputEl = gd.closest('.output');\n",
              "if (outputEl) {{\n",
              "    x.observe(outputEl, {childList: true});\n",
              "}}\n",
              "\n",
              "                        })\n",
              "                };\n",
              "                \n",
              "            </script>\n",
              "        </div>\n",
              "</body>\n",
              "</html>"
            ]
          },
          "metadata": {
            "tags": []
          }
        }
      ]
    },
    {
      "cell_type": "code",
      "metadata": {
        "id": "2M_p5VIEyLpK",
        "colab_type": "code",
        "colab": {}
      },
      "source": [
        ""
      ],
      "execution_count": 0,
      "outputs": []
    }
  ]
}